{
  "nbformat": 4,
  "nbformat_minor": 0,
  "metadata": {
    "colab": {
      "provenance": [],
      "authorship_tag": "ABX9TyNpziS53cud1kIQjhw0K2+u",
      "include_colab_link": true
    },
    "kernelspec": {
      "name": "python3",
      "display_name": "Python 3"
    },
    "language_info": {
      "name": "python"
    }
  },
  "cells": [
    {
      "cell_type": "markdown",
      "metadata": {
        "id": "view-in-github",
        "colab_type": "text"
      },
      "source": [
        "<a href=\"https://colab.research.google.com/github/Small-Molecule-Discovery-Center/smdc_process_data/blob/main/Create_Bruker_9pt_DR_Input_Files.ipynb\" target=\"_parent\"><img src=\"https://colab.research.google.com/assets/colab-badge.svg\" alt=\"Open In Colab\"/></a>"
      ]
    },
    {
      "cell_type": "markdown",
      "source": [
        "# Create Bruker SPR input files for 9-point dose response experiments\n",
        "## How to use this notebook:\n",
        "1. Create an input file with your information for an SPR run.\n",
        "  - There is an example file that can be downloaded [here](https://github.com/Small-Molecule-Discovery-Center/smdc_preprocess_data/raw/main/data/bruker_example_input_9_pt_dr_simple.xlsx)\n",
        "2. Upload your file to the colab instance\n",
        "  - Click the folder icon on the left toolbar then drag your input file into the folder area\n",
        "5. Replace the example path with your file's path\n",
        "  - Right click on your file and click \"copy path\"\n",
        "  - make sure it's enclosed in quotes when you paste it\n",
        "6. Run the fucntion to create your Echo and SPR input files\n",
        "  - click the round circle with arrow next to the cell or hit shift+enter when your cursor is anywhere in the cell\n",
        "7. Download the saved files locally\n",
        "  - All files will be deleted shortly after you close the notebook instance\n",
        "  - If you can't see the new files, click the refresh folder icon at the top of the folder area"
      ],
      "metadata": {
        "id": "wzHTDq3AAnA1"
      }
    },
    {
      "cell_type": "code",
      "execution_count": 3,
      "metadata": {
        "id": "pnWr--co_X_I",
        "colab": {
          "base_uri": "https://localhost:8080/"
        },
        "outputId": "4fbdd03a-73bd-4875-c7b4-4c671e2d625c"
      },
      "outputs": [
        {
          "output_type": "stream",
          "name": "stdout",
          "text": [
            "fatal: destination path 'smdc_process_data' already exists and is not an empty directory.\n",
            "Processing /content/smdc_process_data/data/bruker_example_input_9_pt_dr_simple.xlsx...\n",
            "\n",
            "removing A01 blanks\n",
            "removing A13 blanks\n",
            "removing C01 blanks\n",
            "removing C13 blanks\n",
            "\n",
            "Plate map image saved as 20231018_amanda_paulson_plate_1.png\n",
            "\n",
            "PP echo plate 1 saved to 20231018_amanda_paulson_PP_echo_plate_1.csv\n",
            "\n",
            "Bruker plate 1 saved to 20231018_amanda_paulson_bruker_plate_1.csv\n",
            "\n",
            "\n",
            "CPU times: user 1.55 s, sys: 284 ms, total: 1.83 s\n",
            "Wall time: 1.9 s\n"
          ]
        }
      ],
      "source": [
        "%%time\n",
        "!git clone https://github.com/Small-Molecule-Discovery-Center/smdc_process_data.git\n",
        "import sys\n",
        "sys.path.append('/content/smdc_process_data')\n",
        "from preprocess_data import bruker_spr_formatting as bsf\n",
        "\n",
        "##################################\n",
        "# # PASTE YOUR FILE NAME BELOW # #\n",
        "##################################\n",
        "file = \"/content/smdc_process_data/data/bruker_example_input_9_pt_dr_simple.xlsx\"\n",
        "##################################\n",
        "\n",
        "bsf.create_nine_point_files(input=file)"
      ]
    },
    {
      "cell_type": "code",
      "source": [],
      "metadata": {
        "id": "aaxjmMlWB12z"
      },
      "execution_count": null,
      "outputs": []
    }
  ]
}