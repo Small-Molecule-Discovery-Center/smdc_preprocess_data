{
  "nbformat": 4,
  "nbformat_minor": 0,
  "metadata": {
    "colab": {
      "provenance": [],
      "authorship_tag": "ABX9TyMIuj/sNqnhTk3MjSY9gMiX",
      "include_colab_link": true
    },
    "kernelspec": {
      "name": "python3",
      "display_name": "Python 3"
    },
    "language_info": {
      "name": "python"
    }
  },
  "cells": [
    {
      "cell_type": "markdown",
      "metadata": {
        "id": "view-in-github",
        "colab_type": "text"
      },
      "source": [
        "<a href=\"https://colab.research.google.com/github/Small-Molecule-Discovery-Center/smdc_preprocess_data/blob/main/Create_Bruker_9pt_DR_Input_Files.ipynb\" target=\"_parent\"><img src=\"https://colab.research.google.com/assets/colab-badge.svg\" alt=\"Open In Colab\"/></a>"
      ]
    },
    {
      "cell_type": "markdown",
      "source": [
        "# Create Bruker SPR input files for 9-point dose response experiments\n",
        "## How to use this notebook:\n",
        "1. Click the folder icon on the left toolbar <<<\n",
        "3. Drag your input file into the folder area\n",
        "4. Right click on your file and click \"copy path\"\n",
        "5. Replace the example path with your copied path - make sure it's enclosed in quotes\n",
        "6. Press the round arrow on the cell to run the program (or shift+enter when your cursor is anywhere in the cell)\n",
        "7. Download the saved files locally; they will be deleted when you close the notebook instance\n",
        "8. If you can't see the new files, click the refresh folder icon at the top of the folder area"
      ],
      "metadata": {
        "id": "wzHTDq3AAnA1"
      }
    },
    {
      "cell_type": "code",
      "execution_count": 1,
      "metadata": {
        "id": "pnWr--co_X_I",
        "colab": {
          "base_uri": "https://localhost:8080/"
        },
        "outputId": "8539a1b1-5691-4914-f46c-5ea7b1a3bc51"
      },
      "outputs": [
        {
          "output_type": "stream",
          "name": "stdout",
          "text": [
            "Cloning into 'smdc_preprocess_data'...\n",
            "remote: Enumerating objects: 61, done.\u001b[K\n",
            "remote: Counting objects: 100% (61/61), done.\u001b[K\n",
            "remote: Compressing objects: 100% (51/51), done.\u001b[K\n",
            "remote: Total 61 (delta 27), reused 28 (delta 8), pack-reused 0\u001b[K\n",
            "Receiving objects: 100% (61/61), 66.63 KiB | 4.44 MiB/s, done.\n",
            "Resolving deltas: 100% (27/27), done.\n",
            "Processing /content/smdc_preprocess_data/data/bruker_example_input_9_pt_dr_simple.xlsx...\n",
            "\n",
            "removing A01 blanks\n",
            "removing A13 blanks\n",
            "removing B01 blanks\n",
            "removing B13 blanks\n",
            "\n",
            "Plate map image saved as 20230919_amanda_paulson_plate_1.png\n",
            "\n",
            "PP echo plate 1 saved to 20230919_amanda_paulson_PP_echo_plate_1.csv\n",
            "LDV echo plate 1 saved to 20230919_amanda_paulson_LDV_echo_plate_1.csv\n",
            "\n",
            "Bruker plate 1 saved to 20230919_amanda_paulson_bruker_plate_1.csv\n",
            "\n",
            "\n",
            "CPU times: user 2.76 s, sys: 448 ms, total: 3.21 s\n",
            "Wall time: 4.94 s\n"
          ]
        }
      ],
      "source": [
        "%%time\n",
        "!git clone https://github.com/Small-Molecule-Discovery-Center/smdc_preprocess_data.git\n",
        "import sys\n",
        "sys.path.append('/content/smdc_preprocess_data')\n",
        "import bruker_spr_formatting as bsf\n",
        "\n",
        "##################################\n",
        "# # PASTE YOUR FILE NAME BELOW # #\n",
        "##################################\n",
        "file = \"/content/smdc_preprocess_data/data/bruker_example_input_9_pt_dr_simple.xlsx\"\n",
        "##################################\n",
        "\n",
        "bsf.create_nine_point_files(input=file)"
      ]
    },
    {
      "cell_type": "code",
      "source": [],
      "metadata": {
        "id": "aaxjmMlWB12z"
      },
      "execution_count": null,
      "outputs": []
    }
  ]
}