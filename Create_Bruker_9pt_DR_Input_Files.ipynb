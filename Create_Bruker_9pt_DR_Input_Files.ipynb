{
  "nbformat": 4,
  "nbformat_minor": 0,
  "metadata": {
    "colab": {
      "provenance": [],
      "authorship_tag": "ABX9TyNV4RO5rmFvcQPAS5Yei7Qm",
      "include_colab_link": true
    },
    "kernelspec": {
      "name": "python3",
      "display_name": "Python 3"
    },
    "language_info": {
      "name": "python"
    }
  },
  "cells": [
    {
      "cell_type": "markdown",
      "metadata": {
        "id": "view-in-github",
        "colab_type": "text"
      },
      "source": [
        "<a href=\"https://colab.research.google.com/github/Small-Molecule-Discovery-Center/smdc_preprocess_data/blob/main/Create_Bruker_9pt_DR_Input_Files.ipynb\" target=\"_parent\"><img src=\"https://colab.research.google.com/assets/colab-badge.svg\" alt=\"Open In Colab\"/></a>"
      ]
    },
    {
      "cell_type": "markdown",
      "source": [
        "# Create Bruker SPR input files for 9-point dose response experiments\n",
        "## How to use this notebook:\n",
        "1. Create an input file with your information for an SPR run.\n",
        "  - There is an example file that can be downloaded [here](https://github.com/Small-Molecule-Discovery-Center/smdc_preprocess_data/raw/main/data/bruker_example_input_9_pt_dr_simple.xlsx)\n",
        "2. Upload your file to the colab instance\n",
        "  - Click the folder icon on the left toolbar then drag your input file into the folder area\n",
        "5. Replace the example path with your file's path\n",
        "  - Right click on your file and click \"copy path\"\n",
        "  - make sure it's enclosed in quotes when you paste it\n",
        "6. Run the fucntion to create your Echo and SPR input files\n",
        "  - click the round circle with arrow next to the cell or hit shift+enter when your cursor is anywhere in the cell\n",
        "7. Download the saved files locally\n",
        "  - All files will be deleted shortly after you close the notebook instance\n",
        "  - If you can't see the new files, click the refresh folder icon at the top of the folder area"
      ],
      "metadata": {
        "id": "wzHTDq3AAnA1"
      }
    },
    {
      "cell_type": "code",
      "execution_count": null,
      "metadata": {
        "id": "pnWr--co_X_I",
        "colab": {
          "base_uri": "https://localhost:8080/"
        },
        "outputId": "5d5ae1ef-892c-478d-ba9a-3e378358ad35"
      },
      "outputs": [
        {
          "output_type": "stream",
          "name": "stdout",
          "text": [
            "Cloning into 'smdc_preprocess_data'...\n",
            "remote: Enumerating objects: 67, done.\u001b[K\n",
            "remote: Counting objects: 100% (67/67), done.\u001b[K\n",
            "remote: Compressing objects: 100% (57/57), done.\u001b[K\n",
            "remote: Total 67 (delta 30), reused 28 (delta 8), pack-reused 0\u001b[K\n",
            "Receiving objects: 100% (67/67), 68.00 KiB | 4.86 MiB/s, done.\n",
            "Resolving deltas: 100% (30/30), done.\n",
            "Processing /content/smdc_preprocess_data/data/bruker_example_input_9_pt_dr_simple.xlsx...\n",
            "\n",
            "removing A01 blanks\n",
            "removing A13 blanks\n",
            "removing B01 blanks\n",
            "removing B13 blanks\n",
            "\n",
            "Plate map image saved as 20230919_amanda_paulson_plate_1.png\n",
            "\n",
            "PP echo plate 1 saved to 20230919_amanda_paulson_PP_echo_plate_1.csv\n",
            "LDV echo plate 1 saved to 20230919_amanda_paulson_LDV_echo_plate_1.csv\n",
            "\n",
            "Bruker plate 1 saved to 20230919_amanda_paulson_bruker_plate_1.csv\n",
            "\n",
            "\n",
            "CPU times: user 2.94 s, sys: 429 ms, total: 3.37 s\n",
            "Wall time: 5.26 s\n"
          ]
        }
      ],
      "source": [
        "%%time\n",
        "!git clone https://github.com/Small-Molecule-Discovery-Center/smdc_preprocess_data.git\n",
        "import sys\n",
        "sys.path.append('/content/smdc_preprocess_data')\n",
        "import bruker_spr_formatting as bsf\n",
        "\n",
        "##################################\n",
        "# # PASTE YOUR FILE NAME BELOW # #\n",
        "##################################\n",
        "file = \"/content/smdc_preprocess_data/data/bruker_example_input_9_pt_dr_simple.xlsx\"\n",
        "##################################\n",
        "\n",
        "bsf.create_nine_point_files(input=file)"
      ]
    },
    {
      "cell_type": "code",
      "source": [],
      "metadata": {
        "id": "aaxjmMlWB12z"
      },
      "execution_count": null,
      "outputs": []
    }
  ]
}