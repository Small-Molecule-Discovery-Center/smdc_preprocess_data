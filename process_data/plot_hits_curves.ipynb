{
 "cells": [
  {
   "cell_type": "markdown",
   "id": "85b580d6-9bbe-4c88-994f-48a5c2124eb7",
   "metadata": {},
   "source": [
    "# Plot Hill Curves from HiTS\n",
    "- edit data exported from HiTS\n",
    "- plot all curves\n",
    "- analyze curve fits to decide which ones to keep"
   ]
  },
  {
   "cell_type": "code",
   "execution_count": 1,
   "id": "178ae5ed-3af3-42aa-8139-18747a0a744f",
   "metadata": {},
   "outputs": [],
   "source": [
    "import pandas as pd\n",
    "import numpy as np\n",
    "import matplotlib.pyplot as plt\n",
    "import seaborn as sns\n",
    "import os\n",
    "import math\n",
    "pd.set_option('display.max_columns', 90)\n",
    "pd.set_option('display.max_rows', 100)\n",
    "import sys\n",
    "sys.path.append('/mnt/c/Users/akpau/Repos/Notebooks/')\n",
    "import plate_maps as pm\n",
    "import importlib\n",
    "\n",
    "%config Completer.use_jedi = False"
   ]
  },
  {
   "cell_type": "markdown",
   "id": "ff2e44d0-7d65-455c-bef1-14835bc9e89f",
   "metadata": {},
   "source": [
    "## manually edit series count / assay date in files"
   ]
  },
  {
   "cell_type": "code",
   "execution_count": 429,
   "id": "e267e801-bcef-4d61-8e13-7438ffaad934",
   "metadata": {},
   "outputs": [
    {
     "data": {
      "text/plain": [
       "16"
      ]
     },
     "execution_count": 429,
     "metadata": {},
     "output_type": "execute_result"
    }
   ],
   "source": [
    "p1 = pd.read_csv('./PARP12_inhibition_curves/PARP1_DR_Raw.csv', header=[1])\n",
    "p2 = pd.read_csv('./PARP12_inhibition_curves/PARP2_DR_Raw.csv', header=[1])\n",
    "p1['Target']='PARP1'\n",
    "p2['Target']='PARP2'\n",
    "pr = pd.concat([p1,p2])\n",
    "pr=pr.reset_index(drop=True)\n",
    "pr.columns=[x.replace(' ','_').replace('-','_') for x in pr.columns]\n",
    "pr.Plate.nunique()"
   ]
  },
  {
   "cell_type": "code",
   "execution_count": 430,
   "id": "98bf707f-a5d6-40dc-b84b-51d77716e2a2",
   "metadata": {},
   "outputs": [
    {
     "name": "stdout",
     "output_type": "stream",
     "text": [
      "(6144, 27)\n",
      "(6054, 27)\n"
     ]
    },
    {
     "data": {
      "text/plain": [
       "16"
      ]
     },
     "execution_count": 430,
     "metadata": {},
     "output_type": "execute_result"
    }
   ],
   "source": [
    "print(pr.shape)\n",
    "pr=pr[~pr.intensity.isna()]\n",
    "print(pr.shape)\n",
    "pr.Plate.nunique()"
   ]
  },
  {
   "cell_type": "code",
   "execution_count": 431,
   "id": "1f497649-b4c6-4b99-a314-f15dfe8b7c47",
   "metadata": {},
   "outputs": [],
   "source": [
    "cnx=pm.create_mysql_cnx()\n",
    "for plate in pr.Plate.unique():\n",
    "    df=pm.make_platemaps_from_barcode(barcode=plate, outdir=None, cnx=cnx)\n",
    "    pr.loc[pr.Plate==plate, 'conc_nM']=pr[pr.Plate==plate].Well.map(dict(zip(df.IW_COORDINATES, df.Conc_nM)))\n",
    "cnx.close()"
   ]
  },
  {
   "cell_type": "code",
   "execution_count": 432,
   "id": "8e622180-3285-4952-8b46-ace2b17facd5",
   "metadata": {},
   "outputs": [],
   "source": [
    "pr['conc_um']=pr.conc_nM/1000\n",
    "pr['logconc']=np.log10(pr.conc_um/1000000)"
   ]
  },
  {
   "cell_type": "code",
   "execution_count": 433,
   "id": "f884fb26-fd92-4b2c-928d-e55bf19d4690",
   "metadata": {},
   "outputs": [
    {
     "data": {
      "text/plain": [
       "14"
      ]
     },
     "execution_count": 433,
     "metadata": {},
     "output_type": "execute_result"
    }
   ],
   "source": [
    "pr[pr.Compound==1084345].Plate.nunique()"
   ]
  },
  {
   "cell_type": "code",
   "execution_count": 434,
   "id": "8e16ad78-4838-4f9e-a7f6-d33bc7f49154",
   "metadata": {},
   "outputs": [],
   "source": [
    "pr['max_meas']=np.nan\n",
    "pr['delta']=np.nan\n",
    "pr['hitc']=np.nan"
   ]
  },
  {
   "cell_type": "code",
   "execution_count": 435,
   "id": "c2e9784d-6226-4fef-8d67-1ac86626e9af",
   "metadata": {},
   "outputs": [
    {
     "data": {
      "text/plain": [
       "119"
      ]
     },
     "execution_count": 435,
     "metadata": {},
     "output_type": "execute_result"
    }
   ],
   "source": [
    "graphcol = 'intensity_inhibition'\n",
    "for plate, compound in list(set(zip(pr[~pr.Compound.isna()].Plate, pr[~pr.Compound.isna()].Compound))):\n",
    "    tmp=pr[(pr.Plate==plate) & (pr.Compound==compound)]\n",
    "    assert(tmp.Target.nunique()==1)\n",
    "    lowconc=tmp.conc_um.min()\n",
    "    highconc=tmp.conc_um.max()\n",
    "    lowmeas=tmp.loc[tmp.conc_um==lowconc, graphcol].iloc[0]\n",
    "    highmeas=tmp.loc[tmp.conc_um==highconc, graphcol].iloc[0]\n",
    "    lowmeas=tmp[graphcol].min()\n",
    "    highmeas=tmp[graphcol].max()\n",
    "    pr.loc[(pr.Plate==plate) & (pr.Compound==compound), 'max_meas']=highmeas\n",
    "    pr.loc[(pr.Plate==plate) & (pr.Compound==compound), 'delta']=highmeas-lowmeas\n",
    "\n",
    "pr['hitc']=[1 if ((x>50) & (y>50)) else 0 for (x,y) in zip(pr.max_meas, pr.delta)]\n",
    "hits = pr[pr.hitc==1].Compound.unique()\n",
    "len(hits)"
   ]
  },
  {
   "cell_type": "code",
   "execution_count": 436,
   "id": "5dedcbef-8365-495e-a5ae-fca406f3988b",
   "metadata": {},
   "outputs": [
    {
     "data": {
      "text/plain": [
       "array(['positiveControl', 'negativeControl'], dtype=object)"
      ]
     },
     "execution_count": 436,
     "metadata": {},
     "output_type": "execute_result"
    }
   ],
   "source": [
    "pr[pr.max_meas.isna()].Well_Type.unique()"
   ]
  },
  {
   "cell_type": "code",
   "execution_count": 437,
   "id": "8e06dbfb-f22b-4257-9135-62b414b0ef73",
   "metadata": {},
   "outputs": [
    {
     "data": {
      "text/plain": [
       "(932, 24)"
      ]
     },
     "execution_count": 437,
     "metadata": {},
     "output_type": "execute_result"
    }
   ],
   "source": [
    "p1 = pd.read_csv('./PARP12_inhibition_curves/PARP1_DR_Curves.csv', header=[1])\n",
    "p2 = pd.read_csv('./PARP12_inhibition_curves/PARP2_DR_Curves.csv', header=[1])\n",
    "p1['Target']='PARP1'\n",
    "p2['Target']='PARP2'\n",
    "pc = pd.concat([p1,p2])\n",
    "pc=pc.reset_index(drop=True)\n",
    "pc.columns=[x.replace(' ','_').replace('-','_') for x in pc.columns]\n",
    "pc.shape"
   ]
  },
  {
   "cell_type": "code",
   "execution_count": 438,
   "id": "a973b420-1003-4873-a659-102400c0efde",
   "metadata": {},
   "outputs": [
    {
     "data": {
      "text/plain": [
       "{'PARP1_1_nan', 'PARP2_1_nan'}"
      ]
     },
     "execution_count": 438,
     "metadata": {},
     "output_type": "execute_result"
    }
   ],
   "source": [
    "pr['TC']=pr.Target+'_'+pr.Series_Count.astype(str)+\"_\"+pr.Compound.astype(str)\n",
    "pc['TC']=pc.Target+\"_\"+pc.Series_Count.astype(str)+\"_\"+pc.Compound.astype(float).astype(str)\n",
    "set(pr.TC)-set(pc.TC)"
   ]
  },
  {
   "cell_type": "code",
   "execution_count": 439,
   "id": "c62ef7ea-4836-4b37-9a87-6348f8e2cb5e",
   "metadata": {},
   "outputs": [
    {
     "data": {
      "text/plain": [
       "932"
      ]
     },
     "execution_count": 439,
     "metadata": {},
     "output_type": "execute_result"
    }
   ],
   "source": [
    "tmp=pr[['TC','max_meas','delta','hitc']].drop_duplicates()\n",
    "tmp=tmp[~tmp.delta.isna()]\n",
    "tmp.TC.nunique()"
   ]
  },
  {
   "cell_type": "code",
   "execution_count": 440,
   "id": "53e0f205-12bd-4157-a027-ef38f8537f44",
   "metadata": {},
   "outputs": [
    {
     "data": {
      "text/html": [
       "<div>\n",
       "<style scoped>\n",
       "    .dataframe tbody tr th:only-of-type {\n",
       "        vertical-align: middle;\n",
       "    }\n",
       "\n",
       "    .dataframe tbody tr th {\n",
       "        vertical-align: top;\n",
       "    }\n",
       "\n",
       "    .dataframe thead th {\n",
       "        text-align: right;\n",
       "    }\n",
       "</style>\n",
       "<table border=\"1\" class=\"dataframe\">\n",
       "  <thead>\n",
       "    <tr style=\"text-align: right;\">\n",
       "      <th></th>\n",
       "      <th>TC</th>\n",
       "      <th>max_meas</th>\n",
       "      <th>delta</th>\n",
       "      <th>hitc</th>\n",
       "    </tr>\n",
       "  </thead>\n",
       "  <tbody>\n",
       "    <tr>\n",
       "      <th>2455</th>\n",
       "      <td>PARP1_2_1084345.0</td>\n",
       "      <td>100.351806</td>\n",
       "      <td>62.006811</td>\n",
       "      <td>1</td>\n",
       "    </tr>\n",
       "    <tr>\n",
       "      <th>2465</th>\n",
       "      <td>PARP1_2_1084345.0</td>\n",
       "      <td>99.950424</td>\n",
       "      <td>53.244240</td>\n",
       "      <td>1</td>\n",
       "    </tr>\n",
       "    <tr>\n",
       "      <th>2475</th>\n",
       "      <td>PARP1_3_1084345.0</td>\n",
       "      <td>99.806979</td>\n",
       "      <td>80.940167</td>\n",
       "      <td>1</td>\n",
       "    </tr>\n",
       "    <tr>\n",
       "      <th>2485</th>\n",
       "      <td>PARP1_3_1084345.0</td>\n",
       "      <td>104.864758</td>\n",
       "      <td>69.041455</td>\n",
       "      <td>1</td>\n",
       "    </tr>\n",
       "    <tr>\n",
       "      <th>3132</th>\n",
       "      <td>PARP2_2_1084345.0</td>\n",
       "      <td>99.444107</td>\n",
       "      <td>117.681577</td>\n",
       "      <td>1</td>\n",
       "    </tr>\n",
       "    <tr>\n",
       "      <th>3142</th>\n",
       "      <td>PARP2_2_1084345.0</td>\n",
       "      <td>100.767669</td>\n",
       "      <td>112.865154</td>\n",
       "      <td>1</td>\n",
       "    </tr>\n",
       "    <tr>\n",
       "      <th>3152</th>\n",
       "      <td>PARP2_3_1084345.0</td>\n",
       "      <td>106.471582</td>\n",
       "      <td>122.190061</td>\n",
       "      <td>1</td>\n",
       "    </tr>\n",
       "    <tr>\n",
       "      <th>3162</th>\n",
       "      <td>PARP2_3_1084345.0</td>\n",
       "      <td>103.302158</td>\n",
       "      <td>163.038995</td>\n",
       "      <td>1</td>\n",
       "    </tr>\n",
       "  </tbody>\n",
       "</table>\n",
       "</div>"
      ],
      "text/plain": [
       "                     TC    max_meas       delta  hitc\n",
       "2455  PARP1_2_1084345.0  100.351806   62.006811     1\n",
       "2465  PARP1_2_1084345.0   99.950424   53.244240     1\n",
       "2475  PARP1_3_1084345.0   99.806979   80.940167     1\n",
       "2485  PARP1_3_1084345.0  104.864758   69.041455     1\n",
       "3132  PARP2_2_1084345.0   99.444107  117.681577     1\n",
       "3142  PARP2_2_1084345.0  100.767669  112.865154     1\n",
       "3152  PARP2_3_1084345.0  106.471582  122.190061     1\n",
       "3162  PARP2_3_1084345.0  103.302158  163.038995     1"
      ]
     },
     "execution_count": 440,
     "metadata": {},
     "output_type": "execute_result"
    }
   ],
   "source": [
    "tmp[tmp.TC.duplicated(keep=False)] # two dose responses on same day were calculated together... just leave as is"
   ]
  },
  {
   "cell_type": "code",
   "execution_count": 441,
   "id": "086295f5-6b2e-4e2f-b43b-6109f668ee93",
   "metadata": {},
   "outputs": [
    {
     "name": "stdout",
     "output_type": "stream",
     "text": [
      "(932, 25)\n"
     ]
    },
    {
     "data": {
      "text/plain": [
       "260"
      ]
     },
     "execution_count": 441,
     "metadata": {},
     "output_type": "execute_result"
    }
   ],
   "source": [
    "print(pc.shape)\n",
    "pc=pc.merge(tmp, how='left')\n",
    "\n",
    "pc['graph']=[1 if x in hits else 0 for x in pc.Compound]\n",
    "len(pc[pc.graph==1])"
   ]
  },
  {
   "cell_type": "code",
   "execution_count": 442,
   "id": "6616d9e6-aca1-4f53-bf22-d40998994311",
   "metadata": {},
   "outputs": [
    {
     "name": "stdout",
     "output_type": "stream",
     "text": [
      "(936, 29)\n",
      "(936, 29)\n"
     ]
    }
   ],
   "source": [
    "print(pc.shape)\n",
    "pc=pc.drop_duplicates()\n",
    "print(pc.shape)"
   ]
  },
  {
   "cell_type": "code",
   "execution_count": 443,
   "id": "539ee9a1-1858-4806-bef8-65f395718770",
   "metadata": {},
   "outputs": [
    {
     "data": {
      "text/html": [
       "<div>\n",
       "<style scoped>\n",
       "    .dataframe tbody tr th:only-of-type {\n",
       "        vertical-align: middle;\n",
       "    }\n",
       "\n",
       "    .dataframe tbody tr th {\n",
       "        vertical-align: top;\n",
       "    }\n",
       "\n",
       "    .dataframe thead th {\n",
       "        text-align: right;\n",
       "    }\n",
       "</style>\n",
       "<table border=\"1\" class=\"dataframe\">\n",
       "  <thead>\n",
       "    <tr style=\"text-align: right;\">\n",
       "      <th></th>\n",
       "      <th>Compound</th>\n",
       "      <th>Alias</th>\n",
       "      <th>SMILES</th>\n",
       "      <th>Lot_#</th>\n",
       "      <th>Lot_Alias</th>\n",
       "      <th>Salt</th>\n",
       "      <th>Solvate</th>\n",
       "      <th>Vendor</th>\n",
       "      <th>PAINS</th>\n",
       "      <th>Bruns_Watson_Demerit_Score</th>\n",
       "      <th>Series_Count</th>\n",
       "      <th>bottom</th>\n",
       "      <th>bottomerror</th>\n",
       "      <th>fitmethod</th>\n",
       "      <th>notes</th>\n",
       "      <th>hill</th>\n",
       "      <th>hillerror</th>\n",
       "      <th>IC50</th>\n",
       "      <th>[subst]_vs_intensity_inhibition</th>\n",
       "      <th>pIC50</th>\n",
       "      <th>R^2</th>\n",
       "      <th>top</th>\n",
       "      <th>toperror</th>\n",
       "      <th>Target</th>\n",
       "      <th>TC</th>\n",
       "      <th>max_meas</th>\n",
       "      <th>delta</th>\n",
       "      <th>hitc</th>\n",
       "      <th>graph</th>\n",
       "    </tr>\n",
       "  </thead>\n",
       "  <tbody>\n",
       "    <tr>\n",
       "      <th>468</th>\n",
       "      <td>36132</td>\n",
       "      <td>NaN</td>\n",
       "      <td>Oc1ccc(Nc2nc(cs2)c3ccc(Cl)cc3)cc1</td>\n",
       "      <td>4</td>\n",
       "      <td>P7211760421</td>\n",
       "      <td>None</td>\n",
       "      <td>None</td>\n",
       "      <td>Otava</td>\n",
       "      <td>0</td>\n",
       "      <td>NaN</td>\n",
       "      <td>1</td>\n",
       "      <td>NaN</td>\n",
       "      <td>NaN</td>\n",
       "      <td>Logistic_FourParameters</td>\n",
       "      <td>Fit FAILED</td>\n",
       "      <td>NaN</td>\n",
       "      <td>NaN</td>\n",
       "      <td>&gt; 39.8</td>\n",
       "      <td>[x:39.8, y:13.4714724028758], [x:2.488, y:-22....</td>\n",
       "      <td>NaN</td>\n",
       "      <td>NaN</td>\n",
       "      <td>NaN</td>\n",
       "      <td>NaN</td>\n",
       "      <td>PARP2</td>\n",
       "      <td>PARP2_1_36132.0</td>\n",
       "      <td>22.008806</td>\n",
       "      <td>44.808629</td>\n",
       "      <td>0</td>\n",
       "      <td>0</td>\n",
       "    </tr>\n",
       "    <tr>\n",
       "      <th>469</th>\n",
       "      <td>36776</td>\n",
       "      <td>NaN</td>\n",
       "      <td>COc1ccc(cc1)C2C(=C(N)Oc3[nH]nc(C)c23)C#N</td>\n",
       "      <td>3</td>\n",
       "      <td>P1590324</td>\n",
       "      <td>None</td>\n",
       "      <td>None</td>\n",
       "      <td>Otava</td>\n",
       "      <td>0</td>\n",
       "      <td>75</td>\n",
       "      <td>1</td>\n",
       "      <td>NaN</td>\n",
       "      <td>NaN</td>\n",
       "      <td>Logistic_FourParameters</td>\n",
       "      <td>Fit FAILED</td>\n",
       "      <td>NaN</td>\n",
       "      <td>NaN</td>\n",
       "      <td>&gt; 39.8</td>\n",
       "      <td>[x:39.8, y:-91.6784832433049], [x:2.488, y:-12...</td>\n",
       "      <td>NaN</td>\n",
       "      <td>NaN</td>\n",
       "      <td>NaN</td>\n",
       "      <td>NaN</td>\n",
       "      <td>PARP2</td>\n",
       "      <td>PARP2_1_36776.0</td>\n",
       "      <td>-51.248551</td>\n",
       "      <td>76.416793</td>\n",
       "      <td>0</td>\n",
       "      <td>0</td>\n",
       "    </tr>\n",
       "    <tr>\n",
       "      <th>470</th>\n",
       "      <td>38271</td>\n",
       "      <td>NaN</td>\n",
       "      <td>Nc1c(C#N)c2nc3ccccc3nc2n1c4ccc(O)cc4</td>\n",
       "      <td>4</td>\n",
       "      <td>P0124040211</td>\n",
       "      <td>None</td>\n",
       "      <td>None</td>\n",
       "      <td>Otava</td>\n",
       "      <td>0</td>\n",
       "      <td>NaN</td>\n",
       "      <td>1</td>\n",
       "      <td>NaN</td>\n",
       "      <td>NaN</td>\n",
       "      <td>Logistic_FourParameters</td>\n",
       "      <td>Fit FAILED</td>\n",
       "      <td>NaN</td>\n",
       "      <td>NaN</td>\n",
       "      <td>&gt; 39.8</td>\n",
       "      <td>[x:39.8, y:-28.1376029085929], [x:2.488, y:-10...</td>\n",
       "      <td>NaN</td>\n",
       "      <td>NaN</td>\n",
       "      <td>NaN</td>\n",
       "      <td>NaN</td>\n",
       "      <td>PARP2</td>\n",
       "      <td>PARP2_1_38271.0</td>\n",
       "      <td>45.988697</td>\n",
       "      <td>127.034596</td>\n",
       "      <td>0</td>\n",
       "      <td>0</td>\n",
       "    </tr>\n",
       "    <tr>\n",
       "      <th>471</th>\n",
       "      <td>50085</td>\n",
       "      <td>NaN</td>\n",
       "      <td>CN1C(=O)NC(=O)c2c1nc(N3CCCCCC3)n2C</td>\n",
       "      <td>2</td>\n",
       "      <td>P1162085</td>\n",
       "      <td>None</td>\n",
       "      <td>None</td>\n",
       "      <td>Otava</td>\n",
       "      <td>0</td>\n",
       "      <td>NaN</td>\n",
       "      <td>1</td>\n",
       "      <td>NaN</td>\n",
       "      <td>NaN</td>\n",
       "      <td>Logistic_FourParameters</td>\n",
       "      <td>Fit FAILED</td>\n",
       "      <td>NaN</td>\n",
       "      <td>NaN</td>\n",
       "      <td>&gt; 39.8</td>\n",
       "      <td>[x:39.8, y:-32.8341802692178], [x:2.488, y:-74...</td>\n",
       "      <td>NaN</td>\n",
       "      <td>NaN</td>\n",
       "      <td>NaN</td>\n",
       "      <td>NaN</td>\n",
       "      <td>PARP2</td>\n",
       "      <td>PARP2_1_50085.0</td>\n",
       "      <td>-16.293087</td>\n",
       "      <td>92.437970</td>\n",
       "      <td>0</td>\n",
       "      <td>0</td>\n",
       "    </tr>\n",
       "    <tr>\n",
       "      <th>472</th>\n",
       "      <td>51009</td>\n",
       "      <td>NaN</td>\n",
       "      <td>Oc1nc(NCc2ccccc2)nc3sc4CCCCc4c13</td>\n",
       "      <td>2</td>\n",
       "      <td>P6057716</td>\n",
       "      <td>None</td>\n",
       "      <td>None</td>\n",
       "      <td>Otava</td>\n",
       "      <td>0</td>\n",
       "      <td>NaN</td>\n",
       "      <td>1</td>\n",
       "      <td>NaN</td>\n",
       "      <td>NaN</td>\n",
       "      <td>Logistic_FourParameters</td>\n",
       "      <td>Fit FAILED</td>\n",
       "      <td>NaN</td>\n",
       "      <td>NaN</td>\n",
       "      <td>&gt; 39.8</td>\n",
       "      <td>[x:39.8, y:-20.9248831445934], [x:2.488, y:-16...</td>\n",
       "      <td>NaN</td>\n",
       "      <td>NaN</td>\n",
       "      <td>NaN</td>\n",
       "      <td>NaN</td>\n",
       "      <td>PARP2</td>\n",
       "      <td>PARP2_1_51009.0</td>\n",
       "      <td>19.838217</td>\n",
       "      <td>89.803995</td>\n",
       "      <td>0</td>\n",
       "      <td>0</td>\n",
       "    </tr>\n",
       "    <tr>\n",
       "      <th>...</th>\n",
       "      <td>...</td>\n",
       "      <td>...</td>\n",
       "      <td>...</td>\n",
       "      <td>...</td>\n",
       "      <td>...</td>\n",
       "      <td>...</td>\n",
       "      <td>...</td>\n",
       "      <td>...</td>\n",
       "      <td>...</td>\n",
       "      <td>...</td>\n",
       "      <td>...</td>\n",
       "      <td>...</td>\n",
       "      <td>...</td>\n",
       "      <td>...</td>\n",
       "      <td>...</td>\n",
       "      <td>...</td>\n",
       "      <td>...</td>\n",
       "      <td>...</td>\n",
       "      <td>...</td>\n",
       "      <td>...</td>\n",
       "      <td>...</td>\n",
       "      <td>...</td>\n",
       "      <td>...</td>\n",
       "      <td>...</td>\n",
       "      <td>...</td>\n",
       "      <td>...</td>\n",
       "      <td>...</td>\n",
       "      <td>...</td>\n",
       "      <td>...</td>\n",
       "    </tr>\n",
       "    <tr>\n",
       "      <th>464</th>\n",
       "      <td>1084345</td>\n",
       "      <td>NaN</td>\n",
       "      <td>CCc1cc2ncc(CN3CCN(CC3)c4ccc(nc4)C(=O)NC)cc2nc1O</td>\n",
       "      <td>2</td>\n",
       "      <td>AZD5305</td>\n",
       "      <td>None</td>\n",
       "      <td>None</td>\n",
       "      <td>NaN</td>\n",
       "      <td>0</td>\n",
       "      <td>16</td>\n",
       "      <td>3</td>\n",
       "      <td>-20.0</td>\n",
       "      <td>NaN</td>\n",
       "      <td>Logistic_FourParameters</td>\n",
       "      <td>Fit succeeded; bottom fixed at -20</td>\n",
       "      <td>1.1570</td>\n",
       "      <td>0.1305</td>\n",
       "      <td>0.001336</td>\n",
       "      <td>[x:2.488, y:99.8069793513453], [x:2.488, y:101...</td>\n",
       "      <td>8.874</td>\n",
       "      <td>0.9974</td>\n",
       "      <td>98.00</td>\n",
       "      <td>1.4090</td>\n",
       "      <td>PARP1</td>\n",
       "      <td>PARP1_3_1084345.0</td>\n",
       "      <td>99.806979</td>\n",
       "      <td>80.940167</td>\n",
       "      <td>1</td>\n",
       "      <td>1</td>\n",
       "    </tr>\n",
       "    <tr>\n",
       "      <th>465</th>\n",
       "      <td>1084345</td>\n",
       "      <td>NaN</td>\n",
       "      <td>CCc1cc2ncc(CN3CCN(CC3)c4ccc(nc4)C(=O)NC)cc2nc1O</td>\n",
       "      <td>2</td>\n",
       "      <td>AZD5305</td>\n",
       "      <td>None</td>\n",
       "      <td>None</td>\n",
       "      <td>NaN</td>\n",
       "      <td>0</td>\n",
       "      <td>16</td>\n",
       "      <td>3</td>\n",
       "      <td>-20.0</td>\n",
       "      <td>NaN</td>\n",
       "      <td>Logistic_FourParameters</td>\n",
       "      <td>Fit succeeded; bottom fixed at -20</td>\n",
       "      <td>1.1570</td>\n",
       "      <td>0.1305</td>\n",
       "      <td>0.001336</td>\n",
       "      <td>[x:2.488, y:99.8069793513453], [x:2.488, y:101...</td>\n",
       "      <td>8.874</td>\n",
       "      <td>0.9974</td>\n",
       "      <td>98.00</td>\n",
       "      <td>1.4090</td>\n",
       "      <td>PARP1</td>\n",
       "      <td>PARP1_3_1084345.0</td>\n",
       "      <td>104.864758</td>\n",
       "      <td>69.041455</td>\n",
       "      <td>1</td>\n",
       "      <td>1</td>\n",
       "    </tr>\n",
       "    <tr>\n",
       "      <th>466</th>\n",
       "      <td>1084345</td>\n",
       "      <td>NaN</td>\n",
       "      <td>CCc1cc2ncc(CN3CCN(CC3)c4ccc(nc4)C(=O)NC)cc2nc1O</td>\n",
       "      <td>2</td>\n",
       "      <td>AZD5305</td>\n",
       "      <td>None</td>\n",
       "      <td>None</td>\n",
       "      <td>NaN</td>\n",
       "      <td>0</td>\n",
       "      <td>16</td>\n",
       "      <td>4</td>\n",
       "      <td>-20.0</td>\n",
       "      <td>NaN</td>\n",
       "      <td>Logistic_FourParameters</td>\n",
       "      <td>Fit succeeded; bottom fixed at -20</td>\n",
       "      <td>6.0230</td>\n",
       "      <td>6.1510</td>\n",
       "      <td>0.002562</td>\n",
       "      <td>[x:2.488, y:100.239893976506], [x:19.9, y:99.5...</td>\n",
       "      <td>8.591</td>\n",
       "      <td>0.9993</td>\n",
       "      <td>98.76</td>\n",
       "      <td>0.9898</td>\n",
       "      <td>PARP1</td>\n",
       "      <td>PARP1_4_1084345.0</td>\n",
       "      <td>100.318653</td>\n",
       "      <td>120.847294</td>\n",
       "      <td>1</td>\n",
       "      <td>1</td>\n",
       "    </tr>\n",
       "    <tr>\n",
       "      <th>934</th>\n",
       "      <td>1084345</td>\n",
       "      <td>NaN</td>\n",
       "      <td>CCc1cc2ncc(CN3CCN(CC3)c4ccc(nc4)C(=O)NC)cc2nc1O</td>\n",
       "      <td>2</td>\n",
       "      <td>AZD5305</td>\n",
       "      <td>None</td>\n",
       "      <td>None</td>\n",
       "      <td>NaN</td>\n",
       "      <td>0</td>\n",
       "      <td>16</td>\n",
       "      <td>4</td>\n",
       "      <td>-20.0</td>\n",
       "      <td>NaN</td>\n",
       "      <td>Logistic_FourParameters</td>\n",
       "      <td>Fit succeeded; bottom fixed at -20</td>\n",
       "      <td>0.8711</td>\n",
       "      <td>0.1698</td>\n",
       "      <td>0.04251</td>\n",
       "      <td>[x:2.488, y:97.9576563633963], [x:19.9, y:100....</td>\n",
       "      <td>7.372</td>\n",
       "      <td>0.9885</td>\n",
       "      <td>100.70</td>\n",
       "      <td>5.7930</td>\n",
       "      <td>PARP2</td>\n",
       "      <td>PARP2_4_1084345.0</td>\n",
       "      <td>100.314287</td>\n",
       "      <td>126.225883</td>\n",
       "      <td>1</td>\n",
       "      <td>1</td>\n",
       "    </tr>\n",
       "    <tr>\n",
       "      <th>935</th>\n",
       "      <td>1084345</td>\n",
       "      <td>NaN</td>\n",
       "      <td>CCc1cc2ncc(CN3CCN(CC3)c4ccc(nc4)C(=O)NC)cc2nc1O</td>\n",
       "      <td>2</td>\n",
       "      <td>AZD5305</td>\n",
       "      <td>None</td>\n",
       "      <td>None</td>\n",
       "      <td>NaN</td>\n",
       "      <td>0</td>\n",
       "      <td>16</td>\n",
       "      <td>5</td>\n",
       "      <td>-20.0</td>\n",
       "      <td>NaN</td>\n",
       "      <td>Logistic_FourParameters</td>\n",
       "      <td>Fit succeeded; bottom fixed at -20</td>\n",
       "      <td>0.5582</td>\n",
       "      <td>0.2063</td>\n",
       "      <td>0.03148</td>\n",
       "      <td>[x:2.488, y:97.2722767762667], [x:19.9, y:100....</td>\n",
       "      <td>7.502</td>\n",
       "      <td>0.9616</td>\n",
       "      <td>106.70</td>\n",
       "      <td>15.5700</td>\n",
       "      <td>PARP2</td>\n",
       "      <td>PARP2_5_1084345.0</td>\n",
       "      <td>100.113057</td>\n",
       "      <td>107.071813</td>\n",
       "      <td>1</td>\n",
       "      <td>1</td>\n",
       "    </tr>\n",
       "  </tbody>\n",
       "</table>\n",
       "<p>479 rows × 29 columns</p>\n",
       "</div>"
      ],
      "text/plain": [
       "     Compound  Alias                                           SMILES  Lot_#  \\\n",
       "468     36132    NaN                Oc1ccc(Nc2nc(cs2)c3ccc(Cl)cc3)cc1      4   \n",
       "469     36776    NaN         COc1ccc(cc1)C2C(=C(N)Oc3[nH]nc(C)c23)C#N      3   \n",
       "470     38271    NaN             Nc1c(C#N)c2nc3ccccc3nc2n1c4ccc(O)cc4      4   \n",
       "471     50085    NaN               CN1C(=O)NC(=O)c2c1nc(N3CCCCCC3)n2C      2   \n",
       "472     51009    NaN                 Oc1nc(NCc2ccccc2)nc3sc4CCCCc4c13      2   \n",
       "..        ...    ...                                              ...    ...   \n",
       "464   1084345    NaN  CCc1cc2ncc(CN3CCN(CC3)c4ccc(nc4)C(=O)NC)cc2nc1O      2   \n",
       "465   1084345    NaN  CCc1cc2ncc(CN3CCN(CC3)c4ccc(nc4)C(=O)NC)cc2nc1O      2   \n",
       "466   1084345    NaN  CCc1cc2ncc(CN3CCN(CC3)c4ccc(nc4)C(=O)NC)cc2nc1O      2   \n",
       "934   1084345    NaN  CCc1cc2ncc(CN3CCN(CC3)c4ccc(nc4)C(=O)NC)cc2nc1O      2   \n",
       "935   1084345    NaN  CCc1cc2ncc(CN3CCN(CC3)c4ccc(nc4)C(=O)NC)cc2nc1O      2   \n",
       "\n",
       "       Lot_Alias  Salt Solvate Vendor  PAINS Bruns_Watson_Demerit_Score  \\\n",
       "468  P7211760421  None    None  Otava      0                        NaN   \n",
       "469     P1590324  None    None  Otava      0                         75   \n",
       "470  P0124040211  None    None  Otava      0                        NaN   \n",
       "471     P1162085  None    None  Otava      0                        NaN   \n",
       "472     P6057716  None    None  Otava      0                        NaN   \n",
       "..           ...   ...     ...    ...    ...                        ...   \n",
       "464      AZD5305  None    None    NaN      0                         16   \n",
       "465      AZD5305  None    None    NaN      0                         16   \n",
       "466      AZD5305  None    None    NaN      0                         16   \n",
       "934      AZD5305  None    None    NaN      0                         16   \n",
       "935      AZD5305  None    None    NaN      0                         16   \n",
       "\n",
       "     Series_Count  bottom  bottomerror                fitmethod  \\\n",
       "468             1     NaN          NaN  Logistic_FourParameters   \n",
       "469             1     NaN          NaN  Logistic_FourParameters   \n",
       "470             1     NaN          NaN  Logistic_FourParameters   \n",
       "471             1     NaN          NaN  Logistic_FourParameters   \n",
       "472             1     NaN          NaN  Logistic_FourParameters   \n",
       "..            ...     ...          ...                      ...   \n",
       "464             3   -20.0          NaN  Logistic_FourParameters   \n",
       "465             3   -20.0          NaN  Logistic_FourParameters   \n",
       "466             4   -20.0          NaN  Logistic_FourParameters   \n",
       "934             4   -20.0          NaN  Logistic_FourParameters   \n",
       "935             5   -20.0          NaN  Logistic_FourParameters   \n",
       "\n",
       "                                  notes    hill  hillerror      IC50  \\\n",
       "468                          Fit FAILED     NaN        NaN    > 39.8   \n",
       "469                          Fit FAILED     NaN        NaN    > 39.8   \n",
       "470                          Fit FAILED     NaN        NaN    > 39.8   \n",
       "471                          Fit FAILED     NaN        NaN    > 39.8   \n",
       "472                          Fit FAILED     NaN        NaN    > 39.8   \n",
       "..                                  ...     ...        ...       ...   \n",
       "464  Fit succeeded; bottom fixed at -20  1.1570     0.1305  0.001336   \n",
       "465  Fit succeeded; bottom fixed at -20  1.1570     0.1305  0.001336   \n",
       "466  Fit succeeded; bottom fixed at -20  6.0230     6.1510  0.002562   \n",
       "934  Fit succeeded; bottom fixed at -20  0.8711     0.1698   0.04251   \n",
       "935  Fit succeeded; bottom fixed at -20  0.5582     0.2063   0.03148   \n",
       "\n",
       "                       [subst]_vs_intensity_inhibition  pIC50     R^2     top  \\\n",
       "468  [x:39.8, y:13.4714724028758], [x:2.488, y:-22....    NaN     NaN     NaN   \n",
       "469  [x:39.8, y:-91.6784832433049], [x:2.488, y:-12...    NaN     NaN     NaN   \n",
       "470  [x:39.8, y:-28.1376029085929], [x:2.488, y:-10...    NaN     NaN     NaN   \n",
       "471  [x:39.8, y:-32.8341802692178], [x:2.488, y:-74...    NaN     NaN     NaN   \n",
       "472  [x:39.8, y:-20.9248831445934], [x:2.488, y:-16...    NaN     NaN     NaN   \n",
       "..                                                 ...    ...     ...     ...   \n",
       "464  [x:2.488, y:99.8069793513453], [x:2.488, y:101...  8.874  0.9974   98.00   \n",
       "465  [x:2.488, y:99.8069793513453], [x:2.488, y:101...  8.874  0.9974   98.00   \n",
       "466  [x:2.488, y:100.239893976506], [x:19.9, y:99.5...  8.591  0.9993   98.76   \n",
       "934  [x:2.488, y:97.9576563633963], [x:19.9, y:100....  7.372  0.9885  100.70   \n",
       "935  [x:2.488, y:97.2722767762667], [x:19.9, y:100....  7.502  0.9616  106.70   \n",
       "\n",
       "     toperror Target                 TC    max_meas       delta  hitc  graph  \n",
       "468       NaN  PARP2    PARP2_1_36132.0   22.008806   44.808629     0      0  \n",
       "469       NaN  PARP2    PARP2_1_36776.0  -51.248551   76.416793     0      0  \n",
       "470       NaN  PARP2    PARP2_1_38271.0   45.988697  127.034596     0      0  \n",
       "471       NaN  PARP2    PARP2_1_50085.0  -16.293087   92.437970     0      0  \n",
       "472       NaN  PARP2    PARP2_1_51009.0   19.838217   89.803995     0      0  \n",
       "..        ...    ...                ...         ...         ...   ...    ...  \n",
       "464    1.4090  PARP1  PARP1_3_1084345.0   99.806979   80.940167     1      1  \n",
       "465    1.4090  PARP1  PARP1_3_1084345.0  104.864758   69.041455     1      1  \n",
       "466    0.9898  PARP1  PARP1_4_1084345.0  100.318653  120.847294     1      1  \n",
       "934    5.7930  PARP2  PARP2_4_1084345.0  100.314287  126.225883     1      1  \n",
       "935   15.5700  PARP2  PARP2_5_1084345.0  100.113057  107.071813     1      1  \n",
       "\n",
       "[479 rows x 29 columns]"
      ]
     },
     "execution_count": 443,
     "metadata": {},
     "output_type": "execute_result"
    }
   ],
   "source": [
    "pc[pc.Compound.duplicated()].sort_values('Compound')"
   ]
  },
  {
   "cell_type": "code",
   "execution_count": 444,
   "id": "f9d463f5-6e64-4d83-b6d1-e5312d13de4d",
   "metadata": {},
   "outputs": [
    {
     "data": {
      "text/plain": [
       "169"
      ]
     },
     "execution_count": 444,
     "metadata": {},
     "output_type": "execute_result"
    }
   ],
   "source": [
    "len(pc[pc.hitc==1])"
   ]
  },
  {
   "cell_type": "code",
   "execution_count": 446,
   "id": "85bd6048-e5f3-4435-8816-aba73d720f3f",
   "metadata": {},
   "outputs": [
    {
     "data": {
      "text/plain": [
       "457"
      ]
     },
     "execution_count": 446,
     "metadata": {},
     "output_type": "execute_result"
    }
   ],
   "source": [
    "pc.Compound.nunique()"
   ]
  },
  {
   "cell_type": "code",
   "execution_count": 450,
   "id": "ff406a1e-4778-48e0-a7d8-3beb1e2ad76c",
   "metadata": {},
   "outputs": [],
   "source": [
    "pr.to_csv('./PARP12_inhibition_curves/PARP12_DR_Raw_with_conc.csv')"
   ]
  },
  {
   "cell_type": "code",
   "execution_count": 451,
   "id": "dfff6733-8320-4b64-90cd-ed78068249a8",
   "metadata": {},
   "outputs": [],
   "source": [
    "pc['relation']=np.nan"
   ]
  },
  {
   "cell_type": "code",
   "execution_count": 452,
   "id": "23a2041b-01c4-4abf-b821-d64315d27116",
   "metadata": {},
   "outputs": [
    {
     "data": {
      "text/plain": [
       "Index(['Compound', 'Alias', 'SMILES', 'Lot_#', 'Lot_Alias', 'Salt', 'Solvate',\n",
       "       'Vendor', 'PAINS', 'Bruns_Watson_Demerit_Score', 'Series_Count',\n",
       "       'bottom', 'bottomerror', 'fitmethod', 'notes', 'hill', 'hillerror',\n",
       "       'IC50', '[subst]_vs_intensity_inhibition', 'pIC50', 'R^2', 'top',\n",
       "       'toperror', 'Target', 'TC', 'max_meas', 'delta', 'hitc', 'graph',\n",
       "       'relation'],\n",
       "      dtype='object')"
      ]
     },
     "execution_count": 452,
     "metadata": {},
     "output_type": "execute_result"
    }
   ],
   "source": [
    "pc.columns"
   ]
  },
  {
   "cell_type": "code",
   "execution_count": 453,
   "id": "a62a1d68-e74b-44fe-8e18-fdf2341514d9",
   "metadata": {},
   "outputs": [],
   "source": [
    "# pc[pc.Series_Count>1]"
   ]
  },
  {
   "cell_type": "code",
   "execution_count": 454,
   "id": "83330c89-50ea-424d-8f2d-e2fb17b52d9c",
   "metadata": {},
   "outputs": [],
   "source": [
    "# cols = ['bottom', 'bottomerror', 'fitmethod', 'notes', 'hill', 'hillerror',\n",
    "#        'IC50', 'pIC50', 'R^2', 'top',\n",
    "#        'toperror', ]\n",
    "\n",
    "# rows=[]\n",
    "# for i, row in pc.iterrows():\n",
    "#     for col in cols:\n",
    "#         try: \n",
    "#             row[col]=row[col].split(',')\n",
    "#             if col=='bottom':\n",
    "#                 listlen = len(row[col])\n",
    "#             if len(row[col])==1:\n",
    "#                 # print(col)\n",
    "#                 row[col]=row[col] * listlen\n",
    "#         except: pass\n",
    "#     rows.append(pd.DataFrame(row).T)\n",
    "# pc=pd.concat(rows)\n",
    "# pc=pc.explode(cols)"
   ]
  },
  {
   "cell_type": "code",
   "execution_count": 455,
   "id": "98dd169e-ee5d-45f5-9723-c650b3e58312",
   "metadata": {},
   "outputs": [
    {
     "data": {
      "text/html": [
       "<div>\n",
       "<style scoped>\n",
       "    .dataframe tbody tr th:only-of-type {\n",
       "        vertical-align: middle;\n",
       "    }\n",
       "\n",
       "    .dataframe tbody tr th {\n",
       "        vertical-align: top;\n",
       "    }\n",
       "\n",
       "    .dataframe thead th {\n",
       "        text-align: right;\n",
       "    }\n",
       "</style>\n",
       "<table border=\"1\" class=\"dataframe\">\n",
       "  <thead>\n",
       "    <tr style=\"text-align: right;\">\n",
       "      <th></th>\n",
       "      <th>Compound</th>\n",
       "      <th>Alias</th>\n",
       "      <th>SMILES</th>\n",
       "      <th>Lot_#</th>\n",
       "      <th>Lot_Alias</th>\n",
       "      <th>Salt</th>\n",
       "      <th>Solvate</th>\n",
       "      <th>Vendor</th>\n",
       "      <th>PAINS</th>\n",
       "      <th>Bruns_Watson_Demerit_Score</th>\n",
       "      <th>Series_Count</th>\n",
       "      <th>bottom</th>\n",
       "      <th>bottomerror</th>\n",
       "      <th>fitmethod</th>\n",
       "      <th>notes</th>\n",
       "      <th>hill</th>\n",
       "      <th>hillerror</th>\n",
       "      <th>IC50</th>\n",
       "      <th>[subst]_vs_intensity_inhibition</th>\n",
       "      <th>pIC50</th>\n",
       "      <th>R^2</th>\n",
       "      <th>top</th>\n",
       "      <th>toperror</th>\n",
       "      <th>Target</th>\n",
       "      <th>TC</th>\n",
       "      <th>max_meas</th>\n",
       "      <th>delta</th>\n",
       "      <th>hitc</th>\n",
       "      <th>graph</th>\n",
       "      <th>relation</th>\n",
       "    </tr>\n",
       "  </thead>\n",
       "  <tbody>\n",
       "  </tbody>\n",
       "</table>\n",
       "</div>"
      ],
      "text/plain": [
       "Empty DataFrame\n",
       "Columns: [Compound, Alias, SMILES, Lot_#, Lot_Alias, Salt, Solvate, Vendor, PAINS, Bruns_Watson_Demerit_Score, Series_Count, bottom, bottomerror, fitmethod, notes, hill, hillerror, IC50, [subst]_vs_intensity_inhibition, pIC50, R^2, top, toperror, Target, TC, max_meas, delta, hitc, graph, relation]\n",
       "Index: []"
      ]
     },
     "execution_count": 455,
     "metadata": {},
     "output_type": "execute_result"
    }
   ],
   "source": [
    "pc[pc.IC50.astype(str).str.contains(',')]"
   ]
  },
  {
   "cell_type": "code",
   "execution_count": 611,
   "id": "ad228273-bff5-42fe-97d8-746a8c9425be",
   "metadata": {},
   "outputs": [],
   "source": [
    "pc.loc[pc.IC50.astype(str).str.contains('>'), 'relation']='>'\n",
    "pc.loc[pc.IC50.astype(str).str.contains('>'), 'IC50']=39.8\n",
    "pc.IC50=pc.IC50.astype(float)\n",
    "pc.loc[pc.IC50==39.8, 'pIC50']=-np.log10(39.8/1000000)-1\n",
    "pc['solubility']=[0 if x in solissues else 1 for x in pc.Compound]"
   ]
  },
  {
   "cell_type": "code",
   "execution_count": 639,
   "id": "baed388f-fd35-420a-b3a5-eaa60a737a10",
   "metadata": {},
   "outputs": [
    {
     "data": {
      "text/plain": [
       "1    874\n",
       "0     62\n",
       "Name: solubility, dtype: int64"
      ]
     },
     "execution_count": 639,
     "metadata": {},
     "output_type": "execute_result"
    }
   ],
   "source": [
    "pc.solubility.value_counts()"
   ]
  },
  {
   "cell_type": "markdown",
   "id": "5cc3a25e-34b4-43a6-b91c-e336c43b3a86",
   "metadata": {},
   "source": [
    "#### Prism:\n",
    "\n",
    "#### `Y = Bottom + (Top - Bottom) / (1 + 10^((LogIC50 - X) * HillSlope))`\n",
    "#### `Y = Bottom + (Top - Bottom) / (1 + (IC50 / X) ^ HillSlope)`"
   ]
  },
  {
   "cell_type": "code",
   "execution_count": 640,
   "id": "23ba4087-2e99-4baa-bf13-1bf7e952ee94",
   "metadata": {},
   "outputs": [],
   "source": [
    "def plot_parp_curves(compound, raw, curve, save_fig=False, save_lab='HiTS'):\n",
    "    sns.set_context('poster')\n",
    "    graphcol=f'intensity_inhibition'\n",
    "    fig, ax = plt.subplots(1,4,figsize=(24,10),sharey=True,gridspec_kw={'width_ratios': [5,1,5,1]})\n",
    "    for i, targ in [(0,'PARP1'),(2,'PARP2')]:\n",
    "        ppc=curve[(curve.Compound==compound) & (curve.Target==targ)].copy()\n",
    "        if len(ppc)>1:\n",
    "            note=list(set(ppc.notes.tolist()))[0]\n",
    "            ppc.IC50=ppc.IC50.astype(float)\n",
    "            note=set(ppc.notes.tolist())\n",
    "            ppc=ppc.groupby('Compound').mean()\n",
    "            ppc['notes']=str(note)\n",
    "        ppr=raw[(raw.Compound==compound) & (raw.Target==targ)].copy()\n",
    "\n",
    "        logconcmin=ppr.logconc.min()-0.5\n",
    "        logconcmax=ppr.logconc.max()+0.5\n",
    "        pctmin = ppr[graphcol].min()\n",
    "        pctmax = ppr[graphcol].max()\n",
    "        if ((ppr.hitc.iloc[0]==1) & ('succeeded' in ppc.notes.iloc[0])):\n",
    "            # save_fig=True\n",
    "            try:\n",
    "                x = np.linspace(logconcmin, logconcmax, 1000)\n",
    "                y = ppc.bottom.iloc[0] + ((ppc.top.iloc[0] - ppc.bottom.iloc[0])/(1+10**((-ppc.pIC50.iloc[0] - x)*float(ppc.hill.iloc[0]))))\n",
    "                # y = row.bottom + (row.top-row.bottom)/(1+(float(row.IC50)/x)**float(row.hill))\n",
    "                ax[i].plot(x,y,c='cornflowerblue')\n",
    "            except:\n",
    "                pass\n",
    "        ax[i].scatter(x=ppr.logconc.values, y=ppr[graphcol].values, s=50)\n",
    "        ax[i].set_title(f\"{int(compound)} {targ} IC50={ppc.IC50.iloc[0]} uM\\nHITC: {int(ppr.hitc.iloc[0])}; {ppc.notes.iloc[0]}\\nSoluble: {ppc['solubility'].iloc[0]}; R^2={ppc['R^2'].iloc[0]}\")\n",
    "        ax[i].set_xlabel('log(Concentration in uM)')\n",
    "        ax[i].set_xlim(logconcmin, logconcmax)\n",
    "        ax[i].set_ylim(-105, 105)\n",
    "        ax[i].hlines(50, xmin=logconcmin, xmax=logconcmax, color='orange', zorder=0)\n",
    "        plateNegCtrl=pr[(raw.Plate==ppr.Plate.iloc[0])&(raw.Well_Type=='negativeControl')]\n",
    "        ax[i+1].hist(plateNegCtrl[graphcol], orientation='horizontal', range=(-105,105), bins=22)    \n",
    "        ax[i+1].set_xlabel('negCtrlDist')\n",
    "    ax[0].set_ylabel(graphcol)\n",
    "    fig.patch.set_facecolor('white')\n",
    "    fig.tight_layout()\n",
    "    if save_fig:\n",
    "        plt.savefig(f'./curve_images/{compound}_{save_lab}_curvefit.png')\n",
    "        plt.close()"
   ]
  },
  {
   "cell_type": "code",
   "execution_count": 641,
   "id": "4121700d-4cd4-4ddf-a2cd-47269f5cecad",
   "metadata": {},
   "outputs": [
    {
     "data": {
      "text/plain": [
       "260"
      ]
     },
     "execution_count": 641,
     "metadata": {},
     "output_type": "execute_result"
    }
   ],
   "source": [
    "plotdf=pc[(pc.graph==1)]\n",
    "len(plotdf)"
   ]
  },
  {
   "cell_type": "code",
   "execution_count": 642,
   "id": "0fef7eb3-99f7-4eed-ae46-df71f8328904",
   "metadata": {},
   "outputs": [],
   "source": [
    "sns.set_context('poster')\n",
    "graphcol=f'intensity_inhibition'\n",
    "\n",
    "for cmpd in plotdf.Compound.unique().tolist():\n",
    "    plot_parp_curves(cmpd, pr, pc, save_fig=True)"
   ]
  },
  {
   "cell_type": "code",
   "execution_count": 621,
   "id": "c5ba896b-46ea-4590-9215-7333e8fee51e",
   "metadata": {},
   "outputs": [],
   "source": [
    "from scipy.optimize import curve_fit \n",
    "import warnings\n",
    "##########################################################\n",
    "# graphics output section\n",
    "def ModelAndScatterPlot(graphWidth, graphHeight):\n",
    "    f = plt.figure(figsize=(graphWidth/100.0, graphHeight/100.0), dpi=100)\n",
    "    axes = f.add_subplot(111)\n",
    "\n",
    "    # first the raw data as a scatter plot\n",
    "    axes.plot(xData, yData,  'D')\n",
    "\n",
    "    # create data for the fitted equation plot\n",
    "    xModel = np.linspace(min(xData), max(xData))\n",
    "    yModel = func(xModel, *fittedParameters)\n",
    "\n",
    "    # now the model as a line plot\n",
    "    axes.plot(xModel, yModel)\n",
    "\n",
    "    axes.set_xlabel('X Data') # X axis data label\n",
    "    axes.set_ylabel('Y Data') # Y axis data label\n",
    "    axes.set_ylim(-105,105)\n",
    "    plt.show()\n",
    "    plt.close('all') # clean up after using pyplot"
   ]
  },
  {
   "cell_type": "code",
   "execution_count": 622,
   "id": "a99d8e2f-16e8-4c07-b04b-f701416250c8",
   "metadata": {},
   "outputs": [],
   "source": [
    "def func(x, Bottom, Top, LogIC50, HillSlope): \n",
    "    return (Bottom + (Top-Bottom)/(1+10**((LogIC50-x)*HillSlope)))"
   ]
  },
  {
   "cell_type": "code",
   "execution_count": 623,
   "id": "b5b31d7a-0792-4a5a-8e3e-4b0024f95f1b",
   "metadata": {
    "tags": []
   },
   "outputs": [],
   "source": [
    "plt.close('all')"
   ]
  },
  {
   "cell_type": "code",
   "execution_count": 624,
   "id": "f344797d-4a79-4e74-980b-428565e65ec6",
   "metadata": {
    "tags": []
   },
   "outputs": [],
   "source": [
    "allparams = {}\n",
    "\n",
    "for cmpd in plotdf.Compound.unique().tolist():\n",
    "    for i, targ in enumerate(['PARP1','PARP2']):\n",
    "        ppr=pr[(pr.Compound==cmpd) & (pr.Target==targ)].copy()\n",
    "        plateNegCtrl=pr[(pr.Plate==ppr.Plate.iloc[0])&(pr.Well_Type=='negativeControl')][graphcol].mean()\n",
    "        logconc=ppr.logconc\n",
    "        scaling_factor = ppr[graphcol].values\n",
    "\n",
    "        # rename data for simpler code re-use later\n",
    "        xData = logconc\n",
    "        yData = scaling_factor\n",
    "    \n",
    "        # these are the same as the scipy defaults\n",
    "        # initialParameters = np.array([init[top], init[bottom], np.log10(float(init[ic50])/1000000), init[hill]])\n",
    "        initialParameters = np.array([100, -20, -5.5, 1])\n",
    "\n",
    "        # do not print unnecessary warnings during curve_fit()\n",
    "        warnings.filterwarnings(\"ignore\")\n",
    "\n",
    "        try:\n",
    "            # curve fit the test data\n",
    "            fittedParameters, pcov = curve_fit(func, xData, yData, initialParameters)\n",
    "\n",
    "            modelPredictions = func(xData, *fittedParameters) \n",
    "\n",
    "            absError = modelPredictions - yData\n",
    "\n",
    "            SE = np.square(absError) # squared errors\n",
    "            MSE = np.mean(SE) # mean squared errors\n",
    "            RMSE = np.sqrt(MSE) # Root Mean Squared Error, RMSE\n",
    "            Rsquared = 1.0 - (np.var(absError) / np.var(yData))\n",
    "            IC50 = 10**fittedParameters[2]*1000000\n",
    "\n",
    "            fittedParameters=list(fittedParameters)\n",
    "            fittedParameters.extend([RMSE, Rsquared, IC50])\n",
    "            allparams[targ+\"_\"+str(cmpd)]=fittedParameters\n",
    "\n",
    "        except:\n",
    "            # print(f'{targ} {cmpd} fit failed')\n",
    "            allparams[targ+\"_\"+str(cmpd)]=[np.nan]*7"
   ]
  },
  {
   "cell_type": "code",
   "execution_count": 625,
   "id": "2063cf41-baf9-47ee-bbc9-edc6bce4f219",
   "metadata": {},
   "outputs": [],
   "source": [
    "df=pd.DataFrame.from_dict(allparams).T\n",
    "df.columns=['bottom','top','LogIC50','hill','RMSE','R^2','IC50']\n",
    "df.columns=['SciPy_'+col for col in df.columns]\n",
    "df=df.reset_index()\n",
    "df=df.rename(columns={'index':'Compound'})\n",
    "df[['Target','Compound']]=df.Compound.str.split('_', expand=True)\n",
    "df.Compound=df.Compound.astype(int)"
   ]
  },
  {
   "cell_type": "code",
   "execution_count": 626,
   "id": "a3f5ef5a-4dc9-4087-b195-ddc0d3294235",
   "metadata": {},
   "outputs": [],
   "source": [
    "pc=pc.merge(df, how='left')"
   ]
  },
  {
   "cell_type": "code",
   "execution_count": 627,
   "id": "2b01f938-4493-409c-9a8f-3288efc42086",
   "metadata": {},
   "outputs": [
    {
     "data": {
      "text/plain": [
       "Index(['Compound', 'Alias', 'SMILES', 'Lot_#', 'Lot_Alias', 'Salt', 'Solvate',\n",
       "       'Vendor', 'PAINS', 'Bruns_Watson_Demerit_Score', 'Series_Count',\n",
       "       'bottom', 'bottomerror', 'fitmethod', 'notes', 'hill', 'hillerror',\n",
       "       'IC50', '[subst]_vs_intensity_inhibition', 'pIC50', 'R^2', 'top',\n",
       "       'toperror', 'Target', 'TC', 'max_meas', 'delta', 'hitc', 'graph',\n",
       "       'relation', 'SciPy_bottom', 'SciPy_top', 'SciPy_LogIC50', 'SciPy_hill',\n",
       "       'SciPy_RMSE', 'SciPy_R^2', 'SciPy_IC50', 'SciPy_pIC50', 'SciPy_hitc',\n",
       "       'SciPy_graph', 'solubility'],\n",
       "      dtype='object')"
      ]
     },
     "execution_count": 627,
     "metadata": {},
     "output_type": "execute_result"
    }
   ],
   "source": [
    "pc.columns"
   ]
  },
  {
   "cell_type": "code",
   "execution_count": 628,
   "id": "2a5a29a1-5d4d-467a-9bc8-e8dae2a54ab4",
   "metadata": {},
   "outputs": [
    {
     "data": {
      "text/plain": [
       "<AxesSubplot:xlabel='bottom', ylabel='SciPy_bottom'>"
      ]
     },
     "execution_count": 628,
     "metadata": {},
     "output_type": "execute_result"
    },
    {
     "data": {
      "image/png": "[encoded data removed]",
      "text/plain": [
       "<Figure size 360x360 with 1 Axes>"
      ]
     },
     "metadata": {
      "needs_background": "light"
     },
     "output_type": "display_data"
    }
   ],
   "source": [
    "pc.plot(x=f'bottom', y=f'SciPy_bottom', kind='scatter', figsize=(5,5), xlim=(-105,105), ylim=(-105,105))"
   ]
  },
  {
   "cell_type": "code",
   "execution_count": 629,
   "id": "fbdf9556-f36c-40b6-a0e4-3fd544a70d71",
   "metadata": {},
   "outputs": [
    {
     "data": {
      "text/plain": [
       "<AxesSubplot:xlabel='top', ylabel='SciPy_top'>"
      ]
     },
     "execution_count": 629,
     "metadata": {},
     "output_type": "execute_result"
    },
    {
     "data": {
      "image/png": "[encoded data removed]",
      "text/plain": [
       "<Figure size 360x360 with 1 Axes>"
      ]
     },
     "metadata": {
      "needs_background": "light"
     },
     "output_type": "display_data"
    }
   ],
   "source": [
    "pc.plot(x=f'top', y=f'SciPy_top', kind='scatter', figsize=(5,5), xlim=(-150,400), ylim=(-150,400))"
   ]
  },
  {
   "cell_type": "code",
   "execution_count": 630,
   "id": "756fb480-b02e-4bb8-a7af-bab20fbeb709",
   "metadata": {},
   "outputs": [
    {
     "data": {
      "text/plain": [
       "<AxesSubplot:xlabel='IC50', ylabel='SciPy_IC50'>"
      ]
     },
     "execution_count": 630,
     "metadata": {},
     "output_type": "execute_result"
    },
    {
     "data": {
      "image/png": "[encoded data removed]",
      "text/plain": [
       "<Figure size 360x360 with 1 Axes>"
      ]
     },
     "metadata": {
      "needs_background": "light"
     },
     "output_type": "display_data"
    }
   ],
   "source": [
    "pc.plot(x=f'IC50', y=f'SciPy_IC50', kind='scatter', figsize=(5,5), xlim=(-5,50), ylim=(-5,50))"
   ]
  },
  {
   "cell_type": "code",
   "execution_count": 631,
   "id": "f7862e29-9787-4741-8545-1827dcaf9145",
   "metadata": {},
   "outputs": [
    {
     "data": {
      "text/plain": [
       "<AxesSubplot:xlabel='pIC50', ylabel='SciPy_pIC50'>"
      ]
     },
     "execution_count": 631,
     "metadata": {},
     "output_type": "execute_result"
    },
    {
     "data": {
      "image/png": "[encoded data removed]",
      "text/plain": [
       "<Figure size 360x360 with 1 Axes>"
      ]
     },
     "metadata": {
      "needs_background": "light"
     },
     "output_type": "display_data"
    }
   ],
   "source": [
    "pc['SciPy_pIC50']=-pc.SciPy_LogIC50\n",
    "pc.plot(x=f'pIC50', y=f'SciPy_pIC50', kind='scatter', figsize=(5,5), xlim=(-1,12), ylim=(-1,12))"
   ]
  },
  {
   "cell_type": "code",
   "execution_count": 632,
   "id": "1dff9566-8f16-4349-8620-8ac693a6640c",
   "metadata": {},
   "outputs": [],
   "source": [
    "pc['SciPy_hitc']=~pc.SciPy_hill.isna().astype(int)+2\n",
    "hits=pc[pc.SciPy_hitc==1].Compound.unique()\n",
    "pc['SciPy_graph']=[1 if x in hits else 0 for x in pc.Compound]"
   ]
  },
  {
   "cell_type": "code",
   "execution_count": 643,
   "id": "f7c0f00d-0d7d-49f6-864c-218730c51531",
   "metadata": {},
   "outputs": [],
   "source": [
    "plotdf=pc[pc.SciPy_graph==1]\n",
    "\n",
    "plotdf=plotdf[['Compound', 'Alias', 'SMILES', 'Lot_#', 'Lot_Alias', 'Salt', 'Solvate',\n",
    "       'Vendor', 'PAINS', 'Bruns_Watson_Demerit_Score', 'Series_Count',\n",
    "        'Target', 'TC', 'max_meas', 'delta', 'hitc', 'relation', 'SciPy_bottom', 'SciPy_top', 'SciPy_hill', 'SciPy_R^2', 'SciPy_IC50', 'SciPy_pIC50', 'SciPy_hitc', 'SciPy_graph','solubility']]\n",
    "plotdf.columns=['Compound', 'Alias', 'SMILES', 'Lot_#', 'Lot_Alias', 'Salt', 'Solvate',\n",
    "       'Vendor', 'PAINS', 'Bruns_Watson_Demerit_Score', 'Series_Count',\n",
    "        'Target', 'TC', 'max_meas', 'delta', 'hitc', 'relation', 'bottom', 'top', 'hill','R^2', 'IC50', 'pIC50', 'SciPy_hitc', 'graph','solubility']\n",
    "plotdf['notes']='SciPy fit succeeded'"
   ]
  },
  {
   "cell_type": "code",
   "execution_count": 644,
   "id": "8b7ce72d-c54f-4217-8e9f-76c24054c728",
   "metadata": {},
   "outputs": [],
   "source": [
    "sns.set_context('poster')\n",
    "graphcol=f'intensity_inhibition'\n",
    "\n",
    "for cmpd in plotdf.Compound.unique().tolist():\n",
    "    plot_parp_curves(compound=cmpd, curve=plotdf, raw=pr, save_fig=True, save_lab='SciPy')"
   ]
  },
  {
   "cell_type": "code",
   "execution_count": 635,
   "id": "b20a0637-a1b0-4ba7-866c-4f2f5d99257e",
   "metadata": {},
   "outputs": [
    {
     "data": {
      "text/plain": [
       "<AxesSubplot:>"
      ]
     },
     "execution_count": 635,
     "metadata": {},
     "output_type": "execute_result"
    },
    {
     "data": {
      "image/png": "[encoded data removed]",
      "text/plain": [
       "<Figure size 432x288 with 1 Axes>"
      ]
     },
     "metadata": {
      "needs_background": "light"
     },
     "output_type": "display_data"
    }
   ],
   "source": [
    "pc.pIC50.hist()"
   ]
  },
  {
   "cell_type": "code",
   "execution_count": 636,
   "id": "3926993f-b6f3-4e7d-b5df-58066adb0b90",
   "metadata": {},
   "outputs": [
    {
     "data": {
      "text/plain": [
       "<AxesSubplot:>"
      ]
     },
     "execution_count": 636,
     "metadata": {},
     "output_type": "execute_result"
    },
    {
     "data": {
      "image/png": "[encoded data removed]",
      "text/plain": [
       "<Figure size 432x288 with 1 Axes>"
      ]
     },
     "metadata": {
      "needs_background": "light"
     },
     "output_type": "display_data"
    }
   ],
   "source": [
    "pc[pc.hitc==1].pIC50.hist()"
   ]
  },
  {
   "cell_type": "code",
   "execution_count": 637,
   "id": "49865e70-e52a-4f05-86d2-f9723adac95c",
   "metadata": {},
   "outputs": [
    {
     "data": {
      "text/plain": [
       "4.640543707233134"
      ]
     },
     "execution_count": 637,
     "metadata": {},
     "output_type": "execute_result"
    }
   ],
   "source": [
    "pc[pc.hitc==1].pIC50.mean()"
   ]
  },
  {
   "cell_type": "code",
   "execution_count": 638,
   "id": "4b27d6d2-ae13-4264-b3bb-9956fdbf7e96",
   "metadata": {},
   "outputs": [
    {
     "data": {
      "text/plain": [
       "3.9523806808334654"
      ]
     },
     "execution_count": 638,
     "metadata": {},
     "output_type": "execute_result"
    }
   ],
   "source": [
    "pc.pIC50.mean()"
   ]
  },
  {
   "cell_type": "code",
   "execution_count": 478,
   "id": "75a035f7-a925-4c0a-8737-5d4b9035e4bb",
   "metadata": {},
   "outputs": [],
   "source": [
    "drop_from_hits = [180478,1018548,1084027,1084049,1084130, 1084198, 1084211,\n",
    "                  1084266,1084269,1084274,1084304,1084294,1084324,1084326,1084330]\n",
    "keep_extra_from_scipy = [\n",
    "    64122,\n",
    "    92841,\n",
    "    154843,\n",
    "    180370,\n",
    "    181763,\n",
    "    193959,\n",
    "    \n",
    "    815117,\n",
    "    830781,\n",
    "    849198,\n",
    "    871086,\n",
    "    874864,\n",
    "    897986,\n",
    "    992295,\n",
    "    \n",
    "    1018548,\n",
    "    1059267,\n",
    "    1067000,\n",
    "    1083999,\n",
    "    1084001,\n",
    "    1084002,\n",
    "    1084006,\n",
    "    1084015,\n",
    "    1084016,\n",
    "    1084019,\n",
    "    \n",
    "    1084027,\n",
    "    1084028,\n",
    "    1084030,\n",
    "    1084035,\n",
    "    \n",
    "    1084100,\n",
    "    1084104,\n",
    "    1084105,\n",
    "    1084106,\n",
    "    1084107,\n",
    "\n",
    "    1084111,\n",
    "    1084127,\n",
    "    1084128,\n",
    "    1084130,\n",
    "    1084131,\n",
    "    1084132,\n",
    "    1084133,\n",
    "    1084135,\n",
    "    \n",
    "    1084170,\n",
    "    1084180,\n",
    "    1084193,\n",
    "    1084195,\n",
    "    1084196,\n",
    "    1084200,\n",
    "    1084211,\n",
    "    1084219,\n",
    "    \n",
    "    1084244,\n",
    "    1084248,\n",
    "    1084266,\n",
    "    1084267,\n",
    "    1084269,\n",
    "    1084270,\n",
    "    1084271,\n",
    "    \n",
    "    1084274,\n",
    "    1084275,\n",
    "    1084276,\n",
    "    1084278,\n",
    "    1084279,\n",
    "    1084280,\n",
    "    \n",
    "    1084289,\n",
    "    \n",
    "    \n",
    "]"
   ]
  },
  {
   "cell_type": "code",
   "execution_count": 553,
   "id": "cfc754d6-d292-498d-879b-1edac0f91371",
   "metadata": {},
   "outputs": [
    {
     "data": {
      "text/plain": [
       "Index(['Compound', 'Alias', 'SMILES', 'Lot_#', 'Lot_Alias', 'Salt', 'Solvate',\n",
       "       'Vendor', 'PAINS', 'Bruns_Watson_Demerit_Score', 'Series_Count',\n",
       "       'bottom', 'bottomerror', 'fitmethod', 'notes', 'hill', 'hillerror',\n",
       "       'IC50', '[subst]_vs_intensity_inhibition', 'pIC50', 'R^2', 'top',\n",
       "       'toperror', 'Target', 'TC', 'max_meas', 'delta', 'hitc', 'graph',\n",
       "       'relation', 'SciPy_bottom', 'SciPy_top', 'SciPy_LogIC50', 'SciPy_hill',\n",
       "       'SciPy_RMSE', 'SciPy_R^2', 'SciPy_IC50', 'SciPy_pIC50', 'SciPy_hitc',\n",
       "       'SciPy_graph'],\n",
       "      dtype='object')"
      ]
     },
     "execution_count": 553,
     "metadata": {},
     "output_type": "execute_result"
    }
   ],
   "source": [
    "pc.columns"
   ]
  },
  {
   "cell_type": "code",
   "execution_count": 554,
   "id": "a0a53eb8-cd9c-463b-9045-df8ef2697019",
   "metadata": {},
   "outputs": [
    {
     "name": "stdout",
     "output_type": "stream",
     "text": [
      "(169, 40)\n",
      "(97, 40)\n",
      "(91, 40)\n"
     ]
    }
   ],
   "source": [
    "pch=pc[pc.hitc==1].copy(deep=True) # keep all valid hits\n",
    "print(pch.shape)\n",
    "pch=pch[~pch.Compound.isin(keep_extra_from_scipy)] # except where we want the scipy fits instead\n",
    "print(pch.shape)\n",
    "pch=pch[~pch.Compound.isin(drop_from_hits)] # except the ones that should be dropped b/c bad fits\n",
    "print(pch.shape)"
   ]
  },
  {
   "cell_type": "code",
   "execution_count": 555,
   "id": "d2379959-6ab4-41b2-a598-cda173079e37",
   "metadata": {},
   "outputs": [
    {
     "data": {
      "text/plain": [
       "(124, 40)"
      ]
     },
     "execution_count": 555,
     "metadata": {},
     "output_type": "execute_result"
    }
   ],
   "source": [
    "pcs=pc[pc.Compound.isin(keep_extra_from_scipy)].copy(deep=True)\n",
    "pcs.shape"
   ]
  },
  {
   "cell_type": "code",
   "execution_count": 556,
   "id": "f1514cbc-a280-4e7f-9fd8-dcb1797caff6",
   "metadata": {},
   "outputs": [
    {
     "data": {
      "text/plain": [
       "Index(['Compound', 'Alias', 'SMILES', 'Lot_#', 'Lot_Alias', 'Salt', 'Solvate',\n",
       "       'Vendor', 'PAINS', 'Bruns_Watson_Demerit_Score', 'Series_Count',\n",
       "       'bottom', 'bottomerror', 'fitmethod', 'notes', 'hill', 'hillerror',\n",
       "       'IC50', '[subst]_vs_intensity_inhibition', 'pIC50', 'R^2', 'top',\n",
       "       'toperror', 'Target', 'TC', 'max_meas', 'delta', 'hitc', 'graph',\n",
       "       'relation', 'SciPy_bottom', 'SciPy_top', 'SciPy_LogIC50', 'SciPy_hill',\n",
       "       'SciPy_RMSE', 'SciPy_R^2', 'SciPy_IC50', 'SciPy_pIC50', 'SciPy_hitc',\n",
       "       'SciPy_graph'],\n",
       "      dtype='object')"
      ]
     },
     "execution_count": 556,
     "metadata": {},
     "output_type": "execute_result"
    }
   ],
   "source": [
    "pch=pch[['Compound', 'Alias', 'SMILES', 'Lot_#', 'Lot_Alias', 'Salt', 'Solvate',\n",
    "       'Vendor', 'PAINS', 'Bruns_Watson_Demerit_Score', 'bottom',\n",
    "       'bottomerror', 'fitmethod', 'notes', 'hill', 'hillerror', 'IC50', 'pIC50', 'R^2', 'top', 'toperror',\n",
    "       'Target', 'max_meas','delta', 'hitc']]\n",
    "pcs.columns"
   ]
  },
  {
   "cell_type": "code",
   "execution_count": 557,
   "id": "fd29ad02-dbf8-45de-9986-28208262bf55",
   "metadata": {},
   "outputs": [],
   "source": [
    "pcs=pcs[['Compound', 'Alias', 'SMILES', 'Lot_#', 'Lot_Alias', 'Salt', 'Solvate',\n",
    "       'Vendor', 'PAINS', 'Bruns_Watson_Demerit_Score',\n",
    "       'Target', 'SciPy_bottom', 'SciPy_top',\n",
    "       'SciPy_LogIC50', 'SciPy_hill', 'SciPy_RMSE', 'SciPy_R^2', 'SciPy_IC50',\n",
    "       'max_meas','delta', 'hitc']]"
   ]
  },
  {
   "cell_type": "code",
   "execution_count": 558,
   "id": "c18bc544-69f3-41a2-a0ec-460a30f2e141",
   "metadata": {},
   "outputs": [],
   "source": [
    "pcs.columns=['Compound', 'Alias', 'SMILES', 'Lot_#', 'Lot_Alias', 'Salt', 'Solvate',\n",
    "       'Vendor', 'PAINS', 'Bruns_Watson_Demerit_Score', 'Target',\n",
    "       'bottom', 'top', 'LogIC50', 'hill',\n",
    "       'RMSE', 'R^2', 'IC50', 'max_meas','delta', 'hitc']"
   ]
  },
  {
   "cell_type": "code",
   "execution_count": 559,
   "id": "c339fa8a-e2dd-4e0e-8985-ace8f2d129cc",
   "metadata": {},
   "outputs": [
    {
     "data": {
      "text/plain": [
       "{'bottomerror', 'fitmethod', 'hillerror', 'notes', 'pIC50', 'toperror'}"
      ]
     },
     "execution_count": 559,
     "metadata": {},
     "output_type": "execute_result"
    }
   ],
   "source": [
    "set(pch.columns) - set(pcs.columns)"
   ]
  },
  {
   "cell_type": "code",
   "execution_count": 560,
   "id": "77766a3d-d544-40a2-9cf8-bdca6389e8fd",
   "metadata": {},
   "outputs": [
    {
     "data": {
      "text/plain": [
       "array(['Logistic_FourParameters'], dtype=object)"
      ]
     },
     "execution_count": 560,
     "metadata": {},
     "output_type": "execute_result"
    }
   ],
   "source": [
    "pch.fitmethod.unique()"
   ]
  },
  {
   "cell_type": "code",
   "execution_count": 561,
   "id": "d77e2d8b-3af8-4459-a605-6be837d19f5b",
   "metadata": {},
   "outputs": [],
   "source": [
    "pcs['notes']='Fit succeeded with SciPy'\n",
    "pcs['fitmethod']='Logistic_FourParameters'\n",
    "pcs['pIC50']=-pcs['LogIC50']"
   ]
  },
  {
   "cell_type": "code",
   "execution_count": 562,
   "id": "d82b40be-5192-4544-9dc5-2b18f58869f6",
   "metadata": {},
   "outputs": [
    {
     "data": {
      "text/plain": [
       "{'LogIC50', 'RMSE'}"
      ]
     },
     "execution_count": 562,
     "metadata": {},
     "output_type": "execute_result"
    }
   ],
   "source": [
    "set(pcs.columns)-set(pch.columns)"
   ]
  },
  {
   "cell_type": "code",
   "execution_count": 563,
   "id": "7e611d91-76cc-4b3d-9555-0aefcc47948e",
   "metadata": {},
   "outputs": [],
   "source": [
    "pcs=pcs.drop(columns='LogIC50')"
   ]
  },
  {
   "cell_type": "code",
   "execution_count": 564,
   "id": "96dbb6e4-7942-4fba-995e-f38a2016fa34",
   "metadata": {},
   "outputs": [],
   "source": [
    "pos=pd.concat([pch,pcs])"
   ]
  },
  {
   "cell_type": "code",
   "execution_count": 565,
   "id": "922891e4-122a-4671-ab2f-3fa0d39e4569",
   "metadata": {},
   "outputs": [],
   "source": [
    "pp1=pos[pos.Target=='PARP1'].copy(deep=True)\n",
    "pp2=pos[pos.Target=='PARP2'].copy(deep=True)"
   ]
  },
  {
   "cell_type": "code",
   "execution_count": 566,
   "id": "f63ab516-1c99-4b6c-ab6f-86a8cdb9388c",
   "metadata": {},
   "outputs": [
    {
     "data": {
      "text/plain": [
       "457"
      ]
     },
     "execution_count": 566,
     "metadata": {},
     "output_type": "execute_result"
    }
   ],
   "source": [
    "poscmpds = pp1.Compound.unique().tolist()\n",
    "neg=pc[(~pc.Compound.isin(poscmpds))&(pc.Target=='PARP1')].copy(deep=True)\n",
    "neg=neg[['Compound', 'Alias', 'SMILES', 'Lot_#', 'Lot_Alias', 'Salt', 'Solvate',\n",
    "       'Vendor', 'PAINS', 'Bruns_Watson_Demerit_Score', 'bottom',\n",
    "       'bottomerror', 'fitmethod', 'notes', 'hill', 'hillerror', 'IC50', 'pIC50', 'R^2', 'top', 'toperror',\n",
    "       'Target', 'max_meas','delta', 'hitc']]\n",
    "len(poscmpds)+neg.Compound.nunique()"
   ]
  },
  {
   "cell_type": "code",
   "execution_count": 567,
   "id": "8a128462-fd79-4383-a893-70f10a1de904",
   "metadata": {},
   "outputs": [
    {
     "data": {
      "text/plain": [
       "(457, (467, 26))"
      ]
     },
     "execution_count": 567,
     "metadata": {},
     "output_type": "execute_result"
    }
   ],
   "source": [
    "ap1=pd.concat([pp1,neg])\n",
    "ap1=ap1.reset_index(drop=True)\n",
    "ap1.Compound.nunique(), ap1.shape"
   ]
  },
  {
   "cell_type": "code",
   "execution_count": 568,
   "id": "053b4707-3804-4791-8802-4e19490a9b20",
   "metadata": {},
   "outputs": [
    {
     "data": {
      "text/plain": [
       "457"
      ]
     },
     "execution_count": 568,
     "metadata": {},
     "output_type": "execute_result"
    }
   ],
   "source": [
    "poscmpds = pp2.Compound.unique().tolist()\n",
    "neg=pc[(~pc.Compound.isin(poscmpds))&(pc.Target=='PARP2')].copy(deep=True)\n",
    "neg=neg[['Compound', 'Alias', 'SMILES', 'Lot_#', 'Lot_Alias', 'Salt', 'Solvate',\n",
    "       'Vendor', 'PAINS', 'Bruns_Watson_Demerit_Score', 'bottom',\n",
    "       'bottomerror', 'fitmethod', 'notes', 'hill', 'hillerror', 'IC50', 'pIC50', 'R^2', 'top', 'toperror',\n",
    "       'Target', 'max_meas','delta', 'hitc']]\n",
    "len(poscmpds)+neg.Compound.nunique()"
   ]
  },
  {
   "cell_type": "code",
   "execution_count": 569,
   "id": "deb005ae-b883-4769-9478-cd1656ed8e88",
   "metadata": {},
   "outputs": [
    {
     "data": {
      "text/plain": [
       "(457, (467, 26))"
      ]
     },
     "execution_count": 569,
     "metadata": {},
     "output_type": "execute_result"
    }
   ],
   "source": [
    "ap2=pd.concat([pp2,neg])\n",
    "ap2=ap2.reset_index(drop=True)\n",
    "ap2.Compound.nunique(), ap2.shape"
   ]
  },
  {
   "cell_type": "code",
   "execution_count": 570,
   "id": "db191d71-dbe4-4d59-9941-a1fc04ed63ca",
   "metadata": {},
   "outputs": [
    {
     "data": {
      "text/plain": [
       "(467, 467)"
      ]
     },
     "execution_count": 570,
     "metadata": {},
     "output_type": "execute_result"
    }
   ],
   "source": [
    "len(ap1), len(ap2)"
   ]
  },
  {
   "cell_type": "code",
   "execution_count": 571,
   "id": "68223a03-ea18-4140-af9b-813af63c0b07",
   "metadata": {},
   "outputs": [
    {
     "data": {
      "text/plain": [
       "<AxesSubplot:>"
      ]
     },
     "execution_count": 571,
     "metadata": {},
     "output_type": "execute_result"
    },
    {
     "data": {
      "image/png": "[encoded data removed]",
      "text/plain": [
       "<Figure size 432x288 with 1 Axes>"
      ]
     },
     "metadata": {
      "needs_background": "light"
     },
     "output_type": "display_data"
    }
   ],
   "source": [
    "ap1.pIC50.hist(range=(0,10))"
   ]
  },
  {
   "cell_type": "code",
   "execution_count": 572,
   "id": "ad15152d-3fdc-49a9-8337-06d6bd99ad1b",
   "metadata": {},
   "outputs": [
    {
     "data": {
      "text/plain": [
       "<AxesSubplot:>"
      ]
     },
     "execution_count": 572,
     "metadata": {},
     "output_type": "execute_result"
    },
    {
     "data": {
      "image/png": "[encoded data removed]",
      "text/plain": [
       "<Figure size 432x288 with 1 Axes>"
      ]
     },
     "metadata": {
      "needs_background": "light"
     },
     "output_type": "display_data"
    }
   ],
   "source": [
    "ap2.pIC50.hist(range=(0,10))"
   ]
  },
  {
   "cell_type": "code",
   "execution_count": 573,
   "id": "5c3f9908-3338-43c7-aa9f-23a0efff3ac8",
   "metadata": {},
   "outputs": [
    {
     "name": "stdout",
     "output_type": "stream",
     "text": [
      "(467, 26)\n"
     ]
    }
   ],
   "source": [
    "print(ap1.shape)"
   ]
  },
  {
   "cell_type": "code",
   "execution_count": 574,
   "id": "8b09787a-ed0b-450f-a05d-a73ed0f5808f",
   "metadata": {},
   "outputs": [
    {
     "name": "stdout",
     "output_type": "stream",
     "text": [
      "(467, 26)\n"
     ]
    }
   ],
   "source": [
    "print(ap2.shape)"
   ]
  },
  {
   "cell_type": "code",
   "execution_count": 575,
   "id": "e7deac2f-665a-4d5c-9c5b-62e04d249ba9",
   "metadata": {},
   "outputs": [
    {
     "data": {
      "text/plain": [
       "(467, 26)"
      ]
     },
     "execution_count": 575,
     "metadata": {},
     "output_type": "execute_result"
    }
   ],
   "source": [
    "ap1=ap1.drop_duplicates()\n",
    "ap1.shape"
   ]
  },
  {
   "cell_type": "code",
   "execution_count": 576,
   "id": "8e22bb3f-44e5-4e12-ad02-a4e0b44228a6",
   "metadata": {},
   "outputs": [
    {
     "data": {
      "text/plain": [
       "(467, 26)"
      ]
     },
     "execution_count": 576,
     "metadata": {},
     "output_type": "execute_result"
    }
   ],
   "source": [
    "ap2=ap2.drop_duplicates()\n",
    "ap2.shape"
   ]
  },
  {
   "cell_type": "code",
   "execution_count": 577,
   "id": "e1340baa-fea6-47e7-a330-afc261339138",
   "metadata": {},
   "outputs": [],
   "source": [
    "ap1.IC50=ap1.IC50.replace('> 39.8',39.8) # censored values\n",
    "ap2.IC50=ap2.IC50.replace('> 39.8',39.8)\n",
    "ap1['relation']=np.nan\n",
    "ap1.loc[ap1.IC50==39.8, 'relation']='>'\n",
    "ap2['relation']=np.nan\n",
    "ap2.loc[ap2.IC50==39.8, 'relation']='>'"
   ]
  },
  {
   "cell_type": "code",
   "execution_count": 578,
   "id": "9bc017a1-faee-47c5-8d0d-a3842c6963d5",
   "metadata": {},
   "outputs": [],
   "source": [
    "ap1.loc[ap1.hitc==0, 'relation']='>' # fill non-hits with censored data only in relation and pIC50 column\n",
    "ap1.loc[ap1.hitc==0, 'pIC50']=-np.log10(39.8/1000000)-1\n",
    "\n",
    "ap2.loc[ap2.hitc==0, 'relation']='>'\n",
    "ap2.loc[ap2.hitc==0, 'pIC50']=-np.log10(39.8/1000000)-1"
   ]
  },
  {
   "cell_type": "code",
   "execution_count": 579,
   "id": "2c501765-05c5-49c9-9e5f-a61ddfedb783",
   "metadata": {},
   "outputs": [],
   "source": [
    "ap1.loc[ap1.pIC50.isna(), 'relation']='>' # fill NA pIC50's with censored data\n",
    "ap1.loc[ap1.pIC50.isna(), 'pIC50']=-np.log10(39.8/1000000)-1\n",
    "\n",
    "ap2.loc[ap2.pIC50.isna(), 'relation']='>'\n",
    "ap2.loc[ap2.pIC50.isna(), 'pIC50']=-np.log10(39.8/1000000)-1"
   ]
  },
  {
   "cell_type": "code",
   "execution_count": 580,
   "id": "696b14fa-c59c-46ca-be0d-2c65a4c4e5d3",
   "metadata": {},
   "outputs": [
    {
     "data": {
      "image/png": "[encoded data removed]",
      "text/plain": [
       "<Figure size 432x288 with 1 Axes>"
      ]
     },
     "metadata": {
      "needs_background": "light"
     },
     "output_type": "display_data"
    }
   ],
   "source": [
    "ap1=ap1.sort_values('pIC50')\n",
    "ap1=ap1.reset_index(drop=True).reset_index()\n",
    "ap1.plot(x='index', y='pIC50', kind='scatter')\n",
    "ap1=ap1.drop(columns='index')"
   ]
  },
  {
   "cell_type": "code",
   "execution_count": 581,
   "id": "4782e7e5-8b02-4fea-95f0-c0a1062fde58",
   "metadata": {},
   "outputs": [
    {
     "data": {
      "image/png": "[encoded data removed]",
      "text/plain": [
       "<Figure size 432x288 with 1 Axes>"
      ]
     },
     "metadata": {
      "needs_background": "light"
     },
     "output_type": "display_data"
    }
   ],
   "source": [
    "ap2=ap2.sort_values('pIC50')\n",
    "ap2=ap2.reset_index(drop=True).reset_index()\n",
    "ap2.plot(x='index', y='pIC50', kind='scatter')\n",
    "ap2=ap2.drop(columns='index')"
   ]
  },
  {
   "cell_type": "code",
   "execution_count": 594,
   "id": "f77e0d13-3148-47fb-9d70-0aed6629cefb",
   "metadata": {},
   "outputs": [
    {
     "data": {
      "text/html": [
       "<div>\n",
       "<style scoped>\n",
       "    .dataframe tbody tr th:only-of-type {\n",
       "        vertical-align: middle;\n",
       "    }\n",
       "\n",
       "    .dataframe tbody tr th {\n",
       "        vertical-align: top;\n",
       "    }\n",
       "\n",
       "    .dataframe thead th {\n",
       "        text-align: right;\n",
       "    }\n",
       "</style>\n",
       "<table border=\"1\" class=\"dataframe\">\n",
       "  <thead>\n",
       "    <tr style=\"text-align: right;\">\n",
       "      <th></th>\n",
       "      <th>Compound</th>\n",
       "      <th>Alias</th>\n",
       "      <th>SMILES</th>\n",
       "      <th>Lot_#</th>\n",
       "      <th>Lot_Alias</th>\n",
       "      <th>Salt</th>\n",
       "      <th>Solvate</th>\n",
       "      <th>Vendor</th>\n",
       "      <th>PAINS</th>\n",
       "      <th>Bruns_Watson_Demerit_Score</th>\n",
       "      <th>bottom</th>\n",
       "      <th>bottomerror</th>\n",
       "      <th>fitmethod</th>\n",
       "      <th>notes</th>\n",
       "      <th>hill</th>\n",
       "      <th>hillerror</th>\n",
       "      <th>IC50</th>\n",
       "      <th>pIC50</th>\n",
       "      <th>R^2</th>\n",
       "      <th>top</th>\n",
       "      <th>toperror</th>\n",
       "      <th>Target</th>\n",
       "      <th>max_meas</th>\n",
       "      <th>delta</th>\n",
       "      <th>hitc</th>\n",
       "      <th>RMSE</th>\n",
       "      <th>relation</th>\n",
       "    </tr>\n",
       "  </thead>\n",
       "  <tbody>\n",
       "    <tr>\n",
       "      <th>0</th>\n",
       "      <td>1084267</td>\n",
       "      <td>NaN</td>\n",
       "      <td>O=C(CNS(=O)(=O)c1ccccc1)N2CCCC(C2)c3nnc4ccccn34</td>\n",
       "      <td>1</td>\n",
       "      <td>P3459675</td>\n",
       "      <td>None</td>\n",
       "      <td>None</td>\n",
       "      <td>Otava</td>\n",
       "      <td>0</td>\n",
       "      <td>8</td>\n",
       "      <td>41142.473059</td>\n",
       "      <td>NaN</td>\n",
       "      <td>Logistic_FourParameters</td>\n",
       "      <td>Fit succeeded with SciPy</td>\n",
       "      <td>-1.291671</td>\n",
       "      <td>NaN</td>\n",
       "      <td>5360.432579</td>\n",
       "      <td>3.400117</td>\n",
       "      <td>0.766496</td>\n",
       "      <td>15.83956</td>\n",
       "      <td>NaN</td>\n",
       "      <td>PARP2</td>\n",
       "      <td>88.868496</td>\n",
       "      <td>95.057451</td>\n",
       "      <td>1</td>\n",
       "      <td>15.493765</td>\n",
       "      <td>&gt;</td>\n",
       "    </tr>\n",
       "  </tbody>\n",
       "</table>\n",
       "</div>"
      ],
      "text/plain": [
       "   Compound  Alias                                           SMILES  Lot_#  \\\n",
       "0   1084267    NaN  O=C(CNS(=O)(=O)c1ccccc1)N2CCCC(C2)c3nnc4ccccn34      1   \n",
       "\n",
       "  Lot_Alias  Salt Solvate Vendor  PAINS Bruns_Watson_Demerit_Score  \\\n",
       "0  P3459675  None    None  Otava      0                          8   \n",
       "\n",
       "         bottom  bottomerror                fitmethod  \\\n",
       "0  41142.473059          NaN  Logistic_FourParameters   \n",
       "\n",
       "                      notes      hill  hillerror         IC50     pIC50  \\\n",
       "0  Fit succeeded with SciPy -1.291671        NaN  5360.432579  3.400117   \n",
       "\n",
       "        R^2       top  toperror Target   max_meas      delta  hitc       RMSE  \\\n",
       "0  0.766496  15.83956       NaN  PARP2  88.868496  95.057451     1  15.493765   \n",
       "\n",
       "  relation  \n",
       "0        >  "
      ]
     },
     "execution_count": 594,
     "metadata": {},
     "output_type": "execute_result"
    }
   ],
   "source": [
    "ap2[ap2.IC50==ap2.IC50.max()]"
   ]
  },
  {
   "cell_type": "code",
   "execution_count": 584,
   "id": "f85ad21b-51a4-41c5-87fe-10b26aaaffd1",
   "metadata": {},
   "outputs": [
    {
     "data": {
      "image/png": "[encoded data removed]",
      "text/plain": [
       "<Figure size 1728x720 with 4 Axes>"
      ]
     },
     "metadata": {},
     "output_type": "display_data"
    }
   ],
   "source": [
    "plot_parp_curves(1084267, curve=pd.concat([ap1,ap2]).reset_index(drop=True), raw=pr)"
   ]
  },
  {
   "cell_type": "code",
   "execution_count": 585,
   "id": "03e3974a-866c-4a3f-afc9-4f6d167afeff",
   "metadata": {},
   "outputs": [],
   "source": [
    "ap2.loc[ap2.Compound==1084267, 'relation']='>' # censored data to replace extreme value\n",
    "ap2.loc[ap2.Compound==1084267, 'pIC50']=-np.log10(39.8/1000000)-1"
   ]
  },
  {
   "cell_type": "code",
   "execution_count": 590,
   "id": "39929bc1-8fa5-445c-ace2-b0b6902a1ea6",
   "metadata": {},
   "outputs": [
    {
     "data": {
      "text/html": [
       "<div>\n",
       "<style scoped>\n",
       "    .dataframe tbody tr th:only-of-type {\n",
       "        vertical-align: middle;\n",
       "    }\n",
       "\n",
       "    .dataframe tbody tr th {\n",
       "        vertical-align: top;\n",
       "    }\n",
       "\n",
       "    .dataframe thead th {\n",
       "        text-align: right;\n",
       "    }\n",
       "</style>\n",
       "<table border=\"1\" class=\"dataframe\">\n",
       "  <thead>\n",
       "    <tr style=\"text-align: right;\">\n",
       "      <th></th>\n",
       "      <th>Compound</th>\n",
       "      <th>Alias</th>\n",
       "      <th>SMILES</th>\n",
       "      <th>Lot_#</th>\n",
       "      <th>Lot_Alias</th>\n",
       "      <th>Salt</th>\n",
       "      <th>Solvate</th>\n",
       "      <th>Vendor</th>\n",
       "      <th>PAINS</th>\n",
       "      <th>Bruns_Watson_Demerit_Score</th>\n",
       "      <th>bottom</th>\n",
       "      <th>bottomerror</th>\n",
       "      <th>fitmethod</th>\n",
       "      <th>notes</th>\n",
       "      <th>hill</th>\n",
       "      <th>hillerror</th>\n",
       "      <th>IC50</th>\n",
       "      <th>pIC50</th>\n",
       "      <th>R^2</th>\n",
       "      <th>top</th>\n",
       "      <th>toperror</th>\n",
       "      <th>Target</th>\n",
       "      <th>max_meas</th>\n",
       "      <th>delta</th>\n",
       "      <th>hitc</th>\n",
       "      <th>RMSE</th>\n",
       "      <th>relation</th>\n",
       "    </tr>\n",
       "  </thead>\n",
       "  <tbody>\n",
       "    <tr>\n",
       "      <th>276</th>\n",
       "      <td>1084001</td>\n",
       "      <td>NaN</td>\n",
       "      <td>Cc1sc(N)nc1c2ccc3OCC(=O)Nc3c2</td>\n",
       "      <td>1</td>\n",
       "      <td>P7020390496</td>\n",
       "      <td>None</td>\n",
       "      <td>None</td>\n",
       "      <td>Otava</td>\n",
       "      <td>0</td>\n",
       "      <td>NaN</td>\n",
       "      <td>0.550129</td>\n",
       "      <td>NaN</td>\n",
       "      <td>Logistic_FourParameters</td>\n",
       "      <td>Fit succeeded with SciPy</td>\n",
       "      <td>-28.667084</td>\n",
       "      <td>NaN</td>\n",
       "      <td>2.072248e+06</td>\n",
       "      <td>3.400117</td>\n",
       "      <td>0.0</td>\n",
       "      <td>9.152395</td>\n",
       "      <td>NaN</td>\n",
       "      <td>PARP1</td>\n",
       "      <td>26.25289</td>\n",
       "      <td>30.455965</td>\n",
       "      <td>0</td>\n",
       "      <td>11.148287</td>\n",
       "      <td>&gt;</td>\n",
       "    </tr>\n",
       "  </tbody>\n",
       "</table>\n",
       "</div>"
      ],
      "text/plain": [
       "     Compound  Alias                         SMILES  Lot_#    Lot_Alias  Salt  \\\n",
       "276   1084001    NaN  Cc1sc(N)nc1c2ccc3OCC(=O)Nc3c2      1  P7020390496  None   \n",
       "\n",
       "    Solvate Vendor  PAINS Bruns_Watson_Demerit_Score    bottom  bottomerror  \\\n",
       "276    None  Otava      0                        NaN  0.550129          NaN   \n",
       "\n",
       "                   fitmethod                     notes       hill  hillerror  \\\n",
       "276  Logistic_FourParameters  Fit succeeded with SciPy -28.667084        NaN   \n",
       "\n",
       "             IC50     pIC50  R^2       top  toperror Target  max_meas  \\\n",
       "276  2.072248e+06  3.400117  0.0  9.152395       NaN  PARP1  26.25289   \n",
       "\n",
       "         delta  hitc       RMSE relation  \n",
       "276  30.455965     0  11.148287        >  "
      ]
     },
     "execution_count": 590,
     "metadata": {},
     "output_type": "execute_result"
    }
   ],
   "source": [
    "ap1[ap1.IC50==ap1.IC50.max()]"
   ]
  },
  {
   "cell_type": "code",
   "execution_count": 586,
   "id": "6ebd3560-243d-439a-b5cd-acb6367c27a5",
   "metadata": {},
   "outputs": [
    {
     "data": {
      "image/png": "[encoded data removed]",
      "text/plain": [
       "<Figure size 1728x720 with 4 Axes>"
      ]
     },
     "metadata": {},
     "output_type": "display_data"
    }
   ],
   "source": [
    "plot_parp_curves(1084001, curve=pd.concat([ap1,ap2]).reset_index(drop=True), raw=pr)"
   ]
  },
  {
   "cell_type": "code",
   "execution_count": 591,
   "id": "ee9d53b0-f336-4dd0-aa85-f3c624a6d26a",
   "metadata": {},
   "outputs": [
    {
     "data": {
      "text/html": [
       "<div>\n",
       "<style scoped>\n",
       "    .dataframe tbody tr th:only-of-type {\n",
       "        vertical-align: middle;\n",
       "    }\n",
       "\n",
       "    .dataframe tbody tr th {\n",
       "        vertical-align: top;\n",
       "    }\n",
       "\n",
       "    .dataframe thead th {\n",
       "        text-align: right;\n",
       "    }\n",
       "</style>\n",
       "<table border=\"1\" class=\"dataframe\">\n",
       "  <thead>\n",
       "    <tr style=\"text-align: right;\">\n",
       "      <th></th>\n",
       "      <th>Compound</th>\n",
       "      <th>Alias</th>\n",
       "      <th>SMILES</th>\n",
       "      <th>Lot_#</th>\n",
       "      <th>Lot_Alias</th>\n",
       "      <th>Salt</th>\n",
       "      <th>Solvate</th>\n",
       "      <th>Vendor</th>\n",
       "      <th>PAINS</th>\n",
       "      <th>Bruns_Watson_Demerit_Score</th>\n",
       "      <th>bottom</th>\n",
       "      <th>bottomerror</th>\n",
       "      <th>fitmethod</th>\n",
       "      <th>notes</th>\n",
       "      <th>hill</th>\n",
       "      <th>hillerror</th>\n",
       "      <th>IC50</th>\n",
       "      <th>pIC50</th>\n",
       "      <th>R^2</th>\n",
       "      <th>top</th>\n",
       "      <th>toperror</th>\n",
       "      <th>Target</th>\n",
       "      <th>max_meas</th>\n",
       "      <th>delta</th>\n",
       "      <th>hitc</th>\n",
       "      <th>RMSE</th>\n",
       "      <th>relation</th>\n",
       "    </tr>\n",
       "  </thead>\n",
       "  <tbody>\n",
       "    <tr>\n",
       "      <th>465</th>\n",
       "      <td>1084345</td>\n",
       "      <td>NaN</td>\n",
       "      <td>CCc1cc2ncc(CN3CCN(CC3)c4ccc(nc4)C(=O)NC)cc2nc1O</td>\n",
       "      <td>2</td>\n",
       "      <td>AZD5305</td>\n",
       "      <td>None</td>\n",
       "      <td>None</td>\n",
       "      <td>NaN</td>\n",
       "      <td>0</td>\n",
       "      <td>16</td>\n",
       "      <td>-20.0</td>\n",
       "      <td>NaN</td>\n",
       "      <td>Logistic_FourParameters</td>\n",
       "      <td>Fit succeeded; bottom fixed at -20</td>\n",
       "      <td>0.7797</td>\n",
       "      <td>0.07508</td>\n",
       "      <td>0.001078</td>\n",
       "      <td>8.967</td>\n",
       "      <td>0.9984</td>\n",
       "      <td>101.3</td>\n",
       "      <td>1.309</td>\n",
       "      <td>PARP1</td>\n",
       "      <td>100.351806</td>\n",
       "      <td>62.006811</td>\n",
       "      <td>1</td>\n",
       "      <td>NaN</td>\n",
       "      <td>NaN</td>\n",
       "    </tr>\n",
       "    <tr>\n",
       "      <th>466</th>\n",
       "      <td>1084345</td>\n",
       "      <td>NaN</td>\n",
       "      <td>CCc1cc2ncc(CN3CCN(CC3)c4ccc(nc4)C(=O)NC)cc2nc1O</td>\n",
       "      <td>2</td>\n",
       "      <td>AZD5305</td>\n",
       "      <td>None</td>\n",
       "      <td>None</td>\n",
       "      <td>NaN</td>\n",
       "      <td>0</td>\n",
       "      <td>16</td>\n",
       "      <td>-20.0</td>\n",
       "      <td>NaN</td>\n",
       "      <td>Logistic_FourParameters</td>\n",
       "      <td>Fit succeeded; bottom fixed at -20</td>\n",
       "      <td>0.7797</td>\n",
       "      <td>0.07508</td>\n",
       "      <td>0.001078</td>\n",
       "      <td>8.967</td>\n",
       "      <td>0.9984</td>\n",
       "      <td>101.3</td>\n",
       "      <td>1.309</td>\n",
       "      <td>PARP1</td>\n",
       "      <td>99.950424</td>\n",
       "      <td>53.244240</td>\n",
       "      <td>1</td>\n",
       "      <td>NaN</td>\n",
       "      <td>NaN</td>\n",
       "    </tr>\n",
       "  </tbody>\n",
       "</table>\n",
       "</div>"
      ],
      "text/plain": [
       "     Compound  Alias                                           SMILES  Lot_#  \\\n",
       "465   1084345    NaN  CCc1cc2ncc(CN3CCN(CC3)c4ccc(nc4)C(=O)NC)cc2nc1O      2   \n",
       "466   1084345    NaN  CCc1cc2ncc(CN3CCN(CC3)c4ccc(nc4)C(=O)NC)cc2nc1O      2   \n",
       "\n",
       "    Lot_Alias  Salt Solvate Vendor  PAINS Bruns_Watson_Demerit_Score  bottom  \\\n",
       "465   AZD5305  None    None    NaN      0                         16   -20.0   \n",
       "466   AZD5305  None    None    NaN      0                         16   -20.0   \n",
       "\n",
       "     bottomerror                fitmethod                               notes  \\\n",
       "465          NaN  Logistic_FourParameters  Fit succeeded; bottom fixed at -20   \n",
       "466          NaN  Logistic_FourParameters  Fit succeeded; bottom fixed at -20   \n",
       "\n",
       "       hill  hillerror      IC50  pIC50     R^2    top  toperror Target  \\\n",
       "465  0.7797    0.07508  0.001078  8.967  0.9984  101.3     1.309  PARP1   \n",
       "466  0.7797    0.07508  0.001078  8.967  0.9984  101.3     1.309  PARP1   \n",
       "\n",
       "       max_meas      delta  hitc  RMSE relation  \n",
       "465  100.351806  62.006811     1   NaN      NaN  \n",
       "466   99.950424  53.244240     1   NaN      NaN  "
      ]
     },
     "execution_count": 591,
     "metadata": {},
     "output_type": "execute_result"
    }
   ],
   "source": [
    "ap1[ap1.IC50==ap1.IC50.min()]"
   ]
  },
  {
   "cell_type": "code",
   "execution_count": 592,
   "id": "ff70b258-5ba2-424c-a5a2-e683f4d08f7a",
   "metadata": {},
   "outputs": [
    {
     "data": {
      "text/html": [
       "<div>\n",
       "<style scoped>\n",
       "    .dataframe tbody tr th:only-of-type {\n",
       "        vertical-align: middle;\n",
       "    }\n",
       "\n",
       "    .dataframe tbody tr th {\n",
       "        vertical-align: top;\n",
       "    }\n",
       "\n",
       "    .dataframe thead th {\n",
       "        text-align: right;\n",
       "    }\n",
       "</style>\n",
       "<table border=\"1\" class=\"dataframe\">\n",
       "  <thead>\n",
       "    <tr style=\"text-align: right;\">\n",
       "      <th></th>\n",
       "      <th>Compound</th>\n",
       "      <th>Alias</th>\n",
       "      <th>SMILES</th>\n",
       "      <th>Lot_#</th>\n",
       "      <th>Lot_Alias</th>\n",
       "      <th>Salt</th>\n",
       "      <th>Solvate</th>\n",
       "      <th>Vendor</th>\n",
       "      <th>PAINS</th>\n",
       "      <th>Bruns_Watson_Demerit_Score</th>\n",
       "      <th>bottom</th>\n",
       "      <th>bottomerror</th>\n",
       "      <th>fitmethod</th>\n",
       "      <th>notes</th>\n",
       "      <th>hill</th>\n",
       "      <th>hillerror</th>\n",
       "      <th>IC50</th>\n",
       "      <th>pIC50</th>\n",
       "      <th>R^2</th>\n",
       "      <th>top</th>\n",
       "      <th>toperror</th>\n",
       "      <th>Target</th>\n",
       "      <th>max_meas</th>\n",
       "      <th>delta</th>\n",
       "      <th>hitc</th>\n",
       "      <th>RMSE</th>\n",
       "      <th>relation</th>\n",
       "    </tr>\n",
       "  </thead>\n",
       "  <tbody>\n",
       "    <tr>\n",
       "      <th>284</th>\n",
       "      <td>193959</td>\n",
       "      <td>NaN</td>\n",
       "      <td>Cn1ncc2c(NCCc3c[nH]c4ccccc34)ncnc12</td>\n",
       "      <td>2</td>\n",
       "      <td>P1737378</td>\n",
       "      <td>None</td>\n",
       "      <td>None</td>\n",
       "      <td>Otava</td>\n",
       "      <td>0</td>\n",
       "      <td>NaN</td>\n",
       "      <td>139925.936314</td>\n",
       "      <td>NaN</td>\n",
       "      <td>Logistic_FourParameters</td>\n",
       "      <td>Fit succeeded with SciPy</td>\n",
       "      <td>0.440249</td>\n",
       "      <td>NaN</td>\n",
       "      <td>5.757799e-09</td>\n",
       "      <td>3.400117</td>\n",
       "      <td>0.505782</td>\n",
       "      <td>-86.114654</td>\n",
       "      <td>NaN</td>\n",
       "      <td>PARP2</td>\n",
       "      <td>-6.660348</td>\n",
       "      <td>94.379648</td>\n",
       "      <td>0</td>\n",
       "      <td>24.398013</td>\n",
       "      <td>&gt;</td>\n",
       "    </tr>\n",
       "  </tbody>\n",
       "</table>\n",
       "</div>"
      ],
      "text/plain": [
       "     Compound  Alias                               SMILES  Lot_# Lot_Alias  \\\n",
       "284    193959    NaN  Cn1ncc2c(NCCc3c[nH]c4ccccc34)ncnc12      2  P1737378   \n",
       "\n",
       "     Salt Solvate Vendor  PAINS Bruns_Watson_Demerit_Score         bottom  \\\n",
       "284  None    None  Otava      0                        NaN  139925.936314   \n",
       "\n",
       "     bottomerror                fitmethod                     notes      hill  \\\n",
       "284          NaN  Logistic_FourParameters  Fit succeeded with SciPy  0.440249   \n",
       "\n",
       "     hillerror          IC50     pIC50       R^2        top  toperror Target  \\\n",
       "284        NaN  5.757799e-09  3.400117  0.505782 -86.114654       NaN  PARP2   \n",
       "\n",
       "     max_meas      delta  hitc       RMSE relation  \n",
       "284 -6.660348  94.379648     0  24.398013        >  "
      ]
     },
     "execution_count": 592,
     "metadata": {},
     "output_type": "execute_result"
    }
   ],
   "source": [
    "ap2[ap2.IC50==ap2.IC50.min()]"
   ]
  },
  {
   "cell_type": "code",
   "execution_count": 595,
   "id": "f8a36c19-74c5-4d8b-9a05-aab0b781c2ae",
   "metadata": {},
   "outputs": [
    {
     "data": {
      "image/png": "[encoded data removed]",
      "text/plain": [
       "<Figure size 1728x720 with 4 Axes>"
      ]
     },
     "metadata": {},
     "output_type": "display_data"
    }
   ],
   "source": [
    "plot_parp_curves(193959, curve=pd.concat([ap1,ap2]).reset_index(drop=True), raw=pr)"
   ]
  },
  {
   "cell_type": "code",
   "execution_count": 596,
   "id": "31c8cfba-97a2-4245-92ec-b52d777d87ed",
   "metadata": {},
   "outputs": [
    {
     "data": {
      "text/html": [
       "<div>\n",
       "<style scoped>\n",
       "    .dataframe tbody tr th:only-of-type {\n",
       "        vertical-align: middle;\n",
       "    }\n",
       "\n",
       "    .dataframe tbody tr th {\n",
       "        vertical-align: top;\n",
       "    }\n",
       "\n",
       "    .dataframe thead th {\n",
       "        text-align: right;\n",
       "    }\n",
       "</style>\n",
       "<table border=\"1\" class=\"dataframe\">\n",
       "  <thead>\n",
       "    <tr style=\"text-align: right;\">\n",
       "      <th></th>\n",
       "      <th>Compound</th>\n",
       "      <th>Alias</th>\n",
       "      <th>SMILES</th>\n",
       "      <th>Lot_#</th>\n",
       "      <th>Lot_Alias</th>\n",
       "      <th>Salt</th>\n",
       "      <th>Solvate</th>\n",
       "      <th>Vendor</th>\n",
       "      <th>PAINS</th>\n",
       "      <th>Bruns_Watson_Demerit_Score</th>\n",
       "      <th>bottom</th>\n",
       "      <th>bottomerror</th>\n",
       "      <th>fitmethod</th>\n",
       "      <th>notes</th>\n",
       "      <th>hill</th>\n",
       "      <th>hillerror</th>\n",
       "      <th>IC50</th>\n",
       "      <th>pIC50</th>\n",
       "      <th>R^2</th>\n",
       "      <th>top</th>\n",
       "      <th>toperror</th>\n",
       "      <th>Target</th>\n",
       "      <th>max_meas</th>\n",
       "      <th>delta</th>\n",
       "      <th>hitc</th>\n",
       "      <th>RMSE</th>\n",
       "      <th>relation</th>\n",
       "    </tr>\n",
       "  </thead>\n",
       "  <tbody>\n",
       "  </tbody>\n",
       "</table>\n",
       "</div>"
      ],
      "text/plain": [
       "Empty DataFrame\n",
       "Columns: [Compound, Alias, SMILES, Lot_#, Lot_Alias, Salt, Solvate, Vendor, PAINS, Bruns_Watson_Demerit_Score, bottom, bottomerror, fitmethod, notes, hill, hillerror, IC50, pIC50, R^2, top, toperror, Target, max_meas, delta, hitc, RMSE, relation]\n",
       "Index: []"
      ]
     },
     "execution_count": 596,
     "metadata": {},
     "output_type": "execute_result"
    }
   ],
   "source": [
    "ap1.loc[ap1.pIC50.isna()]"
   ]
  },
  {
   "cell_type": "code",
   "execution_count": 597,
   "id": "a379e60c-2f82-4991-807f-3b19674a2ced",
   "metadata": {},
   "outputs": [
    {
     "data": {
      "text/html": [
       "<div>\n",
       "<style scoped>\n",
       "    .dataframe tbody tr th:only-of-type {\n",
       "        vertical-align: middle;\n",
       "    }\n",
       "\n",
       "    .dataframe tbody tr th {\n",
       "        vertical-align: top;\n",
       "    }\n",
       "\n",
       "    .dataframe thead th {\n",
       "        text-align: right;\n",
       "    }\n",
       "</style>\n",
       "<table border=\"1\" class=\"dataframe\">\n",
       "  <thead>\n",
       "    <tr style=\"text-align: right;\">\n",
       "      <th></th>\n",
       "      <th>Compound</th>\n",
       "      <th>Alias</th>\n",
       "      <th>SMILES</th>\n",
       "      <th>Lot_#</th>\n",
       "      <th>Lot_Alias</th>\n",
       "      <th>Salt</th>\n",
       "      <th>Solvate</th>\n",
       "      <th>Vendor</th>\n",
       "      <th>PAINS</th>\n",
       "      <th>Bruns_Watson_Demerit_Score</th>\n",
       "      <th>bottom</th>\n",
       "      <th>bottomerror</th>\n",
       "      <th>fitmethod</th>\n",
       "      <th>notes</th>\n",
       "      <th>hill</th>\n",
       "      <th>hillerror</th>\n",
       "      <th>IC50</th>\n",
       "      <th>pIC50</th>\n",
       "      <th>R^2</th>\n",
       "      <th>top</th>\n",
       "      <th>toperror</th>\n",
       "      <th>Target</th>\n",
       "      <th>max_meas</th>\n",
       "      <th>delta</th>\n",
       "      <th>hitc</th>\n",
       "      <th>RMSE</th>\n",
       "      <th>relation</th>\n",
       "    </tr>\n",
       "  </thead>\n",
       "  <tbody>\n",
       "  </tbody>\n",
       "</table>\n",
       "</div>"
      ],
      "text/plain": [
       "Empty DataFrame\n",
       "Columns: [Compound, Alias, SMILES, Lot_#, Lot_Alias, Salt, Solvate, Vendor, PAINS, Bruns_Watson_Demerit_Score, bottom, bottomerror, fitmethod, notes, hill, hillerror, IC50, pIC50, R^2, top, toperror, Target, max_meas, delta, hitc, RMSE, relation]\n",
       "Index: []"
      ]
     },
     "execution_count": 597,
     "metadata": {},
     "output_type": "execute_result"
    }
   ],
   "source": [
    "ap2.loc[ap2.pIC50.isna()]"
   ]
  },
  {
   "cell_type": "code",
   "execution_count": 598,
   "id": "1141569e-0ecf-4e8a-8248-fba8d4e20756",
   "metadata": {},
   "outputs": [
    {
     "data": {
      "text/html": [
       "<div>\n",
       "<style scoped>\n",
       "    .dataframe tbody tr th:only-of-type {\n",
       "        vertical-align: middle;\n",
       "    }\n",
       "\n",
       "    .dataframe tbody tr th {\n",
       "        vertical-align: top;\n",
       "    }\n",
       "\n",
       "    .dataframe thead th {\n",
       "        text-align: right;\n",
       "    }\n",
       "</style>\n",
       "<table border=\"1\" class=\"dataframe\">\n",
       "  <thead>\n",
       "    <tr style=\"text-align: right;\">\n",
       "      <th></th>\n",
       "      <th>Compound</th>\n",
       "      <th>Alias</th>\n",
       "      <th>SMILES</th>\n",
       "      <th>Lot_#</th>\n",
       "      <th>Lot_Alias</th>\n",
       "      <th>Salt</th>\n",
       "      <th>Solvate</th>\n",
       "      <th>Vendor</th>\n",
       "      <th>PAINS</th>\n",
       "      <th>Bruns_Watson_Demerit_Score</th>\n",
       "      <th>bottom</th>\n",
       "      <th>bottomerror</th>\n",
       "      <th>fitmethod</th>\n",
       "      <th>notes</th>\n",
       "      <th>hill</th>\n",
       "      <th>hillerror</th>\n",
       "      <th>IC50</th>\n",
       "      <th>pIC50</th>\n",
       "      <th>R^2</th>\n",
       "      <th>top</th>\n",
       "      <th>toperror</th>\n",
       "      <th>Target</th>\n",
       "      <th>max_meas</th>\n",
       "      <th>delta</th>\n",
       "      <th>hitc</th>\n",
       "      <th>RMSE</th>\n",
       "      <th>relation</th>\n",
       "    </tr>\n",
       "  </thead>\n",
       "  <tbody>\n",
       "    <tr>\n",
       "      <th>455</th>\n",
       "      <td>1084272</td>\n",
       "      <td>NaN</td>\n",
       "      <td>Oc1nnc(CC(=O)Nc2ccc3OCCOc3c2)c4ccccc14</td>\n",
       "      <td>1</td>\n",
       "      <td>P6665730</td>\n",
       "      <td>None</td>\n",
       "      <td>None</td>\n",
       "      <td>Otava</td>\n",
       "      <td>0</td>\n",
       "      <td>20</td>\n",
       "      <td>33.990</td>\n",
       "      <td>0.4617</td>\n",
       "      <td>Logistic_FourParameters</td>\n",
       "      <td>Fit succeeded</td>\n",
       "      <td>3.0170</td>\n",
       "      <td>0.183300</td>\n",
       "      <td>0.816000</td>\n",
       "      <td>6.088</td>\n",
       "      <td>1.0000</td>\n",
       "      <td>98.80</td>\n",
       "      <td>0.3073</td>\n",
       "      <td>PARP1</td>\n",
       "      <td>99.100297</td>\n",
       "      <td>64.670916</td>\n",
       "      <td>1</td>\n",
       "      <td>NaN</td>\n",
       "      <td>NaN</td>\n",
       "    </tr>\n",
       "    <tr>\n",
       "      <th>457</th>\n",
       "      <td>1084272</td>\n",
       "      <td>NaN</td>\n",
       "      <td>Oc1nnc(CC(=O)Nc2ccc3OCCOc3c2)c4ccccc14</td>\n",
       "      <td>1</td>\n",
       "      <td>P6665730</td>\n",
       "      <td>None</td>\n",
       "      <td>None</td>\n",
       "      <td>Otava</td>\n",
       "      <td>0</td>\n",
       "      <td>20</td>\n",
       "      <td>-1.848</td>\n",
       "      <td>0.6629</td>\n",
       "      <td>Logistic_FourParameters</td>\n",
       "      <td>Fit succeeded</td>\n",
       "      <td>1.7500</td>\n",
       "      <td>0.036040</td>\n",
       "      <td>0.602500</td>\n",
       "      <td>6.220</td>\n",
       "      <td>1.0000</td>\n",
       "      <td>100.30</td>\n",
       "      <td>0.2048</td>\n",
       "      <td>PARP1</td>\n",
       "      <td>100.036817</td>\n",
       "      <td>93.113941</td>\n",
       "      <td>1</td>\n",
       "      <td>NaN</td>\n",
       "      <td>NaN</td>\n",
       "    </tr>\n",
       "    <tr>\n",
       "      <th>449</th>\n",
       "      <td>1084283</td>\n",
       "      <td>NaN</td>\n",
       "      <td>Oc1nnc(CC(=O)Nc2ccc3[nH]ccc3c2)c4ccccc14</td>\n",
       "      <td>1</td>\n",
       "      <td>P6665752</td>\n",
       "      <td>None</td>\n",
       "      <td>None</td>\n",
       "      <td>Otava</td>\n",
       "      <td>0</td>\n",
       "      <td>20</td>\n",
       "      <td>2.382</td>\n",
       "      <td>9.0720</td>\n",
       "      <td>Logistic_FourParameters</td>\n",
       "      <td>Fit succeeded</td>\n",
       "      <td>14.6500</td>\n",
       "      <td>0.000116</td>\n",
       "      <td>2.220000</td>\n",
       "      <td>5.654</td>\n",
       "      <td>0.9844</td>\n",
       "      <td>99.93</td>\n",
       "      <td>9.0720</td>\n",
       "      <td>PARP1</td>\n",
       "      <td>100.972033</td>\n",
       "      <td>107.602695</td>\n",
       "      <td>1</td>\n",
       "      <td>NaN</td>\n",
       "      <td>NaN</td>\n",
       "    </tr>\n",
       "    <tr>\n",
       "      <th>450</th>\n",
       "      <td>1084283</td>\n",
       "      <td>NaN</td>\n",
       "      <td>Oc1nnc(CC(=O)Nc2ccc3[nH]ccc3c2)c4ccccc14</td>\n",
       "      <td>1</td>\n",
       "      <td>P6665752</td>\n",
       "      <td>None</td>\n",
       "      <td>None</td>\n",
       "      <td>Otava</td>\n",
       "      <td>0</td>\n",
       "      <td>20</td>\n",
       "      <td>2.320</td>\n",
       "      <td>5.8360</td>\n",
       "      <td>Logistic_FourParameters</td>\n",
       "      <td>Fit succeeded</td>\n",
       "      <td>13.1500</td>\n",
       "      <td>0.000092</td>\n",
       "      <td>2.214000</td>\n",
       "      <td>5.655</td>\n",
       "      <td>0.9932</td>\n",
       "      <td>98.43</td>\n",
       "      <td>5.8360</td>\n",
       "      <td>PARP1</td>\n",
       "      <td>100.234017</td>\n",
       "      <td>103.464788</td>\n",
       "      <td>1</td>\n",
       "      <td>NaN</td>\n",
       "      <td>NaN</td>\n",
       "    </tr>\n",
       "    <tr>\n",
       "      <th>441</th>\n",
       "      <td>1084284</td>\n",
       "      <td>NaN</td>\n",
       "      <td>COc1cccc2c1ccn2CCNC(=O)Cc3nnc(O)c4ccccc34</td>\n",
       "      <td>1</td>\n",
       "      <td>P7130594</td>\n",
       "      <td>None</td>\n",
       "      <td>None</td>\n",
       "      <td>Otava</td>\n",
       "      <td>0</td>\n",
       "      <td>28</td>\n",
       "      <td>3.037</td>\n",
       "      <td>15.0100</td>\n",
       "      <td>Logistic_FourParameters</td>\n",
       "      <td>Fit succeeded</td>\n",
       "      <td>1.6210</td>\n",
       "      <td>1.405000</td>\n",
       "      <td>5.854000</td>\n",
       "      <td>5.233</td>\n",
       "      <td>0.9570</td>\n",
       "      <td>100.10</td>\n",
       "      <td>26.9200</td>\n",
       "      <td>PARP1</td>\n",
       "      <td>96.635457</td>\n",
       "      <td>104.605829</td>\n",
       "      <td>1</td>\n",
       "      <td>NaN</td>\n",
       "      <td>NaN</td>\n",
       "    </tr>\n",
       "    <tr>\n",
       "      <th>445</th>\n",
       "      <td>1084284</td>\n",
       "      <td>NaN</td>\n",
       "      <td>COc1cccc2c1ccn2CCNC(=O)Cc3nnc(O)c4ccccc34</td>\n",
       "      <td>1</td>\n",
       "      <td>P7130594</td>\n",
       "      <td>None</td>\n",
       "      <td>None</td>\n",
       "      <td>Otava</td>\n",
       "      <td>0</td>\n",
       "      <td>28</td>\n",
       "      <td>-2.457</td>\n",
       "      <td>6.4440</td>\n",
       "      <td>Logistic_FourParameters</td>\n",
       "      <td>Fit succeeded</td>\n",
       "      <td>1.4040</td>\n",
       "      <td>0.448000</td>\n",
       "      <td>3.641000</td>\n",
       "      <td>5.439</td>\n",
       "      <td>0.9954</td>\n",
       "      <td>100.50</td>\n",
       "      <td>9.1500</td>\n",
       "      <td>PARP1</td>\n",
       "      <td>98.011706</td>\n",
       "      <td>96.730792</td>\n",
       "      <td>1</td>\n",
       "      <td>NaN</td>\n",
       "      <td>NaN</td>\n",
       "    </tr>\n",
       "    <tr>\n",
       "      <th>451</th>\n",
       "      <td>1084285</td>\n",
       "      <td>NaN</td>\n",
       "      <td>Oc1nnc(CC(=O)Nc2cc(F)c(F)c(F)c2)c3ccccc13</td>\n",
       "      <td>1</td>\n",
       "      <td>P6665756</td>\n",
       "      <td>None</td>\n",
       "      <td>None</td>\n",
       "      <td>Otava</td>\n",
       "      <td>0</td>\n",
       "      <td>30</td>\n",
       "      <td>-7.260</td>\n",
       "      <td>2.8580</td>\n",
       "      <td>Logistic_FourParameters</td>\n",
       "      <td>Fit succeeded</td>\n",
       "      <td>13.3800</td>\n",
       "      <td>0.000104</td>\n",
       "      <td>2.092000</td>\n",
       "      <td>5.680</td>\n",
       "      <td>0.9987</td>\n",
       "      <td>99.43</td>\n",
       "      <td>2.8580</td>\n",
       "      <td>PARP1</td>\n",
       "      <td>99.667247</td>\n",
       "      <td>109.775564</td>\n",
       "      <td>1</td>\n",
       "      <td>NaN</td>\n",
       "      <td>NaN</td>\n",
       "    </tr>\n",
       "    <tr>\n",
       "      <th>458</th>\n",
       "      <td>1084285</td>\n",
       "      <td>NaN</td>\n",
       "      <td>Oc1nnc(CC(=O)Nc2cc(F)c(F)c(F)c2)c3ccccc13</td>\n",
       "      <td>1</td>\n",
       "      <td>P6665756</td>\n",
       "      <td>None</td>\n",
       "      <td>None</td>\n",
       "      <td>Otava</td>\n",
       "      <td>0</td>\n",
       "      <td>30</td>\n",
       "      <td>-20.000</td>\n",
       "      <td>NaN</td>\n",
       "      <td>Logistic_FourParameters</td>\n",
       "      <td>Fit succeeded; bottom fixed at -20</td>\n",
       "      <td>1.2440</td>\n",
       "      <td>0.109300</td>\n",
       "      <td>0.413200</td>\n",
       "      <td>6.384</td>\n",
       "      <td>0.9995</td>\n",
       "      <td>99.41</td>\n",
       "      <td>2.2060</td>\n",
       "      <td>PARP1</td>\n",
       "      <td>99.665274</td>\n",
       "      <td>93.477481</td>\n",
       "      <td>1</td>\n",
       "      <td>NaN</td>\n",
       "      <td>NaN</td>\n",
       "    </tr>\n",
       "    <tr>\n",
       "      <th>460</th>\n",
       "      <td>1084345</td>\n",
       "      <td>NaN</td>\n",
       "      <td>CCc1cc2ncc(CN3CCN(CC3)c4ccc(nc4)C(=O)NC)cc2nc1O</td>\n",
       "      <td>2</td>\n",
       "      <td>AZD5305</td>\n",
       "      <td>None</td>\n",
       "      <td>None</td>\n",
       "      <td>NaN</td>\n",
       "      <td>0</td>\n",
       "      <td>16</td>\n",
       "      <td>-20.000</td>\n",
       "      <td>NaN</td>\n",
       "      <td>Logistic_FourParameters</td>\n",
       "      <td>Fit succeeded; bottom fixed at -20</td>\n",
       "      <td>6.0230</td>\n",
       "      <td>6.151000</td>\n",
       "      <td>0.002562</td>\n",
       "      <td>8.591</td>\n",
       "      <td>0.9993</td>\n",
       "      <td>98.76</td>\n",
       "      <td>0.9898</td>\n",
       "      <td>PARP1</td>\n",
       "      <td>100.318653</td>\n",
       "      <td>120.847294</td>\n",
       "      <td>1</td>\n",
       "      <td>NaN</td>\n",
       "      <td>NaN</td>\n",
       "    </tr>\n",
       "    <tr>\n",
       "      <th>461</th>\n",
       "      <td>1084345</td>\n",
       "      <td>NaN</td>\n",
       "      <td>CCc1cc2ncc(CN3CCN(CC3)c4ccc(nc4)C(=O)NC)cc2nc1O</td>\n",
       "      <td>2</td>\n",
       "      <td>AZD5305</td>\n",
       "      <td>None</td>\n",
       "      <td>None</td>\n",
       "      <td>NaN</td>\n",
       "      <td>0</td>\n",
       "      <td>16</td>\n",
       "      <td>-20.000</td>\n",
       "      <td>NaN</td>\n",
       "      <td>Logistic_FourParameters</td>\n",
       "      <td>Fit succeeded; bottom fixed at -20</td>\n",
       "      <td>1.3090</td>\n",
       "      <td>0.046670</td>\n",
       "      <td>0.002014</td>\n",
       "      <td>8.696</td>\n",
       "      <td>0.9999</td>\n",
       "      <td>100.40</td>\n",
       "      <td>0.5261</td>\n",
       "      <td>PARP1</td>\n",
       "      <td>100.228036</td>\n",
       "      <td>86.713627</td>\n",
       "      <td>1</td>\n",
       "      <td>NaN</td>\n",
       "      <td>NaN</td>\n",
       "    </tr>\n",
       "    <tr>\n",
       "      <th>462</th>\n",
       "      <td>1084345</td>\n",
       "      <td>NaN</td>\n",
       "      <td>CCc1cc2ncc(CN3CCN(CC3)c4ccc(nc4)C(=O)NC)cc2nc1O</td>\n",
       "      <td>2</td>\n",
       "      <td>AZD5305</td>\n",
       "      <td>None</td>\n",
       "      <td>None</td>\n",
       "      <td>NaN</td>\n",
       "      <td>0</td>\n",
       "      <td>16</td>\n",
       "      <td>-20.000</td>\n",
       "      <td>NaN</td>\n",
       "      <td>Logistic_FourParameters</td>\n",
       "      <td>Fit succeeded; bottom fixed at -20</td>\n",
       "      <td>0.7804</td>\n",
       "      <td>0.107700</td>\n",
       "      <td>0.001460</td>\n",
       "      <td>8.836</td>\n",
       "      <td>0.9982</td>\n",
       "      <td>101.20</td>\n",
       "      <td>2.1260</td>\n",
       "      <td>PARP1</td>\n",
       "      <td>100.094520</td>\n",
       "      <td>69.250447</td>\n",
       "      <td>1</td>\n",
       "      <td>NaN</td>\n",
       "      <td>NaN</td>\n",
       "    </tr>\n",
       "    <tr>\n",
       "      <th>463</th>\n",
       "      <td>1084345</td>\n",
       "      <td>NaN</td>\n",
       "      <td>CCc1cc2ncc(CN3CCN(CC3)c4ccc(nc4)C(=O)NC)cc2nc1O</td>\n",
       "      <td>2</td>\n",
       "      <td>AZD5305</td>\n",
       "      <td>None</td>\n",
       "      <td>None</td>\n",
       "      <td>NaN</td>\n",
       "      <td>0</td>\n",
       "      <td>16</td>\n",
       "      <td>-20.000</td>\n",
       "      <td>NaN</td>\n",
       "      <td>Logistic_FourParameters</td>\n",
       "      <td>Fit succeeded; bottom fixed at -20</td>\n",
       "      <td>1.1570</td>\n",
       "      <td>0.130500</td>\n",
       "      <td>0.001336</td>\n",
       "      <td>8.874</td>\n",
       "      <td>0.9974</td>\n",
       "      <td>98.00</td>\n",
       "      <td>1.4090</td>\n",
       "      <td>PARP1</td>\n",
       "      <td>99.806979</td>\n",
       "      <td>80.940167</td>\n",
       "      <td>1</td>\n",
       "      <td>NaN</td>\n",
       "      <td>NaN</td>\n",
       "    </tr>\n",
       "    <tr>\n",
       "      <th>464</th>\n",
       "      <td>1084345</td>\n",
       "      <td>NaN</td>\n",
       "      <td>CCc1cc2ncc(CN3CCN(CC3)c4ccc(nc4)C(=O)NC)cc2nc1O</td>\n",
       "      <td>2</td>\n",
       "      <td>AZD5305</td>\n",
       "      <td>None</td>\n",
       "      <td>None</td>\n",
       "      <td>NaN</td>\n",
       "      <td>0</td>\n",
       "      <td>16</td>\n",
       "      <td>-20.000</td>\n",
       "      <td>NaN</td>\n",
       "      <td>Logistic_FourParameters</td>\n",
       "      <td>Fit succeeded; bottom fixed at -20</td>\n",
       "      <td>1.1570</td>\n",
       "      <td>0.130500</td>\n",
       "      <td>0.001336</td>\n",
       "      <td>8.874</td>\n",
       "      <td>0.9974</td>\n",
       "      <td>98.00</td>\n",
       "      <td>1.4090</td>\n",
       "      <td>PARP1</td>\n",
       "      <td>104.864758</td>\n",
       "      <td>69.041455</td>\n",
       "      <td>1</td>\n",
       "      <td>NaN</td>\n",
       "      <td>NaN</td>\n",
       "    </tr>\n",
       "    <tr>\n",
       "      <th>465</th>\n",
       "      <td>1084345</td>\n",
       "      <td>NaN</td>\n",
       "      <td>CCc1cc2ncc(CN3CCN(CC3)c4ccc(nc4)C(=O)NC)cc2nc1O</td>\n",
       "      <td>2</td>\n",
       "      <td>AZD5305</td>\n",
       "      <td>None</td>\n",
       "      <td>None</td>\n",
       "      <td>NaN</td>\n",
       "      <td>0</td>\n",
       "      <td>16</td>\n",
       "      <td>-20.000</td>\n",
       "      <td>NaN</td>\n",
       "      <td>Logistic_FourParameters</td>\n",
       "      <td>Fit succeeded; bottom fixed at -20</td>\n",
       "      <td>0.7797</td>\n",
       "      <td>0.075080</td>\n",
       "      <td>0.001078</td>\n",
       "      <td>8.967</td>\n",
       "      <td>0.9984</td>\n",
       "      <td>101.30</td>\n",
       "      <td>1.3090</td>\n",
       "      <td>PARP1</td>\n",
       "      <td>100.351806</td>\n",
       "      <td>62.006811</td>\n",
       "      <td>1</td>\n",
       "      <td>NaN</td>\n",
       "      <td>NaN</td>\n",
       "    </tr>\n",
       "    <tr>\n",
       "      <th>466</th>\n",
       "      <td>1084345</td>\n",
       "      <td>NaN</td>\n",
       "      <td>CCc1cc2ncc(CN3CCN(CC3)c4ccc(nc4)C(=O)NC)cc2nc1O</td>\n",
       "      <td>2</td>\n",
       "      <td>AZD5305</td>\n",
       "      <td>None</td>\n",
       "      <td>None</td>\n",
       "      <td>NaN</td>\n",
       "      <td>0</td>\n",
       "      <td>16</td>\n",
       "      <td>-20.000</td>\n",
       "      <td>NaN</td>\n",
       "      <td>Logistic_FourParameters</td>\n",
       "      <td>Fit succeeded; bottom fixed at -20</td>\n",
       "      <td>0.7797</td>\n",
       "      <td>0.075080</td>\n",
       "      <td>0.001078</td>\n",
       "      <td>8.967</td>\n",
       "      <td>0.9984</td>\n",
       "      <td>101.30</td>\n",
       "      <td>1.3090</td>\n",
       "      <td>PARP1</td>\n",
       "      <td>99.950424</td>\n",
       "      <td>53.244240</td>\n",
       "      <td>1</td>\n",
       "      <td>NaN</td>\n",
       "      <td>NaN</td>\n",
       "    </tr>\n",
       "  </tbody>\n",
       "</table>\n",
       "</div>"
      ],
      "text/plain": [
       "     Compound  Alias                                           SMILES  Lot_#  \\\n",
       "455   1084272    NaN           Oc1nnc(CC(=O)Nc2ccc3OCCOc3c2)c4ccccc14      1   \n",
       "457   1084272    NaN           Oc1nnc(CC(=O)Nc2ccc3OCCOc3c2)c4ccccc14      1   \n",
       "449   1084283    NaN         Oc1nnc(CC(=O)Nc2ccc3[nH]ccc3c2)c4ccccc14      1   \n",
       "450   1084283    NaN         Oc1nnc(CC(=O)Nc2ccc3[nH]ccc3c2)c4ccccc14      1   \n",
       "441   1084284    NaN        COc1cccc2c1ccn2CCNC(=O)Cc3nnc(O)c4ccccc34      1   \n",
       "445   1084284    NaN        COc1cccc2c1ccn2CCNC(=O)Cc3nnc(O)c4ccccc34      1   \n",
       "451   1084285    NaN        Oc1nnc(CC(=O)Nc2cc(F)c(F)c(F)c2)c3ccccc13      1   \n",
       "458   1084285    NaN        Oc1nnc(CC(=O)Nc2cc(F)c(F)c(F)c2)c3ccccc13      1   \n",
       "460   1084345    NaN  CCc1cc2ncc(CN3CCN(CC3)c4ccc(nc4)C(=O)NC)cc2nc1O      2   \n",
       "461   1084345    NaN  CCc1cc2ncc(CN3CCN(CC3)c4ccc(nc4)C(=O)NC)cc2nc1O      2   \n",
       "462   1084345    NaN  CCc1cc2ncc(CN3CCN(CC3)c4ccc(nc4)C(=O)NC)cc2nc1O      2   \n",
       "463   1084345    NaN  CCc1cc2ncc(CN3CCN(CC3)c4ccc(nc4)C(=O)NC)cc2nc1O      2   \n",
       "464   1084345    NaN  CCc1cc2ncc(CN3CCN(CC3)c4ccc(nc4)C(=O)NC)cc2nc1O      2   \n",
       "465   1084345    NaN  CCc1cc2ncc(CN3CCN(CC3)c4ccc(nc4)C(=O)NC)cc2nc1O      2   \n",
       "466   1084345    NaN  CCc1cc2ncc(CN3CCN(CC3)c4ccc(nc4)C(=O)NC)cc2nc1O      2   \n",
       "\n",
       "    Lot_Alias  Salt Solvate Vendor  PAINS Bruns_Watson_Demerit_Score  bottom  \\\n",
       "455  P6665730  None    None  Otava      0                         20  33.990   \n",
       "457  P6665730  None    None  Otava      0                         20  -1.848   \n",
       "449  P6665752  None    None  Otava      0                         20   2.382   \n",
       "450  P6665752  None    None  Otava      0                         20   2.320   \n",
       "441  P7130594  None    None  Otava      0                         28   3.037   \n",
       "445  P7130594  None    None  Otava      0                         28  -2.457   \n",
       "451  P6665756  None    None  Otava      0                         30  -7.260   \n",
       "458  P6665756  None    None  Otava      0                         30 -20.000   \n",
       "460   AZD5305  None    None    NaN      0                         16 -20.000   \n",
       "461   AZD5305  None    None    NaN      0                         16 -20.000   \n",
       "462   AZD5305  None    None    NaN      0                         16 -20.000   \n",
       "463   AZD5305  None    None    NaN      0                         16 -20.000   \n",
       "464   AZD5305  None    None    NaN      0                         16 -20.000   \n",
       "465   AZD5305  None    None    NaN      0                         16 -20.000   \n",
       "466   AZD5305  None    None    NaN      0                         16 -20.000   \n",
       "\n",
       "     bottomerror                fitmethod                               notes  \\\n",
       "455       0.4617  Logistic_FourParameters                       Fit succeeded   \n",
       "457       0.6629  Logistic_FourParameters                       Fit succeeded   \n",
       "449       9.0720  Logistic_FourParameters                       Fit succeeded   \n",
       "450       5.8360  Logistic_FourParameters                       Fit succeeded   \n",
       "441      15.0100  Logistic_FourParameters                       Fit succeeded   \n",
       "445       6.4440  Logistic_FourParameters                       Fit succeeded   \n",
       "451       2.8580  Logistic_FourParameters                       Fit succeeded   \n",
       "458          NaN  Logistic_FourParameters  Fit succeeded; bottom fixed at -20   \n",
       "460          NaN  Logistic_FourParameters  Fit succeeded; bottom fixed at -20   \n",
       "461          NaN  Logistic_FourParameters  Fit succeeded; bottom fixed at -20   \n",
       "462          NaN  Logistic_FourParameters  Fit succeeded; bottom fixed at -20   \n",
       "463          NaN  Logistic_FourParameters  Fit succeeded; bottom fixed at -20   \n",
       "464          NaN  Logistic_FourParameters  Fit succeeded; bottom fixed at -20   \n",
       "465          NaN  Logistic_FourParameters  Fit succeeded; bottom fixed at -20   \n",
       "466          NaN  Logistic_FourParameters  Fit succeeded; bottom fixed at -20   \n",
       "\n",
       "        hill  hillerror      IC50  pIC50     R^2     top  toperror Target  \\\n",
       "455   3.0170   0.183300  0.816000  6.088  1.0000   98.80    0.3073  PARP1   \n",
       "457   1.7500   0.036040  0.602500  6.220  1.0000  100.30    0.2048  PARP1   \n",
       "449  14.6500   0.000116  2.220000  5.654  0.9844   99.93    9.0720  PARP1   \n",
       "450  13.1500   0.000092  2.214000  5.655  0.9932   98.43    5.8360  PARP1   \n",
       "441   1.6210   1.405000  5.854000  5.233  0.9570  100.10   26.9200  PARP1   \n",
       "445   1.4040   0.448000  3.641000  5.439  0.9954  100.50    9.1500  PARP1   \n",
       "451  13.3800   0.000104  2.092000  5.680  0.9987   99.43    2.8580  PARP1   \n",
       "458   1.2440   0.109300  0.413200  6.384  0.9995   99.41    2.2060  PARP1   \n",
       "460   6.0230   6.151000  0.002562  8.591  0.9993   98.76    0.9898  PARP1   \n",
       "461   1.3090   0.046670  0.002014  8.696  0.9999  100.40    0.5261  PARP1   \n",
       "462   0.7804   0.107700  0.001460  8.836  0.9982  101.20    2.1260  PARP1   \n",
       "463   1.1570   0.130500  0.001336  8.874  0.9974   98.00    1.4090  PARP1   \n",
       "464   1.1570   0.130500  0.001336  8.874  0.9974   98.00    1.4090  PARP1   \n",
       "465   0.7797   0.075080  0.001078  8.967  0.9984  101.30    1.3090  PARP1   \n",
       "466   0.7797   0.075080  0.001078  8.967  0.9984  101.30    1.3090  PARP1   \n",
       "\n",
       "       max_meas       delta  hitc  RMSE relation  \n",
       "455   99.100297   64.670916     1   NaN      NaN  \n",
       "457  100.036817   93.113941     1   NaN      NaN  \n",
       "449  100.972033  107.602695     1   NaN      NaN  \n",
       "450  100.234017  103.464788     1   NaN      NaN  \n",
       "441   96.635457  104.605829     1   NaN      NaN  \n",
       "445   98.011706   96.730792     1   NaN      NaN  \n",
       "451   99.667247  109.775564     1   NaN      NaN  \n",
       "458   99.665274   93.477481     1   NaN      NaN  \n",
       "460  100.318653  120.847294     1   NaN      NaN  \n",
       "461  100.228036   86.713627     1   NaN      NaN  \n",
       "462  100.094520   69.250447     1   NaN      NaN  \n",
       "463   99.806979   80.940167     1   NaN      NaN  \n",
       "464  104.864758   69.041455     1   NaN      NaN  \n",
       "465  100.351806   62.006811     1   NaN      NaN  \n",
       "466   99.950424   53.244240     1   NaN      NaN  "
      ]
     },
     "execution_count": 598,
     "metadata": {},
     "output_type": "execute_result"
    }
   ],
   "source": [
    "ap1[ap1.Compound.duplicated(keep=False)].sort_values('Compound')"
   ]
  },
  {
   "cell_type": "code",
   "execution_count": 599,
   "id": "6d0e7438-f3ba-4b78-997f-0c87904289c4",
   "metadata": {},
   "outputs": [
    {
     "data": {
      "text/html": [
       "<div>\n",
       "<style scoped>\n",
       "    .dataframe tbody tr th:only-of-type {\n",
       "        vertical-align: middle;\n",
       "    }\n",
       "\n",
       "    .dataframe tbody tr th {\n",
       "        vertical-align: top;\n",
       "    }\n",
       "\n",
       "    .dataframe thead th {\n",
       "        text-align: right;\n",
       "    }\n",
       "</style>\n",
       "<table border=\"1\" class=\"dataframe\">\n",
       "  <thead>\n",
       "    <tr style=\"text-align: right;\">\n",
       "      <th></th>\n",
       "      <th>Compound</th>\n",
       "      <th>Alias</th>\n",
       "      <th>SMILES</th>\n",
       "      <th>Lot_#</th>\n",
       "      <th>Lot_Alias</th>\n",
       "      <th>Salt</th>\n",
       "      <th>Solvate</th>\n",
       "      <th>Vendor</th>\n",
       "      <th>PAINS</th>\n",
       "      <th>Bruns_Watson_Demerit_Score</th>\n",
       "      <th>bottom</th>\n",
       "      <th>bottomerror</th>\n",
       "      <th>fitmethod</th>\n",
       "      <th>notes</th>\n",
       "      <th>hill</th>\n",
       "      <th>hillerror</th>\n",
       "      <th>IC50</th>\n",
       "      <th>pIC50</th>\n",
       "      <th>R^2</th>\n",
       "      <th>top</th>\n",
       "      <th>toperror</th>\n",
       "      <th>Target</th>\n",
       "      <th>max_meas</th>\n",
       "      <th>delta</th>\n",
       "      <th>hitc</th>\n",
       "      <th>RMSE</th>\n",
       "      <th>relation</th>\n",
       "    </tr>\n",
       "  </thead>\n",
       "  <tbody>\n",
       "    <tr>\n",
       "      <th>446</th>\n",
       "      <td>1084272</td>\n",
       "      <td>NaN</td>\n",
       "      <td>Oc1nnc(CC(=O)Nc2ccc3OCCOc3c2)c4ccccc14</td>\n",
       "      <td>1</td>\n",
       "      <td>P6665730</td>\n",
       "      <td>None</td>\n",
       "      <td>None</td>\n",
       "      <td>Otava</td>\n",
       "      <td>0</td>\n",
       "      <td>20</td>\n",
       "      <td>22.710</td>\n",
       "      <td>8.30300</td>\n",
       "      <td>Logistic_FourParameters</td>\n",
       "      <td>Fit succeeded</td>\n",
       "      <td>2.2050</td>\n",
       "      <td>1.30700</td>\n",
       "      <td>5.59400</td>\n",
       "      <td>5.252</td>\n",
       "      <td>0.9766</td>\n",
       "      <td>99.08</td>\n",
       "      <td>12.70000</td>\n",
       "      <td>PARP2</td>\n",
       "      <td>98.291590</td>\n",
       "      <td>83.141117</td>\n",
       "      <td>1</td>\n",
       "      <td>NaN</td>\n",
       "      <td>NaN</td>\n",
       "    </tr>\n",
       "    <tr>\n",
       "      <th>449</th>\n",
       "      <td>1084272</td>\n",
       "      <td>NaN</td>\n",
       "      <td>Oc1nnc(CC(=O)Nc2ccc3OCCOc3c2)c4ccccc14</td>\n",
       "      <td>1</td>\n",
       "      <td>P6665730</td>\n",
       "      <td>None</td>\n",
       "      <td>None</td>\n",
       "      <td>Otava</td>\n",
       "      <td>0</td>\n",
       "      <td>20</td>\n",
       "      <td>28.700</td>\n",
       "      <td>5.15800</td>\n",
       "      <td>Logistic_FourParameters</td>\n",
       "      <td>Fit succeeded</td>\n",
       "      <td>2.5610</td>\n",
       "      <td>1.78300</td>\n",
       "      <td>3.36700</td>\n",
       "      <td>5.473</td>\n",
       "      <td>0.9903</td>\n",
       "      <td>98.87</td>\n",
       "      <td>7.15900</td>\n",
       "      <td>PARP2</td>\n",
       "      <td>99.698626</td>\n",
       "      <td>74.930929</td>\n",
       "      <td>1</td>\n",
       "      <td>NaN</td>\n",
       "      <td>NaN</td>\n",
       "    </tr>\n",
       "    <tr>\n",
       "      <th>445</th>\n",
       "      <td>1084283</td>\n",
       "      <td>NaN</td>\n",
       "      <td>Oc1nnc(CC(=O)Nc2ccc3[nH]ccc3c2)c4ccccc14</td>\n",
       "      <td>1</td>\n",
       "      <td>P6665752</td>\n",
       "      <td>None</td>\n",
       "      <td>None</td>\n",
       "      <td>Otava</td>\n",
       "      <td>0</td>\n",
       "      <td>20</td>\n",
       "      <td>-11.920</td>\n",
       "      <td>5.69400</td>\n",
       "      <td>Logistic_FourParameters</td>\n",
       "      <td>Fit succeeded</td>\n",
       "      <td>2.4980</td>\n",
       "      <td>0.89680</td>\n",
       "      <td>6.60300</td>\n",
       "      <td>5.180</td>\n",
       "      <td>0.9945</td>\n",
       "      <td>99.34</td>\n",
       "      <td>8.64300</td>\n",
       "      <td>PARP2</td>\n",
       "      <td>98.061460</td>\n",
       "      <td>115.261407</td>\n",
       "      <td>1</td>\n",
       "      <td>NaN</td>\n",
       "      <td>NaN</td>\n",
       "    </tr>\n",
       "    <tr>\n",
       "      <th>450</th>\n",
       "      <td>1084283</td>\n",
       "      <td>NaN</td>\n",
       "      <td>Oc1nnc(CC(=O)Nc2ccc3[nH]ccc3c2)c4ccccc14</td>\n",
       "      <td>1</td>\n",
       "      <td>P6665752</td>\n",
       "      <td>None</td>\n",
       "      <td>None</td>\n",
       "      <td>Otava</td>\n",
       "      <td>0</td>\n",
       "      <td>20</td>\n",
       "      <td>16.940</td>\n",
       "      <td>7.85200</td>\n",
       "      <td>Logistic_FourParameters</td>\n",
       "      <td>Fit succeeded</td>\n",
       "      <td>2.1300</td>\n",
       "      <td>1.52800</td>\n",
       "      <td>3.30600</td>\n",
       "      <td>5.481</td>\n",
       "      <td>0.9847</td>\n",
       "      <td>98.17</td>\n",
       "      <td>10.64000</td>\n",
       "      <td>PARP2</td>\n",
       "      <td>99.535936</td>\n",
       "      <td>87.183624</td>\n",
       "      <td>1</td>\n",
       "      <td>NaN</td>\n",
       "      <td>NaN</td>\n",
       "    </tr>\n",
       "    <tr>\n",
       "      <th>454</th>\n",
       "      <td>1084284</td>\n",
       "      <td>NaN</td>\n",
       "      <td>COc1cccc2c1ccn2CCNC(=O)Cc3nnc(O)c4ccccc34</td>\n",
       "      <td>1</td>\n",
       "      <td>P7130594</td>\n",
       "      <td>None</td>\n",
       "      <td>None</td>\n",
       "      <td>Otava</td>\n",
       "      <td>0</td>\n",
       "      <td>28</td>\n",
       "      <td>5.459</td>\n",
       "      <td>0.19940</td>\n",
       "      <td>Logistic_FourParameters</td>\n",
       "      <td>Fit succeeded</td>\n",
       "      <td>1.9940</td>\n",
       "      <td>0.01491</td>\n",
       "      <td>0.98680</td>\n",
       "      <td>6.006</td>\n",
       "      <td>1.0000</td>\n",
       "      <td>100.80</td>\n",
       "      <td>0.12160</td>\n",
       "      <td>PARP2</td>\n",
       "      <td>100.654096</td>\n",
       "      <td>92.846243</td>\n",
       "      <td>1</td>\n",
       "      <td>NaN</td>\n",
       "      <td>NaN</td>\n",
       "    </tr>\n",
       "    <tr>\n",
       "      <th>456</th>\n",
       "      <td>1084284</td>\n",
       "      <td>NaN</td>\n",
       "      <td>COc1cccc2c1ccn2CCNC(=O)Cc3nnc(O)c4ccccc34</td>\n",
       "      <td>1</td>\n",
       "      <td>P7130594</td>\n",
       "      <td>None</td>\n",
       "      <td>None</td>\n",
       "      <td>Otava</td>\n",
       "      <td>0</td>\n",
       "      <td>28</td>\n",
       "      <td>36.460</td>\n",
       "      <td>0.09991</td>\n",
       "      <td>Logistic_FourParameters</td>\n",
       "      <td>Fit succeeded</td>\n",
       "      <td>2.6310</td>\n",
       "      <td>0.02069</td>\n",
       "      <td>0.92980</td>\n",
       "      <td>6.032</td>\n",
       "      <td>1.0000</td>\n",
       "      <td>100.10</td>\n",
       "      <td>0.06661</td>\n",
       "      <td>PARP2</td>\n",
       "      <td>100.137958</td>\n",
       "      <td>63.098950</td>\n",
       "      <td>1</td>\n",
       "      <td>NaN</td>\n",
       "      <td>NaN</td>\n",
       "    </tr>\n",
       "    <tr>\n",
       "      <th>455</th>\n",
       "      <td>1084285</td>\n",
       "      <td>NaN</td>\n",
       "      <td>Oc1nnc(CC(=O)Nc2cc(F)c(F)c(F)c2)c3ccccc13</td>\n",
       "      <td>1</td>\n",
       "      <td>P6665756</td>\n",
       "      <td>None</td>\n",
       "      <td>None</td>\n",
       "      <td>Otava</td>\n",
       "      <td>0</td>\n",
       "      <td>30</td>\n",
       "      <td>26.500</td>\n",
       "      <td>1.93400</td>\n",
       "      <td>Logistic_FourParameters</td>\n",
       "      <td>Fit succeeded</td>\n",
       "      <td>2.8110</td>\n",
       "      <td>0.37990</td>\n",
       "      <td>0.97850</td>\n",
       "      <td>6.009</td>\n",
       "      <td>0.9993</td>\n",
       "      <td>97.75</td>\n",
       "      <td>1.31700</td>\n",
       "      <td>PARP2</td>\n",
       "      <td>99.010869</td>\n",
       "      <td>72.096340</td>\n",
       "      <td>1</td>\n",
       "      <td>NaN</td>\n",
       "      <td>NaN</td>\n",
       "    </tr>\n",
       "    <tr>\n",
       "      <th>457</th>\n",
       "      <td>1084285</td>\n",
       "      <td>NaN</td>\n",
       "      <td>Oc1nnc(CC(=O)Nc2cc(F)c(F)c(F)c2)c3ccccc13</td>\n",
       "      <td>1</td>\n",
       "      <td>P6665756</td>\n",
       "      <td>None</td>\n",
       "      <td>None</td>\n",
       "      <td>Otava</td>\n",
       "      <td>0</td>\n",
       "      <td>30</td>\n",
       "      <td>17.020</td>\n",
       "      <td>0.59070</td>\n",
       "      <td>Logistic_FourParameters</td>\n",
       "      <td>Fit succeeded</td>\n",
       "      <td>1.7400</td>\n",
       "      <td>0.04172</td>\n",
       "      <td>0.85600</td>\n",
       "      <td>6.068</td>\n",
       "      <td>1.0000</td>\n",
       "      <td>99.70</td>\n",
       "      <td>0.30240</td>\n",
       "      <td>PARP2</td>\n",
       "      <td>99.359136</td>\n",
       "      <td>78.288236</td>\n",
       "      <td>1</td>\n",
       "      <td>NaN</td>\n",
       "      <td>NaN</td>\n",
       "    </tr>\n",
       "    <tr>\n",
       "      <th>460</th>\n",
       "      <td>1084345</td>\n",
       "      <td>NaN</td>\n",
       "      <td>CCc1cc2ncc(CN3CCN(CC3)c4ccc(nc4)C(=O)NC)cc2nc1O</td>\n",
       "      <td>2</td>\n",
       "      <td>AZD5305</td>\n",
       "      <td>None</td>\n",
       "      <td>None</td>\n",
       "      <td>NaN</td>\n",
       "      <td>0</td>\n",
       "      <td>16</td>\n",
       "      <td>-20.000</td>\n",
       "      <td>NaN</td>\n",
       "      <td>Logistic_FourParameters</td>\n",
       "      <td>Fit succeeded; bottom fixed at -20</td>\n",
       "      <td>1.8710</td>\n",
       "      <td>0.69020</td>\n",
       "      <td>0.07425</td>\n",
       "      <td>7.129</td>\n",
       "      <td>0.9467</td>\n",
       "      <td>101.40</td>\n",
       "      <td>6.58000</td>\n",
       "      <td>PARP2</td>\n",
       "      <td>103.302158</td>\n",
       "      <td>163.038995</td>\n",
       "      <td>1</td>\n",
       "      <td>NaN</td>\n",
       "      <td>NaN</td>\n",
       "    </tr>\n",
       "    <tr>\n",
       "      <th>461</th>\n",
       "      <td>1084345</td>\n",
       "      <td>NaN</td>\n",
       "      <td>CCc1cc2ncc(CN3CCN(CC3)c4ccc(nc4)C(=O)NC)cc2nc1O</td>\n",
       "      <td>2</td>\n",
       "      <td>AZD5305</td>\n",
       "      <td>None</td>\n",
       "      <td>None</td>\n",
       "      <td>NaN</td>\n",
       "      <td>0</td>\n",
       "      <td>16</td>\n",
       "      <td>-20.000</td>\n",
       "      <td>NaN</td>\n",
       "      <td>Logistic_FourParameters</td>\n",
       "      <td>Fit succeeded; bottom fixed at -20</td>\n",
       "      <td>1.8710</td>\n",
       "      <td>0.69020</td>\n",
       "      <td>0.07425</td>\n",
       "      <td>7.129</td>\n",
       "      <td>0.9467</td>\n",
       "      <td>101.40</td>\n",
       "      <td>6.58000</td>\n",
       "      <td>PARP2</td>\n",
       "      <td>106.471582</td>\n",
       "      <td>122.190061</td>\n",
       "      <td>1</td>\n",
       "      <td>NaN</td>\n",
       "      <td>NaN</td>\n",
       "    </tr>\n",
       "    <tr>\n",
       "      <th>462</th>\n",
       "      <td>1084345</td>\n",
       "      <td>NaN</td>\n",
       "      <td>CCc1cc2ncc(CN3CCN(CC3)c4ccc(nc4)C(=O)NC)cc2nc1O</td>\n",
       "      <td>2</td>\n",
       "      <td>AZD5305</td>\n",
       "      <td>None</td>\n",
       "      <td>None</td>\n",
       "      <td>NaN</td>\n",
       "      <td>0</td>\n",
       "      <td>16</td>\n",
       "      <td>1.683</td>\n",
       "      <td>3.28800</td>\n",
       "      <td>Logistic_FourParameters</td>\n",
       "      <td>Fit succeeded</td>\n",
       "      <td>1.1780</td>\n",
       "      <td>0.16580</td>\n",
       "      <td>0.06389</td>\n",
       "      <td>7.195</td>\n",
       "      <td>0.9944</td>\n",
       "      <td>101.70</td>\n",
       "      <td>2.35200</td>\n",
       "      <td>PARP2</td>\n",
       "      <td>100.942316</td>\n",
       "      <td>104.372391</td>\n",
       "      <td>1</td>\n",
       "      <td>NaN</td>\n",
       "      <td>NaN</td>\n",
       "    </tr>\n",
       "    <tr>\n",
       "      <th>463</th>\n",
       "      <td>1084345</td>\n",
       "      <td>NaN</td>\n",
       "      <td>CCc1cc2ncc(CN3CCN(CC3)c4ccc(nc4)C(=O)NC)cc2nc1O</td>\n",
       "      <td>2</td>\n",
       "      <td>AZD5305</td>\n",
       "      <td>None</td>\n",
       "      <td>None</td>\n",
       "      <td>NaN</td>\n",
       "      <td>0</td>\n",
       "      <td>16</td>\n",
       "      <td>-20.000</td>\n",
       "      <td>NaN</td>\n",
       "      <td>Logistic_FourParameters</td>\n",
       "      <td>Fit succeeded; bottom fixed at -20</td>\n",
       "      <td>1.0550</td>\n",
       "      <td>0.18080</td>\n",
       "      <td>0.04448</td>\n",
       "      <td>7.352</td>\n",
       "      <td>0.9803</td>\n",
       "      <td>100.70</td>\n",
       "      <td>4.43600</td>\n",
       "      <td>PARP2</td>\n",
       "      <td>100.767669</td>\n",
       "      <td>112.865154</td>\n",
       "      <td>1</td>\n",
       "      <td>NaN</td>\n",
       "      <td>NaN</td>\n",
       "    </tr>\n",
       "    <tr>\n",
       "      <th>464</th>\n",
       "      <td>1084345</td>\n",
       "      <td>NaN</td>\n",
       "      <td>CCc1cc2ncc(CN3CCN(CC3)c4ccc(nc4)C(=O)NC)cc2nc1O</td>\n",
       "      <td>2</td>\n",
       "      <td>AZD5305</td>\n",
       "      <td>None</td>\n",
       "      <td>None</td>\n",
       "      <td>NaN</td>\n",
       "      <td>0</td>\n",
       "      <td>16</td>\n",
       "      <td>-20.000</td>\n",
       "      <td>NaN</td>\n",
       "      <td>Logistic_FourParameters</td>\n",
       "      <td>Fit succeeded; bottom fixed at -20</td>\n",
       "      <td>1.0550</td>\n",
       "      <td>0.18080</td>\n",
       "      <td>0.04448</td>\n",
       "      <td>7.352</td>\n",
       "      <td>0.9803</td>\n",
       "      <td>100.70</td>\n",
       "      <td>4.43600</td>\n",
       "      <td>PARP2</td>\n",
       "      <td>99.444107</td>\n",
       "      <td>117.681577</td>\n",
       "      <td>1</td>\n",
       "      <td>NaN</td>\n",
       "      <td>NaN</td>\n",
       "    </tr>\n",
       "    <tr>\n",
       "      <th>465</th>\n",
       "      <td>1084345</td>\n",
       "      <td>NaN</td>\n",
       "      <td>CCc1cc2ncc(CN3CCN(CC3)c4ccc(nc4)C(=O)NC)cc2nc1O</td>\n",
       "      <td>2</td>\n",
       "      <td>AZD5305</td>\n",
       "      <td>None</td>\n",
       "      <td>None</td>\n",
       "      <td>NaN</td>\n",
       "      <td>0</td>\n",
       "      <td>16</td>\n",
       "      <td>-20.000</td>\n",
       "      <td>NaN</td>\n",
       "      <td>Logistic_FourParameters</td>\n",
       "      <td>Fit succeeded; bottom fixed at -20</td>\n",
       "      <td>0.8711</td>\n",
       "      <td>0.16980</td>\n",
       "      <td>0.04251</td>\n",
       "      <td>7.372</td>\n",
       "      <td>0.9885</td>\n",
       "      <td>100.70</td>\n",
       "      <td>5.79300</td>\n",
       "      <td>PARP2</td>\n",
       "      <td>100.314287</td>\n",
       "      <td>126.225883</td>\n",
       "      <td>1</td>\n",
       "      <td>NaN</td>\n",
       "      <td>NaN</td>\n",
       "    </tr>\n",
       "    <tr>\n",
       "      <th>466</th>\n",
       "      <td>1084345</td>\n",
       "      <td>NaN</td>\n",
       "      <td>CCc1cc2ncc(CN3CCN(CC3)c4ccc(nc4)C(=O)NC)cc2nc1O</td>\n",
       "      <td>2</td>\n",
       "      <td>AZD5305</td>\n",
       "      <td>None</td>\n",
       "      <td>None</td>\n",
       "      <td>NaN</td>\n",
       "      <td>0</td>\n",
       "      <td>16</td>\n",
       "      <td>-20.000</td>\n",
       "      <td>NaN</td>\n",
       "      <td>Logistic_FourParameters</td>\n",
       "      <td>Fit succeeded; bottom fixed at -20</td>\n",
       "      <td>0.5582</td>\n",
       "      <td>0.20630</td>\n",
       "      <td>0.03148</td>\n",
       "      <td>7.502</td>\n",
       "      <td>0.9616</td>\n",
       "      <td>106.70</td>\n",
       "      <td>15.57000</td>\n",
       "      <td>PARP2</td>\n",
       "      <td>100.113057</td>\n",
       "      <td>107.071813</td>\n",
       "      <td>1</td>\n",
       "      <td>NaN</td>\n",
       "      <td>NaN</td>\n",
       "    </tr>\n",
       "  </tbody>\n",
       "</table>\n",
       "</div>"
      ],
      "text/plain": [
       "     Compound  Alias                                           SMILES  Lot_#  \\\n",
       "446   1084272    NaN           Oc1nnc(CC(=O)Nc2ccc3OCCOc3c2)c4ccccc14      1   \n",
       "449   1084272    NaN           Oc1nnc(CC(=O)Nc2ccc3OCCOc3c2)c4ccccc14      1   \n",
       "445   1084283    NaN         Oc1nnc(CC(=O)Nc2ccc3[nH]ccc3c2)c4ccccc14      1   \n",
       "450   1084283    NaN         Oc1nnc(CC(=O)Nc2ccc3[nH]ccc3c2)c4ccccc14      1   \n",
       "454   1084284    NaN        COc1cccc2c1ccn2CCNC(=O)Cc3nnc(O)c4ccccc34      1   \n",
       "456   1084284    NaN        COc1cccc2c1ccn2CCNC(=O)Cc3nnc(O)c4ccccc34      1   \n",
       "455   1084285    NaN        Oc1nnc(CC(=O)Nc2cc(F)c(F)c(F)c2)c3ccccc13      1   \n",
       "457   1084285    NaN        Oc1nnc(CC(=O)Nc2cc(F)c(F)c(F)c2)c3ccccc13      1   \n",
       "460   1084345    NaN  CCc1cc2ncc(CN3CCN(CC3)c4ccc(nc4)C(=O)NC)cc2nc1O      2   \n",
       "461   1084345    NaN  CCc1cc2ncc(CN3CCN(CC3)c4ccc(nc4)C(=O)NC)cc2nc1O      2   \n",
       "462   1084345    NaN  CCc1cc2ncc(CN3CCN(CC3)c4ccc(nc4)C(=O)NC)cc2nc1O      2   \n",
       "463   1084345    NaN  CCc1cc2ncc(CN3CCN(CC3)c4ccc(nc4)C(=O)NC)cc2nc1O      2   \n",
       "464   1084345    NaN  CCc1cc2ncc(CN3CCN(CC3)c4ccc(nc4)C(=O)NC)cc2nc1O      2   \n",
       "465   1084345    NaN  CCc1cc2ncc(CN3CCN(CC3)c4ccc(nc4)C(=O)NC)cc2nc1O      2   \n",
       "466   1084345    NaN  CCc1cc2ncc(CN3CCN(CC3)c4ccc(nc4)C(=O)NC)cc2nc1O      2   \n",
       "\n",
       "    Lot_Alias  Salt Solvate Vendor  PAINS Bruns_Watson_Demerit_Score  bottom  \\\n",
       "446  P6665730  None    None  Otava      0                         20  22.710   \n",
       "449  P6665730  None    None  Otava      0                         20  28.700   \n",
       "445  P6665752  None    None  Otava      0                         20 -11.920   \n",
       "450  P6665752  None    None  Otava      0                         20  16.940   \n",
       "454  P7130594  None    None  Otava      0                         28   5.459   \n",
       "456  P7130594  None    None  Otava      0                         28  36.460   \n",
       "455  P6665756  None    None  Otava      0                         30  26.500   \n",
       "457  P6665756  None    None  Otava      0                         30  17.020   \n",
       "460   AZD5305  None    None    NaN      0                         16 -20.000   \n",
       "461   AZD5305  None    None    NaN      0                         16 -20.000   \n",
       "462   AZD5305  None    None    NaN      0                         16   1.683   \n",
       "463   AZD5305  None    None    NaN      0                         16 -20.000   \n",
       "464   AZD5305  None    None    NaN      0                         16 -20.000   \n",
       "465   AZD5305  None    None    NaN      0                         16 -20.000   \n",
       "466   AZD5305  None    None    NaN      0                         16 -20.000   \n",
       "\n",
       "     bottomerror                fitmethod                               notes  \\\n",
       "446      8.30300  Logistic_FourParameters                       Fit succeeded   \n",
       "449      5.15800  Logistic_FourParameters                       Fit succeeded   \n",
       "445      5.69400  Logistic_FourParameters                       Fit succeeded   \n",
       "450      7.85200  Logistic_FourParameters                       Fit succeeded   \n",
       "454      0.19940  Logistic_FourParameters                       Fit succeeded   \n",
       "456      0.09991  Logistic_FourParameters                       Fit succeeded   \n",
       "455      1.93400  Logistic_FourParameters                       Fit succeeded   \n",
       "457      0.59070  Logistic_FourParameters                       Fit succeeded   \n",
       "460          NaN  Logistic_FourParameters  Fit succeeded; bottom fixed at -20   \n",
       "461          NaN  Logistic_FourParameters  Fit succeeded; bottom fixed at -20   \n",
       "462      3.28800  Logistic_FourParameters                       Fit succeeded   \n",
       "463          NaN  Logistic_FourParameters  Fit succeeded; bottom fixed at -20   \n",
       "464          NaN  Logistic_FourParameters  Fit succeeded; bottom fixed at -20   \n",
       "465          NaN  Logistic_FourParameters  Fit succeeded; bottom fixed at -20   \n",
       "466          NaN  Logistic_FourParameters  Fit succeeded; bottom fixed at -20   \n",
       "\n",
       "       hill  hillerror     IC50  pIC50     R^2     top  toperror Target  \\\n",
       "446  2.2050    1.30700  5.59400  5.252  0.9766   99.08  12.70000  PARP2   \n",
       "449  2.5610    1.78300  3.36700  5.473  0.9903   98.87   7.15900  PARP2   \n",
       "445  2.4980    0.89680  6.60300  5.180  0.9945   99.34   8.64300  PARP2   \n",
       "450  2.1300    1.52800  3.30600  5.481  0.9847   98.17  10.64000  PARP2   \n",
       "454  1.9940    0.01491  0.98680  6.006  1.0000  100.80   0.12160  PARP2   \n",
       "456  2.6310    0.02069  0.92980  6.032  1.0000  100.10   0.06661  PARP2   \n",
       "455  2.8110    0.37990  0.97850  6.009  0.9993   97.75   1.31700  PARP2   \n",
       "457  1.7400    0.04172  0.85600  6.068  1.0000   99.70   0.30240  PARP2   \n",
       "460  1.8710    0.69020  0.07425  7.129  0.9467  101.40   6.58000  PARP2   \n",
       "461  1.8710    0.69020  0.07425  7.129  0.9467  101.40   6.58000  PARP2   \n",
       "462  1.1780    0.16580  0.06389  7.195  0.9944  101.70   2.35200  PARP2   \n",
       "463  1.0550    0.18080  0.04448  7.352  0.9803  100.70   4.43600  PARP2   \n",
       "464  1.0550    0.18080  0.04448  7.352  0.9803  100.70   4.43600  PARP2   \n",
       "465  0.8711    0.16980  0.04251  7.372  0.9885  100.70   5.79300  PARP2   \n",
       "466  0.5582    0.20630  0.03148  7.502  0.9616  106.70  15.57000  PARP2   \n",
       "\n",
       "       max_meas       delta  hitc  RMSE relation  \n",
       "446   98.291590   83.141117     1   NaN      NaN  \n",
       "449   99.698626   74.930929     1   NaN      NaN  \n",
       "445   98.061460  115.261407     1   NaN      NaN  \n",
       "450   99.535936   87.183624     1   NaN      NaN  \n",
       "454  100.654096   92.846243     1   NaN      NaN  \n",
       "456  100.137958   63.098950     1   NaN      NaN  \n",
       "455   99.010869   72.096340     1   NaN      NaN  \n",
       "457   99.359136   78.288236     1   NaN      NaN  \n",
       "460  103.302158  163.038995     1   NaN      NaN  \n",
       "461  106.471582  122.190061     1   NaN      NaN  \n",
       "462  100.942316  104.372391     1   NaN      NaN  \n",
       "463  100.767669  112.865154     1   NaN      NaN  \n",
       "464   99.444107  117.681577     1   NaN      NaN  \n",
       "465  100.314287  126.225883     1   NaN      NaN  \n",
       "466  100.113057  107.071813     1   NaN      NaN  "
      ]
     },
     "execution_count": 599,
     "metadata": {},
     "output_type": "execute_result"
    }
   ],
   "source": [
    "ap2[ap2.Compound.duplicated(keep=False)].sort_values('Compound')"
   ]
  },
  {
   "cell_type": "code",
   "execution_count": 607,
   "id": "0d9ed1ac-78fe-4854-9ea7-3c38b3cf9e47",
   "metadata": {},
   "outputs": [],
   "source": [
    "ap1['REAL_IC50_uM']=10**(-ap1.pIC50) * 1000000\n",
    "ap2['REAL_IC50_uM']=10**(-ap1.pIC50) * 1000000"
   ]
  },
  {
   "cell_type": "code",
   "execution_count": 608,
   "id": "faf9a5d1-30bb-41c6-92a6-aa2609f36671",
   "metadata": {},
   "outputs": [],
   "source": [
    "solissues=[\n",
    "1084102,\n",
    "1084103,\n",
    "897986,\n",
    "1084135,\n",
    "54897,\n",
    "1084159,\n",
    "1084045,\n",
    "794012,\n",
    "1084174,\n",
    "1084177,\n",
    "51205,\n",
    "1084059,\n",
    "1084183,\n",
    "1084066,\n",
    "1084188,\n",
    "1084077,\n",
    "1062733,\n",
    "1084086,\n",
    "1084087,\n",
    "1084089,\n",
    "1084096,\n",
    "1084227,\n",
    "1084246,\n",
    "88248,\n",
    "1084259,\n",
    "1084263,\n",
    "1084274,\n",
    "1084275,\n",
    "1084286,\n",
    "1084320,\n",
    "1084331,\n",
    "]"
   ]
  },
  {
   "cell_type": "code",
   "execution_count": 609,
   "id": "03948d5d-cf07-4a8a-a6ff-9447ce8c6622",
   "metadata": {},
   "outputs": [],
   "source": [
    "ap1['solubility']=[0 if x in solissues else 1 for x in ap1.Compound]\n",
    "ap2['solubility']=[0 if x in solissues else 1 for x in ap2.Compound]"
   ]
  },
  {
   "cell_type": "code",
   "execution_count": 610,
   "id": "603d60a6-21cd-4a28-b8db-27b59173b7ef",
   "metadata": {},
   "outputs": [],
   "source": [
    "ap1.to_csv('./PARP12_inhibition_curves/PARP1_otava_pIC50_cur.csv')\n",
    "ap2.to_csv('./PARP12_inhibition_curves/PARP2_otava_pIC50_cur.csv')"
   ]
  },
  {
   "cell_type": "code",
   "execution_count": 603,
   "id": "f3a0c820-92ea-49ff-8fa6-3ef35a7485b5",
   "metadata": {},
   "outputs": [
    {
     "data": {
      "text/plain": [
       "87"
      ]
     },
     "execution_count": 603,
     "metadata": {},
     "output_type": "execute_result"
    }
   ],
   "source": [
    "sum(ap1.pIC50>3.41)"
   ]
  },
  {
   "cell_type": "code",
   "execution_count": 604,
   "id": "3c1a45db-cf55-47c7-978a-3576e1d6aa6b",
   "metadata": {},
   "outputs": [
    {
     "data": {
      "text/plain": [
       "66"
      ]
     },
     "execution_count": 604,
     "metadata": {},
     "output_type": "execute_result"
    }
   ],
   "source": [
    "sum(ap2.pIC50>3.41)"
   ]
  },
  {
   "cell_type": "code",
   "execution_count": null,
   "id": "22a9ed64-4a8c-4e15-9e10-ac464016c36d",
   "metadata": {},
   "outputs": [],
   "source": []
  }
 ],
 "metadata": {
  "kernelspec": {
   "display_name": "new-pandas",
   "language": "python",
   "name": "new-pandas"
  },
  "language_info": {
   "codemirror_mode": {
    "name": "ipython",
    "version": 3
   },
   "file_extension": ".py",
   "mimetype": "text/x-python",
   "name": "python",
   "nbconvert_exporter": "python",
   "pygments_lexer": "ipython3",
   "version": "3.10.2"
  }
 },
 "nbformat": 4,
 "nbformat_minor": 5
}
