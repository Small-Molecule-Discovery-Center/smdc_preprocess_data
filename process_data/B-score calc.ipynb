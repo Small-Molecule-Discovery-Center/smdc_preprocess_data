{
 "cells": [
  {
   "cell_type": "code",
   "execution_count": 2,
   "id": "27455b06-e74a-47b0-a6a1-d8ed44ad1586",
   "metadata": {},
   "outputs": [],
   "source": [
    "import pandas as pd\n",
    "import numpy as np\n",
    "import sys\n",
    "import importlib\n",
    "sys.path.append('/mnt/c/Users/akpau/Repos/data_proc')\n",
    "sys.path.append('/mnt/c/Users/akpau/Repos/median_polish')\n",
    "import plate_maps as pm\n",
    "from median_polish import main as mp\n",
    "import matplotlib.pyplot as plt\n",
    "import seaborn as sns\n",
    "%config completer.use_jedi=False"
   ]
  },
  {
   "cell_type": "markdown",
   "id": "f7170b9f-8990-457f-a21c-ba634c2d072d",
   "metadata": {},
   "source": [
    "# Pull data from db in plate array format"
   ]
  },
  {
   "cell_type": "code",
   "execution_count": 3,
   "id": "099718bb-6d89-4e19-931b-c3f4e5398929",
   "metadata": {},
   "outputs": [],
   "source": [
    "cnx=pm.create_mysql_cnx()"
   ]
  },
  {
   "cell_type": "code",
   "execution_count": 4,
   "id": "0e5d5ce3-738f-4209-99e0-071cac89e78f",
   "metadata": {},
   "outputs": [],
   "source": [
    "query=\"\"\"select HAR_HA_ID, HAP_BARCODE, HAR_HAV_ID, HAW_COORDINATES, HART_SDESC, HART_TYPE_ID, HAR_VALUE_INT, HAR_VALUE_DOU, HAR_VALUE_STR\n",
    "from HTS_ASSAY_RESULT\n",
    "inner join HTS_ASSAY_PLATE on HTS_ASSAY_RESULT.HAR_HAP_ID=HAP_ID\n",
    "inner join HTS_ASSAY_RESULT_TYPE on HAR_HART_ID=HART_ID\n",
    "inner join HTS_ASSAY_WELL on HAR_HAW_ID=HAW_ID\n",
    "where HAR_HA_ID=2268\n",
    "\"\"\"\n",
    "\n",
    "with cnx.connect() as conn:\n",
    "    info=pd.read_sql_query(sql=query, con=conn)"
   ]
  },
  {
   "cell_type": "code",
   "execution_count": 5,
   "id": "2b225690-9655-4815-a28c-cf91295794dd",
   "metadata": {},
   "outputs": [
    {
     "data": {
      "text/html": [
       "<div>\n",
       "<style scoped>\n",
       "    .dataframe tbody tr th:only-of-type {\n",
       "        vertical-align: middle;\n",
       "    }\n",
       "\n",
       "    .dataframe tbody tr th {\n",
       "        vertical-align: top;\n",
       "    }\n",
       "\n",
       "    .dataframe thead th {\n",
       "        text-align: right;\n",
       "    }\n",
       "</style>\n",
       "<table border=\"1\" class=\"dataframe\">\n",
       "  <thead>\n",
       "    <tr style=\"text-align: right;\">\n",
       "      <th></th>\n",
       "      <th>HAR_HA_ID</th>\n",
       "      <th>HAP_BARCODE</th>\n",
       "      <th>HAR_HAV_ID</th>\n",
       "      <th>HAW_COORDINATES</th>\n",
       "      <th>HART_SDESC</th>\n",
       "      <th>HART_TYPE_ID</th>\n",
       "      <th>HAR_VALUE_INT</th>\n",
       "      <th>HAR_VALUE_DOU</th>\n",
       "      <th>HAR_VALUE_STR</th>\n",
       "    </tr>\n",
       "  </thead>\n",
       "  <tbody>\n",
       "    <tr>\n",
       "      <th>0</th>\n",
       "      <td>2268</td>\n",
       "      <td>05035PK-PT05</td>\n",
       "      <td>7304</td>\n",
       "      <td>A02</td>\n",
       "      <td>intensity</td>\n",
       "      <td>3</td>\n",
       "      <td>76112.0</td>\n",
       "      <td>NaN</td>\n",
       "      <td>None</td>\n",
       "    </tr>\n",
       "    <tr>\n",
       "      <th>1</th>\n",
       "      <td>2268</td>\n",
       "      <td>05035PK-PT05</td>\n",
       "      <td>7304</td>\n",
       "      <td>A02</td>\n",
       "      <td>foldchange_intensity</td>\n",
       "      <td>3</td>\n",
       "      <td>NaN</td>\n",
       "      <td>0.713521</td>\n",
       "      <td>None</td>\n",
       "    </tr>\n",
       "    <tr>\n",
       "      <th>2</th>\n",
       "      <td>2268</td>\n",
       "      <td>05035PK-PT05</td>\n",
       "      <td>7304</td>\n",
       "      <td>A02</td>\n",
       "      <td>activation_intensity</td>\n",
       "      <td>3</td>\n",
       "      <td>NaN</td>\n",
       "      <td>-10.947318</td>\n",
       "      <td>None</td>\n",
       "    </tr>\n",
       "    <tr>\n",
       "      <th>3</th>\n",
       "      <td>2268</td>\n",
       "      <td>05035PK-PT05</td>\n",
       "      <td>7304</td>\n",
       "      <td>A02</td>\n",
       "      <td>standardscore_intensity</td>\n",
       "      <td>3</td>\n",
       "      <td>NaN</td>\n",
       "      <td>-0.288402</td>\n",
       "      <td>None</td>\n",
       "    </tr>\n",
       "    <tr>\n",
       "      <th>4</th>\n",
       "      <td>2268</td>\n",
       "      <td>05035PK-PT05</td>\n",
       "      <td>7304</td>\n",
       "      <td>A03</td>\n",
       "      <td>intensity</td>\n",
       "      <td>1</td>\n",
       "      <td>75488.0</td>\n",
       "      <td>NaN</td>\n",
       "      <td>None</td>\n",
       "    </tr>\n",
       "  </tbody>\n",
       "</table>\n",
       "</div>"
      ],
      "text/plain": [
       "   HAR_HA_ID   HAP_BARCODE  HAR_HAV_ID HAW_COORDINATES  \\\n",
       "0       2268  05035PK-PT05        7304             A02   \n",
       "1       2268  05035PK-PT05        7304             A02   \n",
       "2       2268  05035PK-PT05        7304             A02   \n",
       "3       2268  05035PK-PT05        7304             A02   \n",
       "4       2268  05035PK-PT05        7304             A03   \n",
       "\n",
       "                HART_SDESC  HART_TYPE_ID  HAR_VALUE_INT  HAR_VALUE_DOU  \\\n",
       "0                intensity             3        76112.0            NaN   \n",
       "1     foldchange_intensity             3            NaN       0.713521   \n",
       "2     activation_intensity             3            NaN     -10.947318   \n",
       "3  standardscore_intensity             3            NaN      -0.288402   \n",
       "4                intensity             1        75488.0            NaN   \n",
       "\n",
       "  HAR_VALUE_STR  \n",
       "0          None  \n",
       "1          None  \n",
       "2          None  \n",
       "3          None  \n",
       "4          None  "
      ]
     },
     "execution_count": 5,
     "metadata": {},
     "output_type": "execute_result"
    }
   ],
   "source": [
    "info.head()"
   ]
  },
  {
   "cell_type": "code",
   "execution_count": 6,
   "id": "737b5a45-e965-4504-b823-013578911613",
   "metadata": {},
   "outputs": [
    {
     "data": {
      "text/plain": [
       "array(['intensity', 'foldchange_intensity', 'activation_intensity',\n",
       "       'standardscore_intensity', 'bscore_intensity'], dtype=object)"
      ]
     },
     "execution_count": 6,
     "metadata": {},
     "output_type": "execute_result"
    }
   ],
   "source": [
    "info.HART_SDESC.unique()"
   ]
  },
  {
   "cell_type": "code",
   "execution_count": 7,
   "id": "8d296f4b-af7c-4f93-833b-8eda7769df42",
   "metadata": {},
   "outputs": [
    {
     "data": {
      "text/html": [
       "<div>\n",
       "<style scoped>\n",
       "    .dataframe tbody tr th:only-of-type {\n",
       "        vertical-align: middle;\n",
       "    }\n",
       "\n",
       "    .dataframe tbody tr th {\n",
       "        vertical-align: top;\n",
       "    }\n",
       "\n",
       "    .dataframe thead th {\n",
       "        text-align: right;\n",
       "    }\n",
       "</style>\n",
       "<table border=\"1\" class=\"dataframe\">\n",
       "  <thead>\n",
       "    <tr style=\"text-align: right;\">\n",
       "      <th></th>\n",
       "      <th>HAR_HA_ID</th>\n",
       "      <th>HAP_BARCODE</th>\n",
       "      <th>HAR_HAV_ID</th>\n",
       "      <th>HAW_COORDINATES</th>\n",
       "      <th>HART_SDESC</th>\n",
       "      <th>HART_TYPE_ID</th>\n",
       "      <th>HAR_VALUE_INT</th>\n",
       "      <th>HAR_VALUE_DOU</th>\n",
       "      <th>HAR_VALUE_STR</th>\n",
       "      <th>row</th>\n",
       "      <th>col</th>\n",
       "      <th>plate</th>\n",
       "    </tr>\n",
       "  </thead>\n",
       "  <tbody>\n",
       "    <tr>\n",
       "      <th>0</th>\n",
       "      <td>2268</td>\n",
       "      <td>05035PK-PT05</td>\n",
       "      <td>7304</td>\n",
       "      <td>A02</td>\n",
       "      <td>intensity</td>\n",
       "      <td>3</td>\n",
       "      <td>76112.0</td>\n",
       "      <td>NaN</td>\n",
       "      <td>None</td>\n",
       "      <td>A</td>\n",
       "      <td>2</td>\n",
       "      <td>05035PK-PT05_7304_intensity</td>\n",
       "    </tr>\n",
       "    <tr>\n",
       "      <th>1</th>\n",
       "      <td>2268</td>\n",
       "      <td>05035PK-PT05</td>\n",
       "      <td>7304</td>\n",
       "      <td>A02</td>\n",
       "      <td>foldchange_intensity</td>\n",
       "      <td>3</td>\n",
       "      <td>NaN</td>\n",
       "      <td>0.713521</td>\n",
       "      <td>None</td>\n",
       "      <td>A</td>\n",
       "      <td>2</td>\n",
       "      <td>05035PK-PT05_7304_foldchange_intensity</td>\n",
       "    </tr>\n",
       "    <tr>\n",
       "      <th>2</th>\n",
       "      <td>2268</td>\n",
       "      <td>05035PK-PT05</td>\n",
       "      <td>7304</td>\n",
       "      <td>A02</td>\n",
       "      <td>activation_intensity</td>\n",
       "      <td>3</td>\n",
       "      <td>NaN</td>\n",
       "      <td>-10.947318</td>\n",
       "      <td>None</td>\n",
       "      <td>A</td>\n",
       "      <td>2</td>\n",
       "      <td>05035PK-PT05_7304_activation_intensity</td>\n",
       "    </tr>\n",
       "    <tr>\n",
       "      <th>3</th>\n",
       "      <td>2268</td>\n",
       "      <td>05035PK-PT05</td>\n",
       "      <td>7304</td>\n",
       "      <td>A02</td>\n",
       "      <td>standardscore_intensity</td>\n",
       "      <td>3</td>\n",
       "      <td>NaN</td>\n",
       "      <td>-0.288402</td>\n",
       "      <td>None</td>\n",
       "      <td>A</td>\n",
       "      <td>2</td>\n",
       "      <td>05035PK-PT05_7304_standardscore_intensity</td>\n",
       "    </tr>\n",
       "    <tr>\n",
       "      <th>4</th>\n",
       "      <td>2268</td>\n",
       "      <td>05035PK-PT05</td>\n",
       "      <td>7304</td>\n",
       "      <td>A03</td>\n",
       "      <td>intensity</td>\n",
       "      <td>1</td>\n",
       "      <td>75488.0</td>\n",
       "      <td>NaN</td>\n",
       "      <td>None</td>\n",
       "      <td>A</td>\n",
       "      <td>3</td>\n",
       "      <td>05035PK-PT05_7304_intensity</td>\n",
       "    </tr>\n",
       "  </tbody>\n",
       "</table>\n",
       "</div>"
      ],
      "text/plain": [
       "   HAR_HA_ID   HAP_BARCODE  HAR_HAV_ID HAW_COORDINATES  \\\n",
       "0       2268  05035PK-PT05        7304             A02   \n",
       "1       2268  05035PK-PT05        7304             A02   \n",
       "2       2268  05035PK-PT05        7304             A02   \n",
       "3       2268  05035PK-PT05        7304             A02   \n",
       "4       2268  05035PK-PT05        7304             A03   \n",
       "\n",
       "                HART_SDESC  HART_TYPE_ID  HAR_VALUE_INT  HAR_VALUE_DOU  \\\n",
       "0                intensity             3        76112.0            NaN   \n",
       "1     foldchange_intensity             3            NaN       0.713521   \n",
       "2     activation_intensity             3            NaN     -10.947318   \n",
       "3  standardscore_intensity             3            NaN      -0.288402   \n",
       "4                intensity             1        75488.0            NaN   \n",
       "\n",
       "  HAR_VALUE_STR row  col                                      plate  \n",
       "0          None   A    2                05035PK-PT05_7304_intensity  \n",
       "1          None   A    2     05035PK-PT05_7304_foldchange_intensity  \n",
       "2          None   A    2     05035PK-PT05_7304_activation_intensity  \n",
       "3          None   A    2  05035PK-PT05_7304_standardscore_intensity  \n",
       "4          None   A    3                05035PK-PT05_7304_intensity  "
      ]
     },
     "execution_count": 7,
     "metadata": {},
     "output_type": "execute_result"
    }
   ],
   "source": [
    "info['row']=info.HAW_COORDINATES.str[0]\n",
    "info['col']=info.HAW_COORDINATES.str[1:].astype(int)\n",
    "info['plate']=info.HAP_BARCODE+'_'+info.HAR_HAV_ID.astype(str)+'_'+info.HART_SDESC\n",
    "info.head()"
   ]
  },
  {
   "cell_type": "code",
   "execution_count": 8,
   "id": "8d9443b3-e449-4ed6-8618-1c6ee74aa5aa",
   "metadata": {},
   "outputs": [
    {
     "data": {
      "text/plain": [
       "<module 'median_polish.main' from '/mnt/c/Users/akpau/Repos/median_polish/median_polish/main.py'>"
      ]
     },
     "execution_count": 8,
     "metadata": {},
     "output_type": "execute_result"
    }
   ],
   "source": [
    "importlib.reload(mp)"
   ]
  },
  {
   "cell_type": "code",
   "execution_count": 9,
   "id": "4265ec9f-f8d1-455a-b53f-9a1243b23078",
   "metadata": {},
   "outputs": [],
   "source": [
    "array_labs=[]\n",
    "arrays=[]\n",
    "polishes=[]\n",
    "mads=[]\n",
    "bscores=[]\n",
    "for plate in info.plate.unique():\n",
    "    if any([x in plate for x in ['foldchange','standardscore','bscore']]):\n",
    "        continue\n",
    "    tmp=info[(info.plate==plate)&(info.HART_TYPE_ID)==1]\n",
    "    tmp=tmp.dropna(how='all', axis=1)\n",
    "    column=[x for x in tmp.columns if 'HAR_VALUE' in x]\n",
    "    column=column[0]\n",
    "    tmp=pd.pivot_table(data=tmp, columns='col', index='row',dropna=True, values=column)\n",
    "    array_labs.append(plate)\n",
    "    arrays.append(tmp)\n",
    "    tmp=tmp.fillna(np.nanmean(tmp.values))\n",
    "    polish=mp.median_polish(tmp.values)\n",
    "    polishes.append(polish)\n",
    "    mad=mp.med_abs_dev(polish['r'])\n",
    "    mads.append(mad)\n",
    "    bscore=polish['r']/mad\n",
    "    bscore=pd.DataFrame(bscore, index=tmp.index, columns=tmp.columns)\n",
    "    bscores.append(bscore)"
   ]
  },
  {
   "cell_type": "code",
   "execution_count": 10,
   "id": "5f3a5860-01a1-461a-a597-a1ae9b498b38",
   "metadata": {},
   "outputs": [
    {
     "data": {
      "text/plain": [
       "'05035PK-PT05_7304_activation_intensity'"
      ]
     },
     "execution_count": 10,
     "metadata": {},
     "output_type": "execute_result"
    }
   ],
   "source": [
    "idx=1\n",
    "tmplab=array_labs[idx]\n",
    "tmp=arrays[idx]\n",
    "polish=polishes[idx]\n",
    "mad=mads[idx]\n",
    "bscore=bscores[idx]\n",
    "tmplab"
   ]
  },
  {
   "cell_type": "code",
   "execution_count": 11,
   "id": "2dbd13ea-862d-4281-8bc8-85a389bea483",
   "metadata": {},
   "outputs": [
    {
     "data": {
      "text/plain": [
       "<AxesSubplot: xlabel='col', ylabel='row'>"
      ]
     },
     "execution_count": 11,
     "metadata": {},
     "output_type": "execute_result"
    },
    {
     "data": {
      "image/png": "[encoded data removed]",
      "text/plain": [
       "<Figure size 640x480 with 2 Axes>"
      ]
     },
     "metadata": {},
     "output_type": "display_data"
    }
   ],
   "source": [
    "sns.heatmap(tmp, vmax=tmp.max().max(), vmin=tmp.min().min())"
   ]
  },
  {
   "cell_type": "code",
   "execution_count": 12,
   "id": "baef061c-a0bf-4337-8305-6e514293648f",
   "metadata": {},
   "outputs": [
    {
     "data": {
      "text/plain": [
       "<AxesSubplot: xlabel='col', ylabel='row'>"
      ]
     },
     "execution_count": 12,
     "metadata": {},
     "output_type": "execute_result"
    },
    {
     "data": {
      "image/png": "[encoded data removed]",
      "text/plain": [
       "<Figure size 640x480 with 2 Axes>"
      ]
     },
     "metadata": {},
     "output_type": "display_data"
    }
   ],
   "source": [
    "sns.heatmap(bscore, vmax=tmp.max().max(), vmin=tmp.min().min())"
   ]
  },
  {
   "cell_type": "markdown",
   "id": "48314f94-87c6-485e-8ab3-f3170f450fa6",
   "metadata": {},
   "source": [
    "### From pipeline pilot:\n",
    "```\n",
    " X' = (Residual)/MAD \n",
    " where \n",
    " Residual = X - (Mean + RowEffect + ColumnEffect + Smoothing) \n",
    " MAD = Median Absolute Deviation of the Residuals \n",
    "```"
   ]
  },
  {
   "cell_type": "code",
   "execution_count": 13,
   "id": "9fb87f96-220e-4444-ae71-dce1fb0c4071",
   "metadata": {},
   "outputs": [],
   "source": [
    "data=arrays[idx].values"
   ]
  },
  {
   "cell_type": "code",
   "execution_count": 16,
   "id": "102c10f4-9cb5-4ee0-9b57-2ecbabc0168b",
   "metadata": {},
   "outputs": [
    {
     "name": "stdout",
     "output_type": "stream",
     "text": [
      "\tIteration 0\n",
      "\tIteration 1\n",
      "\tIteration 2\n",
      "\tIteration 3\n",
      "\tIteration 4\n",
      "\tIteration 5\n",
      "\tIteration 6\n",
      "\tIteration 7\n",
      "\tIteration 8\n",
      "\tIteration 9\n"
     ]
    }
   ],
   "source": [
    "n_iter=10\n",
    "tol=0.01\n",
    "\n",
    "assert data.ndim == 2, \"Input must be 2D array\"\n",
    "ndim = 2\n",
    "data = data.copy()\n",
    "grand_effect = np.mean(data) # changed to mean to match PLP\n",
    "data -= grand_effect\n",
    "median_margins = [0] * ndim\n",
    "margins = [np.zeros(shape=data.shape[idx]) for idx in range(2)]\n",
    "dim_mask = np.ones(ndim, dtype=int)\n",
    "stop=False\n",
    "\n",
    "for i in range(n_iter):                                     # for num of iterations,\n",
    "    print('\\tIteration', i)\n",
    "    for dim_id in range(ndim):                                # for each dimension,\n",
    "        rest_dim = 1 - dim_id                                   # define other dimension\n",
    "        temp_median = np.median(data, rest_dim)                 # get medians along other dimension aka effects\n",
    "        margins[dim_id] += temp_median                          # add medians as effects for original dimension\n",
    "        median_margins[rest_dim] = np.median(margins[rest_dim]) # the effect median is labeled by the other dimension\n",
    "        margins[rest_dim] -= median_margins[rest_dim]           # subtract median from the effects of the other dimension\n",
    "        dim_mask[dim_id] = -1                                   # mask out original dimension\n",
    "        data -= temp_median.reshape(dim_mask)                   # subtract medians along the matching dimension by reshaping medians to align with data dimension\n",
    "        dim_mask[dim_id] = 1                                    # reset mask\n",
    "    grand_effect += sum(median_margins)                       # add the median of row and column effects to the grand effect\n",
    "    if stop:\n",
    "        break\n",
    "polishdict={'ave': grand_effect, 'row': margins[1], 'column': margins[0], 'r': data}"
   ]
  },
  {
   "cell_type": "code",
   "execution_count": 17,
   "id": "f2884b22-bad0-46cd-996f-5eec60685c42",
   "metadata": {},
   "outputs": [
    {
     "data": {
      "text/plain": [
       "[array([-4.95788942, -2.54786026, -0.90727612, -0.063139  ,  1.10897389,\n",
       "        -0.17884906, -0.80386921,  0.09054402, -0.63136764,  0.063139  ,\n",
       "         1.39559585,  0.42406124,  1.38543092,  1.7142575 ,  2.11385798,\n",
       "        -0.40704506]),\n",
       " array([ 1.04263148e+01,  1.12437577e+01,  7.53829873e+00,  5.50640391e+00,\n",
       "         2.76832061e+00,  2.56493242e+00, -1.28783974e+00,  2.19792017e+00,\n",
       "        -3.05233417e-01, -3.45870754e+00, -1.56709549e+00, -4.92428245e-01,\n",
       "        -2.98836675e+00, -1.46027415e+00, -1.53929306e-03, -4.70038528e-01,\n",
       "        -1.31635305e+00, -1.50100664e-01,  5.29880645e-01,  4.60836354e-02,\n",
       "         1.23726137e+00])]"
      ]
     },
     "execution_count": 17,
     "metadata": {},
     "output_type": "execute_result"
    }
   ],
   "source": [
    "margins"
   ]
  },
  {
   "cell_type": "code",
   "execution_count": null,
   "id": "748db9a5-dba4-4197-88ef-64a934b946b2",
   "metadata": {},
   "outputs": [],
   "source": []
  },
  {
   "cell_type": "code",
   "execution_count": null,
   "id": "18247565-8e87-40c5-a1d3-f1aad997685e",
   "metadata": {},
   "outputs": [],
   "source": []
  },
  {
   "cell_type": "code",
   "execution_count": 18,
   "id": "c30150c7-47a1-4398-954c-ee92ddc9e469",
   "metadata": {},
   "outputs": [],
   "source": [
    "bscore=pd.DataFrame(bscore, index=tmp.index, columns=tmp.columns)"
   ]
  },
  {
   "cell_type": "code",
   "execution_count": 19,
   "id": "f6a09570-955a-4cae-85b8-8046b6cf48ac",
   "metadata": {},
   "outputs": [],
   "source": [
    "bscore=bscore.melt(value_name='activation_bscore', ignore_index=False)"
   ]
  },
  {
   "cell_type": "code",
   "execution_count": 20,
   "id": "19876002-ce94-48a7-89bd-af722d2f9459",
   "metadata": {},
   "outputs": [],
   "source": [
    "bscore=bscore.reset_index()"
   ]
  },
  {
   "cell_type": "code",
   "execution_count": 21,
   "id": "34535941-176f-4233-b8fb-9a814a9628bb",
   "metadata": {},
   "outputs": [
    {
     "data": {
      "text/html": [
       "<div>\n",
       "<style scoped>\n",
       "    .dataframe tbody tr th:only-of-type {\n",
       "        vertical-align: middle;\n",
       "    }\n",
       "\n",
       "    .dataframe tbody tr th {\n",
       "        vertical-align: top;\n",
       "    }\n",
       "\n",
       "    .dataframe thead th {\n",
       "        text-align: right;\n",
       "    }\n",
       "</style>\n",
       "<table border=\"1\" class=\"dataframe\">\n",
       "  <thead>\n",
       "    <tr style=\"text-align: right;\">\n",
       "      <th></th>\n",
       "      <th>HAR_HA_ID</th>\n",
       "      <th>HAP_BARCODE</th>\n",
       "      <th>HAR_HAV_ID</th>\n",
       "      <th>HAW_COORDINATES</th>\n",
       "      <th>HART_SDESC</th>\n",
       "      <th>HART_TYPE_ID</th>\n",
       "      <th>HAR_VALUE_INT</th>\n",
       "      <th>HAR_VALUE_DOU</th>\n",
       "      <th>HAR_VALUE_STR</th>\n",
       "      <th>row</th>\n",
       "      <th>col</th>\n",
       "      <th>plate</th>\n",
       "      <th>activation_bscore</th>\n",
       "    </tr>\n",
       "  </thead>\n",
       "  <tbody>\n",
       "    <tr>\n",
       "      <th>0</th>\n",
       "      <td>2268</td>\n",
       "      <td>05035PK-PT05</td>\n",
       "      <td>7304</td>\n",
       "      <td>A03</td>\n",
       "      <td>bscore_intensity</td>\n",
       "      <td>1</td>\n",
       "      <td>NaN</td>\n",
       "      <td>-4.398978</td>\n",
       "      <td>None</td>\n",
       "      <td>A</td>\n",
       "      <td>3</td>\n",
       "      <td>05035PK-PT05_7304_bscore_intensity</td>\n",
       "      <td>-3.955713</td>\n",
       "    </tr>\n",
       "    <tr>\n",
       "      <th>1</th>\n",
       "      <td>2268</td>\n",
       "      <td>05035PK-PT05</td>\n",
       "      <td>7304</td>\n",
       "      <td>A04</td>\n",
       "      <td>bscore_intensity</td>\n",
       "      <td>1</td>\n",
       "      <td>NaN</td>\n",
       "      <td>-3.951451</td>\n",
       "      <td>None</td>\n",
       "      <td>A</td>\n",
       "      <td>4</td>\n",
       "      <td>05035PK-PT05_7304_bscore_intensity</td>\n",
       "      <td>-3.610028</td>\n",
       "    </tr>\n",
       "    <tr>\n",
       "      <th>2</th>\n",
       "      <td>2268</td>\n",
       "      <td>05035PK-PT05</td>\n",
       "      <td>7304</td>\n",
       "      <td>A05</td>\n",
       "      <td>bscore_intensity</td>\n",
       "      <td>1</td>\n",
       "      <td>NaN</td>\n",
       "      <td>2.067302</td>\n",
       "      <td>None</td>\n",
       "      <td>A</td>\n",
       "      <td>5</td>\n",
       "      <td>05035PK-PT05_7304_bscore_intensity</td>\n",
       "      <td>2.137523</td>\n",
       "    </tr>\n",
       "    <tr>\n",
       "      <th>3</th>\n",
       "      <td>2268</td>\n",
       "      <td>05035PK-PT05</td>\n",
       "      <td>7304</td>\n",
       "      <td>A06</td>\n",
       "      <td>bscore_intensity</td>\n",
       "      <td>1</td>\n",
       "      <td>NaN</td>\n",
       "      <td>-1.579440</td>\n",
       "      <td>None</td>\n",
       "      <td>A</td>\n",
       "      <td>6</td>\n",
       "      <td>05035PK-PT05_7304_bscore_intensity</td>\n",
       "      <td>-1.271655</td>\n",
       "    </tr>\n",
       "    <tr>\n",
       "      <th>4</th>\n",
       "      <td>2268</td>\n",
       "      <td>05035PK-PT05</td>\n",
       "      <td>7304</td>\n",
       "      <td>A07</td>\n",
       "      <td>bscore_intensity</td>\n",
       "      <td>1</td>\n",
       "      <td>NaN</td>\n",
       "      <td>-2.215322</td>\n",
       "      <td>None</td>\n",
       "      <td>A</td>\n",
       "      <td>7</td>\n",
       "      <td>05035PK-PT05_7304_bscore_intensity</td>\n",
       "      <td>-1.927034</td>\n",
       "    </tr>\n",
       "  </tbody>\n",
       "</table>\n",
       "</div>"
      ],
      "text/plain": [
       "   HAR_HA_ID   HAP_BARCODE  HAR_HAV_ID HAW_COORDINATES        HART_SDESC  \\\n",
       "0       2268  05035PK-PT05        7304             A03  bscore_intensity   \n",
       "1       2268  05035PK-PT05        7304             A04  bscore_intensity   \n",
       "2       2268  05035PK-PT05        7304             A05  bscore_intensity   \n",
       "3       2268  05035PK-PT05        7304             A06  bscore_intensity   \n",
       "4       2268  05035PK-PT05        7304             A07  bscore_intensity   \n",
       "\n",
       "   HART_TYPE_ID  HAR_VALUE_INT  HAR_VALUE_DOU HAR_VALUE_STR row  col  \\\n",
       "0             1            NaN      -4.398978          None   A    3   \n",
       "1             1            NaN      -3.951451          None   A    4   \n",
       "2             1            NaN       2.067302          None   A    5   \n",
       "3             1            NaN      -1.579440          None   A    6   \n",
       "4             1            NaN      -2.215322          None   A    7   \n",
       "\n",
       "                                plate  activation_bscore  \n",
       "0  05035PK-PT05_7304_bscore_intensity          -3.955713  \n",
       "1  05035PK-PT05_7304_bscore_intensity          -3.610028  \n",
       "2  05035PK-PT05_7304_bscore_intensity           2.137523  \n",
       "3  05035PK-PT05_7304_bscore_intensity          -1.271655  \n",
       "4  05035PK-PT05_7304_bscore_intensity          -1.927034  "
      ]
     },
     "execution_count": 21,
     "metadata": {},
     "output_type": "execute_result"
    }
   ],
   "source": [
    "tmp=info[info.plate==tmplab.replace('activation','bscore')]\n",
    "tmp=tmp.merge(bscore, how='left')\n",
    "tmp.head()"
   ]
  },
  {
   "cell_type": "code",
   "execution_count": 22,
   "id": "c455f5e2-e12f-476e-b976-d6b0da7377a4",
   "metadata": {},
   "outputs": [
    {
     "data": {
      "text/plain": [
       "Text(0, 0.5, 'Python_bscore')"
      ]
     },
     "execution_count": 22,
     "metadata": {},
     "output_type": "execute_result"
    },
    {
     "data": {
      "image/png": "[encoded data removed]",
      "text/plain": [
       "<Figure size 500x500 with 1 Axes>"
      ]
     },
     "metadata": {},
     "output_type": "display_data"
    }
   ],
   "source": [
    "fig, ax=plt.subplots(1, figsize=(5,5))\n",
    "tmp.plot(x='HAR_VALUE_DOU',y='activation_bscore',kind='scatter', ax=ax)\n",
    "ax.set_xlabel('PLP_bscore')\n",
    "ax.set_ylabel('Python_bscore')"
   ]
  },
  {
   "cell_type": "code",
   "execution_count": 119,
   "id": "9e1e7b25-9c91-43d1-9b6c-daecf07f5cc8",
   "metadata": {},
   "outputs": [
    {
     "data": {
      "text/plain": [
       "{'ave': -9.620290546882284,\n",
       " 'row': array([ 1.04263148e+01,  1.12437577e+01,  7.53829873e+00,  5.50640391e+00,\n",
       "         2.76832061e+00,  2.56493242e+00, -1.28783974e+00,  2.19792017e+00,\n",
       "        -3.05233417e-01, -3.45870754e+00, -1.56709549e+00, -4.92428245e-01,\n",
       "        -2.98836675e+00, -1.46027415e+00, -1.53929306e-03, -4.70038528e-01,\n",
       "        -1.31635305e+00, -1.50100664e-01,  5.29880645e-01,  4.60836354e-02,\n",
       "         1.23726137e+00]),\n",
       " 'column': array([-4.95788942, -2.54786026, -0.90727612, -0.063139  ,  1.10897389,\n",
       "        -0.17884906, -0.80386921,  0.09054402, -0.63136764,  0.063139  ,\n",
       "         1.39559585,  0.42406124,  1.38543092,  1.7142575 ,  2.11385798,\n",
       "        -0.40704506]),\n",
       " 'r': array([[-6.79545269e+00, -7.83643461e+00, -7.15161712e+00,\n",
       "          4.23452244e+00, -2.51920142e+00, -3.81753634e+00,\n",
       "         -1.65376049e-01,  0.00000000e+00, -7.69685711e-01,\n",
       "          5.85723958e+00,  1.86780059e+00, -4.39411634e+00,\n",
       "          4.24627704e+00,  3.45232647e-01,  5.65571533e+00,\n",
       "          1.71075351e+00,  4.53452785e+00, -7.07850910e-02,\n",
       "         -3.49542668e-01,  3.61343728e+00,  2.01530404e+00],\n",
       "        [-4.59714070e+00, -9.20328206e+00, -1.08627575e+01,\n",
       "         -2.73799374e+00, -8.39694998e+00, -8.22508651e-01,\n",
       "         -9.47583209e-01, -5.75738144e+00,  1.37704037e+00,\n",
       "         -1.36747437e+00,  4.99465893e+00,  8.70691323e-01,\n",
       "          1.53246419e+00,  9.95967388e-01,  3.56875300e-01,\n",
       "          0.00000000e+00, -1.25151243e+00,  1.04112185e-03,\n",
       "          2.88621926e+00,  6.35963125e-01,  7.66847814e-04],\n",
       "        [-9.49910061e+00,  5.16497191e-01, -1.82505862e+00,\n",
       "         -4.67662979e+00, -2.98745997e+00, -4.83604458e+00,\n",
       "         -1.39026766e+01,  1.89417008e-02, -1.67355859e+00,\n",
       "          4.50628882e+00,  1.13014896e+00,  1.84952498e+00,\n",
       "          7.83640102e-04,  3.14981340e+00, -1.83209458e-01,\n",
       "          1.09346901e+00,  2.23210368e+00, -3.98383597e+00,\n",
       "          1.12526800e+00,  8.81130528e-01, -2.69446253e+00],\n",
       "        [-6.21636505e+00, -7.38917762e+00,  7.25822576e+00,\n",
       "          1.14527881e+00,  3.01007358e-01,  0.00000000e+00,\n",
       "         -1.99587537e-01,  1.22677739e+00, -1.18792563e+00,\n",
       "          2.55592056e+00,  5.21014317e-01,  1.52697871e+00,\n",
       "          3.12876147e+00, -2.93889107e+00, -4.25510978e-01,\n",
       "         -3.73997836e+00, -7.27055689e-01,  1.51136189e+00,\n",
       "          2.84896277e+00, -1.42121809e+01, -9.87963064e-01],\n",
       "        [-5.17028387e+00,  1.85906300e+00, -8.98270417e+00,\n",
       "         -2.03295274e+00,  3.05515528e+00,  8.31442149e-02,\n",
       "          1.58681523e-01, -2.84560991e+00,  1.33280389e-01,\n",
       "          2.36967170e+00, -4.12454974e+00, -1.16978436e+00,\n",
       "          1.31049366e+01, -3.45232647e-01,  1.53929306e-03,\n",
       "         -2.98018331e-01, -1.34170380e-02,  2.85549497e+00,\n",
       "         -2.46721810e+00,  6.87582618e-01,  7.17271383e-01],\n",
       "        [ 4.39291849e-01,  1.16090684e-02,  1.01653066e+01,\n",
       "          0.00000000e+00, -1.42317998e+00,  7.29761487e+00,\n",
       "          4.54908677e-01, -4.07976471e+00, -9.46116683e-01,\n",
       "         -2.68766165e-01, -2.40236068e-01, -1.25758564e+00,\n",
       "         -4.41055039e-01,  2.03162615e+00, -2.60823973e+00,\n",
       "          4.40629635e-02,  1.34170380e-02,  8.81942156e-01,\n",
       "         -1.91879317e+00,  3.69493585e+00, -3.41715782e+00],\n",
       "        [-5.70490554e+00, -8.91822738e+00,  9.60345348e-01,\n",
       "          5.90397812e+00, -6.83524482e-01,  3.14807260e+00,\n",
       "         -2.87499082e+00, -1.31679524e+00, -8.88541525e-01,\n",
       "          3.03298946e+00, -3.36349527e-02, -8.48508710e+00,\n",
       "          3.76631986e+00, -3.68842044e+00,  4.64270377e+00,\n",
       "          6.36072835e+00,  3.76225053e+00,  2.90551360e+00,\n",
       "          2.78724552e+00, -7.87048937e-01, -7.66847814e-04],\n",
       "        [ 7.97656625e+00, -3.31854791e+00,  5.05830170e+00,\n",
       "          0.00000000e+00, -1.34293524e+00,  6.21431079e+00,\n",
       "          4.20921646e+00, -2.85889821e+00, -8.48676633e-01,\n",
       "          2.39650577e+00, -2.29323040e+01, -1.05500347e-01,\n",
       "         -2.20070769e+00,  1.18332454e+00,  1.32948462e+00,\n",
       "          1.76932501e+00, -3.99270230e-01,  7.44379733e-01,\n",
       "         -5.27187722e+00, -9.78044979e+00,  1.93058135e+00],\n",
       "        [ 2.00950511e+00, -1.16090684e-02, -9.60345348e-01,\n",
       "         -2.32738871e+00,  6.91551195e-01,  2.64444950e-01,\n",
       "         -1.58681523e-01, -1.91917939e+00,  3.06009781e+00,\n",
       "          4.71758059e+00, -3.37967184e-01,  1.68252008e+00,\n",
       "         -3.61101359e+00, -2.61139668e+00,  3.10604151e+00,\n",
       "          4.17637634e+00,  3.30316058e+00, -1.04112185e-03,\n",
       "          5.82453380e+00, -2.86249736e+00, -5.02807559e+00],\n",
       "        [ 5.82016781e+00,  5.07150604e+00, -2.40571354e+00,\n",
       "          6.17956195e-02, -3.01007358e-01, -4.92949926e+00,\n",
       "          3.02721851e+00,  0.00000000e+00,  1.45424012e+00,\n",
       "         -5.22128205e-02,  3.36349527e-02, -2.84438967e-01,\n",
       "         -9.58167948e-01, -1.33990703e+00, -1.53929306e-03,\n",
       "         -1.06915378e+00,  8.77660122e-01,  1.47022078e-01,\n",
       "          7.25078118e+00, -2.91504602e+00,  3.12726696e+00],\n",
       "        [-8.48564685e-01,  3.49258318e+00,  6.55608423e+00,\n",
       "          2.47182478e-02, -2.22383627e+00,  5.44489264e+01,\n",
       "          5.11662692e+00,  6.96588882e-01,  5.63129375e-01,\n",
       "         -5.66630007e+00,  4.19221147e+00, -7.62862445e-01,\n",
       "         -3.08160873e+00, -2.88443928e+00,  1.56263434e-01,\n",
       "          0.00000000e+00, -1.75590797e+00, -2.31459299e+00,\n",
       "         -3.56775106e+00, -1.13548947e+01,  2.20749738e+00],\n",
       "        [ 8.62367945e-01, -5.28561891e+00, -8.52133046e+00,\n",
       "         -1.52361130e+01,  5.40801229e+00,  0.00000000e+00,\n",
       "          8.32130632e-01, -2.37277267e+00,  1.28819798e+00,\n",
       "         -1.63400156e+00, -2.38676568e+01,  1.27478094e+00,\n",
       "          4.51584923e+00,  7.29440194e-01, -3.83018094e+00,\n",
       "         -4.95797898e-01, -1.36901366e+00, -3.50966654e+00,\n",
       "          6.93818154e-01,  9.08222086e-01,  1.18268084e-01],\n",
       "        [ 4.01067564e+00, -1.33543804e+01,  4.92123186e+00,\n",
       "         -4.45882262e+00,  1.26551160e+00, -2.32120915e+01,\n",
       "         -1.79145165e+00,  1.28566234e+00,  2.39026464e+00,\n",
       "         -8.21250349e+00,  4.42336851e-01,  4.29698975e+00,\n",
       "          7.83640102e-04, -9.31678114e+00,  3.07243454e+00,\n",
       "          2.73602344e-02, -3.35728212e-01, -5.73202509e+00,\n",
       "         -1.16743904e+00,  1.94723930e+00, -9.37197179e+00],\n",
       "        [-4.39291849e-01,  2.45745058e+00,  1.18029689e+01,\n",
       "          5.01367340e+00,  8.30200639e+00,  6.12750586e-01,\n",
       "          3.10136206e+00,  7.69166270e+00, -4.42692287e+00,\n",
       "         -1.12123338e+01, -2.12187910e+00, -2.38263534e+00,\n",
       "         -2.77550771e+00,  9.18039977e-01, -1.30875174e+00,\n",
       "         -1.88343421e+00,  4.14439823e+00, -3.82546230e+00,\n",
       "         -2.74274036e-04, -6.67269547e-02,  3.92844381e-01],\n",
       "        [ 5.78703102e+00,  2.51639151e+00,  1.30082634e+01,\n",
       "          0.00000000e+00,  1.47136266e+00, -4.17344329e-01,\n",
       "         -7.73578723e+00,  3.11933540e+00,  9.79757233e-01,\n",
       "          5.22128205e-02,  8.60263312e-01,  1.00073080e+00,\n",
       "         -6.47398673e-01, -2.35890784e+00, -4.16728052e+00,\n",
       "         -1.41180601e+00, -1.95257925e+00, -4.64921358e+00,\n",
       "         -1.41945210e-01,  6.67269547e-02, -4.25175132e-01],\n",
       "        [ 1.67054718e+00,  2.73312397e+00, -3.12879114e+01,\n",
       "         -1.81231327e+00,  4.06104691e+00,  0.00000000e+00,\n",
       "          1.42250270e+00,  3.42204438e+00, -1.33280389e-01,\n",
       "         -7.21101144e+00, -6.36259789e-02,  1.05500347e-01,\n",
       "         -7.83640102e-04,  3.23995441e+00, -2.31462378e+01,\n",
       "         -2.31276823e+00,  1.52552898e+00,  4.42309983e+00,\n",
       "          2.74274036e-04, -5.76355541e+00, -2.51834501e+00]])}"
      ]
     },
     "execution_count": 119,
     "metadata": {},
     "output_type": "execute_result"
    }
   ],
   "source": [
    "polish"
   ]
  },
  {
   "cell_type": "code",
   "execution_count": null,
   "id": "61981b64-b7dd-4e92-a06c-0b1c6f3919b6",
   "metadata": {},
   "outputs": [],
   "source": []
  }
 ],
 "metadata": {
  "kernelspec": {
   "display_name": "new-pandas",
   "language": "python",
   "name": "new-pandas"
  },
  "language_info": {
   "codemirror_mode": {
    "name": "ipython",
    "version": 3
   },
   "file_extension": ".py",
   "mimetype": "text/x-python",
   "name": "python",
   "nbconvert_exporter": "python",
   "pygments_lexer": "ipython3",
   "version": "3.10.9"
  }
 },
 "nbformat": 4,
 "nbformat_minor": 5
}
