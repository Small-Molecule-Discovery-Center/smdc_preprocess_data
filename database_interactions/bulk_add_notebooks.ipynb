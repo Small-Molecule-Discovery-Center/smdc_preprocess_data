{
 "cells": [
  {
   "cell_type": "code",
   "execution_count": 155,
   "id": "9376a520-eacf-4c54-8882-a93816e32969",
   "metadata": {},
   "outputs": [],
   "source": [
    "import sys\n",
    "sys.path.append('/home/apaulson/repos/data-proc')\n",
    "import plate_maps as pm"
   ]
  },
  {
   "cell_type": "code",
   "execution_count": 156,
   "id": "f2d8794f-e65a-41eb-9397-cec513669f50",
   "metadata": {},
   "outputs": [
    {
     "name": "stdout",
     "output_type": "stream",
     "text": [
      "2.0.3\n"
     ]
    }
   ],
   "source": [
    "import pandas as pd\n",
    "import os\n",
    "import sys\n",
    "import numpy as np\n",
    "pd.set_option('display.max_columns', 90)\n",
    "from pathlib import Path, PureWindowsPath\n",
    "\n",
    "import importlib\n",
    "%config Completer.use_jedi=False\n",
    "print(pd.__version__)\n",
    "\n",
    "engine = pm.create_mysql_cnx(host='avidddb.ucsf.edu', db='QB3_HiTS_AVIDD')"
   ]
  },
  {
   "cell_type": "code",
   "execution_count": 157,
   "id": "6a1acde9-d0c8-4b89-979e-6de2298edfae",
   "metadata": {},
   "outputs": [],
   "source": [
    "from sqlalchemy import text"
   ]
  },
  {
   "cell_type": "code",
   "execution_count": 158,
   "id": "68b55739-c66a-43a2-9eb1-78c8668fdb36",
   "metadata": {},
   "outputs": [
    {
     "name": "stdout",
     "output_type": "stream",
     "text": [
      "[('hello world',)]\n"
     ]
    }
   ],
   "source": [
    "with engine.connect() as conn:\n",
    "    result=conn.execute(text(\"select 'hello world'\"))\n",
    "    print(result.all())"
   ]
  },
  {
   "cell_type": "code",
   "execution_count": 159,
   "id": "b6792ea4-7fc2-4c65-81ae-87b15ee928b8",
   "metadata": {},
   "outputs": [],
   "source": [
    "# MetaData stores a collection of tables we want to work with\n",
    "from sqlalchemy import MetaData\n",
    "metadata = MetaData()"
   ]
  },
  {
   "cell_type": "code",
   "execution_count": 160,
   "id": "68eceef2-b0ec-4a70-9db9-93f5ea6e7397",
   "metadata": {},
   "outputs": [],
   "source": [
    "# reflection gets an existing table from the db\n",
    "from sqlalchemy import Table\n",
    "\n",
    "nb=Table(\"INV_NOTEBOOK\", metadata, autoload_with=engine)"
   ]
  },
  {
   "cell_type": "markdown",
   "id": "d6615064-c15f-4364-9a7a-cab549339f11",
   "metadata": {},
   "source": [
    "# bulk insert new notebooks"
   ]
  },
  {
   "cell_type": "code",
   "execution_count": 161,
   "id": "3d38989c-cbc7-472c-a4f7-145260c88cc4",
   "metadata": {},
   "outputs": [],
   "source": [
    "query=\"select * from INV_NOTEBOOK\"\n",
    "nb=pd.read_sql(query, con=engine)\n",
    "query=\"select * from DIRECTORY_MEMBER\"\n",
    "dm=pd.read_sql(query, con=engine)"
   ]
  },
  {
   "cell_type": "code",
   "execution_count": 162,
   "id": "8fa58113-cfea-4a80-848d-f4b0f395e646",
   "metadata": {},
   "outputs": [
    {
     "data": {
      "text/html": [
       "<div>\n",
       "<style scoped>\n",
       "    .dataframe tbody tr th:only-of-type {\n",
       "        vertical-align: middle;\n",
       "    }\n",
       "\n",
       "    .dataframe tbody tr th {\n",
       "        vertical-align: top;\n",
       "    }\n",
       "\n",
       "    .dataframe thead th {\n",
       "        text-align: right;\n",
       "    }\n",
       "</style>\n",
       "<table border=\"1\" class=\"dataframe\">\n",
       "  <thead>\n",
       "    <tr style=\"text-align: right;\">\n",
       "      <th></th>\n",
       "      <th>IN_ID</th>\n",
       "      <th>IN_SDESC</th>\n",
       "      <th>IN_SCIENTIST_ID</th>\n",
       "      <th>IN_ISC_ID</th>\n",
       "      <th>IN_NOTES</th>\n",
       "      <th>IN_STATUS_ID</th>\n",
       "      <th>IN_INS_BY</th>\n",
       "      <th>IN_INS_DATE</th>\n",
       "    </tr>\n",
       "  </thead>\n",
       "  <tbody>\n",
       "    <tr>\n",
       "      <th>50</th>\n",
       "      <td>51</td>\n",
       "      <td>KL196</td>\n",
       "      <td>7</td>\n",
       "      <td>AVIDD</td>\n",
       "      <td>None</td>\n",
       "      <td>1</td>\n",
       "      <td>1</td>\n",
       "      <td>2023-07-31 17:52:28</td>\n",
       "    </tr>\n",
       "    <tr>\n",
       "      <th>51</th>\n",
       "      <td>52</td>\n",
       "      <td>Renslo_2GiD287</td>\n",
       "      <td>18</td>\n",
       "      <td>AVIDD</td>\n",
       "      <td>None</td>\n",
       "      <td>1</td>\n",
       "      <td>1</td>\n",
       "      <td>2023-10-16 10:09:12</td>\n",
       "    </tr>\n",
       "  </tbody>\n",
       "</table>\n",
       "</div>"
      ],
      "text/plain": [
       "    IN_ID        IN_SDESC  IN_SCIENTIST_ID IN_ISC_ID IN_NOTES  IN_STATUS_ID  \\\n",
       "50     51           KL196                7     AVIDD     None             1   \n",
       "51     52  Renslo_2GiD287               18     AVIDD     None             1   \n",
       "\n",
       "    IN_INS_BY         IN_INS_DATE  \n",
       "50          1 2023-07-31 17:52:28  \n",
       "51          1 2023-10-16 10:09:12  "
      ]
     },
     "execution_count": 162,
     "metadata": {},
     "output_type": "execute_result"
    }
   ],
   "source": [
    "nb.tail(2)"
   ]
  },
  {
   "cell_type": "code",
   "execution_count": 163,
   "id": "b7147d46-3d7c-476d-b32e-174c14bfd6a0",
   "metadata": {},
   "outputs": [],
   "source": [
    "info=pd.read_csv(\"/Volumes/Shared/SMDC/All_Compounds/AVIDD/20231016_AVIDD_cpd_reg.csv\")\n",
    "info=info.dropna(how=\"all\", axis=\"index\")\n",
    "info=info[~info.notebook_name.isna()]\n",
    "info[['fname','lname']]=info.owner.str.split(' ', expand=True)"
   ]
  },
  {
   "cell_type": "code",
   "execution_count": 164,
   "id": "5532e264-5a63-46a7-b90b-f8e29f8d77a1",
   "metadata": {},
   "outputs": [
    {
     "data": {
      "text/plain": [
       "(19, 19)"
      ]
     },
     "execution_count": 164,
     "metadata": {},
     "output_type": "execute_result"
    }
   ],
   "source": [
    "dm.DM_ID.nunique(), dm.DM_LNAME.nunique()"
   ]
  },
  {
   "cell_type": "code",
   "execution_count": 165,
   "id": "396f11e7-7ac1-409f-889e-5f6bf6e32331",
   "metadata": {},
   "outputs": [
    {
     "data": {
      "text/html": [
       "<div>\n",
       "<style scoped>\n",
       "    .dataframe tbody tr th:only-of-type {\n",
       "        vertical-align: middle;\n",
       "    }\n",
       "\n",
       "    .dataframe tbody tr th {\n",
       "        vertical-align: top;\n",
       "    }\n",
       "\n",
       "    .dataframe thead th {\n",
       "        text-align: right;\n",
       "    }\n",
       "</style>\n",
       "<table border=\"1\" class=\"dataframe\">\n",
       "  <thead>\n",
       "    <tr style=\"text-align: right;\">\n",
       "      <th></th>\n",
       "      <th>project</th>\n",
       "      <th>owner</th>\n",
       "      <th>PARENT_AVIDD</th>\n",
       "      <th>smiles</th>\n",
       "      <th>date_prepared</th>\n",
       "      <th>SCREENING_CENTER</th>\n",
       "      <th>lot_type</th>\n",
       "      <th>vendor_name</th>\n",
       "      <th>lot_alias</th>\n",
       "      <th>notebook_name</th>\n",
       "      <th>notebook_page</th>\n",
       "      <th>appearance</th>\n",
       "      <th>amount_prepared</th>\n",
       "      <th>amount_units</th>\n",
       "      <th>salt</th>\n",
       "      <th>salt_num</th>\n",
       "      <th>solvate</th>\n",
       "      <th>solvate_num</th>\n",
       "      <th>alias1</th>\n",
       "      <th>alias1_value</th>\n",
       "      <th>alias2</th>\n",
       "      <th>alias2_value</th>\n",
       "      <th>alias3</th>\n",
       "      <th>alias3_value</th>\n",
       "      <th>analytical</th>\n",
       "      <th>purity</th>\n",
       "      <th>solubility</th>\n",
       "      <th>stereo</th>\n",
       "      <th>mixture</th>\n",
       "      <th>notes</th>\n",
       "      <th>adduct</th>\n",
       "      <th>fname</th>\n",
       "      <th>lname</th>\n",
       "      <th>IN_SCIENTIST_ID</th>\n",
       "    </tr>\n",
       "  </thead>\n",
       "  <tbody>\n",
       "  </tbody>\n",
       "</table>\n",
       "</div>"
      ],
      "text/plain": [
       "Empty DataFrame\n",
       "Columns: [project, owner, PARENT_AVIDD, smiles, date_prepared, SCREENING_CENTER, lot_type, vendor_name, lot_alias, notebook_name, notebook_page, appearance, amount_prepared, amount_units, salt, salt_num, solvate, solvate_num, alias1, alias1_value, alias2, alias2_value, alias3, alias3_value, analytical, purity, solubility, stereo, mixture, notes, adduct, fname, lname, IN_SCIENTIST_ID]\n",
       "Index: []"
      ]
     },
     "execution_count": 165,
     "metadata": {},
     "output_type": "execute_result"
    }
   ],
   "source": [
    "fnmap=dict(zip(dm.DM_LNAME,dm.DM_ID))\n",
    "info['IN_SCIENTIST_ID']=info.lname.map(fnmap)\n",
    "info[info.IN_SCIENTIST_ID.isna()]"
   ]
  },
  {
   "cell_type": "code",
   "execution_count": 166,
   "id": "5aa22232-7df1-4a3b-890c-7a70d5e13a8b",
   "metadata": {},
   "outputs": [],
   "source": [
    "info.loc[~info.IN_SCIENTIST_ID.isna(), 'IN_SCIENTIST_ID']=info.loc[~info.IN_SCIENTIST_ID.isna(), 'IN_SCIENTIST_ID'].astype(int)"
   ]
  },
  {
   "cell_type": "code",
   "execution_count": 167,
   "id": "425726a9-f510-4f1b-a631-c9c1b6504239",
   "metadata": {},
   "outputs": [
    {
     "data": {
      "text/plain": [
       "array(['Renslo_1GiD286', 'Renslo_2GiD287', 'QC200', 'ZD193',\n",
       "       'Deepthi Ramesh Macro'], dtype=object)"
      ]
     },
     "execution_count": 167,
     "metadata": {},
     "output_type": "execute_result"
    }
   ],
   "source": [
    "info.notebook_name.unique()"
   ]
  },
  {
   "cell_type": "code",
   "execution_count": 168,
   "id": "f0a22b9c-98d4-4e13-850d-590548505a26",
   "metadata": {},
   "outputs": [],
   "source": [
    "from datetime import datetime"
   ]
  },
  {
   "cell_type": "code",
   "execution_count": 169,
   "id": "466ae306-6344-43f9-a948-b67ba268f121",
   "metadata": {},
   "outputs": [],
   "source": [
    "info=info[['notebook_name', 'IN_SCIENTIST_ID']].drop_duplicates().dropna(subset='notebook_name')\n",
    "info=info.rename(columns={'notebook_name':'IN_SDESC'})\n",
    "info.IN_SDESC=[str(x).replace('.0','') for x in info.IN_SDESC]\n",
    "\n",
    "info['IN_ISC_ID']='AVIDD'\n",
    "info['IN_NOTES']=None\n",
    "info['IN_STATUS_ID']=1\n",
    "info['IN_INS_BY']=1\n",
    "info['IN_INS_DATE']=datetime.now().strftime('%Y-%m-%d %H:%M:%S')"
   ]
  },
  {
   "cell_type": "code",
   "execution_count": 170,
   "id": "47ce249a-c6b0-4351-bd90-26b96becc298",
   "metadata": {},
   "outputs": [
    {
     "data": {
      "text/html": [
       "<div>\n",
       "<style scoped>\n",
       "    .dataframe tbody tr th:only-of-type {\n",
       "        vertical-align: middle;\n",
       "    }\n",
       "\n",
       "    .dataframe tbody tr th {\n",
       "        vertical-align: top;\n",
       "    }\n",
       "\n",
       "    .dataframe thead th {\n",
       "        text-align: right;\n",
       "    }\n",
       "</style>\n",
       "<table border=\"1\" class=\"dataframe\">\n",
       "  <thead>\n",
       "    <tr style=\"text-align: right;\">\n",
       "      <th></th>\n",
       "      <th>IN_SDESC</th>\n",
       "      <th>IN_SCIENTIST_ID</th>\n",
       "      <th>IN_ISC_ID</th>\n",
       "      <th>IN_NOTES</th>\n",
       "      <th>IN_STATUS_ID</th>\n",
       "      <th>IN_INS_BY</th>\n",
       "      <th>IN_INS_DATE</th>\n",
       "    </tr>\n",
       "  </thead>\n",
       "  <tbody>\n",
       "    <tr>\n",
       "      <th>0</th>\n",
       "      <td>Renslo_1GiD286</td>\n",
       "      <td>18</td>\n",
       "      <td>AVIDD</td>\n",
       "      <td>None</td>\n",
       "      <td>1</td>\n",
       "      <td>1</td>\n",
       "      <td>2023-10-16 10:30:08</td>\n",
       "    </tr>\n",
       "    <tr>\n",
       "      <th>3</th>\n",
       "      <td>Renslo_2GiD287</td>\n",
       "      <td>18</td>\n",
       "      <td>AVIDD</td>\n",
       "      <td>None</td>\n",
       "      <td>1</td>\n",
       "      <td>1</td>\n",
       "      <td>2023-10-16 10:30:08</td>\n",
       "    </tr>\n",
       "    <tr>\n",
       "      <th>14</th>\n",
       "      <td>QC200</td>\n",
       "      <td>5</td>\n",
       "      <td>AVIDD</td>\n",
       "      <td>None</td>\n",
       "      <td>1</td>\n",
       "      <td>1</td>\n",
       "      <td>2023-10-16 10:30:08</td>\n",
       "    </tr>\n",
       "    <tr>\n",
       "      <th>15</th>\n",
       "      <td>ZD193</td>\n",
       "      <td>6</td>\n",
       "      <td>AVIDD</td>\n",
       "      <td>None</td>\n",
       "      <td>1</td>\n",
       "      <td>1</td>\n",
       "      <td>2023-10-16 10:30:08</td>\n",
       "    </tr>\n",
       "    <tr>\n",
       "      <th>37</th>\n",
       "      <td>Deepthi Ramesh Macro</td>\n",
       "      <td>20</td>\n",
       "      <td>AVIDD</td>\n",
       "      <td>None</td>\n",
       "      <td>1</td>\n",
       "      <td>1</td>\n",
       "      <td>2023-10-16 10:30:08</td>\n",
       "    </tr>\n",
       "  </tbody>\n",
       "</table>\n",
       "</div>"
      ],
      "text/plain": [
       "                IN_SDESC  IN_SCIENTIST_ID IN_ISC_ID IN_NOTES  IN_STATUS_ID  \\\n",
       "0         Renslo_1GiD286               18     AVIDD     None             1   \n",
       "3         Renslo_2GiD287               18     AVIDD     None             1   \n",
       "14                 QC200                5     AVIDD     None             1   \n",
       "15                 ZD193                6     AVIDD     None             1   \n",
       "37  Deepthi Ramesh Macro               20     AVIDD     None             1   \n",
       "\n",
       "    IN_INS_BY          IN_INS_DATE  \n",
       "0           1  2023-10-16 10:30:08  \n",
       "3           1  2023-10-16 10:30:08  \n",
       "14          1  2023-10-16 10:30:08  \n",
       "15          1  2023-10-16 10:30:08  \n",
       "37          1  2023-10-16 10:30:08  "
      ]
     },
     "execution_count": 170,
     "metadata": {},
     "output_type": "execute_result"
    }
   ],
   "source": [
    "info.head()"
   ]
  },
  {
   "cell_type": "code",
   "execution_count": 171,
   "id": "e7aaf21a-8b35-4692-8218-a1cc5893c771",
   "metadata": {},
   "outputs": [
    {
     "data": {
      "text/plain": [
       "['ZD193']"
      ]
     },
     "execution_count": 171,
     "metadata": {},
     "output_type": "execute_result"
    }
   ],
   "source": [
    "new_entries=(info.IN_SDESC+';'+info.IN_SCIENTIST_ID.astype(str)).tolist()\n",
    "already_entered=(nb.IN_SDESC+';'+nb.IN_SCIENTIST_ID.astype(str)).tolist()\n",
    "keep_new=list(set(new_entries)-set(already_entered))\n",
    "keep_new=[x.split(';')[0] for x in keep_new]\n",
    "keep_new"
   ]
  },
  {
   "cell_type": "code",
   "execution_count": 172,
   "id": "f7fcfe05-fd3f-49ff-80c4-42179af37b00",
   "metadata": {},
   "outputs": [
    {
     "data": {
      "text/html": [
       "<div>\n",
       "<style scoped>\n",
       "    .dataframe tbody tr th:only-of-type {\n",
       "        vertical-align: middle;\n",
       "    }\n",
       "\n",
       "    .dataframe tbody tr th {\n",
       "        vertical-align: top;\n",
       "    }\n",
       "\n",
       "    .dataframe thead th {\n",
       "        text-align: right;\n",
       "    }\n",
       "</style>\n",
       "<table border=\"1\" class=\"dataframe\">\n",
       "  <thead>\n",
       "    <tr style=\"text-align: right;\">\n",
       "      <th></th>\n",
       "      <th>IN_SDESC</th>\n",
       "      <th>IN_SCIENTIST_ID</th>\n",
       "      <th>IN_ISC_ID</th>\n",
       "      <th>IN_NOTES</th>\n",
       "      <th>IN_STATUS_ID</th>\n",
       "      <th>IN_INS_BY</th>\n",
       "      <th>IN_INS_DATE</th>\n",
       "    </tr>\n",
       "  </thead>\n",
       "  <tbody>\n",
       "    <tr>\n",
       "      <th>15</th>\n",
       "      <td>ZD193</td>\n",
       "      <td>6</td>\n",
       "      <td>AVIDD</td>\n",
       "      <td>None</td>\n",
       "      <td>1</td>\n",
       "      <td>1</td>\n",
       "      <td>2023-10-16 10:30:08</td>\n",
       "    </tr>\n",
       "  </tbody>\n",
       "</table>\n",
       "</div>"
      ],
      "text/plain": [
       "   IN_SDESC  IN_SCIENTIST_ID IN_ISC_ID IN_NOTES  IN_STATUS_ID  IN_INS_BY  \\\n",
       "15    ZD193                6     AVIDD     None             1          1   \n",
       "\n",
       "            IN_INS_DATE  \n",
       "15  2023-10-16 10:30:08  "
      ]
     },
     "execution_count": 172,
     "metadata": {},
     "output_type": "execute_result"
    }
   ],
   "source": [
    "info=info[info.IN_SDESC.isin(keep_new)]\n",
    "info"
   ]
  },
  {
   "cell_type": "code",
   "execution_count": 173,
   "id": "288cebf0-d659-4343-8153-7b2e892e626a",
   "metadata": {},
   "outputs": [],
   "source": [
    "# if len(info)>0:\n",
    "#     info.to_sql(name='INV_NOTEBOOK', con=engine, if_exists = 'append', index=False)"
   ]
  },
  {
   "cell_type": "code",
   "execution_count": 174,
   "id": "18dc139d-a520-40ba-b401-c0ce77d90215",
   "metadata": {},
   "outputs": [],
   "source": [
    "engine.dispose()"
   ]
  },
  {
   "cell_type": "code",
   "execution_count": null,
   "id": "4ef75a8b-e8e8-4f29-b571-85b4abdcd96f",
   "metadata": {},
   "outputs": [],
   "source": []
  }
 ],
 "metadata": {
  "kernelspec": {
   "display_name": "smdc",
   "language": "python",
   "name": "smdc"
  },
  "language_info": {
   "codemirror_mode": {
    "name": "ipython",
    "version": 3
   },
   "file_extension": ".py",
   "mimetype": "text/x-python",
   "name": "python",
   "nbconvert_exporter": "python",
   "pygments_lexer": "ipython3",
   "version": "3.11.4"
  }
 },
 "nbformat": 4,
 "nbformat_minor": 5
}
