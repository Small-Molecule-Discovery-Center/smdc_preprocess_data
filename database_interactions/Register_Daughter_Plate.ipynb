{
 "cells": [
  {
   "cell_type": "markdown",
   "id": "e3a47f64-3c6c-46f2-8ca4-816601e51865",
   "metadata": {},
   "source": [
    "# Create daughter plate"
   ]
  },
  {
   "cell_type": "code",
   "execution_count": 1,
   "id": "dc118b2b-5981-4ffa-bf79-35d20d50fdd2",
   "metadata": {},
   "outputs": [],
   "source": [
    "import sys\n",
    "sys.path.append('/home/apaulson/repos/data-proc/')\n",
    "import mysql_cnx as mc\n",
    "%config Completer.use_jedi=False"
   ]
  },
  {
   "cell_type": "code",
   "execution_count": 2,
   "id": "2f02b2d5-0fab-404d-9c76-8d3673948460",
   "metadata": {},
   "outputs": [],
   "source": [
    "import pandas as pd\n",
    "import numpy as np\n",
    "from sqlalchemy import text, select, or_, and_"
   ]
  },
  {
   "cell_type": "code",
   "execution_count": 72,
   "id": "18f92cf7-9310-4217-9366-fc3ac495cadf",
   "metadata": {},
   "outputs": [],
   "source": [
    "engine.dispose()"
   ]
  },
  {
   "cell_type": "code",
   "execution_count": 7,
   "id": "a58620e0-963e-4238-b2c5-cf4b12b34baf",
   "metadata": {},
   "outputs": [
    {
     "name": "stdout",
     "output_type": "stream",
     "text": [
      "[('hello world',)]\n"
     ]
    }
   ],
   "source": [
    "# engine=mc.create_mysql_cnx(db='QB3_HiTS_nightly')\n",
    "\n",
    "engine=mc.create_mysql_cnx(db='QB3_HiTS')\n",
    "\n",
    "with engine.connect() as conn:\n",
    "    result=conn.execute(text(\"select 'hello world'\"))\n",
    "    print(result.all())"
   ]
  },
  {
   "cell_type": "code",
   "execution_count": 8,
   "id": "94c248d5-f7f5-407b-ac2b-ce72fb98ca0f",
   "metadata": {},
   "outputs": [],
   "source": [
    "# MetaData stores a collection of tables we want to work with\n",
    "from sqlalchemy import MetaData\n",
    "metadata = MetaData()"
   ]
  },
  {
   "cell_type": "code",
   "execution_count": 9,
   "id": "928b2d53-e0f7-4022-842b-f10ba811931e",
   "metadata": {},
   "outputs": [],
   "source": [
    "# reflection gets an existing table from the db\n",
    "from sqlalchemy import Table\n",
    "\n",
    "inv_plate=Table(\"INV_PLATE\", metadata, autoload_with=engine)\n",
    "inv_well=Table(\"INV_WELL\", metadata, autoload_with=engine)\n",
    "inv_comp_lot=Table(\"INV_COMP_LOT\", metadata, autoload_with=engine)"
   ]
  },
  {
   "cell_type": "code",
   "execution_count": 10,
   "id": "93de1202-6007-4fd2-bda0-ca90d851be38",
   "metadata": {},
   "outputs": [],
   "source": [
    "inv_plate_cols=[x.name for x in inv_plate.columns]\n",
    "inv_plate_cols=[x for x in inv_plate_cols if x != inv_plate.primary_key.columns[0].name]\n",
    "\n",
    "inv_well_cols=[x.name for x in inv_well.columns]\n",
    "inv_well_cols=[x for x in inv_well_cols if x != inv_well.primary_key.columns[0].name]"
   ]
  },
  {
   "cell_type": "code",
   "execution_count": 11,
   "id": "285d1049-b433-49f6-bf96-10eaa780ad87",
   "metadata": {},
   "outputs": [],
   "source": [
    "# insert\n",
    "from sqlalchemy import insert\n",
    "from datetime import datetime"
   ]
  },
  {
   "cell_type": "code",
   "execution_count": 12,
   "id": "5a8d4f8c-8837-4f46-876d-8044a1a362a1",
   "metadata": {},
   "outputs": [],
   "source": [
    "def stringnow():\n",
    "    return datetime.now().strftime('%Y-%m-%d %H:%M:%S')"
   ]
  },
  {
   "cell_type": "code",
   "execution_count": 13,
   "id": "604407ed-43cd-44f2-b8e9-9a3269d13e13",
   "metadata": {},
   "outputs": [
    {
     "data": {
      "text/plain": [
       "'IP_ID'"
      ]
     },
     "execution_count": 13,
     "metadata": {},
     "output_type": "execute_result"
    }
   ],
   "source": [
    "inv_plate.primary_key.columns[0].name"
   ]
  },
  {
   "cell_type": "markdown",
   "id": "83a08a83-856a-4ba3-8a80-b86da9b83231",
   "metadata": {},
   "source": [
    "## lookup plate and well info to copy here"
   ]
  },
  {
   "cell_type": "code",
   "execution_count": 35,
   "id": "0744ce04-c36d-483c-bab4-b5826ffbac1a",
   "metadata": {},
   "outputs": [],
   "source": [
    "gridnums=pd.read_csv('/Users/apaulson/Downloads/daughter_plates.csv')\n",
    "# barcodes=barcodes.Grid_num.tolist()"
   ]
  },
  {
   "cell_type": "code",
   "execution_count": 36,
   "id": "d43ed014-f31d-4d39-84c0-35dda603ff00",
   "metadata": {},
   "outputs": [
    {
     "data": {
      "text/plain": [
       "(7, 3)"
      ]
     },
     "execution_count": 36,
     "metadata": {},
     "output_type": "execute_result"
    }
   ],
   "source": [
    "# gridnums=pd.DataFrame(barcodes, columns=['barcodes'])\n",
    "# print(gridnums.shape)\n",
    "# gridnums['grid_num']=gridnums.barcodes.str.strip('-Eco1')\n",
    "gridnums.barcodes=gridnums.barcodes.str.strip()\n",
    "gridnums.shape"
   ]
  },
  {
   "cell_type": "code",
   "execution_count": 37,
   "id": "5e1f9ab6-11e1-4bef-8c32-1357f0f76c0d",
   "metadata": {},
   "outputs": [
    {
     "data": {
      "text/plain": [
       "(7, 3)"
      ]
     },
     "execution_count": 37,
     "metadata": {},
     "output_type": "execute_result"
    }
   ],
   "source": [
    "gridnums=gridnums.drop_duplicates()\n",
    "gridnums.shape"
   ]
  },
  {
   "cell_type": "code",
   "execution_count": 38,
   "id": "dd1fef98-dcc2-4a86-9a54-aab761cdfb24",
   "metadata": {},
   "outputs": [
    {
     "data": {
      "text/plain": [
       "0"
      ]
     },
     "execution_count": 38,
     "metadata": {},
     "output_type": "execute_result"
    }
   ],
   "source": [
    "# check for existing barcodes\n",
    "query=select(inv_plate.c.IP_BARCODE).where(inv_plate.c.IP_BARCODE.in_(gridnums.barcodes.tolist()))\n",
    "existing_barcodes=[]\n",
    "with engine.connect() as conn:\n",
    "    for row in conn.execute(query):\n",
    "        existing_barcodes.append(row[0])\n",
    "len(existing_barcodes)"
   ]
  },
  {
   "cell_type": "code",
   "execution_count": 39,
   "id": "11468eff-7c07-466b-8792-21b09ff9a9b9",
   "metadata": {},
   "outputs": [
    {
     "data": {
      "text/plain": [
       "(7, 3)"
      ]
     },
     "execution_count": 39,
     "metadata": {},
     "output_type": "execute_result"
    }
   ],
   "source": [
    "# remove if so\n",
    "gridnums=gridnums[~gridnums.barcodes.isin(existing_barcodes)]\n",
    "gridnums.shape"
   ]
  },
  {
   "cell_type": "code",
   "execution_count": 43,
   "id": "b92e4fa7-b9b6-4ce7-a8e2-3f4a63d82f6b",
   "metadata": {},
   "outputs": [
    {
     "data": {
      "text/plain": [
       "(7, 16)"
      ]
     },
     "execution_count": 43,
     "metadata": {},
     "output_type": "execute_result"
    }
   ],
   "source": [
    "# double check plate type, should be 1 if possible\n",
    "clauses = [inv_plate.c.IP_GRID_NUM.like(elem) for elem in gridnums.grid_num]\n",
    "query = select(inv_plate).filter(and_(\n",
    "    inv_plate.c.IP_IPT_ID==6, \n",
    "    or_(*clauses)))\n",
    "source_plates=pd.read_sql(query, con=engine)\n",
    "source_plates=source_plates[source_plates.IP_BARCODE.str.contains('PT01')]\n",
    "source_plates.shape"
   ]
  },
  {
   "cell_type": "code",
   "execution_count": 44,
   "id": "0efc4769-6c81-441e-92d2-edf0eac93830",
   "metadata": {},
   "outputs": [
    {
     "name": "stdout",
     "output_type": "stream",
     "text": [
      "384.0\n"
     ]
    },
    {
     "data": {
      "text/html": [
       "<div>\n",
       "<style scoped>\n",
       "    .dataframe tbody tr th:only-of-type {\n",
       "        vertical-align: middle;\n",
       "    }\n",
       "\n",
       "    .dataframe tbody tr th {\n",
       "        vertical-align: top;\n",
       "    }\n",
       "\n",
       "    .dataframe thead th {\n",
       "        text-align: right;\n",
       "    }\n",
       "</style>\n",
       "<table border=\"1\" class=\"dataframe\">\n",
       "  <thead>\n",
       "    <tr style=\"text-align: right;\">\n",
       "      <th></th>\n",
       "      <th>IW_ID</th>\n",
       "      <th>IW_SOURCE_ID</th>\n",
       "      <th>IW_IP_ID</th>\n",
       "      <th>IW_BARCODE</th>\n",
       "      <th>IW_WELL_INDEX</th>\n",
       "      <th>IW_COORDINATES</th>\n",
       "      <th>IW_ICL_ID</th>\n",
       "      <th>IW_VOL_UL</th>\n",
       "      <th>IW_CONC_UM</th>\n",
       "      <th>IW_FINAL_CONC_NM</th>\n",
       "      <th>IW_DILUTION_FACTOR</th>\n",
       "      <th>IW_FREEZETHAW</th>\n",
       "      <th>IW_INS_BY</th>\n",
       "      <th>IW_INS_DATE</th>\n",
       "      <th>IW_CONTAM</th>\n",
       "      <th>IW_NOTES</th>\n",
       "    </tr>\n",
       "  </thead>\n",
       "  <tbody>\n",
       "    <tr>\n",
       "      <th>0</th>\n",
       "      <td>7790187</td>\n",
       "      <td>6877163</td>\n",
       "      <td>24824</td>\n",
       "      <td>None</td>\n",
       "      <td>1</td>\n",
       "      <td>A01</td>\n",
       "      <td>NaN</td>\n",
       "      <td>NaN</td>\n",
       "      <td>NaN</td>\n",
       "      <td>NaN</td>\n",
       "      <td>None</td>\n",
       "      <td>None</td>\n",
       "      <td>107</td>\n",
       "      <td>2019-07-10 11:36:38</td>\n",
       "      <td>NaN</td>\n",
       "      <td>None</td>\n",
       "    </tr>\n",
       "    <tr>\n",
       "      <th>1</th>\n",
       "      <td>7790188</td>\n",
       "      <td>6877164</td>\n",
       "      <td>24824</td>\n",
       "      <td>None</td>\n",
       "      <td>3</td>\n",
       "      <td>A03</td>\n",
       "      <td>1090090.0</td>\n",
       "      <td>5.0</td>\n",
       "      <td>50000.0</td>\n",
       "      <td>NaN</td>\n",
       "      <td>None</td>\n",
       "      <td>None</td>\n",
       "      <td>107</td>\n",
       "      <td>2019-07-10 11:36:38</td>\n",
       "      <td>NaN</td>\n",
       "      <td>conc updated to 50mM 20230824 by AKP</td>\n",
       "    </tr>\n",
       "  </tbody>\n",
       "</table>\n",
       "</div>"
      ],
      "text/plain": [
       "     IW_ID  IW_SOURCE_ID  IW_IP_ID IW_BARCODE  IW_WELL_INDEX IW_COORDINATES  \\\n",
       "0  7790187       6877163     24824       None              1            A01   \n",
       "1  7790188       6877164     24824       None              3            A03   \n",
       "\n",
       "   IW_ICL_ID  IW_VOL_UL  IW_CONC_UM  IW_FINAL_CONC_NM IW_DILUTION_FACTOR  \\\n",
       "0        NaN        NaN         NaN               NaN               None   \n",
       "1  1090090.0        5.0     50000.0               NaN               None   \n",
       "\n",
       "  IW_FREEZETHAW  IW_INS_BY         IW_INS_DATE  IW_CONTAM  \\\n",
       "0          None        107 2019-07-10 11:36:38        NaN   \n",
       "1          None        107 2019-07-10 11:36:38        NaN   \n",
       "\n",
       "                               IW_NOTES  \n",
       "0                                  None  \n",
       "1  conc updated to 50mM 20230824 by AKP  "
      ]
     },
     "execution_count": 44,
     "metadata": {},
     "output_type": "execute_result"
    }
   ],
   "source": [
    "query = select(inv_well).where(inv_well.c.IW_IP_ID.in_(source_plates.IP_ID.tolist()))\n",
    "source_wells=pd.read_sql(query, con=engine)\n",
    "print(len(source_wells)/len(source_plates))\n",
    "source_wells.head(2)"
   ]
  },
  {
   "cell_type": "code",
   "execution_count": 45,
   "id": "34280bc4-398d-4bd9-aafc-44ee43802396",
   "metadata": {},
   "outputs": [
    {
     "data": {
      "text/plain": [
       "{'SMDC-MPHORE-384-1-02-PT01': 25708,\n",
       " 'SMDC-MPHORE-384-2-02-PT01': 25711,\n",
       " 'SMDC-MPHORE-384-3-02-PT01': 25714,\n",
       " 'SMDC-MPHORE-384-4-02-PT01': 25717,\n",
       " 'SMDC-MPHORE-384-5-02-PT01': 25720,\n",
       " 'SMDC-MPHORE-384-6-01-PT01': 24824,\n",
       " 'SMDC-MPHORE-384-7-01-PT01': 27235}"
      ]
     },
     "execution_count": 45,
     "metadata": {},
     "output_type": "execute_result"
    }
   ],
   "source": [
    "source_plate_dict=dict(zip(source_plates.IP_BARCODE, source_plates.IP_ID))\n",
    "source_well_dict=dict(zip(source_wells.IW_ID, source_wells.IW_IP_ID.astype(str)+'_'+source_wells.IW_COORDINATES))\n",
    "dest_plate_dict=dict(zip(gridnums.grid_num, gridnums.barcodes))\n",
    "source_plate_dict"
   ]
  },
  {
   "cell_type": "code",
   "execution_count": 48,
   "id": "a65d5e25-5db1-4a6a-90bf-4afb9777d518",
   "metadata": {},
   "outputs": [
    {
     "data": {
      "text/html": [
       "<div>\n",
       "<style scoped>\n",
       "    .dataframe tbody tr th:only-of-type {\n",
       "        vertical-align: middle;\n",
       "    }\n",
       "\n",
       "    .dataframe tbody tr th {\n",
       "        vertical-align: top;\n",
       "    }\n",
       "\n",
       "    .dataframe thead th {\n",
       "        text-align: right;\n",
       "    }\n",
       "</style>\n",
       "<table border=\"1\" class=\"dataframe\">\n",
       "  <thead>\n",
       "    <tr style=\"text-align: right;\">\n",
       "      <th></th>\n",
       "      <th>IP_SOURCE_ID</th>\n",
       "      <th>IP_GRID_NUM</th>\n",
       "      <th>IP_IPT_ID</th>\n",
       "      <th>IP_IPF_ID</th>\n",
       "      <th>IP_DESC</th>\n",
       "      <th>IP_BARCODE</th>\n",
       "      <th>IP_STATUS_ID</th>\n",
       "      <th>IP_IV_ID</th>\n",
       "      <th>IP_VEN_PLID</th>\n",
       "      <th>IP_ICO_ID</th>\n",
       "      <th>IP_COLLECTION</th>\n",
       "      <th>IP_NOTES</th>\n",
       "      <th>IP_INS_BY</th>\n",
       "      <th>IP_INS_DATE</th>\n",
       "      <th>IP_SCREENING_CENTER</th>\n",
       "    </tr>\n",
       "  </thead>\n",
       "  <tbody>\n",
       "    <tr>\n",
       "      <th>0</th>\n",
       "      <td>25708</td>\n",
       "      <td>SMDC-MPHORE-384-1-02</td>\n",
       "      <td>9</td>\n",
       "      <td>2</td>\n",
       "      <td>None</td>\n",
       "      <td>SMDC-MPHORE-384-1-02-Eco1</td>\n",
       "      <td>1</td>\n",
       "      <td>None</td>\n",
       "      <td>None</td>\n",
       "      <td>148</td>\n",
       "      <td>SMDC Monophore</td>\n",
       "      <td>05342DS</td>\n",
       "      <td>569</td>\n",
       "      <td>2023-10-13 19:40:58</td>\n",
       "      <td>SMDC</td>\n",
       "    </tr>\n",
       "    <tr>\n",
       "      <th>3</th>\n",
       "      <td>25711</td>\n",
       "      <td>SMDC-MPHORE-384-2-02</td>\n",
       "      <td>9</td>\n",
       "      <td>2</td>\n",
       "      <td>None</td>\n",
       "      <td>SMDC-MPHORE-384-2-02-Eco1</td>\n",
       "      <td>1</td>\n",
       "      <td>None</td>\n",
       "      <td>None</td>\n",
       "      <td>148</td>\n",
       "      <td>SMDC Monophore</td>\n",
       "      <td>05343DS</td>\n",
       "      <td>569</td>\n",
       "      <td>2023-10-13 19:40:58</td>\n",
       "      <td>SMDC</td>\n",
       "    </tr>\n",
       "    <tr>\n",
       "      <th>6</th>\n",
       "      <td>25714</td>\n",
       "      <td>SMDC-MPHORE-384-3-02</td>\n",
       "      <td>9</td>\n",
       "      <td>2</td>\n",
       "      <td>None</td>\n",
       "      <td>SMDC-MPHORE-384-3-02-Eco1</td>\n",
       "      <td>1</td>\n",
       "      <td>None</td>\n",
       "      <td>None</td>\n",
       "      <td>148</td>\n",
       "      <td>SMDC Monophore</td>\n",
       "      <td>05344DS</td>\n",
       "      <td>569</td>\n",
       "      <td>2023-10-13 19:40:58</td>\n",
       "      <td>SMDC</td>\n",
       "    </tr>\n",
       "    <tr>\n",
       "      <th>9</th>\n",
       "      <td>25717</td>\n",
       "      <td>SMDC-MPHORE-384-4-02</td>\n",
       "      <td>9</td>\n",
       "      <td>2</td>\n",
       "      <td>None</td>\n",
       "      <td>SMDC-MPHORE-384-4-02-Eco1</td>\n",
       "      <td>1</td>\n",
       "      <td>None</td>\n",
       "      <td>None</td>\n",
       "      <td>148</td>\n",
       "      <td>SMDC Monophore</td>\n",
       "      <td>05345DS</td>\n",
       "      <td>569</td>\n",
       "      <td>2023-10-13 19:40:58</td>\n",
       "      <td>SMDC</td>\n",
       "    </tr>\n",
       "    <tr>\n",
       "      <th>12</th>\n",
       "      <td>25720</td>\n",
       "      <td>SMDC-MPHORE-384-5-02</td>\n",
       "      <td>9</td>\n",
       "      <td>2</td>\n",
       "      <td>None</td>\n",
       "      <td>SMDC-MPHORE-384-5-02-Eco1</td>\n",
       "      <td>1</td>\n",
       "      <td>None</td>\n",
       "      <td>None</td>\n",
       "      <td>148</td>\n",
       "      <td>SMDC Monophore</td>\n",
       "      <td>05346DS</td>\n",
       "      <td>569</td>\n",
       "      <td>2023-10-13 19:40:58</td>\n",
       "      <td>SMDC</td>\n",
       "    </tr>\n",
       "    <tr>\n",
       "      <th>15</th>\n",
       "      <td>24824</td>\n",
       "      <td>SMDC-MPHORE-384-6-01</td>\n",
       "      <td>9</td>\n",
       "      <td>2</td>\n",
       "      <td>None</td>\n",
       "      <td>SMDC-MPHORE-384-6-02-Eco1</td>\n",
       "      <td>1</td>\n",
       "      <td>None</td>\n",
       "      <td>None</td>\n",
       "      <td>148</td>\n",
       "      <td>SMDC Monophore</td>\n",
       "      <td>05347DS</td>\n",
       "      <td>569</td>\n",
       "      <td>2023-10-13 19:40:58</td>\n",
       "      <td>SMDC</td>\n",
       "    </tr>\n",
       "    <tr>\n",
       "      <th>17</th>\n",
       "      <td>27235</td>\n",
       "      <td>SMDC-MPHORE-384-7-01</td>\n",
       "      <td>9</td>\n",
       "      <td>2</td>\n",
       "      <td>None</td>\n",
       "      <td>SMDC-MPHORE-384-7-02-Eco1</td>\n",
       "      <td>1</td>\n",
       "      <td>None</td>\n",
       "      <td>None</td>\n",
       "      <td>148</td>\n",
       "      <td>SMDC Monophore</td>\n",
       "      <td>05348DS</td>\n",
       "      <td>569</td>\n",
       "      <td>2023-10-13 19:40:58</td>\n",
       "      <td>SMDC</td>\n",
       "    </tr>\n",
       "  </tbody>\n",
       "</table>\n",
       "</div>"
      ],
      "text/plain": [
       "    IP_SOURCE_ID           IP_GRID_NUM  IP_IPT_ID  IP_IPF_ID IP_DESC  \\\n",
       "0          25708  SMDC-MPHORE-384-1-02          9          2    None   \n",
       "3          25711  SMDC-MPHORE-384-2-02          9          2    None   \n",
       "6          25714  SMDC-MPHORE-384-3-02          9          2    None   \n",
       "9          25717  SMDC-MPHORE-384-4-02          9          2    None   \n",
       "12         25720  SMDC-MPHORE-384-5-02          9          2    None   \n",
       "15         24824  SMDC-MPHORE-384-6-01          9          2    None   \n",
       "17         27235  SMDC-MPHORE-384-7-01          9          2    None   \n",
       "\n",
       "                                    IP_BARCODE  IP_STATUS_ID IP_IV_ID  \\\n",
       "0                    SMDC-MPHORE-384-1-02-Eco1             1     None   \n",
       "3   SMDC-MPHORE-384-2-02-Eco1                              1     None   \n",
       "6   SMDC-MPHORE-384-3-02-Eco1                              1     None   \n",
       "9   SMDC-MPHORE-384-4-02-Eco1                              1     None   \n",
       "12  SMDC-MPHORE-384-5-02-Eco1                              1     None   \n",
       "15  SMDC-MPHORE-384-6-02-Eco1                              1     None   \n",
       "17  SMDC-MPHORE-384-7-02-Eco1                              1     None   \n",
       "\n",
       "   IP_VEN_PLID  IP_ICO_ID   IP_COLLECTION IP_NOTES  IP_INS_BY  \\\n",
       "0         None        148  SMDC Monophore  05342DS        569   \n",
       "3         None        148  SMDC Monophore  05343DS        569   \n",
       "6         None        148  SMDC Monophore  05344DS        569   \n",
       "9         None        148  SMDC Monophore  05345DS        569   \n",
       "12        None        148  SMDC Monophore  05346DS        569   \n",
       "15        None        148  SMDC Monophore  05347DS        569   \n",
       "17        None        148  SMDC Monophore  05348DS        569   \n",
       "\n",
       "            IP_INS_DATE IP_SCREENING_CENTER  \n",
       "0   2023-10-13 19:40:58                SMDC  \n",
       "3   2023-10-13 19:40:58                SMDC  \n",
       "6   2023-10-13 19:40:58                SMDC  \n",
       "9   2023-10-13 19:40:58                SMDC  \n",
       "12  2023-10-13 19:40:58                SMDC  \n",
       "15  2023-10-13 19:40:58                SMDC  \n",
       "17  2023-10-13 19:40:58                SMDC  "
      ]
     },
     "execution_count": 48,
     "metadata": {},
     "output_type": "execute_result"
    }
   ],
   "source": [
    "plates=source_plates.copy()\n",
    "plates.IP_SOURCE_ID=plates.IP_BARCODE.map(source_plate_dict)\n",
    "plates=plates.drop(columns='IP_ID')\n",
    "plates.IP_IPT_ID=9 # 9 is acoustic dispensing plates\n",
    "plates.IP_BARCODE=plates.IP_GRID_NUM.map(dest_plate_dict)\n",
    "plates.IP_INS_BY=569\n",
    "plates.IP_INS_DATE=stringnow()\n",
    "\n",
    "plates.IP_NOTES=gridnums.notes.tolist()\n",
    "plates"
   ]
  },
  {
   "cell_type": "code",
   "execution_count": 49,
   "id": "4294d64c-a396-4529-8316-6d5a5057e921",
   "metadata": {},
   "outputs": [],
   "source": [
    "# check for important plate cols\n",
    "assert set(plates.columns)==set(inv_plate_cols), \"Missing info for INV_PLATE table\"\n",
    "assert len(plates[plates.IP_GRID_NUM.isna()])==0, \"Missing GridNum\"\n",
    "assert len(plates[plates.IP_BARCODE.isna()])==0, \"Missing Barcode\"\n",
    "assert len(plates[plates.IP_GRID_NUM.duplicated()])==0, \"Duplicate gridnums\"\n",
    "assert len(plates[plates.IP_BARCODE.duplicated()])==0, \"Duplicate barcodes\""
   ]
  },
  {
   "cell_type": "code",
   "execution_count": 50,
   "id": "6a9cb038-bbef-4d25-b016-3126313dad9d",
   "metadata": {},
   "outputs": [
    {
     "name": "stdout",
     "output_type": "stream",
     "text": [
      "OK\n"
     ]
    }
   ],
   "source": [
    "# check existing IP_BARCODES\n",
    "from sqlalchemy import select\n",
    "\n",
    "stmt=select(inv_plate).where(inv_plate.c.IP_BARCODE.in_(plates.IP_BARCODE.tolist()))\n",
    "with engine.connect() as conn:\n",
    "    result=conn.execute(stmt)\n",
    "    exists=result.rowcount>0\n",
    "\n",
    "if exists:\n",
    "    for i, row in enumerate(result):\n",
    "        print(row)\n",
    "        ip_id=row[0]\n",
    "        assert i==0, \"Warning: this barcode already exists\"\n",
    "else:\n",
    "    # stmt=insert(inv_plate).values(plate)    \n",
    "    # compiled=stmt.compile()\n",
    "    # with engine.connect() as conn:\n",
    "    #     result=conn.execute(stmt)\n",
    "    #     conn.commit()\n",
    "    # ip_id=result.inserted_primary_key\n",
    "    ip_id=np.nan\n",
    "    print('OK')"
   ]
  },
  {
   "cell_type": "code",
   "execution_count": 51,
   "id": "bdb3457c-3cf1-4f43-95fc-06881df9adbd",
   "metadata": {},
   "outputs": [
    {
     "data": {
      "text/plain": [
       "nan"
      ]
     },
     "execution_count": 51,
     "metadata": {},
     "output_type": "execute_result"
    }
   ],
   "source": [
    "ip_id"
   ]
  },
  {
   "cell_type": "code",
   "execution_count": 52,
   "id": "702e46f0-4335-482a-b612-33e135b4bedd",
   "metadata": {},
   "outputs": [
    {
     "data": {
      "text/plain": [
       "nan"
      ]
     },
     "execution_count": 52,
     "metadata": {},
     "output_type": "execute_result"
    }
   ],
   "source": [
    "import sqlalchemy\n",
    "if isinstance(ip_id,sqlalchemy.engine.row.Row):\n",
    "    ip_id=ip_id[0]\n",
    "ip_id"
   ]
  },
  {
   "cell_type": "code",
   "execution_count": 53,
   "id": "d97d8de1-c1d6-4e21-81d0-9374b2d89bb5",
   "metadata": {},
   "outputs": [
    {
     "data": {
      "text/plain": [
       "7"
      ]
     },
     "execution_count": 53,
     "metadata": {},
     "output_type": "execute_result"
    }
   ],
   "source": [
    "# # insert.. careful!!\n",
    "# plates.to_sql(name='INV_PLATE', con=engine, if_exists = 'append', index=False)"
   ]
  },
  {
   "cell_type": "code",
   "execution_count": 54,
   "id": "28b94b53-a019-4a50-807a-81532846b76b",
   "metadata": {},
   "outputs": [
    {
     "data": {
      "text/html": [
       "<div>\n",
       "<style scoped>\n",
       "    .dataframe tbody tr th:only-of-type {\n",
       "        vertical-align: middle;\n",
       "    }\n",
       "\n",
       "    .dataframe tbody tr th {\n",
       "        vertical-align: top;\n",
       "    }\n",
       "\n",
       "    .dataframe thead th {\n",
       "        text-align: right;\n",
       "    }\n",
       "</style>\n",
       "<table border=\"1\" class=\"dataframe\">\n",
       "  <thead>\n",
       "    <tr style=\"text-align: right;\">\n",
       "      <th></th>\n",
       "      <th>IP_ID</th>\n",
       "      <th>IP_SOURCE_ID</th>\n",
       "      <th>IP_GRID_NUM</th>\n",
       "      <th>IP_IPT_ID</th>\n",
       "      <th>IP_IPF_ID</th>\n",
       "      <th>IP_DESC</th>\n",
       "      <th>IP_BARCODE</th>\n",
       "      <th>IP_STATUS_ID</th>\n",
       "      <th>IP_IV_ID</th>\n",
       "      <th>IP_VEN_PLID</th>\n",
       "      <th>IP_ICO_ID</th>\n",
       "      <th>IP_COLLECTION</th>\n",
       "      <th>IP_NOTES</th>\n",
       "      <th>IP_INS_BY</th>\n",
       "      <th>IP_INS_DATE</th>\n",
       "      <th>IP_SCREENING_CENTER</th>\n",
       "    </tr>\n",
       "  </thead>\n",
       "  <tbody>\n",
       "    <tr>\n",
       "      <th>0</th>\n",
       "      <td>27862</td>\n",
       "      <td>25708</td>\n",
       "      <td>SMDC-MPHORE-384-1-02</td>\n",
       "      <td>9</td>\n",
       "      <td>2</td>\n",
       "      <td>None</td>\n",
       "      <td>SMDC-MPHORE-384-1-02-Eco1</td>\n",
       "      <td>1</td>\n",
       "      <td>None</td>\n",
       "      <td>None</td>\n",
       "      <td>148</td>\n",
       "      <td>SMDC Monophore</td>\n",
       "      <td>05342DS</td>\n",
       "      <td>569</td>\n",
       "      <td>2023-10-13 19:40:58</td>\n",
       "      <td>SMDC</td>\n",
       "    </tr>\n",
       "    <tr>\n",
       "      <th>1</th>\n",
       "      <td>27863</td>\n",
       "      <td>25711</td>\n",
       "      <td>SMDC-MPHORE-384-2-02</td>\n",
       "      <td>9</td>\n",
       "      <td>2</td>\n",
       "      <td>None</td>\n",
       "      <td>SMDC-MPHORE-384-2-02-Eco1</td>\n",
       "      <td>1</td>\n",
       "      <td>None</td>\n",
       "      <td>None</td>\n",
       "      <td>148</td>\n",
       "      <td>SMDC Monophore</td>\n",
       "      <td>05343DS</td>\n",
       "      <td>569</td>\n",
       "      <td>2023-10-13 19:40:58</td>\n",
       "      <td>SMDC</td>\n",
       "    </tr>\n",
       "    <tr>\n",
       "      <th>2</th>\n",
       "      <td>27864</td>\n",
       "      <td>25714</td>\n",
       "      <td>SMDC-MPHORE-384-3-02</td>\n",
       "      <td>9</td>\n",
       "      <td>2</td>\n",
       "      <td>None</td>\n",
       "      <td>SMDC-MPHORE-384-3-02-Eco1</td>\n",
       "      <td>1</td>\n",
       "      <td>None</td>\n",
       "      <td>None</td>\n",
       "      <td>148</td>\n",
       "      <td>SMDC Monophore</td>\n",
       "      <td>05344DS</td>\n",
       "      <td>569</td>\n",
       "      <td>2023-10-13 19:40:58</td>\n",
       "      <td>SMDC</td>\n",
       "    </tr>\n",
       "    <tr>\n",
       "      <th>3</th>\n",
       "      <td>27865</td>\n",
       "      <td>25717</td>\n",
       "      <td>SMDC-MPHORE-384-4-02</td>\n",
       "      <td>9</td>\n",
       "      <td>2</td>\n",
       "      <td>None</td>\n",
       "      <td>SMDC-MPHORE-384-4-02-Eco1</td>\n",
       "      <td>1</td>\n",
       "      <td>None</td>\n",
       "      <td>None</td>\n",
       "      <td>148</td>\n",
       "      <td>SMDC Monophore</td>\n",
       "      <td>05345DS</td>\n",
       "      <td>569</td>\n",
       "      <td>2023-10-13 19:40:58</td>\n",
       "      <td>SMDC</td>\n",
       "    </tr>\n",
       "    <tr>\n",
       "      <th>4</th>\n",
       "      <td>27866</td>\n",
       "      <td>25720</td>\n",
       "      <td>SMDC-MPHORE-384-5-02</td>\n",
       "      <td>9</td>\n",
       "      <td>2</td>\n",
       "      <td>None</td>\n",
       "      <td>SMDC-MPHORE-384-5-02-Eco1</td>\n",
       "      <td>1</td>\n",
       "      <td>None</td>\n",
       "      <td>None</td>\n",
       "      <td>148</td>\n",
       "      <td>SMDC Monophore</td>\n",
       "      <td>05346DS</td>\n",
       "      <td>569</td>\n",
       "      <td>2023-10-13 19:40:58</td>\n",
       "      <td>SMDC</td>\n",
       "    </tr>\n",
       "    <tr>\n",
       "      <th>5</th>\n",
       "      <td>27867</td>\n",
       "      <td>24824</td>\n",
       "      <td>SMDC-MPHORE-384-6-01</td>\n",
       "      <td>9</td>\n",
       "      <td>2</td>\n",
       "      <td>None</td>\n",
       "      <td>SMDC-MPHORE-384-6-02-Eco1</td>\n",
       "      <td>1</td>\n",
       "      <td>None</td>\n",
       "      <td>None</td>\n",
       "      <td>148</td>\n",
       "      <td>SMDC Monophore</td>\n",
       "      <td>05347DS</td>\n",
       "      <td>569</td>\n",
       "      <td>2023-10-13 19:40:58</td>\n",
       "      <td>SMDC</td>\n",
       "    </tr>\n",
       "    <tr>\n",
       "      <th>6</th>\n",
       "      <td>27868</td>\n",
       "      <td>27235</td>\n",
       "      <td>SMDC-MPHORE-384-7-01</td>\n",
       "      <td>9</td>\n",
       "      <td>2</td>\n",
       "      <td>None</td>\n",
       "      <td>SMDC-MPHORE-384-7-02-Eco1</td>\n",
       "      <td>1</td>\n",
       "      <td>None</td>\n",
       "      <td>None</td>\n",
       "      <td>148</td>\n",
       "      <td>SMDC Monophore</td>\n",
       "      <td>05348DS</td>\n",
       "      <td>569</td>\n",
       "      <td>2023-10-13 19:40:58</td>\n",
       "      <td>SMDC</td>\n",
       "    </tr>\n",
       "  </tbody>\n",
       "</table>\n",
       "</div>"
      ],
      "text/plain": [
       "   IP_ID  IP_SOURCE_ID           IP_GRID_NUM  IP_IPT_ID  IP_IPF_ID IP_DESC  \\\n",
       "0  27862         25708  SMDC-MPHORE-384-1-02          9          2    None   \n",
       "1  27863         25711  SMDC-MPHORE-384-2-02          9          2    None   \n",
       "2  27864         25714  SMDC-MPHORE-384-3-02          9          2    None   \n",
       "3  27865         25717  SMDC-MPHORE-384-4-02          9          2    None   \n",
       "4  27866         25720  SMDC-MPHORE-384-5-02          9          2    None   \n",
       "5  27867         24824  SMDC-MPHORE-384-6-01          9          2    None   \n",
       "6  27868         27235  SMDC-MPHORE-384-7-01          9          2    None   \n",
       "\n",
       "                                   IP_BARCODE  IP_STATUS_ID IP_IV_ID  \\\n",
       "0                   SMDC-MPHORE-384-1-02-Eco1             1     None   \n",
       "1  SMDC-MPHORE-384-2-02-Eco1                              1     None   \n",
       "2  SMDC-MPHORE-384-3-02-Eco1                              1     None   \n",
       "3  SMDC-MPHORE-384-4-02-Eco1                              1     None   \n",
       "4  SMDC-MPHORE-384-5-02-Eco1                              1     None   \n",
       "5  SMDC-MPHORE-384-6-02-Eco1                              1     None   \n",
       "6  SMDC-MPHORE-384-7-02-Eco1                              1     None   \n",
       "\n",
       "  IP_VEN_PLID  IP_ICO_ID   IP_COLLECTION IP_NOTES  IP_INS_BY  \\\n",
       "0        None        148  SMDC Monophore  05342DS        569   \n",
       "1        None        148  SMDC Monophore  05343DS        569   \n",
       "2        None        148  SMDC Monophore  05344DS        569   \n",
       "3        None        148  SMDC Monophore  05345DS        569   \n",
       "4        None        148  SMDC Monophore  05346DS        569   \n",
       "5        None        148  SMDC Monophore  05347DS        569   \n",
       "6        None        148  SMDC Monophore  05348DS        569   \n",
       "\n",
       "          IP_INS_DATE IP_SCREENING_CENTER  \n",
       "0 2023-10-13 19:40:58                SMDC  \n",
       "1 2023-10-13 19:40:58                SMDC  \n",
       "2 2023-10-13 19:40:58                SMDC  \n",
       "3 2023-10-13 19:40:58                SMDC  \n",
       "4 2023-10-13 19:40:58                SMDC  \n",
       "5 2023-10-13 19:40:58                SMDC  \n",
       "6 2023-10-13 19:40:58                SMDC  "
      ]
     },
     "execution_count": 54,
     "metadata": {},
     "output_type": "execute_result"
    }
   ],
   "source": [
    "# get IP_IDs\n",
    "ip_ids=pd.read_sql(stmt, con=engine)\n",
    "ip_ids"
   ]
  },
  {
   "cell_type": "markdown",
   "id": "58cfa70a-a9e3-4f89-b228-957cf8754fe4",
   "metadata": {},
   "source": [
    "## edit well info here via plate map file"
   ]
  },
  {
   "cell_type": "code",
   "execution_count": 55,
   "id": "f3090200-775a-4f07-a19f-92ab40ef171d",
   "metadata": {},
   "outputs": [],
   "source": [
    "# wells\n",
    "replace_ipids=dict(zip(ip_ids.IP_SOURCE_ID, ip_ids.IP_ID))"
   ]
  },
  {
   "cell_type": "code",
   "execution_count": 56,
   "id": "f049fd43-f2b5-4618-9a4e-72589fd0c0af",
   "metadata": {},
   "outputs": [
    {
     "data": {
      "text/html": [
       "<div>\n",
       "<style scoped>\n",
       "    .dataframe tbody tr th:only-of-type {\n",
       "        vertical-align: middle;\n",
       "    }\n",
       "\n",
       "    .dataframe tbody tr th {\n",
       "        vertical-align: top;\n",
       "    }\n",
       "\n",
       "    .dataframe thead th {\n",
       "        text-align: right;\n",
       "    }\n",
       "</style>\n",
       "<table border=\"1\" class=\"dataframe\">\n",
       "  <thead>\n",
       "    <tr style=\"text-align: right;\">\n",
       "      <th></th>\n",
       "      <th>IW_SOURCE_ID</th>\n",
       "      <th>IW_IP_ID</th>\n",
       "      <th>IW_BARCODE</th>\n",
       "      <th>IW_WELL_INDEX</th>\n",
       "      <th>IW_COORDINATES</th>\n",
       "      <th>IW_ICL_ID</th>\n",
       "      <th>IW_VOL_UL</th>\n",
       "      <th>IW_CONC_UM</th>\n",
       "      <th>IW_FINAL_CONC_NM</th>\n",
       "      <th>IW_DILUTION_FACTOR</th>\n",
       "      <th>IW_FREEZETHAW</th>\n",
       "      <th>IW_INS_BY</th>\n",
       "      <th>IW_INS_DATE</th>\n",
       "      <th>IW_CONTAM</th>\n",
       "      <th>IW_NOTES</th>\n",
       "    </tr>\n",
       "  </thead>\n",
       "  <tbody>\n",
       "    <tr>\n",
       "      <th>0</th>\n",
       "      <td>7790187</td>\n",
       "      <td>27867</td>\n",
       "      <td>None</td>\n",
       "      <td>1</td>\n",
       "      <td>A01</td>\n",
       "      <td>NaN</td>\n",
       "      <td>NaN</td>\n",
       "      <td>NaN</td>\n",
       "      <td>NaN</td>\n",
       "      <td>None</td>\n",
       "      <td>None</td>\n",
       "      <td>569</td>\n",
       "      <td>2023-10-13 19:42:04</td>\n",
       "      <td>NaN</td>\n",
       "      <td>None</td>\n",
       "    </tr>\n",
       "    <tr>\n",
       "      <th>1</th>\n",
       "      <td>7790188</td>\n",
       "      <td>27867</td>\n",
       "      <td>None</td>\n",
       "      <td>3</td>\n",
       "      <td>A03</td>\n",
       "      <td>1090090.0</td>\n",
       "      <td>5.0</td>\n",
       "      <td>50000.0</td>\n",
       "      <td>NaN</td>\n",
       "      <td>None</td>\n",
       "      <td>None</td>\n",
       "      <td>569</td>\n",
       "      <td>2023-10-13 19:42:04</td>\n",
       "      <td>NaN</td>\n",
       "      <td>conc updated to 50mM 20230824 by AKP</td>\n",
       "    </tr>\n",
       "  </tbody>\n",
       "</table>\n",
       "</div>"
      ],
      "text/plain": [
       "   IW_SOURCE_ID  IW_IP_ID IW_BARCODE  IW_WELL_INDEX IW_COORDINATES  IW_ICL_ID  \\\n",
       "0       7790187     27867       None              1            A01        NaN   \n",
       "1       7790188     27867       None              3            A03  1090090.0   \n",
       "\n",
       "   IW_VOL_UL  IW_CONC_UM  IW_FINAL_CONC_NM IW_DILUTION_FACTOR IW_FREEZETHAW  \\\n",
       "0        NaN         NaN               NaN               None          None   \n",
       "1        5.0     50000.0               NaN               None          None   \n",
       "\n",
       "   IW_INS_BY          IW_INS_DATE  IW_CONTAM  \\\n",
       "0        569  2023-10-13 19:42:04        NaN   \n",
       "1        569  2023-10-13 19:42:04        NaN   \n",
       "\n",
       "                               IW_NOTES  \n",
       "0                                  None  \n",
       "1  conc updated to 50mM 20230824 by AKP  "
      ]
     },
     "execution_count": 56,
     "metadata": {},
     "output_type": "execute_result"
    }
   ],
   "source": [
    "wells=source_wells.copy()\n",
    "wells.IW_SOURCE_ID=wells.IW_ID\n",
    "wells=wells.drop(columns='IW_ID')\n",
    "wells.IW_IP_ID=wells.IW_IP_ID.map(replace_ipids)\n",
    "wells.IW_INS_BY=569\n",
    "wells.IW_INS_DATE=stringnow()\n",
    "wells.head(2)"
   ]
  },
  {
   "cell_type": "markdown",
   "id": "0173aed2-830f-4480-926b-f5ed9a625b2f",
   "metadata": {},
   "source": [
    "### add volume and concentration here"
   ]
  },
  {
   "cell_type": "code",
   "execution_count": 57,
   "id": "51270c05-822a-4746-a901-bab5daccd637",
   "metadata": {},
   "outputs": [
    {
     "data": {
      "text/plain": [
       "array([   nan, 50000.])"
      ]
     },
     "execution_count": 57,
     "metadata": {},
     "output_type": "execute_result"
    }
   ],
   "source": [
    "wells.IW_CONC_UM.unique()"
   ]
  },
  {
   "cell_type": "code",
   "execution_count": 58,
   "id": "b58f530b-4782-499e-8f6a-f008ff232605",
   "metadata": {},
   "outputs": [],
   "source": [
    "vol_ul=5\n",
    "conc_um=50000"
   ]
  },
  {
   "cell_type": "code",
   "execution_count": 59,
   "id": "f6c34e1f-0802-41b5-a5e2-24f6761d25d6",
   "metadata": {},
   "outputs": [
    {
     "data": {
      "text/html": [
       "<div>\n",
       "<style scoped>\n",
       "    .dataframe tbody tr th:only-of-type {\n",
       "        vertical-align: middle;\n",
       "    }\n",
       "\n",
       "    .dataframe tbody tr th {\n",
       "        vertical-align: top;\n",
       "    }\n",
       "\n",
       "    .dataframe thead th {\n",
       "        text-align: right;\n",
       "    }\n",
       "</style>\n",
       "<table border=\"1\" class=\"dataframe\">\n",
       "  <thead>\n",
       "    <tr style=\"text-align: right;\">\n",
       "      <th></th>\n",
       "      <th>IW_SOURCE_ID</th>\n",
       "      <th>IW_IP_ID</th>\n",
       "      <th>IW_BARCODE</th>\n",
       "      <th>IW_WELL_INDEX</th>\n",
       "      <th>IW_COORDINATES</th>\n",
       "      <th>IW_ICL_ID</th>\n",
       "      <th>IW_VOL_UL</th>\n",
       "      <th>IW_CONC_UM</th>\n",
       "      <th>IW_FINAL_CONC_NM</th>\n",
       "      <th>IW_DILUTION_FACTOR</th>\n",
       "      <th>IW_FREEZETHAW</th>\n",
       "      <th>IW_INS_BY</th>\n",
       "      <th>IW_INS_DATE</th>\n",
       "      <th>IW_CONTAM</th>\n",
       "      <th>IW_NOTES</th>\n",
       "    </tr>\n",
       "  </thead>\n",
       "  <tbody>\n",
       "    <tr>\n",
       "      <th>0</th>\n",
       "      <td>7790187</td>\n",
       "      <td>27867</td>\n",
       "      <td>None</td>\n",
       "      <td>1</td>\n",
       "      <td>A01</td>\n",
       "      <td>NaN</td>\n",
       "      <td>NaN</td>\n",
       "      <td>NaN</td>\n",
       "      <td>NaN</td>\n",
       "      <td>None</td>\n",
       "      <td>None</td>\n",
       "      <td>569</td>\n",
       "      <td>2023-10-13 19:42:04</td>\n",
       "      <td>NaN</td>\n",
       "      <td>None</td>\n",
       "    </tr>\n",
       "    <tr>\n",
       "      <th>1</th>\n",
       "      <td>7790188</td>\n",
       "      <td>27867</td>\n",
       "      <td>None</td>\n",
       "      <td>3</td>\n",
       "      <td>A03</td>\n",
       "      <td>1090090.0</td>\n",
       "      <td>5.0</td>\n",
       "      <td>50000.0</td>\n",
       "      <td>NaN</td>\n",
       "      <td>None</td>\n",
       "      <td>None</td>\n",
       "      <td>569</td>\n",
       "      <td>2023-10-13 19:42:04</td>\n",
       "      <td>NaN</td>\n",
       "      <td>conc updated to 50mM 20230824 by AKP</td>\n",
       "    </tr>\n",
       "    <tr>\n",
       "      <th>2</th>\n",
       "      <td>7790189</td>\n",
       "      <td>27867</td>\n",
       "      <td>None</td>\n",
       "      <td>5</td>\n",
       "      <td>A05</td>\n",
       "      <td>1089999.0</td>\n",
       "      <td>5.0</td>\n",
       "      <td>50000.0</td>\n",
       "      <td>NaN</td>\n",
       "      <td>None</td>\n",
       "      <td>None</td>\n",
       "      <td>569</td>\n",
       "      <td>2023-10-13 19:42:04</td>\n",
       "      <td>NaN</td>\n",
       "      <td>conc updated to 50mM 20230824 by AKP</td>\n",
       "    </tr>\n",
       "    <tr>\n",
       "      <th>3</th>\n",
       "      <td>7790190</td>\n",
       "      <td>27867</td>\n",
       "      <td>None</td>\n",
       "      <td>7</td>\n",
       "      <td>A07</td>\n",
       "      <td>1090010.0</td>\n",
       "      <td>5.0</td>\n",
       "      <td>50000.0</td>\n",
       "      <td>NaN</td>\n",
       "      <td>None</td>\n",
       "      <td>None</td>\n",
       "      <td>569</td>\n",
       "      <td>2023-10-13 19:42:04</td>\n",
       "      <td>NaN</td>\n",
       "      <td>conc updated to 50mM 20230824 by AKP</td>\n",
       "    </tr>\n",
       "    <tr>\n",
       "      <th>4</th>\n",
       "      <td>7790191</td>\n",
       "      <td>27867</td>\n",
       "      <td>None</td>\n",
       "      <td>9</td>\n",
       "      <td>A09</td>\n",
       "      <td>1090008.0</td>\n",
       "      <td>5.0</td>\n",
       "      <td>50000.0</td>\n",
       "      <td>NaN</td>\n",
       "      <td>None</td>\n",
       "      <td>None</td>\n",
       "      <td>569</td>\n",
       "      <td>2023-10-13 19:42:04</td>\n",
       "      <td>NaN</td>\n",
       "      <td>conc updated to 50mM 20230824 by AKP</td>\n",
       "    </tr>\n",
       "    <tr>\n",
       "      <th>...</th>\n",
       "      <td>...</td>\n",
       "      <td>...</td>\n",
       "      <td>...</td>\n",
       "      <td>...</td>\n",
       "      <td>...</td>\n",
       "      <td>...</td>\n",
       "      <td>...</td>\n",
       "      <td>...</td>\n",
       "      <td>...</td>\n",
       "      <td>...</td>\n",
       "      <td>...</td>\n",
       "      <td>...</td>\n",
       "      <td>...</td>\n",
       "      <td>...</td>\n",
       "      <td>...</td>\n",
       "    </tr>\n",
       "    <tr>\n",
       "      <th>2683</th>\n",
       "      <td>8371540</td>\n",
       "      <td>27868</td>\n",
       "      <td>None</td>\n",
       "      <td>145</td>\n",
       "      <td>G01</td>\n",
       "      <td>NaN</td>\n",
       "      <td>NaN</td>\n",
       "      <td>NaN</td>\n",
       "      <td>NaN</td>\n",
       "      <td>None</td>\n",
       "      <td>None</td>\n",
       "      <td>569</td>\n",
       "      <td>2023-10-13 19:42:04</td>\n",
       "      <td>0.0</td>\n",
       "      <td>None</td>\n",
       "    </tr>\n",
       "    <tr>\n",
       "      <th>2684</th>\n",
       "      <td>8371541</td>\n",
       "      <td>27868</td>\n",
       "      <td>None</td>\n",
       "      <td>315</td>\n",
       "      <td>N03</td>\n",
       "      <td>NaN</td>\n",
       "      <td>NaN</td>\n",
       "      <td>NaN</td>\n",
       "      <td>NaN</td>\n",
       "      <td>None</td>\n",
       "      <td>None</td>\n",
       "      <td>569</td>\n",
       "      <td>2023-10-13 19:42:04</td>\n",
       "      <td>0.0</td>\n",
       "      <td>None</td>\n",
       "    </tr>\n",
       "    <tr>\n",
       "      <th>2685</th>\n",
       "      <td>8371542</td>\n",
       "      <td>27868</td>\n",
       "      <td>None</td>\n",
       "      <td>343</td>\n",
       "      <td>O07</td>\n",
       "      <td>1186360.0</td>\n",
       "      <td>5.0</td>\n",
       "      <td>50000.0</td>\n",
       "      <td>50000000.0</td>\n",
       "      <td>None</td>\n",
       "      <td>None</td>\n",
       "      <td>569</td>\n",
       "      <td>2023-10-13 19:42:04</td>\n",
       "      <td>0.0</td>\n",
       "      <td>conc updated to 50mM 20230824 by AKP</td>\n",
       "    </tr>\n",
       "    <tr>\n",
       "      <th>2686</th>\n",
       "      <td>8371543</td>\n",
       "      <td>27868</td>\n",
       "      <td>None</td>\n",
       "      <td>380</td>\n",
       "      <td>P20</td>\n",
       "      <td>NaN</td>\n",
       "      <td>NaN</td>\n",
       "      <td>NaN</td>\n",
       "      <td>NaN</td>\n",
       "      <td>None</td>\n",
       "      <td>None</td>\n",
       "      <td>569</td>\n",
       "      <td>2023-10-13 19:42:04</td>\n",
       "      <td>0.0</td>\n",
       "      <td>None</td>\n",
       "    </tr>\n",
       "    <tr>\n",
       "      <th>2687</th>\n",
       "      <td>8371544</td>\n",
       "      <td>27868</td>\n",
       "      <td>None</td>\n",
       "      <td>76</td>\n",
       "      <td>D04</td>\n",
       "      <td>NaN</td>\n",
       "      <td>NaN</td>\n",
       "      <td>NaN</td>\n",
       "      <td>NaN</td>\n",
       "      <td>None</td>\n",
       "      <td>None</td>\n",
       "      <td>569</td>\n",
       "      <td>2023-10-13 19:42:04</td>\n",
       "      <td>0.0</td>\n",
       "      <td>None</td>\n",
       "    </tr>\n",
       "  </tbody>\n",
       "</table>\n",
       "<p>2688 rows × 15 columns</p>\n",
       "</div>"
      ],
      "text/plain": [
       "      IW_SOURCE_ID  IW_IP_ID IW_BARCODE  IW_WELL_INDEX IW_COORDINATES  \\\n",
       "0          7790187     27867       None              1            A01   \n",
       "1          7790188     27867       None              3            A03   \n",
       "2          7790189     27867       None              5            A05   \n",
       "3          7790190     27867       None              7            A07   \n",
       "4          7790191     27867       None              9            A09   \n",
       "...            ...       ...        ...            ...            ...   \n",
       "2683       8371540     27868       None            145            G01   \n",
       "2684       8371541     27868       None            315            N03   \n",
       "2685       8371542     27868       None            343            O07   \n",
       "2686       8371543     27868       None            380            P20   \n",
       "2687       8371544     27868       None             76            D04   \n",
       "\n",
       "      IW_ICL_ID  IW_VOL_UL  IW_CONC_UM  IW_FINAL_CONC_NM IW_DILUTION_FACTOR  \\\n",
       "0           NaN        NaN         NaN               NaN               None   \n",
       "1     1090090.0        5.0     50000.0               NaN               None   \n",
       "2     1089999.0        5.0     50000.0               NaN               None   \n",
       "3     1090010.0        5.0     50000.0               NaN               None   \n",
       "4     1090008.0        5.0     50000.0               NaN               None   \n",
       "...         ...        ...         ...               ...                ...   \n",
       "2683        NaN        NaN         NaN               NaN               None   \n",
       "2684        NaN        NaN         NaN               NaN               None   \n",
       "2685  1186360.0        5.0     50000.0        50000000.0               None   \n",
       "2686        NaN        NaN         NaN               NaN               None   \n",
       "2687        NaN        NaN         NaN               NaN               None   \n",
       "\n",
       "     IW_FREEZETHAW  IW_INS_BY          IW_INS_DATE  IW_CONTAM  \\\n",
       "0             None        569  2023-10-13 19:42:04        NaN   \n",
       "1             None        569  2023-10-13 19:42:04        NaN   \n",
       "2             None        569  2023-10-13 19:42:04        NaN   \n",
       "3             None        569  2023-10-13 19:42:04        NaN   \n",
       "4             None        569  2023-10-13 19:42:04        NaN   \n",
       "...            ...        ...                  ...        ...   \n",
       "2683          None        569  2023-10-13 19:42:04        0.0   \n",
       "2684          None        569  2023-10-13 19:42:04        0.0   \n",
       "2685          None        569  2023-10-13 19:42:04        0.0   \n",
       "2686          None        569  2023-10-13 19:42:04        0.0   \n",
       "2687          None        569  2023-10-13 19:42:04        0.0   \n",
       "\n",
       "                                  IW_NOTES  \n",
       "0                                     None  \n",
       "1     conc updated to 50mM 20230824 by AKP  \n",
       "2     conc updated to 50mM 20230824 by AKP  \n",
       "3     conc updated to 50mM 20230824 by AKP  \n",
       "4     conc updated to 50mM 20230824 by AKP  \n",
       "...                                    ...  \n",
       "2683                                  None  \n",
       "2684                                  None  \n",
       "2685  conc updated to 50mM 20230824 by AKP  \n",
       "2686                                  None  \n",
       "2687                                  None  \n",
       "\n",
       "[2688 rows x 15 columns]"
      ]
     },
     "execution_count": 59,
     "metadata": {},
     "output_type": "execute_result"
    }
   ],
   "source": [
    "wells.loc[~wells.IW_ICL_ID.isna(), 'IW_VOL_UL']=vol_ul\n",
    "wells.loc[~wells.IW_ICL_ID.isna(), 'IW_CONC_UM']=conc_um\n",
    "wells"
   ]
  },
  {
   "cell_type": "code",
   "execution_count": 60,
   "id": "2d004216-31bb-488a-ad56-264c07594644",
   "metadata": {},
   "outputs": [],
   "source": [
    "# check IP_ID doesn't exist in INV_WELL yet\n",
    "stmt=select(inv_well).where(inv_well.c.IW_IP_ID.in_(tuple(wells.IW_IP_ID.unique())))\n",
    "with engine.connect() as conn:\n",
    "    result=conn.execute(stmt)\n",
    "    assert result.rowcount==0, \"Wells exist for these plates\""
   ]
  },
  {
   "cell_type": "code",
   "execution_count": 61,
   "id": "9ce13d71-d7cd-4f8a-8cd3-a6ab58cd64d7",
   "metadata": {},
   "outputs": [
    {
     "data": {
      "text/plain": [
       "((2688, 15), 7.0)"
      ]
     },
     "execution_count": 61,
     "metadata": {},
     "output_type": "execute_result"
    }
   ],
   "source": [
    "wells.shape, len(wells)/384"
   ]
  },
  {
   "cell_type": "code",
   "execution_count": 62,
   "id": "b64f014e-627b-4220-b9aa-452c9a335239",
   "metadata": {},
   "outputs": [
    {
     "data": {
      "text/plain": [
       "2688"
      ]
     },
     "execution_count": 62,
     "metadata": {},
     "output_type": "execute_result"
    }
   ],
   "source": [
    "# # insert... careful here\n",
    "# wells.to_sql(name='INV_WELL', con=engine, if_exists = 'append', index=False)"
   ]
  },
  {
   "cell_type": "code",
   "execution_count": 63,
   "id": "fc1ac050-1c46-4167-8778-d8182e841dfd",
   "metadata": {},
   "outputs": [],
   "source": [
    "engine.dispose()"
   ]
  },
  {
   "cell_type": "code",
   "execution_count": 64,
   "id": "bb08e229-9bc9-4fba-9363-6c96146fc6f7",
   "metadata": {},
   "outputs": [
    {
     "data": {
      "text/plain": [
       "[]"
      ]
     },
     "execution_count": 64,
     "metadata": {},
     "output_type": "execute_result"
    }
   ],
   "source": [
    "existing_barcodes"
   ]
  },
  {
   "cell_type": "code",
   "execution_count": 70,
   "id": "7e019c8b-a136-41b6-aca6-844c21a3fe91",
   "metadata": {},
   "outputs": [
    {
     "data": {
      "text/plain": [
       "['SMDC-MPHORE-384-1-02-Eco1',\n",
       " 'SMDC-MPHORE-384-2-02-Eco1\\xa0\\xa0\\xa0\\xa0\\xa0\\xa0\\xa0\\xa0\\xa0\\xa0\\xa0\\xa0\\xa0\\xa0\\xa0\\xa0\\xa0',\n",
       " 'SMDC-MPHORE-384-3-02-Eco1\\xa0\\xa0\\xa0\\xa0\\xa0\\xa0\\xa0\\xa0\\xa0\\xa0\\xa0\\xa0\\xa0\\xa0\\xa0\\xa0\\xa0',\n",
       " 'SMDC-MPHORE-384-4-02-Eco1\\xa0\\xa0\\xa0\\xa0\\xa0\\xa0\\xa0\\xa0\\xa0\\xa0\\xa0\\xa0\\xa0\\xa0\\xa0\\xa0\\xa0',\n",
       " 'SMDC-MPHORE-384-5-02-Eco1\\xa0\\xa0\\xa0\\xa0\\xa0\\xa0\\xa0\\xa0\\xa0\\xa0\\xa0\\xa0\\xa0\\xa0\\xa0\\xa0\\xa0',\n",
       " 'SMDC-MPHORE-384-6-02-Eco1\\xa0\\xa0\\xa0\\xa0\\xa0\\xa0\\xa0\\xa0\\xa0\\xa0\\xa0\\xa0\\xa0\\xa0\\xa0\\xa0\\xa0',\n",
       " 'SMDC-MPHORE-384-7-02-Eco1\\xa0\\xa0\\xa0\\xa0\\xa0\\xa0\\xa0\\xa0\\xa0\\xa0\\xa0\\xa0\\xa0\\xa0\\xa0\\xa0\\xa0']"
      ]
     },
     "execution_count": 70,
     "metadata": {},
     "output_type": "execute_result"
    }
   ],
   "source": [
    "gridnums.barcodes.tolist()"
   ]
  },
  {
   "cell_type": "code",
   "execution_count": 71,
   "id": "d161fa73-f245-4fe3-acb0-eaedbaccb68d",
   "metadata": {},
   "outputs": [
    {
     "data": {
      "text/plain": [
       "['SMDC-MPHORE-384-1-02-Eco1',\n",
       " 'SMDC-MPHORE-384-2-02-Eco1',\n",
       " 'SMDC-MPHORE-384-3-02-Eco1',\n",
       " 'SMDC-MPHORE-384-4-02-Eco1',\n",
       " 'SMDC-MPHORE-384-5-02-Eco1',\n",
       " 'SMDC-MPHORE-384-6-02-Eco1',\n",
       " 'SMDC-MPHORE-384-7-02-Eco1']"
      ]
     },
     "execution_count": 71,
     "metadata": {},
     "output_type": "execute_result"
    }
   ],
   "source": [
    "gridnums.barcodes=gridnums.barcodes.str.strip()\n",
    "gridnums.barcodes.tolist()"
   ]
  },
  {
   "cell_type": "code",
   "execution_count": null,
   "id": "8ce33488-0775-433d-84e6-ab06fd601c67",
   "metadata": {},
   "outputs": [],
   "source": []
  }
 ],
 "metadata": {
  "kernelspec": {
   "display_name": "smdc",
   "language": "python",
   "name": "smdc"
  },
  "language_info": {
   "codemirror_mode": {
    "name": "ipython",
    "version": 3
   },
   "file_extension": ".py",
   "mimetype": "text/x-python",
   "name": "python",
   "nbconvert_exporter": "python",
   "pygments_lexer": "ipython3",
   "version": "3.11.4"
  }
 },
 "nbformat": 4,
 "nbformat_minor": 5
}
