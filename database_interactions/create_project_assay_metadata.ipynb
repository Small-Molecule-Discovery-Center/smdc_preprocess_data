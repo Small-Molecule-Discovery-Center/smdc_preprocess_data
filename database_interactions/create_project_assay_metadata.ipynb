{
 "cells": [
  {
   "cell_type": "markdown",
   "id": "fbad4f2c-2341-48e9-be4a-a04f02d87bb3",
   "metadata": {},
   "source": [
    "# HiTS: Setup Users, Projects and other Metadata associated with an experiment"
   ]
  },
  {
   "cell_type": "code",
   "execution_count": 1,
   "id": "a7b30298-8bbf-483a-8001-9c5d0d5b6bb6",
   "metadata": {},
   "outputs": [],
   "source": [
    "import sys\n",
    "sys.path.append('/home/apaulson/repos/smdc_process_data/')\n",
    "\n",
    "from database_interactions import mysql_cnx as mc\n",
    "from database_interactions import metadata as md\n",
    "\n",
    "%config Completer.use_jedi=False\n",
    "\n",
    "import pandas as pd\n",
    "import numpy as np\n",
    "from sqlalchemy import text\n",
    "\n",
    "\n",
    "# MetaData stores a collection of tables we want to work with\n",
    "from sqlalchemy import MetaData\n",
    "# Table reflection gets an existing table from the db that can be queried against; requires a metadata object for holding info (I think)\n",
    "from sqlalchemy import Table"
   ]
  },
  {
   "cell_type": "code",
   "execution_count": 13,
   "id": "379c49cc-dcb2-4c1c-9424-b4605bf8b8a8",
   "metadata": {},
   "outputs": [
    {
     "name": "stdout",
     "output_type": "stream",
     "text": [
      "[('hello world',)]\n"
     ]
    }
   ],
   "source": [
    "# start with nightly!\n",
    "engine=mc.create_mysql_cnx(db='QB3_HiTS_nightly')\n",
    "# engine=mc.create_mysql_cnx(db='QB3_HiTS')\n",
    "\n",
    "# check connection\n",
    "with engine.connect() as conn:\n",
    "    result=conn.execute(text(\"select 'hello world'\"))\n",
    "    print(result.all())"
   ]
  },
  {
   "cell_type": "code",
   "execution_count": 3,
   "id": "94a93723-9216-470e-aa87-4eb0a8f7819b",
   "metadata": {},
   "outputs": [],
   "source": [
    "metadata = MetaData()"
   ]
  },
  {
   "cell_type": "markdown",
   "id": "df3b97e9-7ca2-4ea1-8f38-c9332a4a33a0",
   "metadata": {},
   "source": [
    "# Create screening center\n",
    "use sqlalchemy, kind of clunky but safer because you have to commit separately before it gets saved to db"
   ]
  },
  {
   "cell_type": "code",
   "execution_count": 4,
   "id": "0c7a4287-e506-4799-b333-86dc401bc85f",
   "metadata": {},
   "outputs": [
    {
     "name": "stdout",
     "output_type": "stream",
     "text": [
      "INV_SCREENING_CENTER.ISC_ID\n"
     ]
    },
    {
     "data": {
      "text/plain": [
       "['ISC_ID', 'ISC_NAME', 'ISC_URL', 'ISC_INSTITUTION']"
      ]
     },
     "execution_count": 4,
     "metadata": {},
     "output_type": "execute_result"
    }
   ],
   "source": [
    "# create table object to query against for INV_SCREENING CENTER\n",
    "sc=Table('INV_SCREENING_CENTER', metadata, autoload_with=engine)\n",
    "print(sc.primary_key.columns[0])\n",
    "sc_cols=[x.name for x in sc.columns]\n",
    "sc_cols"
   ]
  },
  {
   "cell_type": "code",
   "execution_count": 5,
   "id": "1e027558-1779-49d9-bdb8-ea050cc8b2e5",
   "metadata": {},
   "outputs": [],
   "source": [
    "# create dict with new info you want to add to the table\n",
    "new_sc={\n",
    "    'ISC_ID':'BUCK',\n",
    "    'ISC_NAME':'Buck Institute Morphology and Imaging Core',\n",
    "    'ISC_URL':'https://www.buckinstitute.org/',\n",
    "    'ISC_INSTITUTION':'Buck Institute for Research on Aging',\n",
    "}"
   ]
  },
  {
   "cell_type": "code",
   "execution_count": 6,
   "id": "d785a42e-63f6-484a-8a74-bc6fefe2ac98",
   "metadata": {},
   "outputs": [
    {
     "name": "stdout",
     "output_type": "stream",
     "text": [
      "['ISC_ID', 'ISC_NAME', 'ISC_URL', 'ISC_INSTITUTION']\n",
      "('', 'Public Access - Not Affiliated', None, None)\n",
      "('BUCK', 'Buck Institute Morphology and Imaging Core', 'https://www.buckinstitute.org/', 'Buck Institute for Research on Aging')\n",
      "('CSC', 'UCSC Chemical Screening Center', 'https://cscenter.pbsci.ucsc.edu/', 'UC Santa Cruz')\n",
      "('CTAF-HTSF', 'UCB QB3 Cell and Tissue Analysis Facility / High-Throughput Screening Facility', 'https://qb3.berkeley.edu/ctaf-htsf/', 'UC Berkeley')\n",
      "('GENE', 'Genentech', None, 'Genentech')\n",
      "('SMDC', 'UCSF Small Molecule Discovery Center', 'https://pharm.ucsf.edu/smdc', 'UC San Francisco')\n",
      "('STRATEOS', 'Strateos', 'https://strateos.com/', 'Strateos')\n"
     ]
    }
   ],
   "source": [
    "# check table before inserting - safe to print out all rows bc this is a small table\n",
    "read_table_stmt=text(\"select * from INV_SCREENING_CENTER\")\n",
    "print(sc_cols)\n",
    "with engine.connect() as conn:\n",
    "    for row in conn.execute(read_table_stmt):\n",
    "        print(row)"
   ]
  },
  {
   "cell_type": "code",
   "execution_count": 7,
   "id": "c6cdf356-63aa-4cc4-94b0-61c32940e96e",
   "metadata": {},
   "outputs": [
    {
     "name": "stdout",
     "output_type": "stream",
     "text": [
      "INSERT INTO \"INV_SCREENING_CENTER\" (\"ISC_ID\", \"ISC_NAME\", \"ISC_URL\", \"ISC_INSTITUTION\") VALUES (:ISC_ID, :ISC_NAME, :ISC_URL, :ISC_INSTITUTION)\n"
     ]
    }
   ],
   "source": [
    "from sqlalchemy import insert\n",
    "# build insert and print it\n",
    "stmt=sc.insert().values(new_sc)\n",
    "print(stmt)"
   ]
  },
  {
   "cell_type": "code",
   "execution_count": 289,
   "id": "5a8d18f4-f401-48d2-8cf1-db69ed71e45e",
   "metadata": {},
   "outputs": [
    {
     "data": {
      "text/plain": [
       "{'ISC_ID': 'BUCK',\n",
       " 'ISC_NAME': 'Buck Institute Morphology and Imaging Core',\n",
       " 'ISC_URL': 'https://www.buckinstitute.org/',\n",
       " 'ISC_INSTITUTION': 'Buck Institute for Research on Aging'}"
      ]
     },
     "execution_count": 289,
     "metadata": {},
     "output_type": "execute_result"
    }
   ],
   "source": [
    "# check insert statement, this might throw errors if you did it wrong \n",
    "with engine.connect() as conn:\n",
    "    result=conn.execute(stmt)\n",
    "# without commit, you can see what *would* happen\n",
    "result.last_inserted_params()"
   ]
  },
  {
   "cell_type": "code",
   "execution_count": 290,
   "id": "6e319785-55a3-4d53-b1a0-14576636ac98",
   "metadata": {},
   "outputs": [
    {
     "name": "stdout",
     "output_type": "stream",
     "text": [
      "['ISC_ID', 'ISC_NAME', 'ISC_URL', 'ISC_INSTITUTION']\n",
      "('', 'Public Access - Not Affiliated', None, None)\n",
      "('CSC', 'UCSC Chemical Screening Center', 'https://cscenter.pbsci.ucsc.edu/', 'UC Santa Cruz')\n",
      "('CTAF-HTSF', 'UCB QB3 Cell and Tissue Analysis Facility / High-Throughput Screening Facility', 'https://qb3.berkeley.edu/ctaf-htsf/', 'UC Berkeley')\n",
      "('GENE', 'Genentech', None, 'Genentech')\n",
      "('SMDC', 'UCSF Small Molecule Discovery Center', 'https://pharm.ucsf.edu/smdc', 'UC San Francisco')\n",
      "('STRATEOS', 'Strateos', 'https://strateos.com/', 'Strateos')\n"
     ]
    }
   ],
   "source": [
    "# check table object for what was inserted - nothing because you didn't commit\n",
    "print(sc_cols)\n",
    "with engine.connect() as conn:\n",
    "    for row in conn.execute(read_table_stmt):\n",
    "        print(row)"
   ]
  },
  {
   "cell_type": "code",
   "execution_count": 291,
   "id": "6f4e45d7-cd1c-47fb-8e7b-80d65ffe0b04",
   "metadata": {},
   "outputs": [
    {
     "data": {
      "text/plain": [
       "{'ISC_ID': 'BUCK',\n",
       " 'ISC_NAME': 'Buck Institute Morphology and Imaging Core',\n",
       " 'ISC_URL': 'https://www.buckinstitute.org/',\n",
       " 'ISC_INSTITUTION': 'Buck Institute for Research on Aging'}"
      ]
     },
     "execution_count": 291,
     "metadata": {},
     "output_type": "execute_result"
    }
   ],
   "source": [
    "# insert and commit - careful to only run this once! better, insert inside an if statement checking if primary key already exists\n",
    "with engine.connect() as conn:\n",
    "    result=conn.execute(stmt)\n",
    "    conn.commit()\n",
    "result.last_inserted_params()"
   ]
  },
  {
   "cell_type": "code",
   "execution_count": 8,
   "id": "0ca338ad-fa56-476d-8364-04c0689283e6",
   "metadata": {},
   "outputs": [
    {
     "name": "stdout",
     "output_type": "stream",
     "text": [
      "['ISC_ID', 'ISC_NAME', 'ISC_URL', 'ISC_INSTITUTION']\n",
      "('', 'Public Access - Not Affiliated', None, None)\n",
      "('BUCK', 'Buck Institute Morphology and Imaging Core', 'https://www.buckinstitute.org/', 'Buck Institute for Research on Aging')\n",
      "('CSC', 'UCSC Chemical Screening Center', 'https://cscenter.pbsci.ucsc.edu/', 'UC Santa Cruz')\n",
      "('CTAF-HTSF', 'UCB QB3 Cell and Tissue Analysis Facility / High-Throughput Screening Facility', 'https://qb3.berkeley.edu/ctaf-htsf/', 'UC Berkeley')\n",
      "('GENE', 'Genentech', None, 'Genentech')\n",
      "('SMDC', 'UCSF Small Molecule Discovery Center', 'https://pharm.ucsf.edu/smdc', 'UC San Francisco')\n",
      "('STRATEOS', 'Strateos', 'https://strateos.com/', 'Strateos')\n"
     ]
    }
   ],
   "source": [
    "# check table object for what was inserted - this time you see the new entry\n",
    "print(sc_cols)\n",
    "with engine.connect() as conn:\n",
    "    for row in conn.execute(read_table_stmt):\n",
    "        print(row)"
   ]
  },
  {
   "cell_type": "markdown",
   "id": "6f8437ff-7eec-41ba-a044-d20d06008be4",
   "metadata": {},
   "source": [
    "# Create users\n",
    "use pandas which is easier IMO but:\n",
    "- you can't really double check before committing\n",
    "- it's harder to identify the primary key, so make sure you're familiar with the database\n",
    "\n",
    "pandas uses sqlalchemy under the hood"
   ]
  },
  {
   "cell_type": "markdown",
   "id": "1919ced4-611d-43b4-a651-96f8a9f8e18f",
   "metadata": {},
   "source": [
    "### Directory affiliate (DM_DA_ID)"
   ]
  },
  {
   "cell_type": "code",
   "execution_count": 9,
   "id": "68bf8e25-a47f-42f0-afc4-5ea7d8c21324",
   "metadata": {},
   "outputs": [
    {
     "data": {
      "text/html": [
       "<div>\n",
       "<style scoped>\n",
       "    .dataframe tbody tr th:only-of-type {\n",
       "        vertical-align: middle;\n",
       "    }\n",
       "\n",
       "    .dataframe tbody tr th {\n",
       "        vertical-align: top;\n",
       "    }\n",
       "\n",
       "    .dataframe thead th {\n",
       "        text-align: right;\n",
       "    }\n",
       "</style>\n",
       "<table border=\"1\" class=\"dataframe\">\n",
       "  <thead>\n",
       "    <tr style=\"text-align: right;\">\n",
       "      <th></th>\n",
       "      <th>DAC_ID</th>\n",
       "      <th>DAC_NAME</th>\n",
       "    </tr>\n",
       "  </thead>\n",
       "  <tbody>\n",
       "    <tr>\n",
       "      <th>0</th>\n",
       "      <td>1</td>\n",
       "      <td>Academic-UC</td>\n",
       "    </tr>\n",
       "    <tr>\n",
       "      <th>1</th>\n",
       "      <td>2</td>\n",
       "      <td>Academic/Government</td>\n",
       "    </tr>\n",
       "    <tr>\n",
       "      <th>2</th>\n",
       "      <td>3</td>\n",
       "      <td>Corporate</td>\n",
       "    </tr>\n",
       "    <tr>\n",
       "      <th>3</th>\n",
       "      <td>4</td>\n",
       "      <td>Unknown</td>\n",
       "    </tr>\n",
       "    <tr>\n",
       "      <th>4</th>\n",
       "      <td>5</td>\n",
       "      <td>Personal</td>\n",
       "    </tr>\n",
       "  </tbody>\n",
       "</table>\n",
       "</div>"
      ],
      "text/plain": [
       "   DAC_ID             DAC_NAME\n",
       "0       1          Academic-UC\n",
       "1       2  Academic/Government\n",
       "2       3            Corporate\n",
       "3       4              Unknown\n",
       "4       5             Personal"
      ]
     },
     "execution_count": 9,
     "metadata": {},
     "output_type": "execute_result"
    }
   ],
   "source": [
    "dir_aff_cat=pd.read_sql_table('DIRECTORY_AFFILIATE_CATEGORY', con=engine)\n",
    "dir_aff_cat"
   ]
  },
  {
   "cell_type": "code",
   "execution_count": 54,
   "id": "3ac20ee7-b814-41a0-9dea-4e0cb60d3d54",
   "metadata": {},
   "outputs": [
    {
     "data": {
      "text/html": [
       "<div>\n",
       "<style scoped>\n",
       "    .dataframe tbody tr th:only-of-type {\n",
       "        vertical-align: middle;\n",
       "    }\n",
       "\n",
       "    .dataframe tbody tr th {\n",
       "        vertical-align: top;\n",
       "    }\n",
       "\n",
       "    .dataframe thead th {\n",
       "        text-align: right;\n",
       "    }\n",
       "</style>\n",
       "<table border=\"1\" class=\"dataframe\">\n",
       "  <thead>\n",
       "    <tr style=\"text-align: right;\">\n",
       "      <th></th>\n",
       "      <th>DA_ID</th>\n",
       "      <th>DA_NAME</th>\n",
       "      <th>DA_DAC_ID</th>\n",
       "    </tr>\n",
       "  </thead>\n",
       "  <tbody>\n",
       "    <tr>\n",
       "      <th>0</th>\n",
       "      <td>1</td>\n",
       "      <td>UC San Francisco</td>\n",
       "      <td>1</td>\n",
       "    </tr>\n",
       "    <tr>\n",
       "      <th>1</th>\n",
       "      <td>2</td>\n",
       "      <td>UC Santa Cruz</td>\n",
       "      <td>1</td>\n",
       "    </tr>\n",
       "  </tbody>\n",
       "</table>\n",
       "</div>"
      ],
      "text/plain": [
       "   DA_ID           DA_NAME  DA_DAC_ID\n",
       "0      1  UC San Francisco          1\n",
       "1      2     UC Santa Cruz          1"
      ]
     },
     "execution_count": 54,
     "metadata": {},
     "output_type": "execute_result"
    }
   ],
   "source": [
    "# read whole table into memory - don't do this for large tables!\n",
    "dir_aff=pd.read_sql_table(table_name='DIRECTORY_AFFILIATE', con=engine)\n",
    "dir_aff.head(2)"
   ]
  },
  {
   "cell_type": "code",
   "execution_count": 11,
   "id": "6949f7ea-c671-4123-aba9-aa8dcbbee648",
   "metadata": {},
   "outputs": [
    {
     "data": {
      "text/html": [
       "<div>\n",
       "<style scoped>\n",
       "    .dataframe tbody tr th:only-of-type {\n",
       "        vertical-align: middle;\n",
       "    }\n",
       "\n",
       "    .dataframe tbody tr th {\n",
       "        vertical-align: top;\n",
       "    }\n",
       "\n",
       "    .dataframe thead th {\n",
       "        text-align: right;\n",
       "    }\n",
       "</style>\n",
       "<table border=\"1\" class=\"dataframe\">\n",
       "  <thead>\n",
       "    <tr style=\"text-align: right;\">\n",
       "      <th></th>\n",
       "      <th>DA_NAME</th>\n",
       "      <th>DA_DAC_ID</th>\n",
       "    </tr>\n",
       "  </thead>\n",
       "  <tbody>\n",
       "    <tr>\n",
       "      <th>0</th>\n",
       "      <td>Buck Institute</td>\n",
       "      <td>2</td>\n",
       "    </tr>\n",
       "  </tbody>\n",
       "</table>\n",
       "</div>"
      ],
      "text/plain": [
       "          DA_NAME  DA_DAC_ID\n",
       "0  Buck Institute          2"
      ]
     },
     "execution_count": 11,
     "metadata": {},
     "output_type": "execute_result"
    }
   ],
   "source": [
    "# create dataframe with new rows to add to db\n",
    "new_aff={\n",
    "    'DA_NAME': 'Buck Institute',\n",
    "    'DA_DAC_ID':2 # this is directory_affiliate_category = Academic/Government\n",
    "}\n",
    "new_aff=pd.DataFrame.from_records([new_aff])\n",
    "new_aff"
   ]
  },
  {
   "cell_type": "markdown",
   "id": "83407d6d-eaaf-47b7-84a0-ee0b491dde08",
   "metadata": {},
   "source": [
    "#### insert with pd.to_sql()\n",
    "pd.to_sql() inserts and commits; if there's no unique check (like here) you could insert this 100 times with no error. Best to do a check.\n",
    "\n",
    "    # NEVER skip if_exists='append', this adds new rows\n",
    "    # default is if_exists='fail' so nothing will work \n",
    "    # if_exists='replace' drops and creates a new table, so probably never use this\n",
    "    \n",
    "    # index=False also necessary or it tries to insert the index column"
   ]
  },
  {
   "cell_type": "code",
   "execution_count": 16,
   "id": "39aa911a-fd38-46e5-8a09-c760007a534b",
   "metadata": {},
   "outputs": [
    {
     "name": "stdout",
     "output_type": "stream",
     "text": [
      "['DA_ID', 'DA_NAME', 'DA_DAC_ID']\n",
      "(25, 'Buck Institute', 2)\n",
      "\n",
      "Warning: this DA_NAME already exists\n"
     ]
    }
   ],
   "source": [
    "import importlib\n",
    "importlib.reload(md)\n",
    "dir_aff_table=Table('DIRECTORY_AFFILIATE', metadata, autoload_with=engine)\n",
    "\n",
    "if md.check_unique(new_aff, dir_aff_table, 'DA_NAME', engine):\n",
    "    new_aff.to_sql('DIRECTORY_AFFILIATE', con=engine, if_exists='append', index=False)"
   ]
  },
  {
   "cell_type": "code",
   "execution_count": 53,
   "id": "aa3d278d-2544-441e-958f-d52a02ea50dd",
   "metadata": {},
   "outputs": [
    {
     "data": {
      "text/html": [
       "<div>\n",
       "<style scoped>\n",
       "    .dataframe tbody tr th:only-of-type {\n",
       "        vertical-align: middle;\n",
       "    }\n",
       "\n",
       "    .dataframe tbody tr th {\n",
       "        vertical-align: top;\n",
       "    }\n",
       "\n",
       "    .dataframe thead th {\n",
       "        text-align: right;\n",
       "    }\n",
       "</style>\n",
       "<table border=\"1\" class=\"dataframe\">\n",
       "  <thead>\n",
       "    <tr style=\"text-align: right;\">\n",
       "      <th></th>\n",
       "      <th>DA_ID</th>\n",
       "      <th>DA_NAME</th>\n",
       "      <th>DA_DAC_ID</th>\n",
       "    </tr>\n",
       "  </thead>\n",
       "  <tbody>\n",
       "    <tr>\n",
       "      <th>20</th>\n",
       "      <td>22</td>\n",
       "      <td>Eindhoven University of Technology</td>\n",
       "      <td>2</td>\n",
       "    </tr>\n",
       "    <tr>\n",
       "      <th>21</th>\n",
       "      <td>25</td>\n",
       "      <td>Buck Institute</td>\n",
       "      <td>2</td>\n",
       "    </tr>\n",
       "  </tbody>\n",
       "</table>\n",
       "</div>"
      ],
      "text/plain": [
       "    DA_ID                             DA_NAME  DA_DAC_ID\n",
       "20     22  Eindhoven University of Technology          2\n",
       "21     25                      Buck Institute          2"
      ]
     },
     "execution_count": 53,
     "metadata": {},
     "output_type": "execute_result"
    }
   ],
   "source": [
    "# check that it was inserted\n",
    "dir_aff=pd.read_sql_table(table_name='DIRECTORY_AFFILIATE', con=engine)\n",
    "dir_aff.tail(2)"
   ]
  },
  {
   "cell_type": "markdown",
   "id": "6c28ee61-b36c-437f-bf3f-b31fae3f0479",
   "metadata": {},
   "source": [
    "### Directory affiliate department (DM_DAD_ID)"
   ]
  },
  {
   "cell_type": "code",
   "execution_count": 55,
   "id": "86f0269b-70b3-462a-8bee-e34741881bf8",
   "metadata": {},
   "outputs": [
    {
     "data": {
      "text/html": [
       "<div>\n",
       "<style scoped>\n",
       "    .dataframe tbody tr th:only-of-type {\n",
       "        vertical-align: middle;\n",
       "    }\n",
       "\n",
       "    .dataframe tbody tr th {\n",
       "        vertical-align: top;\n",
       "    }\n",
       "\n",
       "    .dataframe thead th {\n",
       "        text-align: right;\n",
       "    }\n",
       "</style>\n",
       "<table border=\"1\" class=\"dataframe\">\n",
       "  <thead>\n",
       "    <tr style=\"text-align: right;\">\n",
       "      <th></th>\n",
       "      <th>DAD_ID</th>\n",
       "      <th>DAD_NAME</th>\n",
       "    </tr>\n",
       "  </thead>\n",
       "  <tbody>\n",
       "    <tr>\n",
       "      <th>0</th>\n",
       "      <td>1</td>\n",
       "      <td>Pharmacy</td>\n",
       "    </tr>\n",
       "    <tr>\n",
       "      <th>1</th>\n",
       "      <td>3</td>\n",
       "      <td>Chemistry</td>\n",
       "    </tr>\n",
       "    <tr>\n",
       "      <th>2</th>\n",
       "      <td>4</td>\n",
       "      <td>Microbiology and Environmental Toxicology</td>\n",
       "    </tr>\n",
       "    <tr>\n",
       "      <th>3</th>\n",
       "      <td>5</td>\n",
       "      <td>Dentistry</td>\n",
       "    </tr>\n",
       "    <tr>\n",
       "      <th>4</th>\n",
       "      <td>6</td>\n",
       "      <td>Benioff Children’s Hospital</td>\n",
       "    </tr>\n",
       "  </tbody>\n",
       "</table>\n",
       "</div>"
      ],
      "text/plain": [
       "   DAD_ID                                   DAD_NAME\n",
       "0       1                                   Pharmacy\n",
       "1       3                                  Chemistry\n",
       "2       4  Microbiology and Environmental Toxicology\n",
       "3       5                                  Dentistry\n",
       "4       6                Benioff Children’s Hospital"
      ]
     },
     "execution_count": 55,
     "metadata": {},
     "output_type": "execute_result"
    }
   ],
   "source": [
    "dir_dep=pd.read_sql_table('DIRECTORY_AFFILIATE_DEPARTMENT', con=engine)\n",
    "dir_dep.head()"
   ]
  },
  {
   "cell_type": "code",
   "execution_count": 19,
   "id": "ef03579c-8834-4a1e-87f6-ef52535e9e70",
   "metadata": {},
   "outputs": [
    {
     "data": {
      "text/html": [
       "<div>\n",
       "<style scoped>\n",
       "    .dataframe tbody tr th:only-of-type {\n",
       "        vertical-align: middle;\n",
       "    }\n",
       "\n",
       "    .dataframe tbody tr th {\n",
       "        vertical-align: top;\n",
       "    }\n",
       "\n",
       "    .dataframe thead th {\n",
       "        text-align: right;\n",
       "    }\n",
       "</style>\n",
       "<table border=\"1\" class=\"dataframe\">\n",
       "  <thead>\n",
       "    <tr style=\"text-align: right;\">\n",
       "      <th></th>\n",
       "      <th>DAD_NAME</th>\n",
       "    </tr>\n",
       "  </thead>\n",
       "  <tbody>\n",
       "    <tr>\n",
       "      <th>0</th>\n",
       "      <td>Morphology and Imaging Core</td>\n",
       "    </tr>\n",
       "  </tbody>\n",
       "</table>\n",
       "</div>"
      ],
      "text/plain": [
       "                      DAD_NAME\n",
       "0  Morphology and Imaging Core"
      ]
     },
     "execution_count": 19,
     "metadata": {},
     "output_type": "execute_result"
    }
   ],
   "source": [
    "new_dep={'DAD_NAME':'Morphology and Imaging Core'}\n",
    "new_dep=pd.DataFrame.from_records([new_dep])\n",
    "new_dep"
   ]
  },
  {
   "cell_type": "code",
   "execution_count": 52,
   "id": "ee9f69d5-12d4-4961-ad7e-e3c49c875d44",
   "metadata": {},
   "outputs": [
    {
     "name": "stdout",
     "output_type": "stream",
     "text": [
      "['DAD_ID', 'DAD_NAME']\n",
      "(20, 'Morphology and Imaging Core')\n",
      "\n",
      "Warning: this DAD_NAME already exists\n"
     ]
    },
    {
     "data": {
      "text/html": [
       "<div>\n",
       "<style scoped>\n",
       "    .dataframe tbody tr th:only-of-type {\n",
       "        vertical-align: middle;\n",
       "    }\n",
       "\n",
       "    .dataframe tbody tr th {\n",
       "        vertical-align: top;\n",
       "    }\n",
       "\n",
       "    .dataframe thead th {\n",
       "        text-align: right;\n",
       "    }\n",
       "</style>\n",
       "<table border=\"1\" class=\"dataframe\">\n",
       "  <thead>\n",
       "    <tr style=\"text-align: right;\">\n",
       "      <th></th>\n",
       "      <th>DAD_ID</th>\n",
       "      <th>DAD_NAME</th>\n",
       "    </tr>\n",
       "  </thead>\n",
       "  <tbody>\n",
       "    <tr>\n",
       "      <th>16</th>\n",
       "      <td>19</td>\n",
       "      <td>Cell and Molecular Pharm.</td>\n",
       "    </tr>\n",
       "    <tr>\n",
       "      <th>17</th>\n",
       "      <td>20</td>\n",
       "      <td>Morphology and Imaging Core</td>\n",
       "    </tr>\n",
       "  </tbody>\n",
       "</table>\n",
       "</div>"
      ],
      "text/plain": [
       "    DAD_ID                     DAD_NAME\n",
       "16      19    Cell and Molecular Pharm.\n",
       "17      20  Morphology and Imaging Core"
      ]
     },
     "execution_count": 52,
     "metadata": {},
     "output_type": "execute_result"
    }
   ],
   "source": [
    "dir_dep_table=Table('DIRECTORY_AFFILIATE_DEPARTMENT', metadata, autoload_with=engine)\n",
    "\n",
    "if md.check_unique(new_dep, dir_dep_table, 'DAD_NAME', engine):\n",
    "    new_dep.to_sql('DIRECTORY_AFFILIATE_DEPARTMENT', con=engine, if_exists='append', index=False)\n",
    "    \n",
    "pd.read_sql_table('DIRECTORY_AFFILIATE_DEPARTMENT', con=engine).tail(2)"
   ]
  },
  {
   "cell_type": "markdown",
   "id": "79ee2071-7737-4e5b-a99a-5f6144653e63",
   "metadata": {},
   "source": [
    "### Directory member"
   ]
  },
  {
   "cell_type": "code",
   "execution_count": 24,
   "id": "7f778be7-7c6e-47b0-b55c-4ef1d25e2d2e",
   "metadata": {},
   "outputs": [
    {
     "data": {
      "text/plain": [
       "Index(['DM_ID', 'DM_FNAME', 'DM_LNAME', 'DM_TITLE', 'DM_WPHONE', 'DM_EXT',\n",
       "       'DM_EMAIL', 'DM_PP_USERNAME', 'DM_DA_ID', 'DM_DAD_ID', 'DM_DAC_ID',\n",
       "       'DM_SPONSOR_ID', 'DM_SCREENING_CENTER', 'DM_NOTES', 'DM_STATUS_ID',\n",
       "       'DM_INS_BY', 'DM_INS_DATE'],\n",
       "      dtype='object')"
      ]
     },
     "execution_count": 24,
     "metadata": {},
     "output_type": "execute_result"
    }
   ],
   "source": [
    "dir_mem=pd.read_sql_table(table_name='DIRECTORY_MEMBER', con=engine)\n",
    "dir_mem.columns"
   ]
  },
  {
   "cell_type": "code",
   "execution_count": 30,
   "id": "06e5ccf2-d782-4a7a-9a55-fde43bac22ef",
   "metadata": {},
   "outputs": [
    {
     "data": {
      "text/html": [
       "<div>\n",
       "<style scoped>\n",
       "    .dataframe tbody tr th:only-of-type {\n",
       "        vertical-align: middle;\n",
       "    }\n",
       "\n",
       "    .dataframe tbody tr th {\n",
       "        vertical-align: top;\n",
       "    }\n",
       "\n",
       "    .dataframe thead th {\n",
       "        text-align: right;\n",
       "    }\n",
       "</style>\n",
       "<table border=\"1\" class=\"dataframe\">\n",
       "  <thead>\n",
       "    <tr style=\"text-align: right;\">\n",
       "      <th></th>\n",
       "      <th>DM_FNAME</th>\n",
       "      <th>DM_LNAME</th>\n",
       "      <th>DM_TITLE</th>\n",
       "      <th>DM_WPHONE</th>\n",
       "      <th>DM_EXT</th>\n",
       "      <th>DM_EMAIL</th>\n",
       "      <th>DM_PP_USERNAME</th>\n",
       "      <th>DM_DA_ID</th>\n",
       "      <th>DM_DAD_ID</th>\n",
       "      <th>DM_DAC_ID</th>\n",
       "      <th>DM_SPONSOR_ID</th>\n",
       "      <th>DM_SCREENING_CENTER</th>\n",
       "      <th>DM_NOTES</th>\n",
       "      <th>DM_STATUS_ID</th>\n",
       "      <th>DM_INS_BY</th>\n",
       "      <th>DM_INS_DATE</th>\n",
       "    </tr>\n",
       "  </thead>\n",
       "  <tbody>\n",
       "    <tr>\n",
       "      <th>0</th>\n",
       "      <td>Sima</td>\n",
       "      <td>T</td>\n",
       "      <td>Data Scientist</td>\n",
       "      <td>NaN</td>\n",
       "      <td>NaN</td>\n",
       "      <td>email@email.org</td>\n",
       "      <td>NaN</td>\n",
       "      <td>25</td>\n",
       "      <td>20</td>\n",
       "      <td>2</td>\n",
       "      <td>NaN</td>\n",
       "      <td>BUCK</td>\n",
       "      <td>NaN</td>\n",
       "      <td>1</td>\n",
       "      <td>1</td>\n",
       "      <td>2024-03-06 16:02:12</td>\n",
       "    </tr>\n",
       "  </tbody>\n",
       "</table>\n",
       "</div>"
      ],
      "text/plain": [
       "  DM_FNAME DM_LNAME        DM_TITLE  DM_WPHONE  DM_EXT         DM_EMAIL  \\\n",
       "0     Sima        T  Data Scientist        NaN     NaN  email@email.org   \n",
       "\n",
       "   DM_PP_USERNAME  DM_DA_ID  DM_DAD_ID  DM_DAC_ID  DM_SPONSOR_ID  \\\n",
       "0             NaN        25         20          2            NaN   \n",
       "\n",
       "  DM_SCREENING_CENTER  DM_NOTES  DM_STATUS_ID  DM_INS_BY          DM_INS_DATE  \n",
       "0                BUCK       NaN             1          1  2024-03-06 16:02:12  "
      ]
     },
     "execution_count": 30,
     "metadata": {},
     "output_type": "execute_result"
    }
   ],
   "source": [
    "# exclude automatically assigned primary key, DM_ID\n",
    "# additional info is always better - \n",
    "new_member={\n",
    " 'DM_FNAME':\"Sima\",\n",
    " 'DM_LNAME':\"T\",\n",
    " 'DM_TITLE':\"Data Scientist\",\n",
    " 'DM_WPHONE':np.nan,\n",
    " 'DM_EXT':np.nan,\n",
    " 'DM_EMAIL':\"email@email.org\",\n",
    " 'DM_PP_USERNAME':np.nan,\n",
    " 'DM_DA_ID':25, # from directory_affiliate\n",
    " 'DM_DAD_ID':20, # from directory_affiliate_department\n",
    " 'DM_DAC_ID':2, # from directory_affiliate_category\n",
    " 'DM_SPONSOR_ID':np.nan,\n",
    " 'DM_SCREENING_CENTER':\"BUCK\", # from inv_screening_center\n",
    " 'DM_NOTES':np.nan,\n",
    " 'DM_STATUS_ID':1,\n",
    " 'DM_INS_BY':1, # You can be circular here, like create yourself as #1 and then say ins_by 1\n",
    " 'DM_INS_DATE':md.string_now()\n",
    "}\n",
    "new_members=pd.DataFrame.from_records([new_member])\n",
    "new_members"
   ]
  },
  {
   "cell_type": "code",
   "execution_count": 27,
   "id": "ea1a67f1-d36a-48fd-bf83-fb075702e5c6",
   "metadata": {},
   "outputs": [],
   "source": [
    "dir_mem_table=Table('DIRECTORY_MEMBER', metadata, autoload_with=engine)"
   ]
  },
  {
   "cell_type": "code",
   "execution_count": 28,
   "id": "fe94ceb0-34fb-4ff0-a74c-89c310ebb634",
   "metadata": {},
   "outputs": [
    {
     "name": "stdout",
     "output_type": "stream",
     "text": [
      "OK - these DM_EMAIL values are unique.\n"
     ]
    }
   ],
   "source": [
    "if md.check_unique(new_members, dir_mem_table, 'DM_EMAIL', engine):\n",
    "    new_members.to_sql(name='DIRECTORY_MEMBER', con=engine, if_exists = 'append', index=False)"
   ]
  },
  {
   "cell_type": "code",
   "execution_count": 31,
   "id": "2f206ef2-0787-4a32-92d4-6bb94cf0a802",
   "metadata": {},
   "outputs": [
    {
     "data": {
      "text/html": [
       "<div>\n",
       "<style scoped>\n",
       "    .dataframe tbody tr th:only-of-type {\n",
       "        vertical-align: middle;\n",
       "    }\n",
       "\n",
       "    .dataframe tbody tr th {\n",
       "        vertical-align: top;\n",
       "    }\n",
       "\n",
       "    .dataframe thead th {\n",
       "        text-align: right;\n",
       "    }\n",
       "</style>\n",
       "<table border=\"1\" class=\"dataframe\">\n",
       "  <thead>\n",
       "    <tr style=\"text-align: right;\">\n",
       "      <th></th>\n",
       "      <th>DM_ID</th>\n",
       "      <th>DM_FNAME</th>\n",
       "      <th>DM_LNAME</th>\n",
       "      <th>DM_TITLE</th>\n",
       "      <th>DM_WPHONE</th>\n",
       "      <th>DM_EXT</th>\n",
       "      <th>DM_EMAIL</th>\n",
       "      <th>DM_PP_USERNAME</th>\n",
       "      <th>DM_DA_ID</th>\n",
       "      <th>DM_DAD_ID</th>\n",
       "      <th>DM_DAC_ID</th>\n",
       "      <th>DM_SPONSOR_ID</th>\n",
       "      <th>DM_SCREENING_CENTER</th>\n",
       "      <th>DM_NOTES</th>\n",
       "      <th>DM_STATUS_ID</th>\n",
       "      <th>DM_INS_BY</th>\n",
       "      <th>DM_INS_DATE</th>\n",
       "    </tr>\n",
       "  </thead>\n",
       "  <tbody>\n",
       "    <tr>\n",
       "      <th>609</th>\n",
       "      <td>643</td>\n",
       "      <td>Sima</td>\n",
       "      <td>T</td>\n",
       "      <td>Data Scientist</td>\n",
       "      <td>None</td>\n",
       "      <td>NaN</td>\n",
       "      <td>email@email.org</td>\n",
       "      <td>None</td>\n",
       "      <td>25.0</td>\n",
       "      <td>20.0</td>\n",
       "      <td>2.0</td>\n",
       "      <td>NaN</td>\n",
       "      <td>BUCK</td>\n",
       "      <td>None</td>\n",
       "      <td>1</td>\n",
       "      <td>569.0</td>\n",
       "      <td>2024-03-06 16:00:53</td>\n",
       "    </tr>\n",
       "  </tbody>\n",
       "</table>\n",
       "</div>"
      ],
      "text/plain": [
       "     DM_ID DM_FNAME DM_LNAME        DM_TITLE DM_WPHONE  DM_EXT  \\\n",
       "609    643     Sima        T  Data Scientist      None     NaN   \n",
       "\n",
       "            DM_EMAIL DM_PP_USERNAME  DM_DA_ID  DM_DAD_ID  DM_DAC_ID  \\\n",
       "609  email@email.org           None      25.0       20.0        2.0   \n",
       "\n",
       "     DM_SPONSOR_ID DM_SCREENING_CENTER DM_NOTES  DM_STATUS_ID  DM_INS_BY  \\\n",
       "609            NaN                BUCK     None             1      569.0   \n",
       "\n",
       "            DM_INS_DATE  \n",
       "609 2024-03-06 16:00:53  "
      ]
     },
     "execution_count": 31,
     "metadata": {},
     "output_type": "execute_result"
    }
   ],
   "source": [
    "pd.read_sql_table('DIRECTORY_MEMBER', con=engine).tail(1)"
   ]
  },
  {
   "cell_type": "markdown",
   "id": "cf9d4317-1d04-4007-bd97-83bac948b6c8",
   "metadata": {},
   "source": [
    "### Assign roles to member"
   ]
  },
  {
   "cell_type": "code",
   "execution_count": 32,
   "id": "635649bd-4341-4179-9b25-6775f2ff4798",
   "metadata": {},
   "outputs": [
    {
     "data": {
      "text/html": [
       "<div>\n",
       "<style scoped>\n",
       "    .dataframe tbody tr th:only-of-type {\n",
       "        vertical-align: middle;\n",
       "    }\n",
       "\n",
       "    .dataframe tbody tr th {\n",
       "        vertical-align: top;\n",
       "    }\n",
       "\n",
       "    .dataframe thead th {\n",
       "        text-align: right;\n",
       "    }\n",
       "</style>\n",
       "<table border=\"1\" class=\"dataframe\">\n",
       "  <thead>\n",
       "    <tr style=\"text-align: right;\">\n",
       "      <th></th>\n",
       "      <th>DR_ID</th>\n",
       "      <th>DR_DESCRIPTION</th>\n",
       "      <th>DR_IS_STAFF</th>\n",
       "    </tr>\n",
       "  </thead>\n",
       "  <tbody>\n",
       "    <tr>\n",
       "      <th>0</th>\n",
       "      <td>1</td>\n",
       "      <td>Principal Investigator</td>\n",
       "      <td>0</td>\n",
       "    </tr>\n",
       "    <tr>\n",
       "      <th>1</th>\n",
       "      <td>2</td>\n",
       "      <td>Staff - Biologist</td>\n",
       "      <td>1</td>\n",
       "    </tr>\n",
       "    <tr>\n",
       "      <th>2</th>\n",
       "      <td>3</td>\n",
       "      <td>Staff - Chemist</td>\n",
       "      <td>1</td>\n",
       "    </tr>\n",
       "    <tr>\n",
       "      <th>3</th>\n",
       "      <td>4</td>\n",
       "      <td>Staff - Informatics</td>\n",
       "      <td>1</td>\n",
       "    </tr>\n",
       "    <tr>\n",
       "      <th>4</th>\n",
       "      <td>5</td>\n",
       "      <td>Staff - IT</td>\n",
       "      <td>1</td>\n",
       "    </tr>\n",
       "    <tr>\n",
       "      <th>5</th>\n",
       "      <td>6</td>\n",
       "      <td>Investigator</td>\n",
       "      <td>0</td>\n",
       "    </tr>\n",
       "    <tr>\n",
       "      <th>6</th>\n",
       "      <td>7</td>\n",
       "      <td>Graduate Student</td>\n",
       "      <td>0</td>\n",
       "    </tr>\n",
       "    <tr>\n",
       "      <th>7</th>\n",
       "      <td>8</td>\n",
       "      <td>Undergraduate Student</td>\n",
       "      <td>0</td>\n",
       "    </tr>\n",
       "    <tr>\n",
       "      <th>8</th>\n",
       "      <td>9</td>\n",
       "      <td>Intern</td>\n",
       "      <td>0</td>\n",
       "    </tr>\n",
       "    <tr>\n",
       "      <th>9</th>\n",
       "      <td>10</td>\n",
       "      <td>Visiting Scientist</td>\n",
       "      <td>0</td>\n",
       "    </tr>\n",
       "    <tr>\n",
       "      <th>10</th>\n",
       "      <td>11</td>\n",
       "      <td>Staff - Manager</td>\n",
       "      <td>1</td>\n",
       "    </tr>\n",
       "    <tr>\n",
       "      <th>11</th>\n",
       "      <td>12</td>\n",
       "      <td>Rotation Student</td>\n",
       "      <td>0</td>\n",
       "    </tr>\n",
       "    <tr>\n",
       "      <th>12</th>\n",
       "      <td>13</td>\n",
       "      <td>Post Doc</td>\n",
       "      <td>0</td>\n",
       "    </tr>\n",
       "    <tr>\n",
       "      <th>13</th>\n",
       "      <td>14</td>\n",
       "      <td>Staff</td>\n",
       "      <td>1</td>\n",
       "    </tr>\n",
       "  </tbody>\n",
       "</table>\n",
       "</div>"
      ],
      "text/plain": [
       "    DR_ID          DR_DESCRIPTION  DR_IS_STAFF\n",
       "0       1  Principal Investigator            0\n",
       "1       2       Staff - Biologist            1\n",
       "2       3         Staff - Chemist            1\n",
       "3       4     Staff - Informatics            1\n",
       "4       5              Staff - IT            1\n",
       "5       6            Investigator            0\n",
       "6       7        Graduate Student            0\n",
       "7       8   Undergraduate Student            0\n",
       "8       9                  Intern            0\n",
       "9      10      Visiting Scientist            0\n",
       "10     11         Staff - Manager            1\n",
       "11     12        Rotation Student            0\n",
       "12     13                Post Doc            0\n",
       "13     14                   Staff            1"
      ]
     },
     "execution_count": 32,
     "metadata": {},
     "output_type": "execute_result"
    }
   ],
   "source": [
    "dir_roles=pd.read_sql_table('DIRECTORY_ROLE', con=engine)\n",
    "dir_roles"
   ]
  },
  {
   "cell_type": "code",
   "execution_count": 33,
   "id": "5d63132a-ca3b-4631-9e55-b0f5c5081fbd",
   "metadata": {},
   "outputs": [
    {
     "data": {
      "text/html": [
       "<div>\n",
       "<style scoped>\n",
       "    .dataframe tbody tr th:only-of-type {\n",
       "        vertical-align: middle;\n",
       "    }\n",
       "\n",
       "    .dataframe tbody tr th {\n",
       "        vertical-align: top;\n",
       "    }\n",
       "\n",
       "    .dataframe thead th {\n",
       "        text-align: right;\n",
       "    }\n",
       "</style>\n",
       "<table border=\"1\" class=\"dataframe\">\n",
       "  <thead>\n",
       "    <tr style=\"text-align: right;\">\n",
       "      <th></th>\n",
       "      <th>DR_ID</th>\n",
       "      <th>DM_ID</th>\n",
       "    </tr>\n",
       "  </thead>\n",
       "  <tbody>\n",
       "    <tr>\n",
       "      <th>0</th>\n",
       "      <td>1</td>\n",
       "      <td>9</td>\n",
       "    </tr>\n",
       "    <tr>\n",
       "      <th>1</th>\n",
       "      <td>1</td>\n",
       "      <td>18</td>\n",
       "    </tr>\n",
       "    <tr>\n",
       "      <th>2</th>\n",
       "      <td>1</td>\n",
       "      <td>19</td>\n",
       "    </tr>\n",
       "    <tr>\n",
       "      <th>3</th>\n",
       "      <td>1</td>\n",
       "      <td>22</td>\n",
       "    </tr>\n",
       "    <tr>\n",
       "      <th>4</th>\n",
       "      <td>3</td>\n",
       "      <td>25</td>\n",
       "    </tr>\n",
       "  </tbody>\n",
       "</table>\n",
       "</div>"
      ],
      "text/plain": [
       "   DR_ID  DM_ID\n",
       "0      1      9\n",
       "1      1     18\n",
       "2      1     19\n",
       "3      1     22\n",
       "4      3     25"
      ]
     },
     "execution_count": 33,
     "metadata": {},
     "output_type": "execute_result"
    }
   ],
   "source": [
    "dm_roles=pd.read_sql_table('DIRECTORY_MEMBER_ROLES', con=engine)\n",
    "dm_roles.head()"
   ]
  },
  {
   "cell_type": "code",
   "execution_count": 34,
   "id": "68ba65d8-4ce6-4e58-b82a-76c112bf3e0d",
   "metadata": {},
   "outputs": [
    {
     "data": {
      "text/html": [
       "<div>\n",
       "<style scoped>\n",
       "    .dataframe tbody tr th:only-of-type {\n",
       "        vertical-align: middle;\n",
       "    }\n",
       "\n",
       "    .dataframe tbody tr th {\n",
       "        vertical-align: top;\n",
       "    }\n",
       "\n",
       "    .dataframe thead th {\n",
       "        text-align: right;\n",
       "    }\n",
       "</style>\n",
       "<table border=\"1\" class=\"dataframe\">\n",
       "  <thead>\n",
       "    <tr style=\"text-align: right;\">\n",
       "      <th></th>\n",
       "      <th>DR_ID</th>\n",
       "      <th>DM_ID</th>\n",
       "    </tr>\n",
       "  </thead>\n",
       "  <tbody>\n",
       "    <tr>\n",
       "      <th>0</th>\n",
       "      <td>1</td>\n",
       "      <td>642</td>\n",
       "    </tr>\n",
       "    <tr>\n",
       "      <th>1</th>\n",
       "      <td>4</td>\n",
       "      <td>642</td>\n",
       "    </tr>\n",
       "    <tr>\n",
       "      <th>2</th>\n",
       "      <td>6</td>\n",
       "      <td>642</td>\n",
       "    </tr>\n",
       "    <tr>\n",
       "      <th>3</th>\n",
       "      <td>14</td>\n",
       "      <td>642</td>\n",
       "    </tr>\n",
       "  </tbody>\n",
       "</table>\n",
       "</div>"
      ],
      "text/plain": [
       "   DR_ID  DM_ID\n",
       "0      1    642\n",
       "1      4    642\n",
       "2      6    642\n",
       "3     14    642"
      ]
     },
     "execution_count": 34,
     "metadata": {},
     "output_type": "execute_result"
    }
   ],
   "source": [
    "# create many roles for same person\n",
    "new_roles=[\n",
    "    {'DR_ID':1, 'DM_ID':642}, # PI\n",
    "    {'DR_ID':4, 'DM_ID':642}, # Informatics staff\n",
    "    {'DR_ID':6, 'DM_ID':642}, # Investigator, aka person running actual experiments\n",
    "    {'DR_ID':14,'DM_ID':642}, # regular staff\n",
    "]\n",
    "new_roles=pd.DataFrame.from_records(new_roles)\n",
    "new_roles"
   ]
  },
  {
   "cell_type": "code",
   "execution_count": 35,
   "id": "9a69bd50-7fd3-47cc-ad02-d03e8329bd5d",
   "metadata": {},
   "outputs": [
    {
     "data": {
      "text/plain": [
       "4"
      ]
     },
     "execution_count": 35,
     "metadata": {},
     "output_type": "execute_result"
    }
   ],
   "source": [
    "# there's not really a unique check for this table, so skip it and be careful to only insert once.\n",
    "# we could expand the check_unique to accept > 1 column\n",
    "new_roles.to_sql(name='DIRECTORY_MEMBER_ROLES', con=engine, if_exists='append', index=False)"
   ]
  },
  {
   "cell_type": "markdown",
   "id": "5c746e71-a914-40dc-ab5a-0b873d8d3afe",
   "metadata": {},
   "source": [
    "# Create project"
   ]
  },
  {
   "cell_type": "code",
   "execution_count": 41,
   "id": "7f72ec30-20a6-4a9c-b2fd-1d3c42a29756",
   "metadata": {},
   "outputs": [
    {
     "name": "stdout",
     "output_type": "stream",
     "text": [
      "Primary key: HP_ID\n"
     ]
    },
    {
     "data": {
      "text/plain": [
       "[(247,)]"
      ]
     },
     "execution_count": 41,
     "metadata": {},
     "output_type": "execute_result"
    }
   ],
   "source": [
    "# load project table and count rows - ok to load all into memory?\n",
    "hts_project_table=Table(\"HTS_PROJECT\", metadata, autoload_with=engine)\n",
    "\n",
    "md.count_rows(hts_project_table, engine) # OK number of rows"
   ]
  },
  {
   "cell_type": "code",
   "execution_count": 42,
   "id": "92fb1eb7-92cb-480a-98cb-c4a700cc51ce",
   "metadata": {},
   "outputs": [
    {
     "name": "stdout",
     "output_type": "stream",
     "text": [
      "Index(['HP_ID', 'HP_CDD_VAULT_PROJECT_ID', 'HP_SDESC', 'HP_LDESC',\n",
      "       'HP_FUNDING_SOURCE', 'HP_LABOWNER_UID', 'HP_INVESTIG_UID',\n",
      "       'HP_PRIMARY_CONTACT', 'HP_SECONDARY_CONTACT', 'HP_THERAPEUTIC_AREA',\n",
      "       'HP_THERAPEUTIC_AREA_ADD', 'HP_TARGET', 'HP_TARGET_DISEASE',\n",
      "       'HP_TARGET_ORGANISM', 'HP_TARGET_PROTEIN',\n",
      "       'HP_TARGET_BIOLOGICAL_PROCESS', 'HP_NOTES', 'HP_SCREENING_CENTER',\n",
      "       'HP_STATUS_ID', 'HP_INS_BY', 'HP_INS_DATE', 'HP_RECHARGE',\n",
      "       'HP_IS_PUBLIC_DATA', 'HP_IS_PROPRIETARY_DATA'],\n",
      "      dtype='object')\n"
     ]
    },
    {
     "data": {
      "text/html": [
       "<div>\n",
       "<style scoped>\n",
       "    .dataframe tbody tr th:only-of-type {\n",
       "        vertical-align: middle;\n",
       "    }\n",
       "\n",
       "    .dataframe tbody tr th {\n",
       "        vertical-align: top;\n",
       "    }\n",
       "\n",
       "    .dataframe thead th {\n",
       "        text-align: right;\n",
       "    }\n",
       "</style>\n",
       "<table border=\"1\" class=\"dataframe\">\n",
       "  <thead>\n",
       "    <tr style=\"text-align: right;\">\n",
       "      <th></th>\n",
       "      <th>HP_ID</th>\n",
       "      <th>HP_CDD_VAULT_PROJECT_ID</th>\n",
       "      <th>HP_SDESC</th>\n",
       "      <th>HP_LDESC</th>\n",
       "      <th>HP_FUNDING_SOURCE</th>\n",
       "      <th>HP_LABOWNER_UID</th>\n",
       "      <th>HP_INVESTIG_UID</th>\n",
       "      <th>HP_PRIMARY_CONTACT</th>\n",
       "      <th>HP_SECONDARY_CONTACT</th>\n",
       "      <th>HP_THERAPEUTIC_AREA</th>\n",
       "      <th>...</th>\n",
       "      <th>HP_TARGET_PROTEIN</th>\n",
       "      <th>HP_TARGET_BIOLOGICAL_PROCESS</th>\n",
       "      <th>HP_NOTES</th>\n",
       "      <th>HP_SCREENING_CENTER</th>\n",
       "      <th>HP_STATUS_ID</th>\n",
       "      <th>HP_INS_BY</th>\n",
       "      <th>HP_INS_DATE</th>\n",
       "      <th>HP_RECHARGE</th>\n",
       "      <th>HP_IS_PUBLIC_DATA</th>\n",
       "      <th>HP_IS_PROPRIETARY_DATA</th>\n",
       "    </tr>\n",
       "  </thead>\n",
       "  <tbody>\n",
       "    <tr>\n",
       "      <th>0</th>\n",
       "      <td>1</td>\n",
       "      <td>10424.0</td>\n",
       "      <td>Thyroid Receptor</td>\n",
       "      <td>None</td>\n",
       "      <td></td>\n",
       "      <td>9</td>\n",
       "      <td>8</td>\n",
       "      <td>NaN</td>\n",
       "      <td>NaN</td>\n",
       "      <td>neurology</td>\n",
       "      <td>...</td>\n",
       "      <td>None</td>\n",
       "      <td>None</td>\n",
       "      <td>None</td>\n",
       "      <td>SMDC</td>\n",
       "      <td>0</td>\n",
       "      <td>1</td>\n",
       "      <td>2006-08-15 15:58:18</td>\n",
       "      <td>1</td>\n",
       "      <td>0</td>\n",
       "      <td>0</td>\n",
       "    </tr>\n",
       "    <tr>\n",
       "      <th>1</th>\n",
       "      <td>2</td>\n",
       "      <td>10595.0</td>\n",
       "      <td>Caspase-1 (2005)</td>\n",
       "      <td>None</td>\n",
       "      <td></td>\n",
       "      <td>17</td>\n",
       "      <td>17</td>\n",
       "      <td>NaN</td>\n",
       "      <td>NaN</td>\n",
       "      <td>inflammation</td>\n",
       "      <td>...</td>\n",
       "      <td>None</td>\n",
       "      <td>None</td>\n",
       "      <td>None</td>\n",
       "      <td>SMDC</td>\n",
       "      <td>0</td>\n",
       "      <td>1</td>\n",
       "      <td>2006-08-15 15:58:18</td>\n",
       "      <td>1</td>\n",
       "      <td>0</td>\n",
       "      <td>0</td>\n",
       "    </tr>\n",
       "  </tbody>\n",
       "</table>\n",
       "<p>2 rows × 24 columns</p>\n",
       "</div>"
      ],
      "text/plain": [
       "   HP_ID  HP_CDD_VAULT_PROJECT_ID          HP_SDESC HP_LDESC  \\\n",
       "0      1                  10424.0  Thyroid Receptor     None   \n",
       "1      2                  10595.0  Caspase-1 (2005)     None   \n",
       "\n",
       "  HP_FUNDING_SOURCE  HP_LABOWNER_UID  HP_INVESTIG_UID  HP_PRIMARY_CONTACT  \\\n",
       "0                                  9                8                 NaN   \n",
       "1                                 17               17                 NaN   \n",
       "\n",
       "   HP_SECONDARY_CONTACT HP_THERAPEUTIC_AREA  ... HP_TARGET_PROTEIN  \\\n",
       "0                   NaN           neurology  ...              None   \n",
       "1                   NaN        inflammation  ...              None   \n",
       "\n",
       "  HP_TARGET_BIOLOGICAL_PROCESS HP_NOTES HP_SCREENING_CENTER HP_STATUS_ID  \\\n",
       "0                         None     None                SMDC            0   \n",
       "1                         None     None                SMDC            0   \n",
       "\n",
       "  HP_INS_BY         HP_INS_DATE HP_RECHARGE  HP_IS_PUBLIC_DATA  \\\n",
       "0         1 2006-08-15 15:58:18           1                  0   \n",
       "1         1 2006-08-15 15:58:18           1                  0   \n",
       "\n",
       "   HP_IS_PROPRIETARY_DATA  \n",
       "0                       0  \n",
       "1                       0  \n",
       "\n",
       "[2 rows x 24 columns]"
      ]
     },
     "execution_count": 42,
     "metadata": {},
     "output_type": "execute_result"
    }
   ],
   "source": [
    "# examine table\n",
    "hts_project=pd.read_sql_table('HTS_PROJECT', con=engine)\n",
    "print(hts_project.columns)\n",
    "hts_project.head(2)"
   ]
  },
  {
   "cell_type": "code",
   "execution_count": 43,
   "id": "0505ebf5-a693-4894-b40e-62a1ade00619",
   "metadata": {},
   "outputs": [
    {
     "data": {
      "text/html": [
       "<div>\n",
       "<style scoped>\n",
       "    .dataframe tbody tr th:only-of-type {\n",
       "        vertical-align: middle;\n",
       "    }\n",
       "\n",
       "    .dataframe tbody tr th {\n",
       "        vertical-align: top;\n",
       "    }\n",
       "\n",
       "    .dataframe thead th {\n",
       "        text-align: right;\n",
       "    }\n",
       "</style>\n",
       "<table border=\"1\" class=\"dataframe\">\n",
       "  <thead>\n",
       "    <tr style=\"text-align: right;\">\n",
       "      <th></th>\n",
       "      <th>HP_CDD_VAULT_PROJECT_ID</th>\n",
       "      <th>HP_SDESC</th>\n",
       "      <th>HP_LDESC</th>\n",
       "      <th>HP_FUNDING_SOURCE</th>\n",
       "      <th>HP_LABOWNER_UID</th>\n",
       "      <th>HP_INVESTIG_UID</th>\n",
       "      <th>HP_PRIMARY_CONTACT</th>\n",
       "      <th>HP_SECONDARY_CONTACT</th>\n",
       "      <th>HP_THERAPEUTIC_AREA</th>\n",
       "      <th>HP_THERAPEUTIC_AREA_ADD</th>\n",
       "      <th>...</th>\n",
       "      <th>HP_TARGET_PROTEIN</th>\n",
       "      <th>HP_TARGET_BIOLOGICAL_PROCESS</th>\n",
       "      <th>HP_NOTES</th>\n",
       "      <th>HP_SCREENING_CENTER</th>\n",
       "      <th>HP_STATUS_ID</th>\n",
       "      <th>HP_INS_BY</th>\n",
       "      <th>HP_INS_DATE</th>\n",
       "      <th>HP_RECHARGE</th>\n",
       "      <th>HP_IS_PUBLIC_DATA</th>\n",
       "      <th>HP_IS_PROPRIETARY_DATA</th>\n",
       "    </tr>\n",
       "  </thead>\n",
       "  <tbody>\n",
       "    <tr>\n",
       "      <th>0</th>\n",
       "      <td>NaN</td>\n",
       "      <td>Buck test data</td>\n",
       "      <td>A test project to practice inserting data to Hits</td>\n",
       "      <td>internal</td>\n",
       "      <td>642</td>\n",
       "      <td>642</td>\n",
       "      <td>642</td>\n",
       "      <td>NaN</td>\n",
       "      <td>aging</td>\n",
       "      <td>NaN</td>\n",
       "      <td>...</td>\n",
       "      <td>NaN</td>\n",
       "      <td>NaN</td>\n",
       "      <td>NaN</td>\n",
       "      <td>BUCK</td>\n",
       "      <td>1</td>\n",
       "      <td>569</td>\n",
       "      <td>2024-03-06 16:03:51</td>\n",
       "      <td>0</td>\n",
       "      <td>0</td>\n",
       "      <td>0</td>\n",
       "    </tr>\n",
       "  </tbody>\n",
       "</table>\n",
       "<p>1 rows × 23 columns</p>\n",
       "</div>"
      ],
      "text/plain": [
       "   HP_CDD_VAULT_PROJECT_ID        HP_SDESC  \\\n",
       "0                      NaN  Buck test data   \n",
       "\n",
       "                                            HP_LDESC HP_FUNDING_SOURCE  \\\n",
       "0  A test project to practice inserting data to Hits          internal   \n",
       "\n",
       "   HP_LABOWNER_UID  HP_INVESTIG_UID  HP_PRIMARY_CONTACT  HP_SECONDARY_CONTACT  \\\n",
       "0              642              642                 642                   NaN   \n",
       "\n",
       "  HP_THERAPEUTIC_AREA  HP_THERAPEUTIC_AREA_ADD  ... HP_TARGET_PROTEIN  \\\n",
       "0               aging                      NaN  ...               NaN   \n",
       "\n",
       "   HP_TARGET_BIOLOGICAL_PROCESS  HP_NOTES  HP_SCREENING_CENTER  HP_STATUS_ID  \\\n",
       "0                           NaN       NaN                 BUCK             1   \n",
       "\n",
       "   HP_INS_BY          HP_INS_DATE  HP_RECHARGE  HP_IS_PUBLIC_DATA  \\\n",
       "0        569  2024-03-06 16:03:51            0                  0   \n",
       "\n",
       "  HP_IS_PROPRIETARY_DATA  \n",
       "0                      0  \n",
       "\n",
       "[1 rows x 23 columns]"
      ]
     },
     "execution_count": 43,
     "metadata": {},
     "output_type": "execute_result"
    }
   ],
   "source": [
    "# create new data\n",
    "new_project={\n",
    "    'HP_CDD_VAULT_PROJECT_ID':np.nan, # can be deleted if you want \n",
    "    'HP_SDESC':\"Buck test data\",\n",
    "    'HP_LDESC':\"A test project to practice inserting data to Hits\",\n",
    "    'HP_FUNDING_SOURCE':'internal', # this cannot be null, if you have a chart string or other method to identify how recharge will be paid use that or just say TBD, internal, etc.\n",
    "    'HP_LABOWNER_UID':642, # from DIRECTORY_MEMBER - PI\n",
    "    'HP_INVESTIG_UID':642, # person running experiments\n",
    "    'HP_PRIMARY_CONTACT':642, # staff member helping this person, can be PI or someone else\n",
    "    'HP_SECONDARY_CONTACT':np.nan,\n",
    "    'HP_THERAPEUTIC_AREA':\"aging\",\n",
    "    'HP_THERAPEUTIC_AREA_ADD':np.nan,\n",
    "    'HP_TARGET':\"aging protein X\", # text\n",
    "    'HP_TARGET_DISEASE':np.nan, # these target details are determined by BAO. leave blank until form is created.\n",
    "    'HP_TARGET_ORGANISM':np.nan,\n",
    "    'HP_TARGET_PROTEIN':np.nan,\n",
    "    'HP_TARGET_BIOLOGICAL_PROCESS':np.nan,\n",
    "    'HP_NOTES':np.nan,\n",
    "    'HP_SCREENING_CENTER':\"BUCK\", # from inv_screening_center\n",
    "    'HP_STATUS_ID': 1, # 1 means active\n",
    "    'HP_INS_BY': 1,\n",
    "    'HP_INS_DATE': md.string_now(),\n",
    "    'HP_RECHARGE':0, # 0 means it's in your lab and you don't charge for equipment, 1 means outside users\n",
    "    'HP_IS_PUBLIC_DATA': 0, # 1 means yes, make public (for web app) put everything at 0 for now\n",
    "    'HP_IS_PROPRIETARY_DATA': 0, # 1 means exclude from cross-database analysis like frequent hitter compounds, etc.\n",
    "}\n",
    "new_project=pd.DataFrame.from_records([new_project])\n",
    "new_project"
   ]
  },
  {
   "cell_type": "code",
   "execution_count": 273,
   "id": "f386f4b1-0d4e-47ba-82a8-2b56e18fd9d7",
   "metadata": {},
   "outputs": [
    {
     "name": "stdout",
     "output_type": "stream",
     "text": [
      "OK - these HP_SDESC values are unique.\n"
     ]
    }
   ],
   "source": [
    "# check and insert\n",
    "if md.check_unique(new_project, hts_project_table, \"HP_SDESC\", engine):\n",
    "    new_project.to_sql('HTS_PROJECT', con=engine, if_exists='append', index=False)"
   ]
  },
  {
   "cell_type": "code",
   "execution_count": 51,
   "id": "014b2ba3-daa2-41aa-a750-0180625e9c53",
   "metadata": {},
   "outputs": [
    {
     "data": {
      "text/html": [
       "<div>\n",
       "<style scoped>\n",
       "    .dataframe tbody tr th:only-of-type {\n",
       "        vertical-align: middle;\n",
       "    }\n",
       "\n",
       "    .dataframe tbody tr th {\n",
       "        vertical-align: top;\n",
       "    }\n",
       "\n",
       "    .dataframe thead th {\n",
       "        text-align: right;\n",
       "    }\n",
       "</style>\n",
       "<table border=\"1\" class=\"dataframe\">\n",
       "  <thead>\n",
       "    <tr style=\"text-align: right;\">\n",
       "      <th></th>\n",
       "      <th>HP_ID</th>\n",
       "      <th>HP_CDD_VAULT_PROJECT_ID</th>\n",
       "      <th>HP_SDESC</th>\n",
       "      <th>HP_LDESC</th>\n",
       "      <th>HP_FUNDING_SOURCE</th>\n",
       "      <th>HP_LABOWNER_UID</th>\n",
       "      <th>HP_INVESTIG_UID</th>\n",
       "      <th>HP_PRIMARY_CONTACT</th>\n",
       "      <th>HP_SECONDARY_CONTACT</th>\n",
       "      <th>HP_THERAPEUTIC_AREA</th>\n",
       "      <th>...</th>\n",
       "      <th>HP_TARGET_PROTEIN</th>\n",
       "      <th>HP_TARGET_BIOLOGICAL_PROCESS</th>\n",
       "      <th>HP_NOTES</th>\n",
       "      <th>HP_SCREENING_CENTER</th>\n",
       "      <th>HP_STATUS_ID</th>\n",
       "      <th>HP_INS_BY</th>\n",
       "      <th>HP_INS_DATE</th>\n",
       "      <th>HP_RECHARGE</th>\n",
       "      <th>HP_IS_PUBLIC_DATA</th>\n",
       "      <th>HP_IS_PROPRIETARY_DATA</th>\n",
       "    </tr>\n",
       "  </thead>\n",
       "  <tbody>\n",
       "    <tr>\n",
       "      <th>246</th>\n",
       "      <td>320</td>\n",
       "      <td>NaN</td>\n",
       "      <td>Buck test data</td>\n",
       "      <td>A test project to practice inserting data to Hits</td>\n",
       "      <td>internal</td>\n",
       "      <td>642</td>\n",
       "      <td>642</td>\n",
       "      <td>642.0</td>\n",
       "      <td>NaN</td>\n",
       "      <td>aging</td>\n",
       "      <td>...</td>\n",
       "      <td>None</td>\n",
       "      <td>None</td>\n",
       "      <td>None</td>\n",
       "      <td>SMDC</td>\n",
       "      <td>1</td>\n",
       "      <td>569</td>\n",
       "      <td>2024-03-06 14:57:05</td>\n",
       "      <td>0</td>\n",
       "      <td>0</td>\n",
       "      <td>0</td>\n",
       "    </tr>\n",
       "  </tbody>\n",
       "</table>\n",
       "<p>1 rows × 24 columns</p>\n",
       "</div>"
      ],
      "text/plain": [
       "     HP_ID  HP_CDD_VAULT_PROJECT_ID        HP_SDESC  \\\n",
       "246    320                      NaN  Buck test data   \n",
       "\n",
       "                                              HP_LDESC HP_FUNDING_SOURCE  \\\n",
       "246  A test project to practice inserting data to Hits          internal   \n",
       "\n",
       "     HP_LABOWNER_UID  HP_INVESTIG_UID  HP_PRIMARY_CONTACT  \\\n",
       "246              642              642               642.0   \n",
       "\n",
       "     HP_SECONDARY_CONTACT HP_THERAPEUTIC_AREA  ... HP_TARGET_PROTEIN  \\\n",
       "246                   NaN               aging  ...              None   \n",
       "\n",
       "    HP_TARGET_BIOLOGICAL_PROCESS HP_NOTES HP_SCREENING_CENTER HP_STATUS_ID  \\\n",
       "246                         None     None                SMDC            1   \n",
       "\n",
       "    HP_INS_BY         HP_INS_DATE HP_RECHARGE  HP_IS_PUBLIC_DATA  \\\n",
       "246       569 2024-03-06 14:57:05           0                  0   \n",
       "\n",
       "     HP_IS_PROPRIETARY_DATA  \n",
       "246                       0  \n",
       "\n",
       "[1 rows x 24 columns]"
      ]
     },
     "execution_count": 51,
     "metadata": {},
     "output_type": "execute_result"
    }
   ],
   "source": [
    "pd.read_sql_table('HTS_PROJECT', con=engine).tail(1)"
   ]
  },
  {
   "cell_type": "markdown",
   "id": "1b967174-c003-4fe3-a062-406ec788644d",
   "metadata": {},
   "source": [
    "# Create assay inside project\n",
    "HTS_ASSAY is the container for individual data points (HighThroughputScreening). Every single assay type will have an assay listed in HTS_ASSAY\n",
    "- a primary screening assay will have one HTS_ASSAY entry.\n",
    "- Follow up dose response assays will have 2 HTS_ASSAY entries (one for raw data and one for DR curves) and an HTL_ASSAY entry (HitToLead). HTL_ASSAY will store dose-response series and curve fit parameters.\n",
    "- Imaging assays will have an HTS_ASSAY entry for numerical data like number of nuclei in a well, and an HCS_ASSAY entry (high content screening) for actual image data. Imaging assays can have only HTS/HTL if no image data is desired to be saved with the assay."
   ]
  },
  {
   "cell_type": "code",
   "execution_count": 45,
   "id": "60bfa833-cae3-4b5b-8f28-5e35a1930b57",
   "metadata": {},
   "outputs": [
    {
     "name": "stdout",
     "output_type": "stream",
     "text": [
      "Primary key: HA_ID\n"
     ]
    },
    {
     "data": {
      "text/plain": [
       "[(2205,)]"
      ]
     },
     "execution_count": 45,
     "metadata": {},
     "output_type": "execute_result"
    }
   ],
   "source": [
    "hts_assay_table=Table('HTS_ASSAY', metadata, autoload_with=engine)\n",
    "md.count_rows(hts_assay_table, engine) # still ok- pandas OK up to ~50k in which case you want to use chunks (see Pandas documentation)."
   ]
  },
  {
   "cell_type": "code",
   "execution_count": 50,
   "id": "66b6894f-77e8-445c-a825-0f682b115b7d",
   "metadata": {},
   "outputs": [
    {
     "name": "stdout",
     "output_type": "stream",
     "text": [
      "(2205, 15)\n",
      "Index(['HA_ID', 'HA_SDESC', 'HA_HP_ID', 'HA_SCREENING_CENTER', 'HA_ACTIVITY',\n",
      "       'HA_VARIABLE_DATA_TYPE', 'HA_NOTES', 'HA_DB_NOTES', 'HA_DR_RAW',\n",
      "       'HA_FILTER', 'HA_STATUS_ID', 'HA_INS_BY', 'HA_INS_DATE', 'class',\n",
      "       'HA_CDD_VAULT_PROTOCOL_ID'],\n",
      "      dtype='object')\n"
     ]
    },
    {
     "data": {
      "text/html": [
       "<div>\n",
       "<style scoped>\n",
       "    .dataframe tbody tr th:only-of-type {\n",
       "        vertical-align: middle;\n",
       "    }\n",
       "\n",
       "    .dataframe tbody tr th {\n",
       "        vertical-align: top;\n",
       "    }\n",
       "\n",
       "    .dataframe thead th {\n",
       "        text-align: right;\n",
       "    }\n",
       "</style>\n",
       "<table border=\"1\" class=\"dataframe\">\n",
       "  <thead>\n",
       "    <tr style=\"text-align: right;\">\n",
       "      <th></th>\n",
       "      <th>HA_ID</th>\n",
       "      <th>HA_SDESC</th>\n",
       "      <th>HA_HP_ID</th>\n",
       "      <th>HA_SCREENING_CENTER</th>\n",
       "      <th>HA_ACTIVITY</th>\n",
       "      <th>HA_VARIABLE_DATA_TYPE</th>\n",
       "      <th>HA_NOTES</th>\n",
       "      <th>HA_DB_NOTES</th>\n",
       "      <th>HA_DR_RAW</th>\n",
       "      <th>HA_FILTER</th>\n",
       "      <th>HA_STATUS_ID</th>\n",
       "      <th>HA_INS_BY</th>\n",
       "      <th>HA_INS_DATE</th>\n",
       "      <th>class</th>\n",
       "      <th>HA_CDD_VAULT_PROTOCOL_ID</th>\n",
       "    </tr>\n",
       "  </thead>\n",
       "  <tbody>\n",
       "    <tr>\n",
       "      <th>0</th>\n",
       "      <td>1</td>\n",
       "      <td>TR-1</td>\n",
       "      <td>1</td>\n",
       "      <td>SMDC</td>\n",
       "      <td>I</td>\n",
       "      <td>None</td>\n",
       "      <td>Fluorescein Probe</td>\n",
       "      <td>201401 Recalculation note: add foldchange</td>\n",
       "      <td>NaN</td>\n",
       "      <td>1</td>\n",
       "      <td>1</td>\n",
       "      <td>1.0</td>\n",
       "      <td>NaT</td>\n",
       "      <td>hits.hts.HighThroughputAssay</td>\n",
       "      <td>44621.0</td>\n",
       "    </tr>\n",
       "  </tbody>\n",
       "</table>\n",
       "</div>"
      ],
      "text/plain": [
       "   HA_ID HA_SDESC  HA_HP_ID HA_SCREENING_CENTER HA_ACTIVITY  \\\n",
       "0      1     TR-1         1                SMDC           I   \n",
       "\n",
       "  HA_VARIABLE_DATA_TYPE           HA_NOTES  \\\n",
       "0                  None  Fluorescein Probe   \n",
       "\n",
       "                                 HA_DB_NOTES  HA_DR_RAW  HA_FILTER  \\\n",
       "0  201401 Recalculation note: add foldchange        NaN          1   \n",
       "\n",
       "   HA_STATUS_ID  HA_INS_BY HA_INS_DATE                         class  \\\n",
       "0             1        1.0         NaT  hits.hts.HighThroughputAssay   \n",
       "\n",
       "   HA_CDD_VAULT_PROTOCOL_ID  \n",
       "0                   44621.0  "
      ]
     },
     "execution_count": 50,
     "metadata": {},
     "output_type": "execute_result"
    }
   ],
   "source": [
    "hts_assay=pd.read_sql('HTS_ASSAY', con=engine)\n",
    "print(hts_assay.shape)\n",
    "print(hts_assay.columns)\n",
    "hts_assay.head(1)"
   ]
  },
  {
   "cell_type": "code",
   "execution_count": 47,
   "id": "a8bacf3c-457c-4778-965a-72af0ab3203f",
   "metadata": {},
   "outputs": [
    {
     "data": {
      "text/html": [
       "<div>\n",
       "<style scoped>\n",
       "    .dataframe tbody tr th:only-of-type {\n",
       "        vertical-align: middle;\n",
       "    }\n",
       "\n",
       "    .dataframe tbody tr th {\n",
       "        vertical-align: top;\n",
       "    }\n",
       "\n",
       "    .dataframe thead th {\n",
       "        text-align: right;\n",
       "    }\n",
       "</style>\n",
       "<table border=\"1\" class=\"dataframe\">\n",
       "  <thead>\n",
       "    <tr style=\"text-align: right;\">\n",
       "      <th></th>\n",
       "      <th>HA_SDESC</th>\n",
       "      <th>HA_HP_ID</th>\n",
       "      <th>HA_SCREENING_CENTER</th>\n",
       "      <th>HA_ACTIVITY</th>\n",
       "      <th>HA_VARIABLE_DATA_TYPE</th>\n",
       "      <th>HA_NOTES</th>\n",
       "      <th>HA_DB_NOTES</th>\n",
       "      <th>HA_DR_RAW</th>\n",
       "      <th>HA_FILTER</th>\n",
       "      <th>HA_STATUS_ID</th>\n",
       "      <th>HA_INS_BY</th>\n",
       "      <th>HA_INS_DATE</th>\n",
       "      <th>class</th>\n",
       "      <th>HA_CDD_VAULT_PROTOCOL_ID</th>\n",
       "    </tr>\n",
       "  </thead>\n",
       "  <tbody>\n",
       "    <tr>\n",
       "      <th>0</th>\n",
       "      <td>Buck test data</td>\n",
       "      <td>320</td>\n",
       "      <td>BUCK</td>\n",
       "      <td>NaN</td>\n",
       "      <td>NaN</td>\n",
       "      <td>NaN</td>\n",
       "      <td>NaN</td>\n",
       "      <td>NaN</td>\n",
       "      <td>0</td>\n",
       "      <td>1</td>\n",
       "      <td>569</td>\n",
       "      <td>2024-03-06 16:04:26</td>\n",
       "      <td>hits.hts.HighThroughputAssay</td>\n",
       "      <td>NaN</td>\n",
       "    </tr>\n",
       "  </tbody>\n",
       "</table>\n",
       "</div>"
      ],
      "text/plain": [
       "         HA_SDESC  HA_HP_ID HA_SCREENING_CENTER  HA_ACTIVITY  \\\n",
       "0  Buck test data       320                BUCK          NaN   \n",
       "\n",
       "   HA_VARIABLE_DATA_TYPE  HA_NOTES  HA_DB_NOTES  HA_DR_RAW  HA_FILTER  \\\n",
       "0                    NaN       NaN          NaN        NaN          0   \n",
       "\n",
       "   HA_STATUS_ID  HA_INS_BY          HA_INS_DATE                         class  \\\n",
       "0             1        569  2024-03-06 16:04:26  hits.hts.HighThroughputAssay   \n",
       "\n",
       "   HA_CDD_VAULT_PROTOCOL_ID  \n",
       "0                       NaN  "
      ]
     },
     "execution_count": 47,
     "metadata": {},
     "output_type": "execute_result"
    }
   ],
   "source": [
    "new_assay={\n",
    "    'HA_SDESC':'Buck test data', # name of assay\n",
    "    'HA_HP_ID': 320, # from HTS_PROJECT\n",
    "    'HA_SCREENING_CENTER':\"BUCK\",\n",
    "    'HA_ACTIVITY':np.nan, # deprecated\n",
    "    'HA_VARIABLE_DATA_TYPE':np.nan, # IF curve data, include \"SUBSTCONCUM\" (for dose response) or \"TIMESEC\" (for kinetic)\n",
    "    'HA_NOTES': np.nan, # these are displayed\n",
    "    'HA_DB_NOTES':np.nan, # these are for reference inside database, like counterscreen assay ID or reorg notes\n",
    "    'HA_DR_RAW':np.nan, # if dose response, you need one HTS_ASSAY to hold the raw data points and a second one \n",
    "                        # to be the actual DR data. for the second assay, write the assay ID of the raw data \n",
    "                        # counterpart. Important for inserting data later.\n",
    "    'HA_FILTER':0, # if this is a duplicate assay with exact same raw data, for example it's analyzed in two different ways, mark as 1.\n",
    "    'HA_STATUS_ID':1, # 1=active\n",
    "    'HA_INS_BY': 1,\n",
    "    'HA_INS_DATE':md.string_now(),\n",
    "    'class': 'hits.hts.HighThroughputAssay', # for web app; required. The other option is \"hits.htl.HitToLeadAssay\". Raw DR data points are \n",
    "                                             # 'hits.hts.HighThroughputAssay' while the secondary DR HTS_ASSAY entry is \"hits.htl.HitToLeadAssay\"\n",
    "    'HA_CDD_VAULT_PROTOCOL_ID': np.nan # can be deleted if you don't want to cross-upload to a CDD vault\n",
    "}\n",
    "new_assay=pd.DataFrame.from_records([new_assay])\n",
    "new_assay"
   ]
  },
  {
   "cell_type": "code",
   "execution_count": 346,
   "id": "9b6b034f-9587-4aa4-859e-f28f93f396dd",
   "metadata": {},
   "outputs": [
    {
     "name": "stdout",
     "output_type": "stream",
     "text": [
      "OK - these HA_SDESC values are unique.\n"
     ]
    }
   ],
   "source": [
    "if md.check_unique(new_assay, hts_assay_table, 'HA_SDESC', engine):\n",
    "    new_assay.to_sql('HTS_ASSAY', con=engine, if_exists='append', index=False)"
   ]
  },
  {
   "cell_type": "code",
   "execution_count": 49,
   "id": "9a3fcfc9-9148-4be3-8800-b2fcc61b61d2",
   "metadata": {},
   "outputs": [
    {
     "data": {
      "text/html": [
       "<div>\n",
       "<style scoped>\n",
       "    .dataframe tbody tr th:only-of-type {\n",
       "        vertical-align: middle;\n",
       "    }\n",
       "\n",
       "    .dataframe tbody tr th {\n",
       "        vertical-align: top;\n",
       "    }\n",
       "\n",
       "    .dataframe thead th {\n",
       "        text-align: right;\n",
       "    }\n",
       "</style>\n",
       "<table border=\"1\" class=\"dataframe\">\n",
       "  <thead>\n",
       "    <tr style=\"text-align: right;\">\n",
       "      <th></th>\n",
       "      <th>HA_ID</th>\n",
       "      <th>HA_SDESC</th>\n",
       "      <th>HA_HP_ID</th>\n",
       "      <th>HA_SCREENING_CENTER</th>\n",
       "      <th>HA_ACTIVITY</th>\n",
       "      <th>HA_VARIABLE_DATA_TYPE</th>\n",
       "      <th>HA_NOTES</th>\n",
       "      <th>HA_DB_NOTES</th>\n",
       "      <th>HA_DR_RAW</th>\n",
       "      <th>HA_FILTER</th>\n",
       "      <th>HA_STATUS_ID</th>\n",
       "      <th>HA_INS_BY</th>\n",
       "      <th>HA_INS_DATE</th>\n",
       "      <th>class</th>\n",
       "      <th>HA_CDD_VAULT_PROTOCOL_ID</th>\n",
       "    </tr>\n",
       "  </thead>\n",
       "  <tbody>\n",
       "    <tr>\n",
       "      <th>2204</th>\n",
       "      <td>2568</td>\n",
       "      <td>Buck test data</td>\n",
       "      <td>320</td>\n",
       "      <td>BUCK</td>\n",
       "      <td>None</td>\n",
       "      <td>None</td>\n",
       "      <td>None</td>\n",
       "      <td>None</td>\n",
       "      <td>NaN</td>\n",
       "      <td>0</td>\n",
       "      <td>1</td>\n",
       "      <td>569.0</td>\n",
       "      <td>2024-03-06 15:43:26</td>\n",
       "      <td>hits.hts.HighThroughputAssay</td>\n",
       "      <td>NaN</td>\n",
       "    </tr>\n",
       "  </tbody>\n",
       "</table>\n",
       "</div>"
      ],
      "text/plain": [
       "      HA_ID        HA_SDESC  HA_HP_ID HA_SCREENING_CENTER HA_ACTIVITY  \\\n",
       "2204   2568  Buck test data       320                BUCK        None   \n",
       "\n",
       "     HA_VARIABLE_DATA_TYPE HA_NOTES HA_DB_NOTES  HA_DR_RAW  HA_FILTER  \\\n",
       "2204                  None     None        None        NaN          0   \n",
       "\n",
       "      HA_STATUS_ID  HA_INS_BY         HA_INS_DATE  \\\n",
       "2204             1      569.0 2024-03-06 15:43:26   \n",
       "\n",
       "                             class  HA_CDD_VAULT_PROTOCOL_ID  \n",
       "2204  hits.hts.HighThroughputAssay                       NaN  "
      ]
     },
     "execution_count": 49,
     "metadata": {},
     "output_type": "execute_result"
    }
   ],
   "source": [
    "pd.read_sql_table('HTS_ASSAY', con=engine).tail(1)"
   ]
  },
  {
   "cell_type": "markdown",
   "id": "5703128f-14df-4822-9450-2a0d5f822416",
   "metadata": {},
   "source": [
    "## Other assay examples"
   ]
  },
  {
   "cell_type": "markdown",
   "id": "a9015881-217d-4a35-a7ee-c8a90280af4d",
   "metadata": {},
   "source": [
    "### DR assay"
   ]
  },
  {
   "cell_type": "code",
   "execution_count": 58,
   "id": "5f6c6fa0-3914-4fa9-a037-627e76bc1e93",
   "metadata": {},
   "outputs": [
    {
     "name": "stdout",
     "output_type": "stream",
     "text": [
      "OK - these HA_SDESC values are unique.\n"
     ]
    }
   ],
   "source": [
    "# inserting this into nightly is fine because it's going to be overwritten so you can play around. inserting into the real db should only happen if you're creating a real assay.\n",
    "\n",
    "new_assay_raw={\n",
    "    'HA_SDESC':'Buck test data DR Raw', # name of assay\n",
    "    'HA_HP_ID': 320, # from HTS_PROJECT\n",
    "    'HA_SCREENING_CENTER':\"BUCK\",\n",
    "    'HA_ACTIVITY':np.nan, # deprecated\n",
    "    'HA_VARIABLE_DATA_TYPE':'SUBSTCONCUM', # IF curve data, include \"SUBSTCONCUM\" (for dose response) or \"TIMESEC\" (for kinetic)\n",
    "    'HA_NOTES': np.nan, # these are displayed on web app\n",
    "    'HA_DB_NOTES':np.nan, # these are for reference inside database, like counterscreen assay ID or reorg notes\n",
    "    'HA_DR_RAW':np.nan, # if dose response, you need one HTS_ASSAY to hold the raw data points and a second one \n",
    "                        # to be the actual DR data. for the second assay, write the assay ID of the raw data \n",
    "                        # counterpart. Important for inserting data later.\n",
    "    'HA_FILTER':0, # if this is a duplicate assay with exact same raw data, for example it's analyzed in two different ways, mark as 1.\n",
    "    'HA_STATUS_ID':1, # 1=active\n",
    "    'HA_INS_BY': 1,\n",
    "    'HA_INS_DATE':md.string_now(),\n",
    "    'class': 'hits.hts.HighThroughputAssay', # for web app; required. The other option is \"hits.htl.HitToLeadAssay\". Raw DR data points are \n",
    "                                             # 'hits.hts.HighThroughputAssay' while the secondary DR HTS_ASSAY entry is \"hits.htl.HitToLeadAssay\"\n",
    "    'HA_CDD_VAULT_PROTOCOL_ID': np.nan # can be deleted if you don't want to cross-upload to a CDD vault\n",
    "}\n",
    "new_assay_raw=pd.DataFrame.from_records([new_assay_raw])\n",
    "if md.check_unique(new_assay_raw, hts_assay_table, 'HA_SDESC',engine):\n",
    "    new_assay_raw.to_sql('HTS_ASSAY', con=engine, if_exists='append', index=False)"
   ]
  },
  {
   "cell_type": "code",
   "execution_count": 59,
   "id": "9ea4c660-1727-4709-8209-38c007667edb",
   "metadata": {},
   "outputs": [
    {
     "data": {
      "text/html": [
       "<div>\n",
       "<style scoped>\n",
       "    .dataframe tbody tr th:only-of-type {\n",
       "        vertical-align: middle;\n",
       "    }\n",
       "\n",
       "    .dataframe tbody tr th {\n",
       "        vertical-align: top;\n",
       "    }\n",
       "\n",
       "    .dataframe thead th {\n",
       "        text-align: right;\n",
       "    }\n",
       "</style>\n",
       "<table border=\"1\" class=\"dataframe\">\n",
       "  <thead>\n",
       "    <tr style=\"text-align: right;\">\n",
       "      <th></th>\n",
       "      <th>HA_ID</th>\n",
       "      <th>HA_SDESC</th>\n",
       "      <th>HA_HP_ID</th>\n",
       "      <th>HA_SCREENING_CENTER</th>\n",
       "      <th>HA_ACTIVITY</th>\n",
       "      <th>HA_VARIABLE_DATA_TYPE</th>\n",
       "      <th>HA_NOTES</th>\n",
       "      <th>HA_DB_NOTES</th>\n",
       "      <th>HA_DR_RAW</th>\n",
       "      <th>HA_FILTER</th>\n",
       "      <th>HA_STATUS_ID</th>\n",
       "      <th>HA_INS_BY</th>\n",
       "      <th>HA_INS_DATE</th>\n",
       "      <th>class</th>\n",
       "      <th>HA_CDD_VAULT_PROTOCOL_ID</th>\n",
       "    </tr>\n",
       "  </thead>\n",
       "  <tbody>\n",
       "    <tr>\n",
       "      <th>2205</th>\n",
       "      <td>2570</td>\n",
       "      <td>Buck test data DR Raw</td>\n",
       "      <td>320</td>\n",
       "      <td>BUCK</td>\n",
       "      <td>None</td>\n",
       "      <td>SUBSTCONCUM</td>\n",
       "      <td>None</td>\n",
       "      <td>None</td>\n",
       "      <td>NaN</td>\n",
       "      <td>0</td>\n",
       "      <td>1</td>\n",
       "      <td>1.0</td>\n",
       "      <td>2024-03-06 16:13:08</td>\n",
       "      <td>hits.hts.HighThroughputAssay</td>\n",
       "      <td>NaN</td>\n",
       "    </tr>\n",
       "  </tbody>\n",
       "</table>\n",
       "</div>"
      ],
      "text/plain": [
       "      HA_ID               HA_SDESC  HA_HP_ID HA_SCREENING_CENTER HA_ACTIVITY  \\\n",
       "2205   2570  Buck test data DR Raw       320                BUCK        None   \n",
       "\n",
       "     HA_VARIABLE_DATA_TYPE HA_NOTES HA_DB_NOTES  HA_DR_RAW  HA_FILTER  \\\n",
       "2205           SUBSTCONCUM     None        None        NaN          0   \n",
       "\n",
       "      HA_STATUS_ID  HA_INS_BY         HA_INS_DATE  \\\n",
       "2205             1        1.0 2024-03-06 16:13:08   \n",
       "\n",
       "                             class  HA_CDD_VAULT_PROTOCOL_ID  \n",
       "2205  hits.hts.HighThroughputAssay                       NaN  "
      ]
     },
     "execution_count": 59,
     "metadata": {},
     "output_type": "execute_result"
    }
   ],
   "source": [
    "# note the assay id here for the second DR entry\n",
    "pd.read_sql('HTS_ASSAY', con=engine).tail(1)"
   ]
  },
  {
   "cell_type": "code",
   "execution_count": 61,
   "id": "50ffea82-4f3d-41c2-9e57-fe4f373f45ef",
   "metadata": {},
   "outputs": [
    {
     "name": "stdout",
     "output_type": "stream",
     "text": [
      "['HA_ID', 'HA_SDESC', 'HA_HP_ID', 'HA_SCREENING_CENTER', 'HA_ACTIVITY', 'HA_VARIABLE_DATA_TYPE', 'HA_NOTES', 'HA_DB_NOTES', 'HA_DR_RAW', 'HA_FILTER', 'HA_STATUS_ID', 'HA_INS_BY', 'HA_INS_DATE', 'class', 'HA_CDD_VAULT_PROTOCOL_ID']\n",
      "(2571, 'Buck test data DR', 320, 'BUCK', None, 'SUBSTCONCUM', None, None, 2570, 0, 1, 1, datetime.datetime(2024, 3, 6, 16, 14, 39), 'hits.htl.HitToLeadAssay', None)\n",
      "\n",
      "Warning: this HA_SDESC already exists\n"
     ]
    },
    {
     "data": {
      "text/html": [
       "<div>\n",
       "<style scoped>\n",
       "    .dataframe tbody tr th:only-of-type {\n",
       "        vertical-align: middle;\n",
       "    }\n",
       "\n",
       "    .dataframe tbody tr th {\n",
       "        vertical-align: top;\n",
       "    }\n",
       "\n",
       "    .dataframe thead th {\n",
       "        text-align: right;\n",
       "    }\n",
       "</style>\n",
       "<table border=\"1\" class=\"dataframe\">\n",
       "  <thead>\n",
       "    <tr style=\"text-align: right;\">\n",
       "      <th></th>\n",
       "      <th>HA_ID</th>\n",
       "      <th>HA_SDESC</th>\n",
       "      <th>HA_HP_ID</th>\n",
       "      <th>HA_SCREENING_CENTER</th>\n",
       "      <th>HA_ACTIVITY</th>\n",
       "      <th>HA_VARIABLE_DATA_TYPE</th>\n",
       "      <th>HA_NOTES</th>\n",
       "      <th>HA_DB_NOTES</th>\n",
       "      <th>HA_DR_RAW</th>\n",
       "      <th>HA_FILTER</th>\n",
       "      <th>HA_STATUS_ID</th>\n",
       "      <th>HA_INS_BY</th>\n",
       "      <th>HA_INS_DATE</th>\n",
       "      <th>class</th>\n",
       "      <th>HA_CDD_VAULT_PROTOCOL_ID</th>\n",
       "    </tr>\n",
       "  </thead>\n",
       "  <tbody>\n",
       "    <tr>\n",
       "      <th>2205</th>\n",
       "      <td>2570</td>\n",
       "      <td>Buck test data DR Raw</td>\n",
       "      <td>320</td>\n",
       "      <td>BUCK</td>\n",
       "      <td>None</td>\n",
       "      <td>SUBSTCONCUM</td>\n",
       "      <td>None</td>\n",
       "      <td>None</td>\n",
       "      <td>NaN</td>\n",
       "      <td>0</td>\n",
       "      <td>1</td>\n",
       "      <td>1.0</td>\n",
       "      <td>2024-03-06 16:13:08</td>\n",
       "      <td>hits.hts.HighThroughputAssay</td>\n",
       "      <td>NaN</td>\n",
       "    </tr>\n",
       "    <tr>\n",
       "      <th>2206</th>\n",
       "      <td>2571</td>\n",
       "      <td>Buck test data DR</td>\n",
       "      <td>320</td>\n",
       "      <td>BUCK</td>\n",
       "      <td>None</td>\n",
       "      <td>SUBSTCONCUM</td>\n",
       "      <td>None</td>\n",
       "      <td>None</td>\n",
       "      <td>2570.0</td>\n",
       "      <td>0</td>\n",
       "      <td>1</td>\n",
       "      <td>1.0</td>\n",
       "      <td>2024-03-06 16:14:39</td>\n",
       "      <td>hits.htl.HitToLeadAssay</td>\n",
       "      <td>NaN</td>\n",
       "    </tr>\n",
       "  </tbody>\n",
       "</table>\n",
       "</div>"
      ],
      "text/plain": [
       "      HA_ID               HA_SDESC  HA_HP_ID HA_SCREENING_CENTER HA_ACTIVITY  \\\n",
       "2205   2570  Buck test data DR Raw       320                BUCK        None   \n",
       "2206   2571      Buck test data DR       320                BUCK        None   \n",
       "\n",
       "     HA_VARIABLE_DATA_TYPE HA_NOTES HA_DB_NOTES  HA_DR_RAW  HA_FILTER  \\\n",
       "2205           SUBSTCONCUM     None        None        NaN          0   \n",
       "2206           SUBSTCONCUM     None        None     2570.0          0   \n",
       "\n",
       "      HA_STATUS_ID  HA_INS_BY         HA_INS_DATE  \\\n",
       "2205             1        1.0 2024-03-06 16:13:08   \n",
       "2206             1        1.0 2024-03-06 16:14:39   \n",
       "\n",
       "                             class  HA_CDD_VAULT_PROTOCOL_ID  \n",
       "2205  hits.hts.HighThroughputAssay                       NaN  \n",
       "2206       hits.htl.HitToLeadAssay                       NaN  "
      ]
     },
     "execution_count": 61,
     "metadata": {},
     "output_type": "execute_result"
    }
   ],
   "source": [
    "new_assay_dr={\n",
    "    'HA_SDESC':'Buck test data DR', # name of assay\n",
    "    'HA_HP_ID': 320, # from HTS_PROJECT\n",
    "    'HA_SCREENING_CENTER':\"BUCK\",\n",
    "    'HA_ACTIVITY':np.nan, # deprecated\n",
    "    'HA_VARIABLE_DATA_TYPE':'SUBSTCONCUM', # IF curve data, include \"SUBSTCONCUM\" (for dose response) or \"TIMESEC\" (for kinetic)\n",
    "    'HA_NOTES': np.nan, # these are displayed on web app\n",
    "    'HA_DB_NOTES':np.nan, # these are for reference inside database, like counterscreen assay ID or reorg notes\n",
    "    'HA_DR_RAW':2570, # if dose response, you need one HTS_ASSAY to hold the raw data points and a second one \n",
    "                        # to be the actual DR data. for the second assay, write the assay ID of the raw data \n",
    "                        # counterpart. Important for inserting data later.\n",
    "    'HA_FILTER':0, # if this is a duplicate assay with exact same raw data, for example it's analyzed in two different ways, mark as 1.\n",
    "    'HA_STATUS_ID':1, # 1=active\n",
    "    'HA_INS_BY': 1,\n",
    "    'HA_INS_DATE':md.string_now(),\n",
    "    'class': 'hits.htl.HitToLeadAssay', # for web app; required. The other option is \"hits.htl.HitToLeadAssay\". Raw DR data points are \n",
    "                                             # 'hits.hts.HighThroughputAssay' while the secondary DR HTS_ASSAY entry is \"hits.htl.HitToLeadAssay\"\n",
    "    'HA_CDD_VAULT_PROTOCOL_ID': np.nan # can be deleted if you don't want to cross-upload to a CDD vault\n",
    "}\n",
    "new_assay_dr=pd.DataFrame.from_records([new_assay_dr])\n",
    "if md.check_unique(new_assay_dr, hts_assay_table, 'HA_SDESC',engine):\n",
    "    new_assay_dr.to_sql('HTS_ASSAY', con=engine, if_exists='append', index=False)\n",
    "pd.read_sql('HTS_ASSAY', con=engine).tail(2)"
   ]
  },
  {
   "cell_type": "markdown",
   "id": "44625106-31c0-454c-9795-7fd760241a40",
   "metadata": {},
   "source": [
    "#### HTL_ASSAY\n",
    "- you must insert this at the same time as inserting the entry into HTS_ASSAY; you need the HLA_ID primary key available to match with the HA_ID primary key value.\n",
    "- manually insert the primary key value to skip numbers."
   ]
  },
  {
   "cell_type": "code",
   "execution_count": 64,
   "id": "1a2bc8a7-7a7d-409a-94ce-452f592cfc35",
   "metadata": {},
   "outputs": [
    {
     "name": "stdout",
     "output_type": "stream",
     "text": [
      "Primary key: HLA_ID\n"
     ]
    },
    {
     "data": {
      "text/plain": [
       "[(576,)]"
      ]
     },
     "execution_count": 64,
     "metadata": {},
     "output_type": "execute_result"
    }
   ],
   "source": [
    "htl_assay_table=Table('HTL_ASSAY', metadata, autoload_with=engine)\n",
    "md.count_rows(htl_assay_table, engine)"
   ]
  },
  {
   "cell_type": "code",
   "execution_count": 66,
   "id": "9fd2ce02-0538-4b2b-8baa-b389789d8094",
   "metadata": {},
   "outputs": [
    {
     "name": "stdout",
     "output_type": "stream",
     "text": [
      "Index(['HLA_ID', 'HLA_NAME', 'HLA_DESC', 'HLA_NOTES', 'HLA_VARIABLE_DATA_TYPE',\n",
      "       'HLA_HP_ID', 'HLA_SCREENING_CENTER', 'HLA_HA_ID', 'HLA_STATUS_ID',\n",
      "       'HLA_INS_BY', 'HLA_INS_DATE', 'class'],\n",
      "      dtype='object')\n"
     ]
    },
    {
     "data": {
      "text/html": [
       "<div>\n",
       "<style scoped>\n",
       "    .dataframe tbody tr th:only-of-type {\n",
       "        vertical-align: middle;\n",
       "    }\n",
       "\n",
       "    .dataframe tbody tr th {\n",
       "        vertical-align: top;\n",
       "    }\n",
       "\n",
       "    .dataframe thead th {\n",
       "        text-align: right;\n",
       "    }\n",
       "</style>\n",
       "<table border=\"1\" class=\"dataframe\">\n",
       "  <thead>\n",
       "    <tr style=\"text-align: right;\">\n",
       "      <th></th>\n",
       "      <th>HLA_ID</th>\n",
       "      <th>HLA_NAME</th>\n",
       "      <th>HLA_DESC</th>\n",
       "      <th>HLA_NOTES</th>\n",
       "      <th>HLA_VARIABLE_DATA_TYPE</th>\n",
       "      <th>HLA_HP_ID</th>\n",
       "      <th>HLA_SCREENING_CENTER</th>\n",
       "      <th>HLA_HA_ID</th>\n",
       "      <th>HLA_STATUS_ID</th>\n",
       "      <th>HLA_INS_BY</th>\n",
       "      <th>HLA_INS_DATE</th>\n",
       "      <th>class</th>\n",
       "    </tr>\n",
       "  </thead>\n",
       "  <tbody>\n",
       "    <tr>\n",
       "      <th>575</th>\n",
       "      <td>2567</td>\n",
       "      <td>Rac1 P29S targetC18 MSDR</td>\n",
       "      <td>None</td>\n",
       "      <td>None</td>\n",
       "      <td>SUBSTCONCUM</td>\n",
       "      <td>319</td>\n",
       "      <td>SMDC</td>\n",
       "      <td>2566.0</td>\n",
       "      <td>1</td>\n",
       "      <td>610</td>\n",
       "      <td>2024-02-20 14:32:18</td>\n",
       "      <td>hits.htl.HitToLeadAssay</td>\n",
       "    </tr>\n",
       "  </tbody>\n",
       "</table>\n",
       "</div>"
      ],
      "text/plain": [
       "     HLA_ID                  HLA_NAME HLA_DESC HLA_NOTES  \\\n",
       "575    2567  Rac1 P29S targetC18 MSDR     None      None   \n",
       "\n",
       "    HLA_VARIABLE_DATA_TYPE  HLA_HP_ID HLA_SCREENING_CENTER  HLA_HA_ID  \\\n",
       "575            SUBSTCONCUM        319                 SMDC     2566.0   \n",
       "\n",
       "     HLA_STATUS_ID  HLA_INS_BY        HLA_INS_DATE                    class  \n",
       "575              1         610 2024-02-20 14:32:18  hits.htl.HitToLeadAssay  "
      ]
     },
     "execution_count": 66,
     "metadata": {},
     "output_type": "execute_result"
    }
   ],
   "source": [
    "htl_assay=pd.read_sql('HTL_ASSAY', con=engine)\n",
    "print(htl_assay.columns)\n",
    "htl_assay.tail(1)"
   ]
  },
  {
   "cell_type": "code",
   "execution_count": 67,
   "id": "f03664ae-ea7e-400b-a36a-d976dad1435a",
   "metadata": {},
   "outputs": [
    {
     "data": {
      "text/html": [
       "<div>\n",
       "<style scoped>\n",
       "    .dataframe tbody tr th:only-of-type {\n",
       "        vertical-align: middle;\n",
       "    }\n",
       "\n",
       "    .dataframe tbody tr th {\n",
       "        vertical-align: top;\n",
       "    }\n",
       "\n",
       "    .dataframe thead th {\n",
       "        text-align: right;\n",
       "    }\n",
       "</style>\n",
       "<table border=\"1\" class=\"dataframe\">\n",
       "  <thead>\n",
       "    <tr style=\"text-align: right;\">\n",
       "      <th></th>\n",
       "      <th>HA_SDESC</th>\n",
       "      <th>HA_HP_ID</th>\n",
       "      <th>HA_SCREENING_CENTER</th>\n",
       "      <th>HA_ACTIVITY</th>\n",
       "      <th>HA_VARIABLE_DATA_TYPE</th>\n",
       "      <th>HA_NOTES</th>\n",
       "      <th>HA_DB_NOTES</th>\n",
       "      <th>HA_DR_RAW</th>\n",
       "      <th>HA_FILTER</th>\n",
       "      <th>HA_STATUS_ID</th>\n",
       "      <th>HA_INS_BY</th>\n",
       "      <th>HA_INS_DATE</th>\n",
       "      <th>class</th>\n",
       "      <th>HA_CDD_VAULT_PROTOCOL_ID</th>\n",
       "    </tr>\n",
       "  </thead>\n",
       "  <tbody>\n",
       "    <tr>\n",
       "      <th>0</th>\n",
       "      <td>Buck test data DR</td>\n",
       "      <td>320</td>\n",
       "      <td>BUCK</td>\n",
       "      <td>NaN</td>\n",
       "      <td>SUBSTCONCUM</td>\n",
       "      <td>NaN</td>\n",
       "      <td>NaN</td>\n",
       "      <td>2570</td>\n",
       "      <td>0</td>\n",
       "      <td>1</td>\n",
       "      <td>1</td>\n",
       "      <td>2024-03-06 16:15:06</td>\n",
       "      <td>hits.htl.HitToLeadAssay</td>\n",
       "      <td>NaN</td>\n",
       "    </tr>\n",
       "  </tbody>\n",
       "</table>\n",
       "</div>"
      ],
      "text/plain": [
       "            HA_SDESC  HA_HP_ID HA_SCREENING_CENTER  HA_ACTIVITY  \\\n",
       "0  Buck test data DR       320                BUCK          NaN   \n",
       "\n",
       "  HA_VARIABLE_DATA_TYPE  HA_NOTES  HA_DB_NOTES  HA_DR_RAW  HA_FILTER  \\\n",
       "0           SUBSTCONCUM       NaN          NaN       2570          0   \n",
       "\n",
       "   HA_STATUS_ID  HA_INS_BY          HA_INS_DATE                    class  \\\n",
       "0             1          1  2024-03-06 16:15:06  hits.htl.HitToLeadAssay   \n",
       "\n",
       "   HA_CDD_VAULT_PROTOCOL_ID  \n",
       "0                       NaN  "
      ]
     },
     "execution_count": 67,
     "metadata": {},
     "output_type": "execute_result"
    }
   ],
   "source": [
    "new_assay_dr"
   ]
  },
  {
   "cell_type": "code",
   "execution_count": 74,
   "id": "2cf269c4-ff6a-470d-b3f4-481de5b4c1b1",
   "metadata": {},
   "outputs": [
    {
     "data": {
      "text/html": [
       "<div>\n",
       "<style scoped>\n",
       "    .dataframe tbody tr th:only-of-type {\n",
       "        vertical-align: middle;\n",
       "    }\n",
       "\n",
       "    .dataframe tbody tr th {\n",
       "        vertical-align: top;\n",
       "    }\n",
       "\n",
       "    .dataframe thead th {\n",
       "        text-align: right;\n",
       "    }\n",
       "</style>\n",
       "<table border=\"1\" class=\"dataframe\">\n",
       "  <thead>\n",
       "    <tr style=\"text-align: right;\">\n",
       "      <th></th>\n",
       "      <th>HLA_ID</th>\n",
       "      <th>HLA_NAME</th>\n",
       "      <th>HLA_DESC</th>\n",
       "      <th>HLA_NOTES</th>\n",
       "      <th>HLA_VARIABLE_DATA_TYPE</th>\n",
       "      <th>HLA_HP_ID</th>\n",
       "      <th>HLA_SCREENING_CENTER</th>\n",
       "      <th>HLA_HA_ID</th>\n",
       "      <th>HLA_STATUS_ID</th>\n",
       "      <th>HLA_INS_BY</th>\n",
       "      <th>HLA_INS_DATE</th>\n",
       "      <th>class</th>\n",
       "    </tr>\n",
       "  </thead>\n",
       "  <tbody>\n",
       "    <tr>\n",
       "      <th>0</th>\n",
       "      <td>2571</td>\n",
       "      <td>Buck test data DR</td>\n",
       "      <td>NaN</td>\n",
       "      <td>NaN</td>\n",
       "      <td>SUBSTCONCUM</td>\n",
       "      <td>320</td>\n",
       "      <td>BUCK</td>\n",
       "      <td>2570</td>\n",
       "      <td>1</td>\n",
       "      <td>1</td>\n",
       "      <td>2024-03-06 16:38:03</td>\n",
       "      <td>hits.htl.HitToLeadAssay</td>\n",
       "    </tr>\n",
       "  </tbody>\n",
       "</table>\n",
       "</div>"
      ],
      "text/plain": [
       "   HLA_ID           HLA_NAME  HLA_DESC  HLA_NOTES HLA_VARIABLE_DATA_TYPE  \\\n",
       "0    2571  Buck test data DR       NaN        NaN            SUBSTCONCUM   \n",
       "\n",
       "   HLA_HP_ID HLA_SCREENING_CENTER  HLA_HA_ID  HLA_STATUS_ID  HLA_INS_BY  \\\n",
       "0        320                 BUCK       2570              1           1   \n",
       "\n",
       "          HLA_INS_DATE                    class  \n",
       "0  2024-03-06 16:38:03  hits.htl.HitToLeadAssay  "
      ]
     },
     "execution_count": 74,
     "metadata": {},
     "output_type": "execute_result"
    }
   ],
   "source": [
    "# take everything from your previous df\n",
    "new_htl={\n",
    "    'HLA_ID':2571, # this is the second entry HA_ID\n",
    "    'HLA_NAME':new_assay_dr.HA_SDESC.iloc[0],\n",
    "    'HLA_DESC':np.nan,\n",
    "    'HLA_NOTES':np.nan,\n",
    "    'HLA_VARIABLE_DATA_TYPE':new_assay_dr.HA_VARIABLE_DATA_TYPE.iloc[0],\n",
    "    'HLA_HP_ID':new_assay_dr.HA_HP_ID.iloc[0],\n",
    "    'HLA_SCREENING_CENTER':new_assay_dr.HA_SCREENING_CENTER.iloc[0],\n",
    "    'HLA_HA_ID':new_assay_dr.HA_DR_RAW.iloc[0],\n",
    "    'HLA_STATUS_ID':1,\n",
    "    'HLA_INS_BY':1,\n",
    "    'HLA_INS_DATE':md.string_now(),\n",
    "    'class':new_assay_dr['class'].iloc[0]\n",
    "}\n",
    "new_htl=pd.DataFrame([new_htl])\n",
    "new_htl"
   ]
  },
  {
   "cell_type": "code",
   "execution_count": 75,
   "id": "a82c8916-9c55-4d96-8b3f-4bd1c86c2df6",
   "metadata": {},
   "outputs": [
    {
     "name": "stdout",
     "output_type": "stream",
     "text": [
      "['HLA_ID', 'HLA_NAME', 'HLA_DESC', 'HLA_NOTES', 'HLA_VARIABLE_DATA_TYPE', 'HLA_HP_ID', 'HLA_SCREENING_CENTER', 'HLA_HA_ID', 'HLA_STATUS_ID', 'HLA_INS_BY', 'HLA_INS_DATE', 'class']\n",
      "(2571, 'Buck test data DR', None, None, 'SUBSTCONCUM', 320, 'BUCK', 2570, 1, 1, datetime.datetime(2024, 3, 6, 16, 31, 39), 'hits.htl.HitToLeadAssay')\n",
      "\n",
      "Warning: this HLA_ID already exists\n"
     ]
    },
    {
     "data": {
      "text/html": [
       "<div>\n",
       "<style scoped>\n",
       "    .dataframe tbody tr th:only-of-type {\n",
       "        vertical-align: middle;\n",
       "    }\n",
       "\n",
       "    .dataframe tbody tr th {\n",
       "        vertical-align: top;\n",
       "    }\n",
       "\n",
       "    .dataframe thead th {\n",
       "        text-align: right;\n",
       "    }\n",
       "</style>\n",
       "<table border=\"1\" class=\"dataframe\">\n",
       "  <thead>\n",
       "    <tr style=\"text-align: right;\">\n",
       "      <th></th>\n",
       "      <th>HLA_ID</th>\n",
       "      <th>HLA_NAME</th>\n",
       "      <th>HLA_DESC</th>\n",
       "      <th>HLA_NOTES</th>\n",
       "      <th>HLA_VARIABLE_DATA_TYPE</th>\n",
       "      <th>HLA_HP_ID</th>\n",
       "      <th>HLA_SCREENING_CENTER</th>\n",
       "      <th>HLA_HA_ID</th>\n",
       "      <th>HLA_STATUS_ID</th>\n",
       "      <th>HLA_INS_BY</th>\n",
       "      <th>HLA_INS_DATE</th>\n",
       "      <th>class</th>\n",
       "    </tr>\n",
       "  </thead>\n",
       "  <tbody>\n",
       "    <tr>\n",
       "      <th>576</th>\n",
       "      <td>2571</td>\n",
       "      <td>Buck test data DR</td>\n",
       "      <td>None</td>\n",
       "      <td>None</td>\n",
       "      <td>SUBSTCONCUM</td>\n",
       "      <td>320</td>\n",
       "      <td>BUCK</td>\n",
       "      <td>2570.0</td>\n",
       "      <td>1</td>\n",
       "      <td>1</td>\n",
       "      <td>2024-03-06 16:31:39</td>\n",
       "      <td>hits.htl.HitToLeadAssay</td>\n",
       "    </tr>\n",
       "  </tbody>\n",
       "</table>\n",
       "</div>"
      ],
      "text/plain": [
       "     HLA_ID           HLA_NAME HLA_DESC HLA_NOTES HLA_VARIABLE_DATA_TYPE  \\\n",
       "576    2571  Buck test data DR     None      None            SUBSTCONCUM   \n",
       "\n",
       "     HLA_HP_ID HLA_SCREENING_CENTER  HLA_HA_ID  HLA_STATUS_ID  HLA_INS_BY  \\\n",
       "576        320                 BUCK     2570.0              1           1   \n",
       "\n",
       "           HLA_INS_DATE                    class  \n",
       "576 2024-03-06 16:31:39  hits.htl.HitToLeadAssay  "
      ]
     },
     "execution_count": 75,
     "metadata": {},
     "output_type": "execute_result"
    }
   ],
   "source": [
    "if md.check_unique(new_htl, htl_assay_table, 'HLA_ID', engine):\n",
    "    new_htl.to_sql('HTL_ASSAY', con=engine, if_exists='append', index=False)\n",
    "pd.read_sql('HTL_ASSAY', con=engine).tail(1)"
   ]
  },
  {
   "cell_type": "markdown",
   "id": "69238835-2896-4918-90a2-e0819a9b1a14",
   "metadata": {},
   "source": [
    "#### HCS_EXPERIMENT"
   ]
  },
  {
   "cell_type": "markdown",
   "id": "115cb322-3491-4135-8821-bc3ccf741722",
   "metadata": {},
   "source": [
    "This table works similarly to `HTL_ASSAY`. A new entry can be created IF there is actual image data to be associated with:\n",
    "- an HTS_ASSAY primary screening experiment\n",
    "- an HTL_ASSAY raw data experiment housed in HTS_ASSAY. In this case, the raw data would have `HA_ID` 2570, not 2571."
   ]
  },
  {
   "cell_type": "markdown",
   "id": "2f947c2d-5ff1-4de1-b3b4-64cdf688dee0",
   "metadata": {},
   "source": [
    "# Upload data to assay"
   ]
  },
  {
   "cell_type": "markdown",
   "id": "2cf2eaad-831c-42b8-bbfd-55d945a303e7",
   "metadata": {},
   "source": [
    "next notebook..."
   ]
  }
 ],
 "metadata": {
  "kernelspec": {
   "display_name": "smdc",
   "language": "python",
   "name": "smdc"
  },
  "language_info": {
   "codemirror_mode": {
    "name": "ipython",
    "version": 3
   },
   "file_extension": ".py",
   "mimetype": "text/x-python",
   "name": "python",
   "nbconvert_exporter": "python",
   "pygments_lexer": "ipython3",
   "version": "3.11.4"
  }
 },
 "nbformat": 4,
 "nbformat_minor": 5
}
