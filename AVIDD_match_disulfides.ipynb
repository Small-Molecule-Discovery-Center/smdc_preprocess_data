{
 "cells": [
  {
   "cell_type": "markdown",
   "id": "3a5d6285-eefc-48c1-885b-099546290696",
   "metadata": {},
   "source": [
    "<a href=\"https://colab.research.google.com/github/Small-Molecule-Discovery-Center/smdc_process_data/blob/main/AVIDD_match_disulfides.ipynb\" target=\"_parent\"><img src=\"https://colab.research.google.com/assets/colab-badge.svg\" alt=\"Open In Colab\"/></a>"
   ]
  },
  {
   "cell_type": "markdown",
   "id": "09d6585a-396b-4c12-acf2-74ee216626df",
   "metadata": {},
   "source": [
    "# AVIDD Disulfide Tethering Screen Uploads\n",
    "_single experiment files only_\n",
    "### How to use this notebook:\n",
    "1. Click folder icon on left side\n",
    "2. Drag disulfide tethering data file from HiTS into folder space\n",
    "3. Right click on data file and hit copy path\n",
    "4. Paste file path into second cell\n",
    "3. Run all the cells (shift+enter or click the arrows)\n",
    "7. DOWNLOAD the `disulfide_for_avidd` file - it will not get saved to your system it will just be deleted if you close the tab"
   ]
  },
  {
   "cell_type": "code",
   "execution_count": 8,
   "id": "7f1aa291-dfa7-4c6a-abfc-82bdd46e7003",
   "metadata": {},
   "outputs": [],
   "source": [
    "! git clone https://github.com/Small-Molecule-Discovery-Center/smdc_process_data.git\n",
    "import sys\n",
    "sys.path.append('/content/smdc_process_data')\n",
    "from postprocess_data import match_disulfides as md"
   ]
  },
  {
   "cell_type": "code",
   "execution_count": 9,
   "id": "29c438f4-6277-4a3b-a7da-0f6d9a8133c1",
   "metadata": {},
   "outputs": [],
   "source": [
    "\n",
    "infile='MTase d7 nsp14 Tethering-WT_FL_Nsp14_MS_Tethering_Zinc_pocket_addition-20231103-121326-20240226-093925.csv'\n"
   ]
  },
  {
   "cell_type": "code",
   "execution_count": 11,
   "id": "7488e50f-ac05-4647-9751-2eca37dd760b",
   "metadata": {},
   "outputs": [
    {
     "name": "stdout",
     "output_type": "stream",
     "text": [
      "Matching AVIDD ID's...\n",
      "Saved matched data to ./2024-02-26_disulfide_for_avidd.csv\n"
     ]
    }
   ],
   "source": [
    "md.match_disulfides(infile=infile)"
   ]
  }
 ],
 "metadata": {
  "kernelspec": {
   "display_name": "smdc",
   "language": "python",
   "name": "smdc"
  },
  "language_info": {
   "codemirror_mode": {
    "name": "ipython",
    "version": 3
   },
   "file_extension": ".py",
   "mimetype": "text/x-python",
   "name": "python",
   "nbconvert_exporter": "python",
   "pygments_lexer": "ipython3",
   "version": "3.11.4"
  }
 },
 "nbformat": 4,
 "nbformat_minor": 5
}
