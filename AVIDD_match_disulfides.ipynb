{
  "cells": [
    {
      "cell_type": "markdown",
      "metadata": {
        "id": "view-in-github",
        "colab_type": "text"
      },
      "source": [
        "<a href=\"https://colab.research.google.com/github/Small-Molecule-Discovery-Center/smdc_process_data/blob/main/AVIDD_match_disulfides.ipynb\" target=\"_parent\"><img src=\"https://colab.research.google.com/assets/colab-badge.svg\" alt=\"Open In Colab\"/></a>"
      ]
    },
    {
      "cell_type": "markdown",
      "id": "09d6585a-396b-4c12-acf2-74ee216626df",
      "metadata": {
        "id": "09d6585a-396b-4c12-acf2-74ee216626df"
      },
      "source": [
        "# AVIDD Disulfide Tethering Screen Uploads\n",
        "_single experiment files only_\n",
        "### How to use this notebook:\n",
        "1. Click folder icon on left side\n",
        "2. Drag disulfide tethering data file from HiTS into folder space\n",
        "3. Right click on data file and hit copy path\n",
        "4. Paste file path into second cell\n",
        "3. Run all the cells (shift+enter or click the arrows)\n",
        "7. DOWNLOAD the `disulfide_for_avidd` file - it will not get saved to your system it will just be deleted if you close the tab"
      ]
    },
    {
      "cell_type": "code",
      "execution_count": 1,
      "id": "7f1aa291-dfa7-4c6a-abfc-82bdd46e7003",
      "metadata": {
        "id": "7f1aa291-dfa7-4c6a-abfc-82bdd46e7003",
        "outputId": "c09c92d2-01a0-4742-ebca-013bab9adf21",
        "colab": {
          "base_uri": "https://localhost:8080/"
        }
      },
      "outputs": [
        {
          "output_type": "stream",
          "name": "stdout",
          "text": [
            "Cloning into 'smdc_process_data'...\n",
            "remote: Enumerating objects: 142, done.\u001b[K\n",
            "remote: Counting objects: 100% (142/142), done.\u001b[K\n",
            "remote: Compressing objects: 100% (113/113), done.\u001b[K\n",
            "remote: Total 142 (delta 61), reused 87 (delta 25), pack-reused 0\u001b[K\n",
            "Receiving objects: 100% (142/142), 12.11 MiB | 16.47 MiB/s, done.\n",
            "Resolving deltas: 100% (61/61), done.\n"
          ]
        }
      ],
      "source": [
        "! git clone https://github.com/Small-Molecule-Discovery-Center/smdc_process_data.git\n",
        "import sys\n",
        "sys.path.append('/content/smdc_process_data')\n",
        "from postprocess_data import match_disulfides as md"
      ]
    },
    {
      "cell_type": "code",
      "execution_count": 2,
      "id": "29c438f4-6277-4a3b-a7da-0f6d9a8133c1",
      "metadata": {
        "id": "29c438f4-6277-4a3b-a7da-0f6d9a8133c1"
      },
      "outputs": [],
      "source": [
        "\n",
        "infile='/content/smdc_process_data/data/sample_disulfide_tethering_data.csv'\n"
      ]
    },
    {
      "cell_type": "code",
      "execution_count": 3,
      "id": "7488e50f-ac05-4647-9751-2eca37dd760b",
      "metadata": {
        "id": "7488e50f-ac05-4647-9751-2eca37dd760b",
        "outputId": "10ff9ef4-44a5-4c30-b10e-d9428d6375ac",
        "colab": {
          "base_uri": "https://localhost:8080/"
        }
      },
      "outputs": [
        {
          "output_type": "stream",
          "name": "stdout",
          "text": [
            "Matching AVIDD ID's...\n",
            "Saved matched data to ./2024-02-26_disulfide_for_avidd.csv\n"
          ]
        }
      ],
      "source": [
        "md.match_disulfides(infile=infile)"
      ]
    },
    {
      "cell_type": "code",
      "source": [],
      "metadata": {
        "id": "5FHerYaivfO_"
      },
      "id": "5FHerYaivfO_",
      "execution_count": null,
      "outputs": []
    }
  ],
  "metadata": {
    "kernelspec": {
      "display_name": "smdc",
      "language": "python",
      "name": "smdc"
    },
    "language_info": {
      "codemirror_mode": {
        "name": "ipython",
        "version": 3
      },
      "file_extension": ".py",
      "mimetype": "text/x-python",
      "name": "python",
      "nbconvert_exporter": "python",
      "pygments_lexer": "ipython3",
      "version": "3.11.4"
    },
    "colab": {
      "provenance": [],
      "include_colab_link": true
    }
  },
  "nbformat": 4,
  "nbformat_minor": 5
}
