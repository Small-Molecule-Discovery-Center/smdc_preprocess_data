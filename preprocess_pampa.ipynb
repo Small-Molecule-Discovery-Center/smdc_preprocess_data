{
  "cells": [
    {
      "cell_type": "markdown",
      "metadata": {
        "id": "view-in-github",
        "colab_type": "text"
      },
      "source": [
        "<a href=\"https://colab.research.google.com/github/Small-Molecule-Discovery-Center/smdc_preprocess_data/blob/main/preprocess_pampa.ipynb\" target=\"_parent\"><img src=\"https://colab.research.google.com/assets/colab-badge.svg\" alt=\"Open In Colab\"/></a>"
      ]
    },
    {
      "cell_type": "markdown",
      "source": [
        "# Preprocess PAMPA data\n",
        "### How to use this notebook:\n",
        "1. File --> save a copy in drive; open that copy to interact with notebook\n",
        "1. Click folder icon on left side\n",
        "2. Drag PAMPA file into folder space\n",
        "3. Right click on PAMPA file and hit copy path\n",
        "4. Paste file path into second cell\n",
        "5. Edit source_plate and donor_well_conc variables if necessary\n",
        "3. Run all the cells (shift+enter or click the arrows)\n",
        "7. DOWNLOAD the results_processed file - it will not get saved to your system it will just be deleted if you close the tab"
      ],
      "metadata": {
        "id": "vJZCcblBL5kM"
      },
      "id": "vJZCcblBL5kM"
    },
    {
      "cell_type": "code",
      "execution_count": 1,
      "id": "e244042d-8b73-4584-a3a7-3256af73c167",
      "metadata": {
        "id": "e244042d-8b73-4584-a3a7-3256af73c167",
        "outputId": "57504261-a291-40ba-b2e4-259788792385",
        "colab": {
          "base_uri": "https://localhost:8080/",
          "height": 393
        }
      },
      "outputs": [
        {
          "output_type": "stream",
          "name": "stdout",
          "text": [
            "fatal: destination path 'smdc_preprocess_data' already exists and is not an empty directory.\n",
            "fatal: not a git repository (or any of the parent directories): .git\n"
          ]
        },
        {
          "output_type": "error",
          "ename": "ModuleNotFoundError",
          "evalue": "ignored",
          "traceback": [
            "\u001b[0;31m---------------------------------------------------------------------------\u001b[0m",
            "\u001b[0;31mModuleNotFoundError\u001b[0m                       Traceback (most recent call last)",
            "\u001b[0;32m<ipython-input-1-f3fd2dc07114>\u001b[0m in \u001b[0;36m<cell line: 5>\u001b[0;34m()\u001b[0m\n\u001b[1;32m      3\u001b[0m \u001b[0;32mimport\u001b[0m \u001b[0msys\u001b[0m\u001b[0;34m\u001b[0m\u001b[0;34m\u001b[0m\u001b[0m\n\u001b[1;32m      4\u001b[0m \u001b[0msys\u001b[0m\u001b[0;34m.\u001b[0m\u001b[0mpath\u001b[0m\u001b[0;34m.\u001b[0m\u001b[0mappend\u001b[0m\u001b[0;34m(\u001b[0m\u001b[0;34m'/content/'\u001b[0m\u001b[0;34m)\u001b[0m\u001b[0;34m\u001b[0m\u001b[0;34m\u001b[0m\u001b[0m\n\u001b[0;32m----> 5\u001b[0;31m \u001b[0;32mimport\u001b[0m \u001b[0mpreprocess_pampa\u001b[0m \u001b[0;32mas\u001b[0m \u001b[0mpp\u001b[0m\u001b[0;34m\u001b[0m\u001b[0;34m\u001b[0m\u001b[0m\n\u001b[0m",
            "\u001b[0;31mModuleNotFoundError\u001b[0m: No module named 'preprocess_pampa'",
            "",
            "\u001b[0;31m---------------------------------------------------------------------------\u001b[0;32m\nNOTE: If your import is failing due to a missing package, you can\nmanually install dependencies using either !pip or !apt.\n\nTo view examples of installing some common dependencies, click the\n\"Open Examples\" button below.\n\u001b[0;31m---------------------------------------------------------------------------\u001b[0m\n"
          ],
          "errorDetails": {
            "actions": [
              {
                "action": "open_url",
                "actionText": "Open Examples",
                "url": "/notebooks/snippets/importing_libraries.ipynb"
              }
            ]
          }
        }
      ],
      "source": [
        "! git clone https://github.com/Small-Molecule-Discovery-Center/smdc_preprocess_data.git\n",
        "import sys\n",
        "sys.path.append('/content/')\n",
        "import preprocess_pampa as pp"
      ]
    },
    {
      "cell_type": "markdown",
      "source": [
        "### Variables to fill out for each plate run"
      ],
      "metadata": {
        "id": "G5mO9bjOMB1V"
      },
      "id": "G5mO9bjOMB1V"
    },
    {
      "cell_type": "code",
      "execution_count": 5,
      "id": "a0d8db78-2d4a-4f93-b88c-f698cb75e318",
      "metadata": {
        "id": "a0d8db78-2d4a-4f93-b88c-f698cb75e318"
      },
      "outputs": [],
      "source": [
        "# path to file\n",
        "infile=\"/content/smdc_preprocess_data/data/pampa_explorer_example_results.xlsx\"\n",
        "\n",
        "# source plate barcode: if multiple, separate with semicolons like \"OTPARP1-MA01;OTPARP2-MA01\"\n",
        "source_plate=\"OTPARP1-MA01\"\n",
        "\n",
        "# concentration in uM\n",
        "donor_well_conc=50"
      ]
    },
    {
      "cell_type": "markdown",
      "source": [
        "### Run code"
      ],
      "metadata": {
        "id": "JlHXQI9bO1VU"
      },
      "id": "JlHXQI9bO1VU"
    },
    {
      "cell_type": "code",
      "source": [
        "pp.preprocess_pampa(infile=infile)"
      ],
      "metadata": {
        "id": "sWX6yB86O1zt",
        "outputId": "51ea4127-1fbb-4f56-a9ab-535272e58b4e",
        "colab": {
          "base_uri": "https://localhost:8080/",
          "height": 179
        }
      },
      "id": "sWX6yB86O1zt",
      "execution_count": 2,
      "outputs": [
        {
          "output_type": "error",
          "ename": "NameError",
          "evalue": "ignored",
          "traceback": [
            "\u001b[0;31m---------------------------------------------------------------------------\u001b[0m",
            "\u001b[0;31mNameError\u001b[0m                                 Traceback (most recent call last)",
            "\u001b[0;32m<ipython-input-2-ff4a96258865>\u001b[0m in \u001b[0;36m<cell line: 1>\u001b[0;34m()\u001b[0m\n\u001b[0;32m----> 1\u001b[0;31m \u001b[0mpp\u001b[0m\u001b[0;34m.\u001b[0m\u001b[0mpreprocess_pampa\u001b[0m\u001b[0;34m(\u001b[0m\u001b[0minfile\u001b[0m\u001b[0;34m=\u001b[0m\u001b[0minfile\u001b[0m\u001b[0;34m)\u001b[0m\u001b[0;34m\u001b[0m\u001b[0;34m\u001b[0m\u001b[0m\n\u001b[0m",
            "\u001b[0;31mNameError\u001b[0m: name 'pp' is not defined"
          ]
        }
      ]
    },
    {
      "cell_type": "code",
      "source": [],
      "metadata": {
        "id": "XUXwC42PPX78"
      },
      "id": "XUXwC42PPX78",
      "execution_count": null,
      "outputs": []
    }
  ],
  "metadata": {
    "kernelspec": {
      "display_name": "new-pandas",
      "language": "python",
      "name": "new-pandas"
    },
    "language_info": {
      "codemirror_mode": {
        "name": "ipython",
        "version": 3
      },
      "file_extension": ".py",
      "mimetype": "text/x-python",
      "name": "python",
      "nbconvert_exporter": "python",
      "pygments_lexer": "ipython3",
      "version": "3.10.9"
    },
    "colab": {
      "provenance": [],
      "include_colab_link": true
    }
  },
  "nbformat": 4,
  "nbformat_minor": 5
}