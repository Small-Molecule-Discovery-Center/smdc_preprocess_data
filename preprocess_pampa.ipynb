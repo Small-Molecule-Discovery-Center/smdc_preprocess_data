{
  "cells": [
    {
      "cell_type": "markdown",
      "metadata": {
        "id": "view-in-github",
        "colab_type": "text"
      },
      "source": [
        "<a href=\"https://colab.research.google.com/github/Small-Molecule-Discovery-Center/smdc_preprocess_data/blob/main/preprocess_pampa.ipynb\" target=\"_parent\"><img src=\"https://colab.research.google.com/assets/colab-badge.svg\" alt=\"Open In Colab\"/></a>"
      ]
    },
    {
      "cell_type": "markdown",
      "source": [
        "# Preprocess PAMPA data\n",
        "### How to use this notebook:\n",
        "1. Click folder icon on left side\n",
        "2. Drag PAMPA file into folder space\n",
        "3. Right click on PAMPA file and hit copy path\n",
        "4. Paste file path into second cell\n",
        "5. Edit source_plate and donor_well_conc variables if necessary\n",
        "3. Run all the cells (shift+enter or click the arrows)\n",
        "7. DOWNLOAD the results_processed file - it will not get saved to your system it will just be deleted if you close the tab"
      ],
      "metadata": {
        "id": "vJZCcblBL5kM"
      },
      "id": "vJZCcblBL5kM"
    },
    {
      "cell_type": "code",
      "execution_count": 2,
      "id": "e244042d-8b73-4584-a3a7-3256af73c167",
      "metadata": {
        "id": "e244042d-8b73-4584-a3a7-3256af73c167",
        "outputId": "78a07c0c-b7ca-4320-8c64-0afdcdf39055",
        "colab": {
          "base_uri": "https://localhost:8080/"
        }
      },
      "outputs": [
        {
          "output_type": "stream",
          "name": "stdout",
          "text": [
            "Cloning into 'smdc_preprocess_data'...\n",
            "remote: Enumerating objects: 58, done.\u001b[K\n",
            "remote: Counting objects: 100% (58/58), done.\u001b[K\n",
            "remote: Compressing objects: 100% (48/48), done.\u001b[K\n",
            "remote: Total 58 (delta 25), reused 29 (delta 8), pack-reused 0\u001b[K\n",
            "Receiving objects: 100% (58/58), 66.09 KiB | 4.72 MiB/s, done.\n",
            "Resolving deltas: 100% (25/25), done.\n"
          ]
        }
      ],
      "source": [
        "! git clone https://github.com/Small-Molecule-Discovery-Center/smdc_preprocess_data.git\n",
        "import sys\n",
        "sys.path.append('/content/smdc_preprocess_data')\n",
        "import preprocess_pampa as pp"
      ]
    },
    {
      "cell_type": "markdown",
      "source": [
        "### Variables to fill out for each plate run"
      ],
      "metadata": {
        "id": "G5mO9bjOMB1V"
      },
      "id": "G5mO9bjOMB1V"
    },
    {
      "cell_type": "code",
      "execution_count": 1,
      "id": "a0d8db78-2d4a-4f93-b88c-f698cb75e318",
      "metadata": {
        "id": "a0d8db78-2d4a-4f93-b88c-f698cb75e318"
      },
      "outputs": [],
      "source": [
        "# path to file\n",
        "infile=\"/content/smdc_preprocess_data/data/pampa_explorer_example_results.xlsx\"\n",
        "\n",
        "# source plate barcode: if multiple, separate with semicolons like \"OTPARP1-MA01;OTPARP2-MA01\"\n",
        "source_plate=\"SMDC123\"\n",
        "\n",
        "# concentration in uM\n",
        "donor_well_conc=50"
      ]
    },
    {
      "cell_type": "markdown",
      "source": [
        "### Run code"
      ],
      "metadata": {
        "id": "JlHXQI9bO1VU"
      },
      "id": "JlHXQI9bO1VU"
    },
    {
      "cell_type": "code",
      "source": [
        "pp.preprocess_pampa(infile=infile, source_plate=source_plate, donor_well_conc=donor_well_conc)"
      ],
      "metadata": {
        "id": "sWX6yB86O1zt",
        "outputId": "5775dcd9-9b86-4de2-fb37-d51084855abd",
        "colab": {
          "base_uri": "https://localhost:8080/"
        }
      },
      "id": "sWX6yB86O1zt",
      "execution_count": 3,
      "outputs": [
        {
          "output_type": "stream",
          "name": "stdout",
          "text": [
            "Destination plate: pampa_explorer_example\n",
            "Unique samples pre: 33\n",
            "Unique samples post: 32\n",
            "Data saved to ./pampa_explorer_example_processed.csv\n"
          ]
        }
      ]
    }
  ],
  "metadata": {
    "kernelspec": {
      "display_name": "new-pandas",
      "language": "python",
      "name": "new-pandas"
    },
    "language_info": {
      "codemirror_mode": {
        "name": "ipython",
        "version": 3
      },
      "file_extension": ".py",
      "mimetype": "text/x-python",
      "name": "python",
      "nbconvert_exporter": "python",
      "pygments_lexer": "ipython3",
      "version": "3.10.9"
    },
    "colab": {
      "provenance": [],
      "include_colab_link": true
    }
  },
  "nbformat": 4,
  "nbformat_minor": 5
}